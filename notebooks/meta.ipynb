{
 "cells": [
  {
   "cell_type": "code",
   "execution_count": 2,
   "metadata": {},
   "outputs": [],
   "source": [
    "import polars as pl\n",
    "from utils.functions import convert_tsv_to_parquet"
   ]
  },
  {
   "cell_type": "code",
   "execution_count": 3,
   "metadata": {},
   "outputs": [],
   "source": [
    "# meta_movies = convert_tsv_to_parquet(\"../dagster/data/raw_data/csv/metacritic/movieDatasetClean.csv\", \".csv\", \"../dagster/data/raw_data/parquet/meta_movies\")\n",
    "meta_csv = pl.read_csv(\"../dagster/data/raw_data/csv/metacritic/movieDatasetClean.csv\")\n",
    "meta_csv.head()\n",
    "meta_csv.write_parquet(\"../dagster/data/raw_data/parquet/meta.parquet\")"
   ]
  },
  {
   "cell_type": "code",
   "execution_count": 4,
   "metadata": {},
   "outputs": [
    {
     "data": {
      "text/html": [
       "<div><style>\n",
       ".dataframe > thead > tr,\n",
       ".dataframe > tbody > tr {\n",
       "  text-align: right;\n",
       "  white-space: pre-wrap;\n",
       "}\n",
       "</style>\n",
       "<small>shape: (5, 13)</small><table border=\"1\" class=\"dataframe\"><thead><tr><th>title</th><th>age_rating</th><th>rating</th><th>rank</th><th>genre</th><th>director</th><th>year</th><th>producer</th><th>actor</th><th>runtime</th><th>description</th><th>img</th><th>url</th></tr><tr><td>str</td><td>i64</td><td>str</td><td>i64</td><td>str</td><td>str</td><td>i64</td><td>str</td><td>str</td><td>i64</td><td>str</td><td>str</td><td>str</td></tr></thead><tbody><tr><td>&quot;Citizen Kane&quot;</td><td>15</td><td>&quot;8.4&quot;</td><td>1</td><td>&quot;Drama&quot;</td><td>&quot;Orson Welles&quot;</td><td>1941</td><td>&quot;RKO Radio Pict…</td><td>&quot;Joseph Cotten&quot;</td><td>119</td><td>&quot;Following the …</td><td>&quot;https://static…</td><td>&quot;https://www.me…</td></tr><tr><td>&quot;The Godfather&quot;</td><td>18</td><td>&quot;9.2&quot;</td><td>2</td><td>&quot;Drama&quot;</td><td>&quot;Francis Ford C…</td><td>1972</td><td>&quot;Paramount Pict…</td><td>&quot;Al Pacino&quot;</td><td>175</td><td>&quot;Francis Ford C…</td><td>&quot;https://static…</td><td>&quot;https://www.me…</td></tr><tr><td>&quot;Rear Window&quot;</td><td>0</td><td>&quot;8.8&quot;</td><td>3</td><td>&quot;Mystery&quot;</td><td>&quot;Alfred Hitchco…</td><td>1954</td><td>&quot;Paramount Pict…</td><td>&quot;Frank Cady&quot;</td><td>112</td><td>&quot;A wheelchair-b…</td><td>&quot;https://static…</td><td>&quot;https://www.me…</td></tr><tr><td>&quot;Casablanca&quot;</td><td>15</td><td>&quot;8.9&quot;</td><td>4</td><td>&quot;Drama&quot;</td><td>&quot;Michael Curtiz…</td><td>1943</td><td>&quot;Warner Bros.&quot;</td><td>&quot;Humphrey Bogar…</td><td>102</td><td>&quot;A Casablanca, …</td><td>&quot;https://static…</td><td>&quot;https://www.me…</td></tr><tr><td>&quot;Boyhood&quot;</td><td>18</td><td>&quot;7.5&quot;</td><td>5</td><td>&quot;Drama&quot;</td><td>&quot;Richard Linkla…</td><td>2014</td><td>&quot;IFC Films&quot;</td><td>&quot;Bonnie Cross&quot;</td><td>165</td><td>&quot;Filmed over 12…</td><td>&quot;https://static…</td><td>&quot;https://www.me…</td></tr></tbody></table></div>"
      ],
      "text/plain": [
       "shape: (5, 13)\n",
       "┌─────────────┬────────────┬────────┬──────┬───┬─────────┬─────────────┬─────────────┬─────────────┐\n",
       "│ title       ┆ age_rating ┆ rating ┆ rank ┆ … ┆ runtime ┆ description ┆ img         ┆ url         │\n",
       "│ ---         ┆ ---        ┆ ---    ┆ ---  ┆   ┆ ---     ┆ ---         ┆ ---         ┆ ---         │\n",
       "│ str         ┆ i64        ┆ str    ┆ i64  ┆   ┆ i64     ┆ str         ┆ str         ┆ str         │\n",
       "╞═════════════╪════════════╪════════╪══════╪═══╪═════════╪═════════════╪═════════════╪═════════════╡\n",
       "│ Citizen     ┆ 15         ┆ 8.4    ┆ 1    ┆ … ┆ 119     ┆ Following   ┆ https://sta ┆ https://www │\n",
       "│ Kane        ┆            ┆        ┆      ┆   ┆         ┆ the death   ┆ tic.metacri ┆ .metacritic │\n",
       "│             ┆            ┆        ┆      ┆   ┆         ┆ of a        ┆ tic.com/im… ┆ .com/movie… │\n",
       "│             ┆            ┆        ┆      ┆   ┆         ┆ publish…    ┆             ┆             │\n",
       "│ The         ┆ 18         ┆ 9.2    ┆ 2    ┆ … ┆ 175     ┆ Francis     ┆ https://sta ┆ https://www │\n",
       "│ Godfather   ┆            ┆        ┆      ┆   ┆         ┆ Ford        ┆ tic.metacri ┆ .metacritic │\n",
       "│             ┆            ┆        ┆      ┆   ┆         ┆ Coppola's   ┆ tic.com/im… ┆ .com/movie… │\n",
       "│             ┆            ┆        ┆      ┆   ┆         ┆ epic feat…  ┆             ┆             │\n",
       "│ Rear Window ┆ 0          ┆ 8.8    ┆ 3    ┆ … ┆ 112     ┆ A wheelchai ┆ https://sta ┆ https://www │\n",
       "│             ┆            ┆        ┆      ┆   ┆         ┆ r-bound pho ┆ tic.metacri ┆ .metacritic │\n",
       "│             ┆            ┆        ┆      ┆   ┆         ┆ tographer … ┆ tic.com/im… ┆ .com/movie… │\n",
       "│ Casablanca  ┆ 15         ┆ 8.9    ┆ 4    ┆ … ┆ 102     ┆ A           ┆ https://sta ┆ https://www │\n",
       "│             ┆            ┆        ┆      ┆   ┆         ┆ Casablanca, ┆ tic.metacri ┆ .metacritic │\n",
       "│             ┆            ┆        ┆      ┆   ┆         ┆ Morocco     ┆ tic.com/im… ┆ .com/movie… │\n",
       "│             ┆            ┆        ┆      ┆   ┆         ┆ casino own… ┆             ┆             │\n",
       "│ Boyhood     ┆ 18         ┆ 7.5    ┆ 5    ┆ … ┆ 165     ┆ Filmed over ┆ https://sta ┆ https://www │\n",
       "│             ┆            ┆        ┆      ┆   ┆         ┆ 12 years    ┆ tic.metacri ┆ .metacritic │\n",
       "│             ┆            ┆        ┆      ┆   ┆         ┆ with the    ┆ tic.com/im… ┆ .com/movie… │\n",
       "│             ┆            ┆        ┆      ┆   ┆         ┆ sa…         ┆             ┆             │\n",
       "└─────────────┴────────────┴────────┴──────┴───┴─────────┴─────────────┴─────────────┴─────────────┘"
      ]
     },
     "execution_count": 4,
     "metadata": {},
     "output_type": "execute_result"
    }
   ],
   "source": [
    "meta_parq = pl.read_parquet(\"../dagster/data/raw_data/parquet/meta.parquet\")\n",
    "meta_parq.head()"
   ]
  },
  {
   "cell_type": "code",
   "execution_count": null,
   "metadata": {},
   "outputs": [],
   "source": []
  }
 ],
 "metadata": {
  "kernelspec": {
   "display_name": "dag_nyc",
   "language": "python",
   "name": "python3"
  },
  "language_info": {
   "codemirror_mode": {
    "name": "ipython",
    "version": 3
   },
   "file_extension": ".py",
   "mimetype": "text/x-python",
   "name": "python",
   "nbconvert_exporter": "python",
   "pygments_lexer": "ipython3",
   "version": "3.11.7"
  }
 },
 "nbformat": 4,
 "nbformat_minor": 2
}
