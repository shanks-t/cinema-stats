{
 "cells": [
  {
   "cell_type": "code",
   "execution_count": 142,
   "metadata": {},
   "outputs": [],
   "source": [
    "import polars as pl\n",
    "import pandas as pd\n",
    "import numpy as np\n",
    "import os\n",
    "import pyarrow.parquet as pq"
   ]
  },
  {
   "cell_type": "code",
   "execution_count": 143,
   "metadata": {},
   "outputs": [],
   "source": [
    "df = pl.read_csv(\"../pipeline/data/raw_data/csv/tmdb/tmdb_movies.csv\")"
   ]
  },
  {
   "cell_type": "code",
   "execution_count": 144,
   "metadata": {},
   "outputs": [
    {
     "name": "stdout",
     "output_type": "stream",
     "text": [
      "(1539, 13)\n"
     ]
    },
    {
     "data": {
      "text/plain": [
       "1539"
      ]
     },
     "execution_count": 144,
     "metadata": {},
     "output_type": "execute_result"
    }
   ],
   "source": [
    "print(df.shape)\n",
    "df.n_unique()"
   ]
  },
  {
   "cell_type": "code",
   "execution_count": 145,
   "metadata": {},
   "outputs": [
    {
     "data": {
      "text/html": [
       "<div><style>\n",
       ".dataframe > thead > tr,\n",
       ".dataframe > tbody > tr {\n",
       "  text-align: right;\n",
       "  white-space: pre-wrap;\n",
       "}\n",
       "</style>\n",
       "<small>shape: (5, 13)</small><table border=\"1\" class=\"dataframe\"><thead><tr><th>ID</th><th>Title</th><th>OriginalTitle</th><th>OriginalLanguage</th><th>ReleaseDate</th><th>PosterPath</th><th>Overview</th><th>Popularity</th><th>VoteAverage</th><th>VoteCount</th><th>Adult</th><th>Video</th><th>GenreIDs</th></tr><tr><td>i64</td><td>str</td><td>str</td><td>str</td><td>str</td><td>str</td><td>str</td><td>f64</td><td>f64</td><td>i64</td><td>bool</td><td>bool</td><td>str</td></tr></thead><tbody><tr><td>25449</td><td>&quot;New World Diso…</td><td>&quot;New World Diso…</td><td>&quot;en&quot;</td><td>&quot;2008-12-08&quot;</td><td>&quot;/itQjoIO2e3pad…</td><td>&quot;Gee Atherton r…</td><td>1.24</td><td>6.0</td><td>3</td><td>false</td><td>false</td><td>null</td></tr><tr><td>3924</td><td>&quot;Blondie&quot;</td><td>&quot;Blondie&quot;</td><td>&quot;en&quot;</td><td>&quot;1938-11-30&quot;</td><td>&quot;/zBiHKhXklvTFw…</td><td>&quot;Blondie and Da…</td><td>1.864</td><td>7.063</td><td>8</td><td>false</td><td>false</td><td>&quot;Comedy; Family…</td></tr><tr><td>6124</td><td>&quot;Peter Voss, Th…</td><td>&quot;Der Mann ohne …</td><td>&quot;de&quot;</td><td>&quot;1921-01-01&quot;</td><td>&quot;/6xUbUCvndklbG…</td><td>null</td><td>0.961</td><td>0.0</td><td>0</td><td>false</td><td>false</td><td>&quot;Adventure&quot;</td></tr><tr><td>3</td><td>&quot;Shadows in Par…</td><td>&quot;Varjoja parati…</td><td>&quot;fi&quot;</td><td>&quot;1986-10-17&quot;</td><td>&quot;/nj01hspawPof0…</td><td>&quot;Nikander, a ru…</td><td>7.52</td><td>7.257</td><td>318</td><td>false</td><td>false</td><td>&quot;Drama; Comedy;…</td></tr><tr><td>2</td><td>&quot;Ariel&quot;</td><td>&quot;Ariel&quot;</td><td>&quot;fi&quot;</td><td>&quot;1988-10-21&quot;</td><td>&quot;/ojDg0PGvs6R9x…</td><td>&quot;After the coal…</td><td>9.314</td><td>7.081</td><td>290</td><td>false</td><td>false</td><td>&quot;Drama; Comedy;…</td></tr></tbody></table></div>"
      ],
      "text/plain": [
       "shape: (5, 13)\n",
       "┌───────┬──────────────┬──────────────┬──────────────┬───┬───────────┬───────┬───────┬─────────────┐\n",
       "│ ID    ┆ Title        ┆ OriginalTitl ┆ OriginalLang ┆ … ┆ VoteCount ┆ Adult ┆ Video ┆ GenreIDs    │\n",
       "│ ---   ┆ ---          ┆ e            ┆ uage         ┆   ┆ ---       ┆ ---   ┆ ---   ┆ ---         │\n",
       "│ i64   ┆ str          ┆ ---          ┆ ---          ┆   ┆ i64       ┆ bool  ┆ bool  ┆ str         │\n",
       "│       ┆              ┆ str          ┆ str          ┆   ┆           ┆       ┆       ┆             │\n",
       "╞═══════╪══════════════╪══════════════╪══════════════╪═══╪═══════════╪═══════╪═══════╪═════════════╡\n",
       "│ 25449 ┆ New World    ┆ New World    ┆ en           ┆ … ┆ 3         ┆ false ┆ false ┆ null        │\n",
       "│       ┆ Disorder 9:  ┆ Disorder 9:  ┆              ┆   ┆           ┆       ┆       ┆             │\n",
       "│       ┆ Never Enou…  ┆ Never Enou…  ┆              ┆   ┆           ┆       ┆       ┆             │\n",
       "│ 3924  ┆ Blondie      ┆ Blondie      ┆ en           ┆ … ┆ 8         ┆ false ┆ false ┆ Comedy;     │\n",
       "│       ┆              ┆              ┆              ┆   ┆           ┆       ┆       ┆ Family      │\n",
       "│ 6124  ┆ Peter Voss,  ┆ Der Mann     ┆ de           ┆ … ┆ 0         ┆ false ┆ false ┆ Adventure   │\n",
       "│       ┆ Thief of     ┆ ohne Namen   ┆              ┆   ┆           ┆       ┆       ┆             │\n",
       "│       ┆ Millions     ┆              ┆              ┆   ┆           ┆       ┆       ┆             │\n",
       "│ 3     ┆ Shadows in   ┆ Varjoja      ┆ fi           ┆ … ┆ 318       ┆ false ┆ false ┆ Drama;      │\n",
       "│       ┆ Paradise     ┆ paratiisissa ┆              ┆   ┆           ┆       ┆       ┆ Comedy;     │\n",
       "│       ┆              ┆              ┆              ┆   ┆           ┆       ┆       ┆ Romance     │\n",
       "│ 2     ┆ Ariel        ┆ Ariel        ┆ fi           ┆ … ┆ 290       ┆ false ┆ false ┆ Drama;      │\n",
       "│       ┆              ┆              ┆              ┆   ┆           ┆       ┆       ┆ Comedy;     │\n",
       "│       ┆              ┆              ┆              ┆   ┆           ┆       ┆       ┆ Romance;    │\n",
       "│       ┆              ┆              ┆              ┆   ┆           ┆       ┆       ┆ Crime       │\n",
       "└───────┴──────────────┴──────────────┴──────────────┴───┴───────────┴───────┴───────┴─────────────┘"
      ]
     },
     "execution_count": 145,
     "metadata": {},
     "output_type": "execute_result"
    }
   ],
   "source": [
    "print(df.head().to_string())"
   ]
  },
  {
   "cell_type": "code",
   "execution_count": 146,
   "metadata": {},
   "outputs": [],
   "source": [
    "genres_df = pl.read_csv(\"../pipeline/data/raw_data/csv/tmdb/tmdb_genres.csv\")"
   ]
  },
  {
   "cell_type": "code",
   "execution_count": 147,
   "metadata": {},
   "outputs": [
    {
     "data": {
      "text/html": [
       "<div><style>\n",
       ".dataframe > thead > tr,\n",
       ".dataframe > tbody > tr {\n",
       "  text-align: right;\n",
       "  white-space: pre-wrap;\n",
       "}\n",
       "</style>\n",
       "<small>shape: (19, 2)</small><table border=\"1\" class=\"dataframe\"><thead><tr><th>ID</th><th>Name</th></tr><tr><td>i64</td><td>str</td></tr></thead><tbody><tr><td>28</td><td>&quot;Action&quot;</td></tr><tr><td>12</td><td>&quot;Adventure&quot;</td></tr><tr><td>16</td><td>&quot;Animation&quot;</td></tr><tr><td>35</td><td>&quot;Comedy&quot;</td></tr><tr><td>80</td><td>&quot;Crime&quot;</td></tr><tr><td>99</td><td>&quot;Documentary&quot;</td></tr><tr><td>18</td><td>&quot;Drama&quot;</td></tr><tr><td>10751</td><td>&quot;Family&quot;</td></tr><tr><td>14</td><td>&quot;Fantasy&quot;</td></tr><tr><td>36</td><td>&quot;History&quot;</td></tr><tr><td>27</td><td>&quot;Horror&quot;</td></tr><tr><td>10402</td><td>&quot;Music&quot;</td></tr><tr><td>9648</td><td>&quot;Mystery&quot;</td></tr><tr><td>10749</td><td>&quot;Romance&quot;</td></tr><tr><td>878</td><td>&quot;Science Fictio…</td></tr><tr><td>10770</td><td>&quot;TV Movie&quot;</td></tr><tr><td>53</td><td>&quot;Thriller&quot;</td></tr><tr><td>10752</td><td>&quot;War&quot;</td></tr><tr><td>37</td><td>&quot;Western&quot;</td></tr></tbody></table></div>"
      ],
      "text/plain": [
       "shape: (19, 2)\n",
       "┌───────┬───────────┐\n",
       "│ ID    ┆ Name      │\n",
       "│ ---   ┆ ---       │\n",
       "│ i64   ┆ str       │\n",
       "╞═══════╪═══════════╡\n",
       "│ 28    ┆ Action    │\n",
       "│ 12    ┆ Adventure │\n",
       "│ 16    ┆ Animation │\n",
       "│ 35    ┆ Comedy    │\n",
       "│ …     ┆ …         │\n",
       "│ 10770 ┆ TV Movie  │\n",
       "│ 53    ┆ Thriller  │\n",
       "│ 10752 ┆ War       │\n",
       "│ 37    ┆ Western   │\n",
       "└───────┴───────────┘"
      ]
     },
     "execution_count": 147,
     "metadata": {},
     "output_type": "execute_result"
    }
   ],
   "source": [
    "genres_df.head(19)"
   ]
  }
 ],
 "metadata": {
  "kernelspec": {
   "display_name": "dag_nyc",
   "language": "python",
   "name": "python3"
  },
  "language_info": {
   "codemirror_mode": {
    "name": "ipython",
    "version": 3
   },
   "file_extension": ".py",
   "mimetype": "text/x-python",
   "name": "python",
   "nbconvert_exporter": "python",
   "pygments_lexer": "ipython3",
   "version": "3.11.7"
  }
 },
 "nbformat": 4,
 "nbformat_minor": 2
}
