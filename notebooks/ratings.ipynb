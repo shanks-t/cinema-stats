{
 "cells": [
  {
   "cell_type": "code",
   "execution_count": 22,
   "metadata": {},
   "outputs": [],
   "source": [
    "import polars as pl\n",
    "import pandas as pd\n",
    "from utils.functions import open_parquet"
   ]
  },
  {
   "cell_type": "code",
   "execution_count": 23,
   "metadata": {},
   "outputs": [
    {
     "name": "stdout",
     "output_type": "stream",
     "text": [
      "(301971, 11)\n",
      "['const', 'titleType', 'primaryTitle', 'originalTitle', 'isAdult', 'startYear', 'endYear', 'runtimeMinutes', 'genres', 'averageRating', 'numVotes']\n"
     ]
    },
    {
     "data": {
      "text/html": [
       "<div><style>\n",
       ".dataframe > thead > tr,\n",
       ".dataframe > tbody > tr {\n",
       "  text-align: right;\n",
       "  white-space: pre-wrap;\n",
       "}\n",
       "</style>\n",
       "<small>shape: (5, 11)</small><table border=\"1\" class=\"dataframe\"><thead><tr><th>const</th><th>titleType</th><th>primaryTitle</th><th>originalTitle</th><th>isAdult</th><th>startYear</th><th>endYear</th><th>runtimeMinutes</th><th>genres</th><th>averageRating</th><th>numVotes</th></tr><tr><td>str</td><td>str</td><td>str</td><td>str</td><td>i32</td><td>i32</td><td>i32</td><td>i32</td><td>str</td><td>f32</td><td>i32</td></tr></thead><tbody><tr><td>&quot;tt0111161&quot;</td><td>&quot;movie&quot;</td><td>&quot;The Shawshank …</td><td>&quot;The Shawshank …</td><td>0</td><td>1994</td><td>null</td><td>142</td><td>&quot;Drama&quot;</td><td>9.3</td><td>2835969</td></tr><tr><td>&quot;tt0468569&quot;</td><td>&quot;movie&quot;</td><td>&quot;The Dark Knigh…</td><td>&quot;The Dark Knigh…</td><td>0</td><td>2008</td><td>null</td><td>152</td><td>&quot;Action,Crime,D…</td><td>9.0</td><td>2817391</td></tr><tr><td>&quot;tt1375666&quot;</td><td>&quot;movie&quot;</td><td>&quot;Inception&quot;</td><td>&quot;Inception&quot;</td><td>0</td><td>2010</td><td>null</td><td>148</td><td>&quot;Action,Adventu…</td><td>8.8</td><td>2500739</td></tr><tr><td>&quot;tt0137523&quot;</td><td>&quot;movie&quot;</td><td>&quot;Fight Club&quot;</td><td>&quot;Fight Club&quot;</td><td>0</td><td>1999</td><td>null</td><td>139</td><td>&quot;Drama&quot;</td><td>8.8</td><td>2271670</td></tr><tr><td>&quot;tt0109830&quot;</td><td>&quot;movie&quot;</td><td>&quot;Forrest Gump&quot;</td><td>&quot;Forrest Gump&quot;</td><td>0</td><td>1994</td><td>null</td><td>142</td><td>&quot;Drama,Romance&quot;</td><td>8.8</td><td>2210564</td></tr></tbody></table></div>"
      ],
      "text/plain": [
       "shape: (5, 11)\n",
       "┌───────────┬───────────┬───────────┬───────────┬───┬───────────┬───────────┬───────────┬──────────┐\n",
       "│ const     ┆ titleType ┆ primaryTi ┆ originalT ┆ … ┆ runtimeMi ┆ genres    ┆ averageRa ┆ numVotes │\n",
       "│ ---       ┆ ---       ┆ tle       ┆ itle      ┆   ┆ nutes     ┆ ---       ┆ ting      ┆ ---      │\n",
       "│ str       ┆ str       ┆ ---       ┆ ---       ┆   ┆ ---       ┆ str       ┆ ---       ┆ i32      │\n",
       "│           ┆           ┆ str       ┆ str       ┆   ┆ i32       ┆           ┆ f32       ┆          │\n",
       "╞═══════════╪═══════════╪═══════════╪═══════════╪═══╪═══════════╪═══════════╪═══════════╪══════════╡\n",
       "│ tt0111161 ┆ movie     ┆ The       ┆ The       ┆ … ┆ 142       ┆ Drama     ┆ 9.3       ┆ 2835969  │\n",
       "│           ┆           ┆ Shawshank ┆ Shawshank ┆   ┆           ┆           ┆           ┆          │\n",
       "│           ┆           ┆ Redemptio ┆ Redemptio ┆   ┆           ┆           ┆           ┆          │\n",
       "│           ┆           ┆ n         ┆ n         ┆   ┆           ┆           ┆           ┆          │\n",
       "│ tt0468569 ┆ movie     ┆ The Dark  ┆ The Dark  ┆ … ┆ 152       ┆ Action,Cr ┆ 9.0       ┆ 2817391  │\n",
       "│           ┆           ┆ Knight    ┆ Knight    ┆   ┆           ┆ ime,Drama ┆           ┆          │\n",
       "│ tt1375666 ┆ movie     ┆ Inception ┆ Inception ┆ … ┆ 148       ┆ Action,Ad ┆ 8.8       ┆ 2500739  │\n",
       "│           ┆           ┆           ┆           ┆   ┆           ┆ venture,S ┆           ┆          │\n",
       "│           ┆           ┆           ┆           ┆   ┆           ┆ ci-Fi     ┆           ┆          │\n",
       "│ tt0137523 ┆ movie     ┆ Fight     ┆ Fight     ┆ … ┆ 139       ┆ Drama     ┆ 8.8       ┆ 2271670  │\n",
       "│           ┆           ┆ Club      ┆ Club      ┆   ┆           ┆           ┆           ┆          │\n",
       "│ tt0109830 ┆ movie     ┆ Forrest   ┆ Forrest   ┆ … ┆ 142       ┆ Drama,Rom ┆ 8.8       ┆ 2210564  │\n",
       "│           ┆           ┆ Gump      ┆ Gump      ┆   ┆           ┆ ance      ┆           ┆          │\n",
       "└───────────┴───────────┴───────────┴───────────┴───┴───────────┴───────────┴───────────┴──────────┘"
      ]
     },
     "execution_count": 23,
     "metadata": {},
     "output_type": "execute_result"
    }
   ],
   "source": [
    "imdb_path = \"../dagster/data/raw_data/parquet/imdb.title.ratings.parquet\"\n",
    "imdb = pl.read_parquet(imdb_path)\n",
    "print(imdb.shape)\n",
    "print(imdb.columns)\n",
    "imdb.head()"
   ]
  },
  {
   "cell_type": "code",
   "execution_count": 24,
   "metadata": {},
   "outputs": [
    {
     "name": "stdout",
     "output_type": "stream",
     "text": [
      "(143258, 16)\n",
      "['id', 'title', 'audienceScore', 'tomatoMeter', 'rating', 'ratingContents', 'releaseDateTheaters', 'releaseDateStreaming', 'runtimeMinutes', 'genre', 'originalLanguage', 'director', 'writer', 'boxOffice', 'distributor', 'soundMix']\n"
     ]
    },
    {
     "data": {
      "text/html": [
       "<div><style>\n",
       ".dataframe > thead > tr,\n",
       ".dataframe > tbody > tr {\n",
       "  text-align: right;\n",
       "  white-space: pre-wrap;\n",
       "}\n",
       "</style>\n",
       "<small>shape: (5, 16)</small><table border=\"1\" class=\"dataframe\"><thead><tr><th>id</th><th>title</th><th>audienceScore</th><th>tomatoMeter</th><th>rating</th><th>ratingContents</th><th>releaseDateTheaters</th><th>releaseDateStreaming</th><th>runtimeMinutes</th><th>genre</th><th>originalLanguage</th><th>director</th><th>writer</th><th>boxOffice</th><th>distributor</th><th>soundMix</th></tr><tr><td>str</td><td>str</td><td>i64</td><td>i64</td><td>str</td><td>str</td><td>str</td><td>str</td><td>i64</td><td>str</td><td>str</td><td>str</td><td>str</td><td>str</td><td>str</td><td>str</td></tr></thead><tbody><tr><td>&quot;space-zombie-b…</td><td>&quot;Space Zombie B…</td><td>50</td><td>null</td><td>null</td><td>null</td><td>null</td><td>&quot;2018-08-25&quot;</td><td>75</td><td>&quot;Comedy, Horror…</td><td>&quot;English&quot;</td><td>&quot;George Ormrod&quot;</td><td>&quot;George Ormrod,…</td><td>null</td><td>null</td><td>null</td></tr><tr><td>&quot;the_green_gras…</td><td>&quot;The Green Gras…</td><td>null</td><td>null</td><td>null</td><td>null</td><td>null</td><td>&quot;2020-02-11&quot;</td><td>114</td><td>&quot;Drama&quot;</td><td>&quot;English&quot;</td><td>&quot;Tiffany Edward…</td><td>&quot;Tiffany Edward…</td><td>null</td><td>null</td><td>null</td></tr><tr><td>&quot;love_lies&quot;</td><td>&quot;Love, Lies&quot;</td><td>43</td><td>null</td><td>null</td><td>null</td><td>null</td><td>null</td><td>120</td><td>&quot;Drama&quot;</td><td>&quot;Korean&quot;</td><td>&quot;Park Heung-Sik…</td><td>&quot;Ha Young-Joon,…</td><td>null</td><td>null</td><td>null</td></tr><tr><td>&quot;the_sore_loser…</td><td>&quot;Sore Losers&quot;</td><td>60</td><td>null</td><td>null</td><td>null</td><td>null</td><td>&quot;2020-10-23&quot;</td><td>90</td><td>&quot;Action, Myster…</td><td>&quot;English&quot;</td><td>&quot;John Michael M…</td><td>&quot;John Michael M…</td><td>null</td><td>null</td><td>null</td></tr><tr><td>&quot;dinosaur_islan…</td><td>&quot;Dinosaur Islan…</td><td>70</td><td>null</td><td>null</td><td>null</td><td>null</td><td>&quot;2017-03-27&quot;</td><td>80</td><td>&quot;Fantasy, Adven…</td><td>&quot;English&quot;</td><td>&quot;Will Meugniot&quot;</td><td>&quot;John Loy&quot;</td><td>null</td><td>null</td><td>null</td></tr></tbody></table></div>"
      ],
      "text/plain": [
       "shape: (5, 16)\n",
       "┌───────────┬───────────┬───────────┬───────────┬───┬───────────┬───────────┬───────────┬──────────┐\n",
       "│ id        ┆ title     ┆ audienceS ┆ tomatoMet ┆ … ┆ writer    ┆ boxOffice ┆ distribut ┆ soundMix │\n",
       "│ ---       ┆ ---       ┆ core      ┆ er        ┆   ┆ ---       ┆ ---       ┆ or        ┆ ---      │\n",
       "│ str       ┆ str       ┆ ---       ┆ ---       ┆   ┆ str       ┆ str       ┆ ---       ┆ str      │\n",
       "│           ┆           ┆ i64       ┆ i64       ┆   ┆           ┆           ┆ str       ┆          │\n",
       "╞═══════════╪═══════════╪═══════════╪═══════════╪═══╪═══════════╪═══════════╪═══════════╪══════════╡\n",
       "│ space-zom ┆ Space     ┆ 50        ┆ null      ┆ … ┆ George    ┆ null      ┆ null      ┆ null     │\n",
       "│ bie-bingo ┆ Zombie    ┆           ┆           ┆   ┆ Ormrod,Jo ┆           ┆           ┆          │\n",
       "│           ┆ Bingo!    ┆           ┆           ┆   ┆ hn        ┆           ┆           ┆          │\n",
       "│           ┆           ┆           ┆           ┆   ┆ Sabotta   ┆           ┆           ┆          │\n",
       "│ the_green ┆ The Green ┆ null      ┆ null      ┆ … ┆ Tiffany   ┆ null      ┆ null      ┆ null     │\n",
       "│ _grass    ┆ Grass     ┆           ┆           ┆   ┆ Edwards   ┆           ┆           ┆          │\n",
       "│ love_lies ┆ Love,     ┆ 43        ┆ null      ┆ … ┆ Ha Young- ┆ null      ┆ null      ┆ null     │\n",
       "│           ┆ Lies      ┆           ┆           ┆   ┆ Joon,Jeon ┆           ┆           ┆          │\n",
       "│           ┆           ┆           ┆           ┆   ┆ Yun-su,So ┆           ┆           ┆          │\n",
       "│           ┆           ┆           ┆           ┆   ┆ ng H…     ┆           ┆           ┆          │\n",
       "│ the_sore_ ┆ Sore      ┆ 60        ┆ null      ┆ … ┆ John      ┆ null      ┆ null      ┆ null     │\n",
       "│ losers_19 ┆ Losers    ┆           ┆           ┆   ┆ Michael   ┆           ┆           ┆          │\n",
       "│ 97        ┆           ┆           ┆           ┆   ┆ McCarthy  ┆           ┆           ┆          │\n",
       "│ dinosaur_ ┆ Dinosaur  ┆ 70        ┆ null      ┆ … ┆ John Loy  ┆ null      ┆ null      ┆ null     │\n",
       "│ island_20 ┆ Island    ┆           ┆           ┆   ┆           ┆           ┆           ┆          │\n",
       "│ 02        ┆           ┆           ┆           ┆   ┆           ┆           ┆           ┆          │\n",
       "└───────────┴───────────┴───────────┴───────────┴───┴───────────┴───────────┴───────────┴──────────┘"
      ]
     },
     "execution_count": 24,
     "metadata": {},
     "output_type": "execute_result"
    }
   ],
   "source": [
    "rt_path = \"../dagster/data/raw_data/parquet/rotten_tomatoes_movies.parquet\"\n",
    "rt = pl.read_parquet(rt_path)\n",
    "print(rt.shape)\n",
    "print(rt.columns)\n",
    "rt.head()\n"
   ]
  },
  {
   "cell_type": "code",
   "execution_count": 29,
   "metadata": {},
   "outputs": [
    {
     "data": {
      "text/html": [
       "<div><style>\n",
       ".dataframe > thead > tr,\n",
       ".dataframe > tbody > tr {\n",
       "  text-align: right;\n",
       "  white-space: pre-wrap;\n",
       "}\n",
       "</style>\n",
       "<small>shape: (5, 17)</small><table border=\"1\" class=\"dataframe\"><thead><tr><th>id</th><th>title</th><th>audienceScore</th><th>tomatoMeter</th><th>rating</th><th>ratingContents</th><th>releaseDateTheaters</th><th>releaseDateStreaming</th><th>runtimeMinutes</th><th>genre</th><th>originalLanguage</th><th>director</th><th>writer</th><th>boxOffice</th><th>distributor</th><th>soundMix</th><th>year</th></tr><tr><td>str</td><td>str</td><td>i64</td><td>i64</td><td>str</td><td>str</td><td>str</td><td>str</td><td>i64</td><td>str</td><td>str</td><td>str</td><td>str</td><td>str</td><td>str</td><td>str</td><td>i32</td></tr></thead><tbody><tr><td>&quot;space-zombie-b…</td><td>&quot;Space Zombie B…</td><td>50</td><td>null</td><td>null</td><td>null</td><td>null</td><td>&quot;2018-08-25&quot;</td><td>75</td><td>&quot;Comedy, Horror…</td><td>&quot;English&quot;</td><td>&quot;George Ormrod&quot;</td><td>&quot;George Ormrod,…</td><td>null</td><td>null</td><td>null</td><td>null</td></tr><tr><td>&quot;the_green_gras…</td><td>&quot;The Green Gras…</td><td>null</td><td>null</td><td>null</td><td>null</td><td>null</td><td>&quot;2020-02-11&quot;</td><td>114</td><td>&quot;Drama&quot;</td><td>&quot;English&quot;</td><td>&quot;Tiffany Edward…</td><td>&quot;Tiffany Edward…</td><td>null</td><td>null</td><td>null</td><td>null</td></tr><tr><td>&quot;love_lies&quot;</td><td>&quot;Love, Lies&quot;</td><td>43</td><td>null</td><td>null</td><td>null</td><td>null</td><td>null</td><td>120</td><td>&quot;Drama&quot;</td><td>&quot;Korean&quot;</td><td>&quot;Park Heung-Sik…</td><td>&quot;Ha Young-Joon,…</td><td>null</td><td>null</td><td>null</td><td>null</td></tr><tr><td>&quot;the_sore_loser…</td><td>&quot;Sore Losers&quot;</td><td>60</td><td>null</td><td>null</td><td>null</td><td>null</td><td>&quot;2020-10-23&quot;</td><td>90</td><td>&quot;Action, Myster…</td><td>&quot;English&quot;</td><td>&quot;John Michael M…</td><td>&quot;John Michael M…</td><td>null</td><td>null</td><td>null</td><td>null</td></tr><tr><td>&quot;dinosaur_islan…</td><td>&quot;Dinosaur Islan…</td><td>70</td><td>null</td><td>null</td><td>null</td><td>null</td><td>&quot;2017-03-27&quot;</td><td>80</td><td>&quot;Fantasy, Adven…</td><td>&quot;English&quot;</td><td>&quot;Will Meugniot&quot;</td><td>&quot;John Loy&quot;</td><td>null</td><td>null</td><td>null</td><td>null</td></tr></tbody></table></div>"
      ],
      "text/plain": [
       "shape: (5, 17)\n",
       "┌────────────┬────────────┬────────────┬────────────┬───┬───────────┬────────────┬──────────┬──────┐\n",
       "│ id         ┆ title      ┆ audienceSc ┆ tomatoMete ┆ … ┆ boxOffice ┆ distributo ┆ soundMix ┆ year │\n",
       "│ ---        ┆ ---        ┆ ore        ┆ r          ┆   ┆ ---       ┆ r          ┆ ---      ┆ ---  │\n",
       "│ str        ┆ str        ┆ ---        ┆ ---        ┆   ┆ str       ┆ ---        ┆ str      ┆ i32  │\n",
       "│            ┆            ┆ i64        ┆ i64        ┆   ┆           ┆ str        ┆          ┆      │\n",
       "╞════════════╪════════════╪════════════╪════════════╪═══╪═══════════╪════════════╪══════════╪══════╡\n",
       "│ space-zomb ┆ Space      ┆ 50         ┆ null       ┆ … ┆ null      ┆ null       ┆ null     ┆ null │\n",
       "│ ie-bingo   ┆ Zombie     ┆            ┆            ┆   ┆           ┆            ┆          ┆      │\n",
       "│            ┆ Bingo!     ┆            ┆            ┆   ┆           ┆            ┆          ┆      │\n",
       "│ the_green_ ┆ The Green  ┆ null       ┆ null       ┆ … ┆ null      ┆ null       ┆ null     ┆ null │\n",
       "│ grass      ┆ Grass      ┆            ┆            ┆   ┆           ┆            ┆          ┆      │\n",
       "│ love_lies  ┆ Love, Lies ┆ 43         ┆ null       ┆ … ┆ null      ┆ null       ┆ null     ┆ null │\n",
       "│ the_sore_l ┆ Sore       ┆ 60         ┆ null       ┆ … ┆ null      ┆ null       ┆ null     ┆ null │\n",
       "│ osers_1997 ┆ Losers     ┆            ┆            ┆   ┆           ┆            ┆          ┆      │\n",
       "│ dinosaur_i ┆ Dinosaur   ┆ 70         ┆ null       ┆ … ┆ null      ┆ null       ┆ null     ┆ null │\n",
       "│ sland_2002 ┆ Island     ┆            ┆            ┆   ┆           ┆            ┆          ┆      │\n",
       "└────────────┴────────────┴────────────┴────────────┴───┴───────────┴────────────┴──────────┴──────┘"
      ]
     },
     "execution_count": 29,
     "metadata": {},
     "output_type": "execute_result"
    }
   ],
   "source": [
    "rt = rt.with_columns(pl.col('releaseDateTheaters').str.strptime(pl.Date, '%Y-%m-%d').dt.year().alias('year'))\n",
    "# rt = rt.with_columns(rt[\"runtimeMinutes\"].cast(pl.Int32))\n",
    "rt.head()"
   ]
  },
  {
   "cell_type": "code",
   "execution_count": 30,
   "metadata": {},
   "outputs": [],
   "source": [
    "imdb_rt = imdb.join(rt, left_on=[\"primaryTitle\", \"startYear\"], right_on=[\"title\", \"year\"], how=\"inner\")"
   ]
  },
  {
   "cell_type": "code",
   "execution_count": 31,
   "metadata": {},
   "outputs": [
    {
     "name": "stdout",
     "output_type": "stream",
     "text": [
      "(19923, 26)\n"
     ]
    }
   ],
   "source": [
    "print(imdb_rt.shape)"
   ]
  },
  {
   "cell_type": "code",
   "execution_count": 32,
   "metadata": {},
   "outputs": [
    {
     "name": "stdout",
     "output_type": "stream",
     "text": [
      "(19923, 26)\n",
      "shape: (5, 26)\n",
      "┌───────────┬───────────┬───────────┬───────────┬───┬───────────┬───────────┬───────────┬──────────┐\n",
      "│ const     ┆ titleType ┆ primaryTi ┆ originalT ┆ … ┆ writer    ┆ boxOffice ┆ distribut ┆ soundMix │\n",
      "│ ---       ┆ ---       ┆ tle       ┆ itle      ┆   ┆ ---       ┆ ---       ┆ or        ┆ ---      │\n",
      "│ str       ┆ str       ┆ ---       ┆ ---       ┆   ┆ str       ┆ str       ┆ ---       ┆ str      │\n",
      "│           ┆           ┆ str       ┆ str       ┆   ┆           ┆           ┆ str       ┆          │\n",
      "╞═══════════╪═══════════╪═══════════╪═══════════╪═══╪═══════════╪═══════════╪═══════════╪══════════╡\n",
      "│ tt0111161 ┆ movie     ┆ The       ┆ The       ┆ … ┆ Frank     ┆ $27.3M    ┆ Columbia  ┆ SDDS,    │\n",
      "│           ┆           ┆ Shawshank ┆ Shawshank ┆   ┆ Darabont  ┆           ┆ Pictures  ┆ Dolby A, │\n",
      "│           ┆           ┆ Redemptio ┆ Redemptio ┆   ┆           ┆           ┆           ┆ Stereo,  │\n",
      "│           ┆           ┆ n         ┆ n         ┆   ┆           ┆           ┆           ┆ Surround │\n",
      "│           ┆           ┆           ┆           ┆   ┆           ┆           ┆           ┆ ,…       │\n",
      "│ tt0468569 ┆ movie     ┆ The Dark  ┆ The Dark  ┆ … ┆ Jonathan  ┆ $2.0M     ┆ Warner    ┆ SDDS,    │\n",
      "│           ┆           ┆ Knight    ┆ Knight    ┆   ┆ Nolan,Chr ┆           ┆ Bros.     ┆ DTS,     │\n",
      "│           ┆           ┆           ┆           ┆   ┆ istopher  ┆           ┆           ┆ Dolby    │\n",
      "│           ┆           ┆           ┆           ┆   ┆ Nolan     ┆           ┆           ┆ Digital  │\n",
      "│ tt1375666 ┆ movie     ┆ Inception ┆ Inception ┆ … ┆ Christoph ┆ $292.6M   ┆ Warner    ┆ Dolby    │\n",
      "│           ┆           ┆           ┆           ┆   ┆ er Nolan  ┆           ┆ Bros.     ┆ Digital, │\n",
      "│           ┆           ┆           ┆           ┆   ┆           ┆           ┆ Pictures  ┆ DTS,     │\n",
      "│           ┆           ┆           ┆           ┆   ┆           ┆           ┆           ┆ SDDS     │\n",
      "│ tt0137523 ┆ movie     ┆ Fight     ┆ Fight     ┆ … ┆ Chuck Pal ┆ $37.0M    ┆ 20th      ┆ Dolby    │\n",
      "│           ┆           ┆ Club      ┆ Club      ┆   ┆ ahniuk,Ji ┆           ┆ Century   ┆ SR,      │\n",
      "│           ┆           ┆           ┆           ┆   ┆ m Uhls    ┆           ┆ Fox       ┆ Dolby    │\n",
      "│           ┆           ┆           ┆           ┆   ┆           ┆           ┆           ┆ EX, DTS, │\n",
      "│           ┆           ┆           ┆           ┆   ┆           ┆           ┆           ┆ Dolby S… │\n",
      "│ tt0109830 ┆ movie     ┆ Forrest   ┆ Forrest   ┆ … ┆ Winston   ┆ $330.3M   ┆ Paramount ┆ Surround │\n",
      "│           ┆           ┆ Gump      ┆ Gump      ┆   ┆ Groom,Eri ┆           ┆ Pictures  ┆ , Dolby  │\n",
      "│           ┆           ┆           ┆           ┆   ┆ c Roth    ┆           ┆           ┆ Digital, │\n",
      "│           ┆           ┆           ┆           ┆   ┆           ┆           ┆           ┆ DTS, St… │\n",
      "└───────────┴───────────┴───────────┴───────────┴───┴───────────┴───────────┴───────────┴──────────┘\n"
     ]
    },
    {
     "data": {
      "text/html": [
       "<div>\n",
       "<style scoped>\n",
       "    .dataframe tbody tr th:only-of-type {\n",
       "        vertical-align: middle;\n",
       "    }\n",
       "\n",
       "    .dataframe tbody tr th {\n",
       "        vertical-align: top;\n",
       "    }\n",
       "\n",
       "    .dataframe thead th {\n",
       "        text-align: right;\n",
       "    }\n",
       "</style>\n",
       "<table border=\"1\" class=\"dataframe\">\n",
       "  <thead>\n",
       "    <tr style=\"text-align: right;\">\n",
       "      <th></th>\n",
       "      <th>const</th>\n",
       "      <th>titleType</th>\n",
       "      <th>primaryTitle</th>\n",
       "      <th>originalTitle</th>\n",
       "      <th>isAdult</th>\n",
       "      <th>startYear</th>\n",
       "      <th>endYear</th>\n",
       "      <th>runtimeMinutes</th>\n",
       "      <th>genres</th>\n",
       "      <th>averageRating</th>\n",
       "      <th>...</th>\n",
       "      <th>releaseDateTheaters</th>\n",
       "      <th>releaseDateStreaming</th>\n",
       "      <th>runtimeMinutes_right</th>\n",
       "      <th>genre</th>\n",
       "      <th>originalLanguage</th>\n",
       "      <th>director</th>\n",
       "      <th>writer</th>\n",
       "      <th>boxOffice</th>\n",
       "      <th>distributor</th>\n",
       "      <th>soundMix</th>\n",
       "    </tr>\n",
       "  </thead>\n",
       "  <tbody>\n",
       "    <tr>\n",
       "      <th>0</th>\n",
       "      <td>tt0111161</td>\n",
       "      <td>movie</td>\n",
       "      <td>The Shawshank Redemption</td>\n",
       "      <td>The Shawshank Redemption</td>\n",
       "      <td>0</td>\n",
       "      <td>1994</td>\n",
       "      <td>NaN</td>\n",
       "      <td>142.0</td>\n",
       "      <td>Drama</td>\n",
       "      <td>9.3</td>\n",
       "      <td>...</td>\n",
       "      <td>1994-09-01</td>\n",
       "      <td>1999-12-21</td>\n",
       "      <td>142.0</td>\n",
       "      <td>Drama</td>\n",
       "      <td>English</td>\n",
       "      <td>Frank Darabont</td>\n",
       "      <td>Frank Darabont</td>\n",
       "      <td>$27.3M</td>\n",
       "      <td>Columbia Pictures</td>\n",
       "      <td>SDDS, Dolby A, Stereo, Surround, Dolby Digital...</td>\n",
       "    </tr>\n",
       "    <tr>\n",
       "      <th>1</th>\n",
       "      <td>tt0468569</td>\n",
       "      <td>movie</td>\n",
       "      <td>The Dark Knight</td>\n",
       "      <td>The Dark Knight</td>\n",
       "      <td>0</td>\n",
       "      <td>2008</td>\n",
       "      <td>NaN</td>\n",
       "      <td>152.0</td>\n",
       "      <td>Action,Crime,Drama</td>\n",
       "      <td>9.0</td>\n",
       "      <td>...</td>\n",
       "      <td>2008-07-18</td>\n",
       "      <td>2008-12-09</td>\n",
       "      <td>152.0</td>\n",
       "      <td>Action, Adventure, Fantasy</td>\n",
       "      <td>English</td>\n",
       "      <td>Christopher Nolan</td>\n",
       "      <td>Jonathan Nolan,Christopher Nolan</td>\n",
       "      <td>$2.0M</td>\n",
       "      <td>Warner Bros.</td>\n",
       "      <td>SDDS, DTS, Dolby Digital</td>\n",
       "    </tr>\n",
       "    <tr>\n",
       "      <th>2</th>\n",
       "      <td>tt1375666</td>\n",
       "      <td>movie</td>\n",
       "      <td>Inception</td>\n",
       "      <td>Inception</td>\n",
       "      <td>0</td>\n",
       "      <td>2010</td>\n",
       "      <td>NaN</td>\n",
       "      <td>148.0</td>\n",
       "      <td>Action,Adventure,Sci-Fi</td>\n",
       "      <td>8.8</td>\n",
       "      <td>...</td>\n",
       "      <td>2010-07-16</td>\n",
       "      <td>2010-12-07</td>\n",
       "      <td>148.0</td>\n",
       "      <td>Sci-fi, Mystery &amp; thriller, Action</td>\n",
       "      <td>English</td>\n",
       "      <td>Christopher Nolan</td>\n",
       "      <td>Christopher Nolan</td>\n",
       "      <td>$292.6M</td>\n",
       "      <td>Warner Bros. Pictures</td>\n",
       "      <td>Dolby Digital, DTS, SDDS</td>\n",
       "    </tr>\n",
       "    <tr>\n",
       "      <th>3</th>\n",
       "      <td>tt0137523</td>\n",
       "      <td>movie</td>\n",
       "      <td>Fight Club</td>\n",
       "      <td>Fight Club</td>\n",
       "      <td>0</td>\n",
       "      <td>1999</td>\n",
       "      <td>NaN</td>\n",
       "      <td>139.0</td>\n",
       "      <td>Drama</td>\n",
       "      <td>8.8</td>\n",
       "      <td>...</td>\n",
       "      <td>1999-10-15</td>\n",
       "      <td>2003-10-14</td>\n",
       "      <td>139.0</td>\n",
       "      <td>Mystery &amp; thriller, Drama</td>\n",
       "      <td>English</td>\n",
       "      <td>David Fincher</td>\n",
       "      <td>Chuck Palahniuk,Jim Uhls</td>\n",
       "      <td>$37.0M</td>\n",
       "      <td>20th Century Fox</td>\n",
       "      <td>Dolby SR, Dolby EX, DTS, Dolby Stereo, SDDS, D...</td>\n",
       "    </tr>\n",
       "    <tr>\n",
       "      <th>4</th>\n",
       "      <td>tt0109830</td>\n",
       "      <td>movie</td>\n",
       "      <td>Forrest Gump</td>\n",
       "      <td>Forrest Gump</td>\n",
       "      <td>0</td>\n",
       "      <td>1994</td>\n",
       "      <td>NaN</td>\n",
       "      <td>142.0</td>\n",
       "      <td>Drama,Romance</td>\n",
       "      <td>8.8</td>\n",
       "      <td>...</td>\n",
       "      <td>1994-07-06</td>\n",
       "      <td>2001-08-28</td>\n",
       "      <td>142.0</td>\n",
       "      <td>Comedy, Drama</td>\n",
       "      <td>English</td>\n",
       "      <td>Robert Zemeckis</td>\n",
       "      <td>Winston Groom,Eric Roth</td>\n",
       "      <td>$330.3M</td>\n",
       "      <td>Paramount Pictures</td>\n",
       "      <td>Surround, Dolby Digital, DTS, Stereo</td>\n",
       "    </tr>\n",
       "  </tbody>\n",
       "</table>\n",
       "<p>5 rows × 26 columns</p>\n",
       "</div>"
      ],
      "text/plain": [
       "       const titleType              primaryTitle             originalTitle  \\\n",
       "0  tt0111161     movie  The Shawshank Redemption  The Shawshank Redemption   \n",
       "1  tt0468569     movie           The Dark Knight           The Dark Knight   \n",
       "2  tt1375666     movie                 Inception                 Inception   \n",
       "3  tt0137523     movie                Fight Club                Fight Club   \n",
       "4  tt0109830     movie              Forrest Gump              Forrest Gump   \n",
       "\n",
       "   isAdult  startYear  endYear  runtimeMinutes                   genres  \\\n",
       "0        0       1994      NaN           142.0                    Drama   \n",
       "1        0       2008      NaN           152.0       Action,Crime,Drama   \n",
       "2        0       2010      NaN           148.0  Action,Adventure,Sci-Fi   \n",
       "3        0       1999      NaN           139.0                    Drama   \n",
       "4        0       1994      NaN           142.0            Drama,Romance   \n",
       "\n",
       "   averageRating  ...  releaseDateTheaters releaseDateStreaming  \\\n",
       "0            9.3  ...           1994-09-01           1999-12-21   \n",
       "1            9.0  ...           2008-07-18           2008-12-09   \n",
       "2            8.8  ...           2010-07-16           2010-12-07   \n",
       "3            8.8  ...           1999-10-15           2003-10-14   \n",
       "4            8.8  ...           1994-07-06           2001-08-28   \n",
       "\n",
       "   runtimeMinutes_right                               genre originalLanguage  \\\n",
       "0                 142.0                               Drama          English   \n",
       "1                 152.0          Action, Adventure, Fantasy          English   \n",
       "2                 148.0  Sci-fi, Mystery & thriller, Action          English   \n",
       "3                 139.0           Mystery & thriller, Drama          English   \n",
       "4                 142.0                       Comedy, Drama          English   \n",
       "\n",
       "            director                            writer boxOffice  \\\n",
       "0     Frank Darabont                    Frank Darabont    $27.3M   \n",
       "1  Christopher Nolan  Jonathan Nolan,Christopher Nolan     $2.0M   \n",
       "2  Christopher Nolan                 Christopher Nolan   $292.6M   \n",
       "3      David Fincher          Chuck Palahniuk,Jim Uhls    $37.0M   \n",
       "4    Robert Zemeckis           Winston Groom,Eric Roth   $330.3M   \n",
       "\n",
       "             distributor                                           soundMix  \n",
       "0      Columbia Pictures  SDDS, Dolby A, Stereo, Surround, Dolby Digital...  \n",
       "1           Warner Bros.                           SDDS, DTS, Dolby Digital  \n",
       "2  Warner Bros. Pictures                           Dolby Digital, DTS, SDDS  \n",
       "3       20th Century Fox  Dolby SR, Dolby EX, DTS, Dolby Stereo, SDDS, D...  \n",
       "4     Paramount Pictures               Surround, Dolby Digital, DTS, Stereo  \n",
       "\n",
       "[5 rows x 26 columns]"
      ]
     },
     "execution_count": 32,
     "metadata": {},
     "output_type": "execute_result"
    }
   ],
   "source": [
    "print(imdb_rt.shape)\n",
    "print(imdb_rt.head())\n",
    "pd = imdb_rt.to_pandas()\n",
    "pd.head()"
   ]
  },
  {
   "cell_type": "code",
   "execution_count": 33,
   "metadata": {},
   "outputs": [],
   "source": [
    "imdb_rt.write_parquet(\"../dagster/data/raw_data/parquet/imdb_rt.parquet\", compression=\"snappy\")"
   ]
  },
  {
   "cell_type": "code",
   "execution_count": null,
   "metadata": {},
   "outputs": [],
   "source": []
  }
 ],
 "metadata": {
  "kernelspec": {
   "display_name": "dag_nyc",
   "language": "python",
   "name": "python3"
  },
  "language_info": {
   "codemirror_mode": {
    "name": "ipython",
    "version": 3
   },
   "file_extension": ".py",
   "mimetype": "text/x-python",
   "name": "python",
   "nbconvert_exporter": "python",
   "pygments_lexer": "ipython3",
   "version": "3.11.7"
  }
 },
 "nbformat": 4,
 "nbformat_minor": 2
}
