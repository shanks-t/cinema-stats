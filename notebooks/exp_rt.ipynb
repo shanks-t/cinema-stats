{
 "cells": [
  {
   "cell_type": "code",
   "execution_count": 10,
   "metadata": {},
   "outputs": [],
   "source": [
    "import polars as pl\n",
    "import pandas as pd\n",
    "import numpy as np\n",
    "import os\n",
    "import pyarrow.parquet as pq"
   ]
  },
  {
   "cell_type": "code",
   "execution_count": 11,
   "metadata": {},
   "outputs": [],
   "source": [
    "def convert_tsv_to_parquet(tsv_file_path, parquet_dir):\n",
    "    \"\"\"\n",
    "    Converts a TSV file to a Parquet file\n",
    "    \"\"\"\n",
    "\n",
    "    parquet_file_name = os.path.basename(tsv_file_path).replace('.csv', '.parquet')\n",
    "    parquet_file_path = os.path.join(parquet_dir, parquet_file_name)\n",
    "\n",
    "    df = pl.read_csv(tsv_file_path, separator=',', has_header=True, ignore_errors=True)\n",
    "    df.write_parquet(parquet_file_path)\n",
    "\n",
    "    return parquet_file_path"
   ]
  },
  {
   "cell_type": "code",
   "execution_count": 12,
   "metadata": {},
   "outputs": [],
   "source": [
    "# path = convert_tsv_to_parquet(\"../pipeline/data/raw_data/csv/rotten_tomatoes_movies.csv\", \"../pipeline/data/raw_data/parquet/\")"
   ]
  },
  {
   "cell_type": "code",
   "execution_count": 13,
   "metadata": {},
   "outputs": [],
   "source": [
    "df = pl.read_parquet(\"../pipeline/data/raw_data/parquet/rotten_tomatoes_movies.parquet\")"
   ]
  },
  {
   "cell_type": "code",
   "execution_count": 14,
   "metadata": {},
   "outputs": [
    {
     "data": {
      "text/plain": [
       "['id',\n",
       " 'title',\n",
       " 'audienceScore',\n",
       " 'tomatoMeter',\n",
       " 'rating',\n",
       " 'ratingContents',\n",
       " 'releaseDateTheaters',\n",
       " 'releaseDateStreaming',\n",
       " 'runtimeMinutes',\n",
       " 'genre',\n",
       " 'originalLanguage',\n",
       " 'director',\n",
       " 'writer',\n",
       " 'boxOffice',\n",
       " 'distributor',\n",
       " 'soundMix']"
      ]
     },
     "execution_count": 14,
     "metadata": {},
     "output_type": "execute_result"
    }
   ],
   "source": [
    "df.columns"
   ]
  },
  {
   "cell_type": "code",
   "execution_count": 34,
   "metadata": {},
   "outputs": [
    {
     "name": "stdout",
     "output_type": "stream",
     "text": [
      "shape: (143_258, 16)\n",
      "┌───────────┬───────────┬───────────┬───────────┬───┬───────────┬───────────┬───────────┬──────────┐\n",
      "│ id        ┆ title     ┆ audienceS ┆ tomatoMet ┆ … ┆ writer    ┆ boxOffice ┆ distribut ┆ soundMix │\n",
      "│ ---       ┆ ---       ┆ core      ┆ er        ┆   ┆ ---       ┆ ---       ┆ or        ┆ ---      │\n",
      "│ str       ┆ str       ┆ ---       ┆ ---       ┆   ┆ str       ┆ str       ┆ ---       ┆ str      │\n",
      "│           ┆           ┆ i64       ┆ i64       ┆   ┆           ┆           ┆ str       ┆          │\n",
      "╞═══════════╪═══════════╪═══════════╪═══════════╪═══╪═══════════╪═══════════╪═══════════╪══════════╡\n",
      "│ space-zom ┆ Space     ┆ 50        ┆ null      ┆ … ┆ George    ┆ null      ┆ null      ┆ null     │\n",
      "│ bie-bingo ┆ Zombie    ┆           ┆           ┆   ┆ Ormrod,Jo ┆           ┆           ┆          │\n",
      "│           ┆ Bingo!    ┆           ┆           ┆   ┆ hn        ┆           ┆           ┆          │\n",
      "│           ┆           ┆           ┆           ┆   ┆ Sabotta   ┆           ┆           ┆          │\n",
      "│ the_green ┆ The Green ┆ null      ┆ null      ┆ … ┆ Tiffany   ┆ null      ┆ null      ┆ null     │\n",
      "│ _grass    ┆ Grass     ┆           ┆           ┆   ┆ Edwards   ┆           ┆           ┆          │\n",
      "│ love_lies ┆ Love,     ┆ 43        ┆ null      ┆ … ┆ Ha Young- ┆ null      ┆ null      ┆ null     │\n",
      "│           ┆ Lies      ┆           ┆           ┆   ┆ Joon,Jeon ┆           ┆           ┆          │\n",
      "│           ┆           ┆           ┆           ┆   ┆ Yun-su,So ┆           ┆           ┆          │\n",
      "│           ┆           ┆           ┆           ┆   ┆ ng H…     ┆           ┆           ┆          │\n",
      "│ the_sore_ ┆ Sore      ┆ 60        ┆ null      ┆ … ┆ John      ┆ null      ┆ null      ┆ null     │\n",
      "│ losers_19 ┆ Losers    ┆           ┆           ┆   ┆ Michael   ┆           ┆           ┆          │\n",
      "│ 97        ┆           ┆           ┆           ┆   ┆ McCarthy  ┆           ┆           ┆          │\n",
      "│ …         ┆ …         ┆ …         ┆ …         ┆ … ┆ …         ┆ …         ┆ …         ┆ …        │\n",
      "│ fantastic ┆ Fantastic ┆ null      ┆ null      ┆ … ┆ null      ┆ null      ┆ Walt      ┆ null     │\n",
      "│ _four_202 ┆ Four      ┆           ┆           ┆   ┆           ┆           ┆ Disney    ┆          │\n",
      "│ 5         ┆           ┆           ┆           ┆   ┆           ┆           ┆ Pictures  ┆          │\n",
      "│ avatar_4  ┆ Avatar 4  ┆ null      ┆ null      ┆ … ┆ James     ┆ null      ┆ 20th      ┆ null     │\n",
      "│           ┆           ┆           ┆           ┆   ┆ Cameron   ┆           ┆ Century   ┆          │\n",
      "│           ┆           ┆           ┆           ┆   ┆           ┆           ┆ Studios   ┆          │\n",
      "│ avatar_5  ┆ Avatar 5  ┆ null      ┆ null      ┆ … ┆ James     ┆ null      ┆ 20th      ┆ null     │\n",
      "│           ┆           ┆           ┆           ┆   ┆ Cameron   ┆           ┆ Century   ┆          │\n",
      "│           ┆           ┆           ┆           ┆   ┆           ┆           ┆ Studios   ┆          │\n",
      "│ other_peo ┆ Other     ┆ null      ┆ 92        ┆ … ┆ Rebecca   ┆ null      ┆ Music Box ┆ null     │\n",
      "│ ples_chil ┆ People's  ┆           ┆           ┆   ┆ Zlotowski ┆           ┆ Films     ┆          │\n",
      "│ dren_2022 ┆ Children  ┆           ┆           ┆   ┆           ┆           ┆           ┆          │\n",
      "└───────────┴───────────┴───────────┴───────────┴───┴───────────┴───────────┴───────────┴──────────┘\n"
     ]
    }
   ],
   "source": [
    "# Convert the date string column to a date object\n",
    "df = df.with_columns(\n",
    "    pl.col(\"releaseDateTheaters\").cast(pl.Date)\n",
    ")\n",
    "\n",
    "# Sort the DataFrame by the date column\n",
    "df_sorted = df.sort(\"releaseDateTheaters\")\n",
    "print(df_sorted)"
   ]
  },
  {
   "cell_type": "code",
   "execution_count": 36,
   "metadata": {},
   "outputs": [],
   "source": [
    "table = pq.read_table(\"../pipeline/data/raw_data/parquet/title.basics.parquet\")\n",
    "imdb = pl.from_arrow(table)"
   ]
  },
  {
   "cell_type": "code",
   "execution_count": 54,
   "metadata": {},
   "outputs": [
    {
     "data": {
      "text/plain": [
       "(667364, 9)"
      ]
     },
     "execution_count": 54,
     "metadata": {},
     "output_type": "execute_result"
    }
   ],
   "source": [
    "imdb = imdb.filter(pl.col(\"titleType\") == 'movie')\n",
    "imdb.shape"
   ]
  },
  {
   "cell_type": "code",
   "execution_count": 51,
   "metadata": {},
   "outputs": [],
   "source": [
    "joined = imdb.join(df, left_on=[\"primaryTitle\", \"\"], right_on=\"title\", how=\"inner\")"
   ]
  },
  {
   "cell_type": "code",
   "execution_count": 52,
   "metadata": {},
   "outputs": [
    {
     "data": {
      "text/html": [
       "<div><style>\n",
       ".dataframe > thead > tr,\n",
       ".dataframe > tbody > tr {\n",
       "  text-align: right;\n",
       "  white-space: pre-wrap;\n",
       "}\n",
       "</style>\n",
       "<small>shape: (87_598, 2)</small><table border=\"1\" class=\"dataframe\"><thead><tr><th>primaryTitle</th><th>count</th></tr><tr><td>str</td><td>u32</td></tr></thead><tbody><tr><td>&quot;Crooks in Cloi…</td><td>1</td></tr><tr><td>&quot;Punish Me&quot;</td><td>1</td></tr><tr><td>&quot;A River Runs, …</td><td>1</td></tr><tr><td>&quot;The Thread of …</td><td>1</td></tr><tr><td>&quot;iGirlfriend&quot;</td><td>1</td></tr><tr><td>&quot;Mister Buddwin…</td><td>1</td></tr><tr><td>&quot;Complex World&quot;</td><td>1</td></tr><tr><td>&quot;Intern&quot;</td><td>1</td></tr><tr><td>&quot;I Love You Bab…</td><td>1</td></tr><tr><td>&quot;The Silent Twi…</td><td>1</td></tr><tr><td>&quot;Seven and a Ma…</td><td>1</td></tr><tr><td>&quot;A California C…</td><td>1</td></tr><tr><td>&hellip;</td><td>&hellip;</td></tr><tr><td>&quot;Love&quot;</td><td>540</td></tr><tr><td>&quot;First Love&quot;</td><td>560</td></tr><tr><td>&quot;Trapped&quot;</td><td>576</td></tr><tr><td>&quot;Broken&quot;</td><td>600</td></tr><tr><td>&quot;Hero&quot;</td><td>640</td></tr><tr><td>&quot;Hamlet&quot;</td><td>672</td></tr><tr><td>&quot;The Stranger&quot;</td><td>680</td></tr><tr><td>&quot;Paradise&quot;</td><td>705</td></tr><tr><td>&quot;Mother&quot;</td><td>750</td></tr><tr><td>&quot;The Return&quot;</td><td>765</td></tr><tr><td>&quot;Alone&quot;</td><td>825</td></tr><tr><td>&quot;Home&quot;</td><td>840</td></tr></tbody></table></div>"
      ],
      "text/plain": [
       "shape: (87_598, 2)\n",
       "┌───────────────────────────────────┬───────┐\n",
       "│ primaryTitle                      ┆ count │\n",
       "│ ---                               ┆ ---   │\n",
       "│ str                               ┆ u32   │\n",
       "╞═══════════════════════════════════╪═══════╡\n",
       "│ Crooks in Cloisters               ┆ 1     │\n",
       "│ Punish Me                         ┆ 1     │\n",
       "│ A River Runs, Turns, Erases, Rep… ┆ 1     │\n",
       "│ The Thread of Water               ┆ 1     │\n",
       "│ …                                 ┆ …     │\n",
       "│ Mother                            ┆ 750   │\n",
       "│ The Return                        ┆ 765   │\n",
       "│ Alone                             ┆ 825   │\n",
       "│ Home                              ┆ 840   │\n",
       "└───────────────────────────────────┴───────┘"
      ]
     },
     "execution_count": 52,
     "metadata": {},
     "output_type": "execute_result"
    }
   ],
   "source": [
    "joined[\"primaryTitle\"].value_counts().sort(by='count')"
   ]
  }
 ],
 "metadata": {
  "kernelspec": {
   "display_name": "dag_nyc",
   "language": "python",
   "name": "python3"
  },
  "language_info": {
   "codemirror_mode": {
    "name": "ipython",
    "version": 3
   },
   "file_extension": ".py",
   "mimetype": "text/x-python",
   "name": "python",
   "nbconvert_exporter": "python",
   "pygments_lexer": "ipython3",
   "version": "3.11.7"
  }
 },
 "nbformat": 4,
 "nbformat_minor": 2
}
