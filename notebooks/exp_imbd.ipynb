{
 "cells": [
  {
   "cell_type": "code",
   "execution_count": 21,
   "metadata": {},
   "outputs": [],
   "source": [
    "import polars as pl\n",
    "import pandas as pd\n",
    "import numpy as np\n",
    "from utils.functions import read_tsv_with_polars"
   ]
  },
  {
   "cell_type": "code",
   "execution_count": 23,
   "metadata": {},
   "outputs": [],
   "source": [
    "ratings_df = read_tsv_with_polars(\"../pipeline/data/raw_data/csv/imdb/title.ratings.tsv\", ['const', 'averageRating', 'numVotes'], [pl.Utf8, pl.Float32, pl.Int32])\n"
   ]
  },
  {
   "cell_type": "code",
   "execution_count": 25,
   "metadata": {},
   "outputs": [
    {
     "data": {
      "text/html": [
       "<div><style>\n",
       ".dataframe > thead > tr,\n",
       ".dataframe > tbody > tr {\n",
       "  text-align: right;\n",
       "  white-space: pre-wrap;\n",
       "}\n",
       "</style>\n",
       "<small>shape: (10, 3)</small><table border=\"1\" class=\"dataframe\"><thead><tr><th>const</th><th>averageRating</th><th>numVotes</th></tr><tr><td>str</td><td>f32</td><td>i32</td></tr></thead><tbody><tr><td>&quot;tt0000001&quot;</td><td>5.7</td><td>2014</td></tr><tr><td>&quot;tt0000002&quot;</td><td>5.7</td><td>272</td></tr><tr><td>&quot;tt0000003&quot;</td><td>6.5</td><td>1936</td></tr><tr><td>&quot;tt0000004&quot;</td><td>5.4</td><td>179</td></tr><tr><td>&quot;tt0000005&quot;</td><td>6.2</td><td>2707</td></tr><tr><td>&quot;tt0000006&quot;</td><td>5.0</td><td>184</td></tr><tr><td>&quot;tt0000007&quot;</td><td>5.4</td><td>843</td></tr><tr><td>&quot;tt0000008&quot;</td><td>5.4</td><td>2160</td></tr><tr><td>&quot;tt0000009&quot;</td><td>5.3</td><td>207</td></tr><tr><td>&quot;tt0000010&quot;</td><td>6.8</td><td>7382</td></tr></tbody></table></div>"
      ],
      "text/plain": [
       "shape: (10, 3)\n",
       "┌───────────┬───────────────┬──────────┐\n",
       "│ const     ┆ averageRating ┆ numVotes │\n",
       "│ ---       ┆ ---           ┆ ---      │\n",
       "│ str       ┆ f32           ┆ i32      │\n",
       "╞═══════════╪═══════════════╪══════════╡\n",
       "│ tt0000001 ┆ 5.7           ┆ 2014     │\n",
       "│ tt0000002 ┆ 5.7           ┆ 272      │\n",
       "│ tt0000003 ┆ 6.5           ┆ 1936     │\n",
       "│ tt0000004 ┆ 5.4           ┆ 179      │\n",
       "│ …         ┆ …             ┆ …        │\n",
       "│ tt0000007 ┆ 5.4           ┆ 843      │\n",
       "│ tt0000008 ┆ 5.4           ┆ 2160     │\n",
       "│ tt0000009 ┆ 5.3           ┆ 207      │\n",
       "│ tt0000010 ┆ 6.8           ┆ 7382     │\n",
       "└───────────┴───────────────┴──────────┘"
      ]
     },
     "execution_count": 25,
     "metadata": {},
     "output_type": "execute_result"
    }
   ],
   "source": [
    "ratings_df.head(10)"
   ]
  },
  {
   "cell_type": "code",
   "execution_count": 26,
   "metadata": {},
   "outputs": [],
   "source": [
    "column_names = ['const', 'titleType', 'primaryTitle', 'originalTitle', 'isAdult', \n",
    "                'startYear', 'endYear', 'runtimeMinutes', 'genres']\n",
    "\n",
    "# Define column types\n",
    "# Adjust these based on the actual data in each column\n",
    "column_types = [pl.Utf8, pl.Utf8, pl.Utf8, pl.Utf8, pl.Int32, \n",
    "                pl.Int32, pl.Int32, pl.Int32, pl.Utf8]\n",
    "\n",
    "basics_df = read_tsv_with_polars('../pipeline/data/raw_data/csv/imdb/title.basics.tsv', column_names, column_types)"
   ]
  },
  {
   "cell_type": "code",
   "execution_count": 27,
   "metadata": {},
   "outputs": [
    {
     "data": {
      "text/html": [
       "<div><style>\n",
       ".dataframe > thead > tr,\n",
       ".dataframe > tbody > tr {\n",
       "  text-align: right;\n",
       "  white-space: pre-wrap;\n",
       "}\n",
       "</style>\n",
       "<small>shape: (11, 2)</small><table border=\"1\" class=\"dataframe\"><thead><tr><th>titleType</th><th>count</th></tr><tr><td>str</td><td>u32</td></tr></thead><tbody><tr><td>&quot;short&quot;</td><td>969727</td></tr><tr><td>&quot;movie&quot;</td><td>667364</td></tr><tr><td>&quot;tvEpisode&quot;</td><td>7982934</td></tr><tr><td>&quot;tvPilot&quot;</td><td>1</td></tr><tr><td>&quot;tvMiniSeries&quot;</td><td>51763</td></tr><tr><td>&quot;tvSpecial&quot;</td><td>45127</td></tr><tr><td>&quot;tvShort&quot;</td><td>10143</td></tr><tr><td>&quot;video&quot;</td><td>285553</td></tr><tr><td>&quot;tvSeries&quot;</td><td>254628</td></tr><tr><td>&quot;tvMovie&quot;</td><td>143915</td></tr><tr><td>&quot;videoGame&quot;</td><td>36964</td></tr></tbody></table></div>"
      ],
      "text/plain": [
       "shape: (11, 2)\n",
       "┌───────────┬─────────┐\n",
       "│ titleType ┆ count   │\n",
       "│ ---       ┆ ---     │\n",
       "│ str       ┆ u32     │\n",
       "╞═══════════╪═════════╡\n",
       "│ short     ┆ 969727  │\n",
       "│ movie     ┆ 667364  │\n",
       "│ tvEpisode ┆ 7982934 │\n",
       "│ tvPilot   ┆ 1       │\n",
       "│ …         ┆ …       │\n",
       "│ video     ┆ 285553  │\n",
       "│ tvSeries  ┆ 254628  │\n",
       "│ tvMovie   ┆ 143915  │\n",
       "│ videoGame ┆ 36964   │\n",
       "└───────────┴─────────┘"
      ]
     },
     "execution_count": 27,
     "metadata": {},
     "output_type": "execute_result"
    }
   ],
   "source": [
    "basics_df[\"titleType\"].value_counts()"
   ]
  },
  {
   "cell_type": "code",
   "execution_count": 28,
   "metadata": {},
   "outputs": [],
   "source": [
    "filter_condition = basics_df['titleType'] == \"movie\"\n",
    "\n",
    "movies = basics_df.filter(filter_condition)"
   ]
  },
  {
   "cell_type": "code",
   "execution_count": 29,
   "metadata": {},
   "outputs": [
    {
     "name": "stdout",
     "output_type": "stream",
     "text": [
      "(667364, 9)\n"
     ]
    },
    {
     "data": {
      "text/plain": [
       "['const',\n",
       " 'titleType',\n",
       " 'primaryTitle',\n",
       " 'originalTitle',\n",
       " 'isAdult',\n",
       " 'startYear',\n",
       " 'endYear',\n",
       " 'runtimeMinutes',\n",
       " 'genres']"
      ]
     },
     "execution_count": 29,
     "metadata": {},
     "output_type": "execute_result"
    }
   ],
   "source": [
    "print(movies.shape)\n",
    "movies.columns"
   ]
  },
  {
   "cell_type": "code",
   "execution_count": 32,
   "metadata": {},
   "outputs": [
    {
     "name": "stdout",
     "output_type": "stream",
     "text": [
      "(301971, 11)\n"
     ]
    },
    {
     "data": {
      "text/html": [
       "<div><style>\n",
       ".dataframe > thead > tr,\n",
       ".dataframe > tbody > tr {\n",
       "  text-align: right;\n",
       "  white-space: pre-wrap;\n",
       "}\n",
       "</style>\n",
       "<small>shape: (277_168, 2)</small><table border=\"1\" class=\"dataframe\"><thead><tr><th>originalTitle</th><th>count</th></tr><tr><td>str</td><td>u32</td></tr></thead><tbody><tr><td>&quot;The Yellow Balloon&quot;</td><td>1</td></tr><tr><td>&quot;Blef doskonaly&quot;</td><td>1</td></tr><tr><td>&quot;The Final Scream&quot;</td><td>1</td></tr><tr><td>&quot;The Great Train Robbery&quot;</td><td>1</td></tr><tr><td>&quot;Song One&quot;</td><td>1</td></tr><tr><td>&quot;Baradaram Khosro&quot;</td><td>1</td></tr><tr><td>&quot;Et hjørne af paradis&quot;</td><td>1</td></tr><tr><td>&quot;Pál Adrienn&quot;</td><td>1</td></tr><tr><td>&quot;Unoponchash Batash&quot;</td><td>1</td></tr><tr><td>&quot;WTFry&quot;</td><td>1</td></tr><tr><td>&quot;Bomb-e Khande&quot;</td><td>1</td></tr><tr><td>&quot;Kluci z hor&quot;</td><td>1</td></tr><tr><td>&hellip;</td><td>&hellip;</td></tr><tr><td>&quot;The Descending&quot;</td><td>1</td></tr><tr><td>&quot;Eva, limpia como los chorros del oro&quot;</td><td>1</td></tr><tr><td>&quot;Río Hondo&quot;</td><td>1</td></tr><tr><td>&quot;The Bridge Master&#x27;s Daughter&quot;</td><td>1</td></tr><tr><td>&quot;Los fantasmas burlones&quot;</td><td>1</td></tr><tr><td>&quot;Tamo i ovde&quot;</td><td>1</td></tr><tr><td>&quot;Amore e morte nel giardino degli dei&quot;</td><td>1</td></tr><tr><td>&quot;Flußfahrt mit Huhn&quot;</td><td>1</td></tr><tr><td>&quot;Tera senshi sai boy&quot;</td><td>1</td></tr><tr><td>&quot;Amberpark: the Movie&quot;</td><td>1</td></tr><tr><td>&quot;The Pied Piper of Cleveland: A Day in the Life of…</td><td>1</td></tr><tr><td>&quot;Ninjutsu gozen-jiai&quot;</td><td>1</td></tr></tbody></table></div>"
      ],
      "text/plain": [
       "shape: (277_168, 2)\n",
       "┌─────────────────────────────────────────────────────┬───────┐\n",
       "│ originalTitle                                       ┆ count │\n",
       "│ ---                                                 ┆ ---   │\n",
       "│ str                                                 ┆ u32   │\n",
       "╞═════════════════════════════════════════════════════╪═══════╡\n",
       "│ The Yellow Balloon                                  ┆ 1     │\n",
       "│ Blef doskonaly                                      ┆ 1     │\n",
       "│ The Final Scream                                    ┆ 1     │\n",
       "│ The Great Train Robbery                             ┆ 1     │\n",
       "│ …                                                   ┆ …     │\n",
       "│ Tera senshi sai boy                                 ┆ 1     │\n",
       "│ Amberpark: the Movie                                ┆ 1     │\n",
       "│ The Pied Piper of Cleveland: A Day in the Life of … ┆ 1     │\n",
       "│ Ninjutsu gozen-jiai                                 ┆ 1     │\n",
       "└─────────────────────────────────────────────────────┴───────┘"
      ]
     },
     "execution_count": 32,
     "metadata": {},
     "output_type": "execute_result"
    }
   ],
   "source": [
    "movie_ratings = movies.join(ratings_df, on=\"const\", how=\"inner\")\n",
    "\n",
    "movie_ratings = movie_ratings.sort(by=\"numVotes\", descending=True)\n",
    "print(movie_ratings.shape)\n",
    "movie_ratings[\"originalTitle\"].value_counts()\n"
   ]
  },
  {
   "cell_type": "code",
   "execution_count": 29,
   "metadata": {},
   "outputs": [
    {
     "data": {
      "text/html": [
       "<div><style>\n",
       ".dataframe > thead > tr,\n",
       ".dataframe > tbody > tr {\n",
       "  text-align: right;\n",
       "  white-space: pre-wrap;\n",
       "}\n",
       "</style>\n",
       "<small>shape: (127, 2)</small><table border=\"1\" class=\"dataframe\"><thead><tr><th>startYear</th><th>count</th></tr><tr><td>i32</td><td>u32</td></tr></thead><tbody><tr><td>2019</td><td>10485</td></tr><tr><td>2018</td><td>10368</td></tr><tr><td>2017</td><td>10293</td></tr><tr><td>2022</td><td>10081</td></tr><tr><td>2016</td><td>9811</td></tr><tr><td>2015</td><td>9423</td></tr><tr><td>2014</td><td>9201</td></tr><tr><td>2021</td><td>8904</td></tr><tr><td>2013</td><td>8573</td></tr><tr><td>2020</td><td>8436</td></tr><tr><td>2023</td><td>8211</td></tr><tr><td>2012</td><td>8203</td></tr><tr><td>&hellip;</td><td>&hellip;</td></tr><tr><td>1907</td><td>13</td></tr><tr><td>1908</td><td>13</td></tr><tr><td>1905</td><td>10</td></tr><tr><td>1906</td><td>8</td></tr><tr><td>1897</td><td>2</td></tr><tr><td>1903</td><td>2</td></tr><tr><td>1899</td><td>2</td></tr><tr><td>1901</td><td>2</td></tr><tr><td>1900</td><td>2</td></tr><tr><td>1894</td><td>1</td></tr><tr><td>1904</td><td>1</td></tr><tr><td>1902</td><td>1</td></tr></tbody></table></div>"
      ],
      "text/plain": [
       "shape: (127, 2)\n",
       "┌───────────┬───────┐\n",
       "│ startYear ┆ count │\n",
       "│ ---       ┆ ---   │\n",
       "│ i32       ┆ u32   │\n",
       "╞═══════════╪═══════╡\n",
       "│ 2019      ┆ 10485 │\n",
       "│ 2018      ┆ 10368 │\n",
       "│ 2017      ┆ 10293 │\n",
       "│ 2022      ┆ 10081 │\n",
       "│ …         ┆ …     │\n",
       "│ 1900      ┆ 2     │\n",
       "│ 1894      ┆ 1     │\n",
       "│ 1904      ┆ 1     │\n",
       "│ 1902      ┆ 1     │\n",
       "└───────────┴───────┘"
      ]
     },
     "execution_count": 29,
     "metadata": {},
     "output_type": "execute_result"
    }
   ],
   "source": [
    "movie_ratings = movie_ratings.filter(movie_ratings['startYear'].is_not_null())\n",
    "movie_ratings['startYear'].value_counts(sort=True)"
   ]
  },
  {
   "cell_type": "code",
   "execution_count": 30,
   "metadata": {},
   "outputs": [
    {
     "data": {
      "text/html": [
       "<div><style>\n",
       ".dataframe > thead > tr,\n",
       ".dataframe > tbody > tr {\n",
       "  text-align: right;\n",
       "  white-space: pre-wrap;\n",
       "}\n",
       "</style>\n",
       "<small>shape: (5, 11)</small><table border=\"1\" class=\"dataframe\"><thead><tr><th>const</th><th>titleType</th><th>primaryTitle</th><th>originalTitle</th><th>isAdult</th><th>startYear</th><th>endYear</th><th>runtimeMinutes</th><th>genres</th><th>averageRating</th><th>numVotes</th></tr><tr><td>str</td><td>str</td><td>str</td><td>str</td><td>i32</td><td>i32</td><td>i32</td><td>i32</td><td>str</td><td>f32</td><td>i32</td></tr></thead><tbody><tr><td>&quot;tt0070596&quot;</td><td>&quot;movie&quot;</td><td>&quot;Socialist Realism&quot;</td><td>&quot;El realismo socialista&quot;</td><td>0</td><td>2023</td><td>null</td><td>78</td><td>&quot;Drama&quot;</td><td>7.5</td><td>52</td></tr><tr><td>&quot;tt0122511&quot;</td><td>&quot;movie&quot;</td><td>&quot;The Gnomes Great Adventure&quot;</td><td>&quot;The Gnomes Great Adventure&quot;</td><td>0</td><td>2023</td><td>null</td><td>74</td><td>&quot;Adventure,Animation,Comedy&quot;</td><td>6.1</td><td>62</td></tr><tr><td>&quot;tt0164115&quot;</td><td>&quot;movie&quot;</td><td>&quot;Nine Ball&quot;</td><td>&quot;Nine Ball&quot;</td><td>0</td><td>2023</td><td>null</td><td>null</td><td>null</td><td>6.0</td><td>35</td></tr><tr><td>&quot;tt0221503&quot;</td><td>&quot;movie&quot;</td><td>&quot;A Question of Suspense&quot;</td><td>&quot;A Question of Suspense&quot;</td><td>0</td><td>2023</td><td>null</td><td>62</td><td>&quot;Crime,Drama&quot;</td><td>5.7</td><td>112</td></tr><tr><td>&quot;tt0347992&quot;</td><td>&quot;movie&quot;</td><td>&quot;Death Ray on Coral Island&quot;</td><td>&quot;Shanhu dao shang de shi guang&quot;</td><td>0</td><td>2023</td><td>null</td><td>null</td><td>&quot;Sci-Fi,Thriller&quot;</td><td>4.8</td><td>26</td></tr></tbody></table></div>"
      ],
      "text/plain": [
       "shape: (5, 11)\n",
       "┌───────────┬───────────┬───────────┬───────────┬───┬───────────┬───────────┬───────────┬──────────┐\n",
       "│ const     ┆ titleType ┆ primaryTi ┆ originalT ┆ … ┆ runtimeMi ┆ genres    ┆ averageRa ┆ numVotes │\n",
       "│ ---       ┆ ---       ┆ tle       ┆ itle      ┆   ┆ nutes     ┆ ---       ┆ ting      ┆ ---      │\n",
       "│ str       ┆ str       ┆ ---       ┆ ---       ┆   ┆ ---       ┆ str       ┆ ---       ┆ i32      │\n",
       "│           ┆           ┆ str       ┆ str       ┆   ┆ i32       ┆           ┆ f32       ┆          │\n",
       "╞═══════════╪═══════════╪═══════════╪═══════════╪═══╪═══════════╪═══════════╪═══════════╪══════════╡\n",
       "│ tt0070596 ┆ movie     ┆ Socialist ┆ El        ┆ … ┆ 78        ┆ Drama     ┆ 7.5       ┆ 52       │\n",
       "│           ┆           ┆ Realism   ┆ realismo  ┆   ┆           ┆           ┆           ┆          │\n",
       "│           ┆           ┆           ┆ socialist ┆   ┆           ┆           ┆           ┆          │\n",
       "│           ┆           ┆           ┆ a         ┆   ┆           ┆           ┆           ┆          │\n",
       "│ tt0122511 ┆ movie     ┆ The       ┆ The       ┆ … ┆ 74        ┆ Adventure ┆ 6.1       ┆ 62       │\n",
       "│           ┆           ┆ Gnomes    ┆ Gnomes    ┆   ┆           ┆ ,Animatio ┆           ┆          │\n",
       "│           ┆           ┆ Great     ┆ Great     ┆   ┆           ┆ n,Comedy  ┆           ┆          │\n",
       "│           ┆           ┆ Adventure ┆ Adventure ┆   ┆           ┆           ┆           ┆          │\n",
       "│ tt0164115 ┆ movie     ┆ Nine Ball ┆ Nine Ball ┆ … ┆ null      ┆ null      ┆ 6.0       ┆ 35       │\n",
       "│ tt0221503 ┆ movie     ┆ A         ┆ A         ┆ … ┆ 62        ┆ Crime,Dra ┆ 5.7       ┆ 112      │\n",
       "│           ┆           ┆ Question  ┆ Question  ┆   ┆           ┆ ma        ┆           ┆          │\n",
       "│           ┆           ┆ of        ┆ of        ┆   ┆           ┆           ┆           ┆          │\n",
       "│           ┆           ┆ Suspense  ┆ Suspense  ┆   ┆           ┆           ┆           ┆          │\n",
       "│ tt0347992 ┆ movie     ┆ Death Ray ┆ Shanhu    ┆ … ┆ null      ┆ Sci-Fi,Th ┆ 4.8       ┆ 26       │\n",
       "│           ┆           ┆ on Coral  ┆ dao shang ┆   ┆           ┆ riller    ┆           ┆          │\n",
       "│           ┆           ┆ Island    ┆ de shi    ┆   ┆           ┆           ┆           ┆          │\n",
       "│           ┆           ┆           ┆ guang     ┆   ┆           ┆           ┆           ┆          │\n",
       "└───────────┴───────────┴───────────┴───────────┴───┴───────────┴───────────┴───────────┴──────────┘"
      ]
     },
     "execution_count": 30,
     "metadata": {},
     "output_type": "execute_result"
    }
   ],
   "source": [
    "movies_2023 = movie_ratings.filter(pl.col('startYear') == 2023)\n",
    "movies_2023.head()"
   ]
  },
  {
   "cell_type": "code",
   "execution_count": 31,
   "metadata": {},
   "outputs": [
    {
     "data": {
      "text/plain": [
       "(10916, 11)"
      ]
     },
     "execution_count": 31,
     "metadata": {},
     "output_type": "execute_result"
    }
   ],
   "source": [
    "movie_ratings = movie_ratings.filter(pl.col(\"numVotes\") > 10000)\n",
    "\n",
    "movie_ratings.shape"
   ]
  },
  {
   "cell_type": "code",
   "execution_count": null,
   "metadata": {},
   "outputs": [],
   "source": [
    "movie_ratings.sort('averageRating', descending=True)\n",
    "\n",
    "movie_ratings.write_parquet('./data/movies_with_ratings.parquet')"
   ]
  }
 ],
 "metadata": {
  "kernelspec": {
   "display_name": "celluloid_env",
   "language": "python",
   "name": "python3"
  },
  "language_info": {
   "codemirror_mode": {
    "name": "ipython",
    "version": 3
   },
   "file_extension": ".py",
   "mimetype": "text/x-python",
   "name": "python",
   "nbconvert_exporter": "python",
   "pygments_lexer": "ipython3",
   "version": "3.11.7"
  }
 },
 "nbformat": 4,
 "nbformat_minor": 2
}
