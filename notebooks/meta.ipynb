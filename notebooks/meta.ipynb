{
 "cells": [
  {
   "cell_type": "code",
   "execution_count": 2,
   "metadata": {},
   "outputs": [],
   "source": [
    "import polars as pl\n",
    "from utils.functions import convert_tsv_to_parquet"
   ]
  },
  {
   "cell_type": "code",
   "execution_count": 3,
   "metadata": {},
   "outputs": [],
   "source": [
    "# meta_movies = convert_tsv_to_parquet(\"../dagster/data/raw_data/csv/metacritic/movieDatasetClean.csv\", \".csv\", \"../dagster/data/raw_data/parquet/meta_movies\")\n",
    "meta_csv = pl.read_csv(\"../dagster/data/raw_data/csv/metacritic/movieDatasetClean.csv\")\n",
    "meta_csv.head()\n",
    "meta_csv.write_parquet(\"../dagster/data/raw_data/parquet/meta.parquet\")"
   ]
  },
  {
   "cell_type": "code",
   "execution_count": 4,
   "metadata": {},
   "outputs": [
    {
     "name": "stdout",
     "output_type": "stream",
     "text": [
      "Rows: 14213\n",
      "Columns: 13\n",
      "$ title       <str> 'Citizen Kane', 'The Godfather', 'Rear Window', 'Casablanca', 'Boyhood', 'Three Colors: Red', 'Vertigo', 'Notorious', \"Singin' in the Rain\", 'City Lights'\n",
      "$ age_rating  <i64> 15, 18, 0, 15, 18, 18, 15, 15, 0, 0\n",
      "$ rating      <str> '8.4', '9.2', '8.8', '8.9', '7.5', '8.6', '8.7', '8.0', '8.7', '8.9'\n",
      "$ rank        <i64> 1, 2, 3, 4, 5, 6, 7, 8, 9, 10\n",
      "$ genre       <str> 'Drama', 'Drama', 'Mystery', 'Drama', 'Drama', 'Drama', 'Mystery', 'Drama', 'Comedy', 'Drama'\n",
      "$ director    <str> 'Orson Welles', 'Francis Ford Coppola', 'Alfred Hitchcock', 'Michael Curtiz', 'Richard Linklater', 'Krzysztof Kieslowski', 'Alfred Hitchcock', 'Alfred Hitchcock', 'Gene Kelly', 'Charles Chaplin'\n",
      "$ year        <i64> 1941, 1972, 1954, 1943, 2014, 1994, 1958, 1946, 1952, 1931\n",
      "$ producer    <str> 'RKO Radio Pictures', 'Paramount Pictures', 'Paramount Pictures', 'Warner Bros.', 'IFC Films', 'Miramax', 'Paramount Pictures', 'RKO Radio Pictures', 'Metro-Goldwyn-Mayer (MGM)', 'United Artists'\n",
      "$ actor       <str> 'Joseph Cotten', 'Al Pacino', 'Frank Cady', 'Humphrey Bogart', 'Bonnie Cross', 'Irène Jacob', 'Barbara Bel Geddes', 'Alexis Minotis', 'Cyd Charisse', 'Charles Chaplin'\n",
      "$ runtime     <i64> 119, 175, 112, 102, 165, 99, 128, 101, 103, 87\n",
      "$ description <str> 'Following the death of a publishing tycoon, news reporters scramble to discover the meaning of his final utterance.', \"Francis Ford Coppola's epic features Marlon Brando in his Oscar-winning role as the patriarch of the Corleone family. Director Coppola paints a chilling portrait of the Sicilian clan's rise and near fall from power in America, masterfully balancing the story between the Corleone's family life and the ugly crime business in which they are engaged. Based on Mario Puzo's best-selling novel and featuring career-making performances by Al Pacino, James Caan and Robert Duvall, this searing and...\", 'A wheelchair-bound photographer spies on his neighbours from his apartment window and becomes convinced one of them has committed murder.', 'A Casablanca, Morocco casino owner in 1941 shelters his former lover and her husband, a Czechoslovakian freedom fighter, from the Nazis.', \"Filmed over 12 years with the same cast, Richard Linklater's Boyhood is a groundbreaking story of growing up as seen through the eyes of a child named Mason (Ellar Coltrane), who literally grows up on screen before our eyes. Starring Ethan Hawke and Patricia Arquette as Mason's parents and newcomer Lorelei Linklater as his sister Samantha, Boyhood charts the rocky terrain of childhood like no other film has before and is both a nostalgic time capsule of the recent past and an ode to growing...\", 'Krzysztof Kieslowski closes his Three Colors trilogy in grand fashion, with an incandescent meditation on fate and chance, starring Irène Jacob as a sweet-souled yet somber runway model in Geneva whose life dramatically intersects with that of a bitter retired judge, played by Jean-Louis Trintignant. Meanwhile, just down the street, a seemingly unrelated story of jealousy and betrayal unfolds. Red is an intimate look at forged connections and a splendid final statement from a remarkable...', 'Vertigo creates a dizzying web of mistaken identity, passion and murder after an acrophobic detective rescues a mysterious blonde from the bay. [Universal Pictures]', 'A woman is asked to spy on a group of Nazi friends in South America. How far will she have to go to ingratiate herself with them?', 'A silent film production company and cast make a difficult transition to sound.', 'The Tramp (Charlie Chaplin) struggles to help a blind flower girl he has fallen in love with.'\n",
      "$ img         <str> 'https://static.metacritic.com/images/products/movies/5/2254d4637c12bedec8b0fc0d3e043054.jpg', 'https://static.metacritic.com/images/products/movies/3/47c2b1f35087fc23c5ce261bbc3ad9e0.jpg', 'https://static.metacritic.com/images/products/movies/9/802815ae41f410d49567fbe639ca2bb8.jpg', 'https://static.metacritic.com/images/products/movies/3/fd5de756378ce4e30563e6a3b0d989ec.jpg', 'https://static.metacritic.com/images/products/movies/6/a3fabd44e29313824adc247a1286571d.jpg', 'https://static.metacritic.com/images/products/movies/7/cb3524a14b6375d42934270defe3aaca.jpg', 'https://static.metacritic.com/images/products/movies/5/c6848f47fbf9db70bfbcba21d48c969f-2400.jpg', 'https://static.metacritic.com/images/products/movies/6/8cadf0ae5f802a9dd798367af49e1637.jpg', 'https://static.metacritic.com/images/products/movies/9/a82c621c24693dd1a9787b508cdf311d.jpg', 'https://static.metacritic.com/images/products/movies/5/c715885f7f4cce709d2d5136a3801beb-98.jpg'\n",
      "$ url         <str> 'https://www.metacritic.com/movie/citizen-kane', 'https://www.metacritic.com/movie/the-godfather', 'https://www.metacritic.com/movie/rear-window', 'https://www.metacritic.com/movie/casablanca', 'https://www.metacritic.com/movie/boyhood', 'https://www.metacritic.com/movie/three-colors-red', 'https://www.metacritic.com/movie/vertigo', 'https://www.metacritic.com/movie/notorious-1946', 'https://www.metacritic.com/movie/singin-in-the-rain', 'https://www.metacritic.com/movie/city-lights'\n",
      "\n"
     ]
    }
   ],
   "source": [
    "meta_parq = pl.read_parquet(\"../dagster/data/raw_data/parquet/meta.parquet\")\n",
    "meta_parq.glimpse()"
   ]
  },
  {
   "cell_type": "code",
   "execution_count": null,
   "metadata": {},
   "outputs": [],
   "source": []
  }
 ],
 "metadata": {
  "kernelspec": {
   "display_name": "dag_nyc",
   "language": "python",
   "name": "python3"
  },
  "language_info": {
   "codemirror_mode": {
    "name": "ipython",
    "version": 3
   },
   "file_extension": ".py",
   "mimetype": "text/x-python",
   "name": "python",
   "nbconvert_exporter": "python",
   "pygments_lexer": "ipython3",
   "version": "3.11.7"
  }
 },
 "nbformat": 4,
 "nbformat_minor": 2
}
