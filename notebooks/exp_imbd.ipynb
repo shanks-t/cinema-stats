{
 "cells": [
  {
   "cell_type": "code",
   "execution_count": 10,
   "metadata": {},
   "outputs": [],
   "source": [
    "import polars as pl\n",
    "import pandas as pd\n",
    "import numpy as np\n",
    "from utils.functions import read_tsv_with_polars"
   ]
  },
  {
   "cell_type": "code",
   "execution_count": 11,
   "metadata": {},
   "outputs": [],
   "source": [
    "ratings_df = read_tsv_with_polars(\"../dagster/data/raw_data/csv/imdb/title.ratings.tsv\", ['const', 'averageRating', 'numVotes'], [pl.Utf8, pl.Float32, pl.Int32])\n"
   ]
  },
  {
   "cell_type": "code",
   "execution_count": 12,
   "metadata": {},
   "outputs": [
    {
     "data": {
      "text/html": [
       "<div><style>\n",
       ".dataframe > thead > tr,\n",
       ".dataframe > tbody > tr {\n",
       "  text-align: right;\n",
       "  white-space: pre-wrap;\n",
       "}\n",
       "</style>\n",
       "<small>shape: (10, 3)</small><table border=\"1\" class=\"dataframe\"><thead><tr><th>const</th><th>averageRating</th><th>numVotes</th></tr><tr><td>str</td><td>f32</td><td>i32</td></tr></thead><tbody><tr><td>&quot;tt0000001&quot;</td><td>5.7</td><td>2014</td></tr><tr><td>&quot;tt0000002&quot;</td><td>5.7</td><td>272</td></tr><tr><td>&quot;tt0000003&quot;</td><td>6.5</td><td>1936</td></tr><tr><td>&quot;tt0000004&quot;</td><td>5.4</td><td>179</td></tr><tr><td>&quot;tt0000005&quot;</td><td>6.2</td><td>2707</td></tr><tr><td>&quot;tt0000006&quot;</td><td>5.0</td><td>184</td></tr><tr><td>&quot;tt0000007&quot;</td><td>5.4</td><td>843</td></tr><tr><td>&quot;tt0000008&quot;</td><td>5.4</td><td>2160</td></tr><tr><td>&quot;tt0000009&quot;</td><td>5.3</td><td>207</td></tr><tr><td>&quot;tt0000010&quot;</td><td>6.8</td><td>7382</td></tr></tbody></table></div>"
      ],
      "text/plain": [
       "shape: (10, 3)\n",
       "┌───────────┬───────────────┬──────────┐\n",
       "│ const     ┆ averageRating ┆ numVotes │\n",
       "│ ---       ┆ ---           ┆ ---      │\n",
       "│ str       ┆ f32           ┆ i32      │\n",
       "╞═══════════╪═══════════════╪══════════╡\n",
       "│ tt0000001 ┆ 5.7           ┆ 2014     │\n",
       "│ tt0000002 ┆ 5.7           ┆ 272      │\n",
       "│ tt0000003 ┆ 6.5           ┆ 1936     │\n",
       "│ tt0000004 ┆ 5.4           ┆ 179      │\n",
       "│ …         ┆ …             ┆ …        │\n",
       "│ tt0000007 ┆ 5.4           ┆ 843      │\n",
       "│ tt0000008 ┆ 5.4           ┆ 2160     │\n",
       "│ tt0000009 ┆ 5.3           ┆ 207      │\n",
       "│ tt0000010 ┆ 6.8           ┆ 7382     │\n",
       "└───────────┴───────────────┴──────────┘"
      ]
     },
     "execution_count": 12,
     "metadata": {},
     "output_type": "execute_result"
    }
   ],
   "source": [
    "ratings_df.head(10)"
   ]
  },
  {
   "cell_type": "code",
   "execution_count": 13,
   "metadata": {},
   "outputs": [],
   "source": [
    "column_names = ['const', 'titleType', 'primaryTitle', 'originalTitle', 'isAdult', \n",
    "                'startYear', 'endYear', 'runtimeMinutes', 'genres']\n",
    "\n",
    "# Define column types\n",
    "# Adjust these based on the actual data in each column\n",
    "column_types = [pl.Utf8, pl.Utf8, pl.Utf8, pl.Utf8, pl.Int32, \n",
    "                pl.Int32, pl.Int32, pl.Int32, pl.Utf8]\n",
    "\n",
    "basics_df = read_tsv_with_polars('../dagster/data/raw_data/csv/imdb/title.basics.tsv', column_names, column_types)"
   ]
  },
  {
   "cell_type": "code",
   "execution_count": 14,
   "metadata": {},
   "outputs": [
    {
     "data": {
      "text/html": [
       "<div><style>\n",
       ".dataframe > thead > tr,\n",
       ".dataframe > tbody > tr {\n",
       "  text-align: right;\n",
       "  white-space: pre-wrap;\n",
       "}\n",
       "</style>\n",
       "<small>shape: (11, 2)</small><table border=\"1\" class=\"dataframe\"><thead><tr><th>titleType</th><th>count</th></tr><tr><td>str</td><td>u32</td></tr></thead><tbody><tr><td>&quot;tvEpisode&quot;</td><td>7982934</td></tr><tr><td>&quot;tvSeries&quot;</td><td>254628</td></tr><tr><td>&quot;tvSpecial&quot;</td><td>45127</td></tr><tr><td>&quot;tvMiniSeries&quot;</td><td>51763</td></tr><tr><td>&quot;short&quot;</td><td>969727</td></tr><tr><td>&quot;movie&quot;</td><td>667364</td></tr><tr><td>&quot;tvShort&quot;</td><td>10143</td></tr><tr><td>&quot;video&quot;</td><td>285553</td></tr><tr><td>&quot;tvPilot&quot;</td><td>1</td></tr><tr><td>&quot;videoGame&quot;</td><td>36964</td></tr><tr><td>&quot;tvMovie&quot;</td><td>143915</td></tr></tbody></table></div>"
      ],
      "text/plain": [
       "shape: (11, 2)\n",
       "┌──────────────┬─────────┐\n",
       "│ titleType    ┆ count   │\n",
       "│ ---          ┆ ---     │\n",
       "│ str          ┆ u32     │\n",
       "╞══════════════╪═════════╡\n",
       "│ tvEpisode    ┆ 7982934 │\n",
       "│ tvSeries     ┆ 254628  │\n",
       "│ tvSpecial    ┆ 45127   │\n",
       "│ tvMiniSeries ┆ 51763   │\n",
       "│ …            ┆ …       │\n",
       "│ video        ┆ 285553  │\n",
       "│ tvPilot      ┆ 1       │\n",
       "│ videoGame    ┆ 36964   │\n",
       "│ tvMovie      ┆ 143915  │\n",
       "└──────────────┴─────────┘"
      ]
     },
     "execution_count": 14,
     "metadata": {},
     "output_type": "execute_result"
    }
   ],
   "source": [
    "basics_df[\"titleType\"].value_counts()"
   ]
  },
  {
   "cell_type": "code",
   "execution_count": 15,
   "metadata": {},
   "outputs": [],
   "source": [
    "filter_condition = basics_df['titleType'] == \"movie\"\n",
    "\n",
    "movies = basics_df.filter(filter_condition)"
   ]
  },
  {
   "cell_type": "code",
   "execution_count": 16,
   "metadata": {},
   "outputs": [
    {
     "name": "stdout",
     "output_type": "stream",
     "text": [
      "(667364, 9)\n"
     ]
    },
    {
     "data": {
      "text/plain": [
       "['const',\n",
       " 'titleType',\n",
       " 'primaryTitle',\n",
       " 'originalTitle',\n",
       " 'isAdult',\n",
       " 'startYear',\n",
       " 'endYear',\n",
       " 'runtimeMinutes',\n",
       " 'genres']"
      ]
     },
     "execution_count": 16,
     "metadata": {},
     "output_type": "execute_result"
    }
   ],
   "source": [
    "print(movies.shape)\n",
    "movies.columns"
   ]
  },
  {
   "cell_type": "code",
   "execution_count": 28,
   "metadata": {},
   "outputs": [
    {
     "name": "stdout",
     "output_type": "stream",
     "text": [
      "(301971, 11)\n",
      "shape: (5, 11)\n",
      "┌───────────┬───────────┬───────────┬───────────┬───┬───────────┬───────────┬───────────┬──────────┐\n",
      "│ const     ┆ titleType ┆ primaryTi ┆ originalT ┆ … ┆ runtimeMi ┆ genre     ┆ averageRa ┆ numVotes │\n",
      "│ ---       ┆ ---       ┆ tle       ┆ itle      ┆   ┆ nutes     ┆ ---       ┆ ting      ┆ ---      │\n",
      "│ str       ┆ str       ┆ ---       ┆ ---       ┆   ┆ ---       ┆ str       ┆ ---       ┆ i32      │\n",
      "│           ┆           ┆ str       ┆ str       ┆   ┆ i32       ┆           ┆ f32       ┆          │\n",
      "╞═══════════╪═══════════╪═══════════╪═══════════╪═══╪═══════════╪═══════════╪═══════════╪══════════╡\n",
      "│ tt0111161 ┆ movie     ┆ The       ┆ The       ┆ … ┆ 142       ┆ Drama     ┆ 9.3       ┆ 2835969  │\n",
      "│           ┆           ┆ Shawshank ┆ Shawshank ┆   ┆           ┆           ┆           ┆          │\n",
      "│           ┆           ┆ Redemptio ┆ Redemptio ┆   ┆           ┆           ┆           ┆          │\n",
      "│           ┆           ┆ n         ┆ n         ┆   ┆           ┆           ┆           ┆          │\n",
      "│ tt0468569 ┆ movie     ┆ The Dark  ┆ The Dark  ┆ … ┆ 152       ┆ Action,Cr ┆ 9.0       ┆ 2817391  │\n",
      "│           ┆           ┆ Knight    ┆ Knight    ┆   ┆           ┆ ime,Drama ┆           ┆          │\n",
      "│ tt1375666 ┆ movie     ┆ Inception ┆ Inception ┆ … ┆ 148       ┆ Action,Ad ┆ 8.8       ┆ 2500739  │\n",
      "│           ┆           ┆           ┆           ┆   ┆           ┆ venture,S ┆           ┆          │\n",
      "│           ┆           ┆           ┆           ┆   ┆           ┆ ci-Fi     ┆           ┆          │\n",
      "│ tt0137523 ┆ movie     ┆ Fight     ┆ Fight     ┆ … ┆ 139       ┆ Drama     ┆ 8.8       ┆ 2271670  │\n",
      "│           ┆           ┆ Club      ┆ Club      ┆   ┆           ┆           ┆           ┆          │\n",
      "│ tt0109830 ┆ movie     ┆ Forrest   ┆ Forrest   ┆ … ┆ 142       ┆ Drama,Rom ┆ 8.8       ┆ 2210564  │\n",
      "│           ┆           ┆ Gump      ┆ Gump      ┆   ┆           ┆ ance      ┆           ┆          │\n",
      "└───────────┴───────────┴───────────┴───────────┴───┴───────────┴───────────┴───────────┴──────────┘\n"
     ]
    }
   ],
   "source": [
    "movie_ratings = movies.join(ratings_df, on=\"const\", how=\"inner\")\n",
    "\n",
    "movie_ratings = movie_ratings.sort(by=\"numVotes\", descending=True)\n",
    "print(movie_ratings.shape)\n",
    "movie_ratings = movie_ratings.rename({\"genres\": \"genre\"})\n",
    "print(movie_ratings.head())\n",
    "# movie_ratings.write_parquet('../dagster/data/raw_data/parquet/imdb.movies.parquet')\n"
   ]
  },
  {
   "cell_type": "code",
   "execution_count": 18,
   "metadata": {},
   "outputs": [
    {
     "data": {
      "text/html": [
       "<div><style>\n",
       ".dataframe > thead > tr,\n",
       ".dataframe > tbody > tr {\n",
       "  text-align: right;\n",
       "  white-space: pre-wrap;\n",
       "}\n",
       "</style>\n",
       "<small>shape: (127, 2)</small><table border=\"1\" class=\"dataframe\"><thead><tr><th>startYear</th><th>count</th></tr><tr><td>i32</td><td>u32</td></tr></thead><tbody><tr><td>2019</td><td>10485</td></tr><tr><td>2018</td><td>10368</td></tr><tr><td>2017</td><td>10293</td></tr><tr><td>2022</td><td>10081</td></tr><tr><td>2016</td><td>9811</td></tr><tr><td>2015</td><td>9423</td></tr><tr><td>2014</td><td>9201</td></tr><tr><td>2021</td><td>8904</td></tr><tr><td>2013</td><td>8573</td></tr><tr><td>2020</td><td>8436</td></tr><tr><td>2023</td><td>8211</td></tr><tr><td>2012</td><td>8203</td></tr><tr><td>&hellip;</td><td>&hellip;</td></tr><tr><td>1908</td><td>13</td></tr><tr><td>1907</td><td>13</td></tr><tr><td>1905</td><td>10</td></tr><tr><td>1906</td><td>8</td></tr><tr><td>1903</td><td>2</td></tr><tr><td>1897</td><td>2</td></tr><tr><td>1899</td><td>2</td></tr><tr><td>1900</td><td>2</td></tr><tr><td>1901</td><td>2</td></tr><tr><td>1904</td><td>1</td></tr><tr><td>1894</td><td>1</td></tr><tr><td>1902</td><td>1</td></tr></tbody></table></div>"
      ],
      "text/plain": [
       "shape: (127, 2)\n",
       "┌───────────┬───────┐\n",
       "│ startYear ┆ count │\n",
       "│ ---       ┆ ---   │\n",
       "│ i32       ┆ u32   │\n",
       "╞═══════════╪═══════╡\n",
       "│ 2019      ┆ 10485 │\n",
       "│ 2018      ┆ 10368 │\n",
       "│ 2017      ┆ 10293 │\n",
       "│ 2022      ┆ 10081 │\n",
       "│ …         ┆ …     │\n",
       "│ 1901      ┆ 2     │\n",
       "│ 1904      ┆ 1     │\n",
       "│ 1894      ┆ 1     │\n",
       "│ 1902      ┆ 1     │\n",
       "└───────────┴───────┘"
      ]
     },
     "execution_count": 18,
     "metadata": {},
     "output_type": "execute_result"
    }
   ],
   "source": [
    "movie_ratings = movie_ratings.filter(movie_ratings['startYear'].is_not_null())\n",
    "movie_ratings['startYear'].value_counts(sort=True)"
   ]
  },
  {
   "cell_type": "code",
   "execution_count": 19,
   "metadata": {},
   "outputs": [
    {
     "data": {
      "text/html": [
       "<div><style>\n",
       ".dataframe > thead > tr,\n",
       ".dataframe > tbody > tr {\n",
       "  text-align: right;\n",
       "  white-space: pre-wrap;\n",
       "}\n",
       "</style>\n",
       "<small>shape: (5, 11)</small><table border=\"1\" class=\"dataframe\"><thead><tr><th>const</th><th>titleType</th><th>primaryTitle</th><th>originalTitle</th><th>isAdult</th><th>startYear</th><th>endYear</th><th>runtimeMinutes</th><th>genres</th><th>averageRating</th><th>numVotes</th></tr><tr><td>str</td><td>str</td><td>str</td><td>str</td><td>i32</td><td>i32</td><td>i32</td><td>i32</td><td>str</td><td>f32</td><td>i32</td></tr></thead><tbody><tr><td>&quot;tt15398776&quot;</td><td>&quot;movie&quot;</td><td>&quot;Oppenheimer&quot;</td><td>&quot;Oppenheimer&quot;</td><td>0</td><td>2023</td><td>null</td><td>180</td><td>&quot;Biography,Drama,History&quot;</td><td>8.4</td><td>568407</td></tr><tr><td>&quot;tt1517268&quot;</td><td>&quot;movie&quot;</td><td>&quot;Barbie&quot;</td><td>&quot;Barbie&quot;</td><td>0</td><td>2023</td><td>null</td><td>114</td><td>&quot;Adventure,Comedy,Fantasy&quot;</td><td>6.9</td><td>434968</td></tr><tr><td>&quot;tt6791350&quot;</td><td>&quot;movie&quot;</td><td>&quot;Guardians of the Galaxy Vol. 3&quot;</td><td>&quot;Guardians of the Galaxy Vol. 3&quot;</td><td>0</td><td>2023</td><td>null</td><td>150</td><td>&quot;Action,Adventure,Comedy&quot;</td><td>7.9</td><td>355855</td></tr><tr><td>&quot;tt9362722&quot;</td><td>&quot;movie&quot;</td><td>&quot;Spider-Man: Across the Spider-Verse&quot;</td><td>&quot;Spider-Man: Across the Spider-Verse&quot;</td><td>0</td><td>2023</td><td>null</td><td>140</td><td>&quot;Action,Adventure,Animation&quot;</td><td>8.6</td><td>320793</td></tr><tr><td>&quot;tt10366206&quot;</td><td>&quot;movie&quot;</td><td>&quot;John Wick: Chapter 4&quot;</td><td>&quot;John Wick: Chapter 4&quot;</td><td>0</td><td>2023</td><td>null</td><td>169</td><td>&quot;Action,Crime,Thriller&quot;</td><td>7.7</td><td>311134</td></tr></tbody></table></div>"
      ],
      "text/plain": [
       "shape: (5, 11)\n",
       "┌───────────┬───────────┬───────────┬───────────┬───┬───────────┬───────────┬───────────┬──────────┐\n",
       "│ const     ┆ titleType ┆ primaryTi ┆ originalT ┆ … ┆ runtimeMi ┆ genres    ┆ averageRa ┆ numVotes │\n",
       "│ ---       ┆ ---       ┆ tle       ┆ itle      ┆   ┆ nutes     ┆ ---       ┆ ting      ┆ ---      │\n",
       "│ str       ┆ str       ┆ ---       ┆ ---       ┆   ┆ ---       ┆ str       ┆ ---       ┆ i32      │\n",
       "│           ┆           ┆ str       ┆ str       ┆   ┆ i32       ┆           ┆ f32       ┆          │\n",
       "╞═══════════╪═══════════╪═══════════╪═══════════╪═══╪═══════════╪═══════════╪═══════════╪══════════╡\n",
       "│ tt1539877 ┆ movie     ┆ Oppenheim ┆ Oppenheim ┆ … ┆ 180       ┆ Biography ┆ 8.4       ┆ 568407   │\n",
       "│ 6         ┆           ┆ er        ┆ er        ┆   ┆           ┆ ,Drama,Hi ┆           ┆          │\n",
       "│           ┆           ┆           ┆           ┆   ┆           ┆ story     ┆           ┆          │\n",
       "│ tt1517268 ┆ movie     ┆ Barbie    ┆ Barbie    ┆ … ┆ 114       ┆ Adventure ┆ 6.9       ┆ 434968   │\n",
       "│           ┆           ┆           ┆           ┆   ┆           ┆ ,Comedy,F ┆           ┆          │\n",
       "│           ┆           ┆           ┆           ┆   ┆           ┆ antasy    ┆           ┆          │\n",
       "│ tt6791350 ┆ movie     ┆ Guardians ┆ Guardians ┆ … ┆ 150       ┆ Action,Ad ┆ 7.9       ┆ 355855   │\n",
       "│           ┆           ┆ of the    ┆ of the    ┆   ┆           ┆ venture,C ┆           ┆          │\n",
       "│           ┆           ┆ Galaxy    ┆ Galaxy    ┆   ┆           ┆ omedy     ┆           ┆          │\n",
       "│           ┆           ┆ Vol. 3    ┆ Vol. 3    ┆   ┆           ┆           ┆           ┆          │\n",
       "│ tt9362722 ┆ movie     ┆ Spider-Ma ┆ Spider-Ma ┆ … ┆ 140       ┆ Action,Ad ┆ 8.6       ┆ 320793   │\n",
       "│           ┆           ┆ n: Across ┆ n: Across ┆   ┆           ┆ venture,A ┆           ┆          │\n",
       "│           ┆           ┆ the Spide ┆ the Spide ┆   ┆           ┆ nimation  ┆           ┆          │\n",
       "│           ┆           ┆ r-Verse   ┆ r-Verse   ┆   ┆           ┆           ┆           ┆          │\n",
       "│ tt1036620 ┆ movie     ┆ John      ┆ John      ┆ … ┆ 169       ┆ Action,Cr ┆ 7.7       ┆ 311134   │\n",
       "│ 6         ┆           ┆ Wick:     ┆ Wick:     ┆   ┆           ┆ ime,Thril ┆           ┆          │\n",
       "│           ┆           ┆ Chapter 4 ┆ Chapter 4 ┆   ┆           ┆ ler       ┆           ┆          │\n",
       "└───────────┴───────────┴───────────┴───────────┴───┴───────────┴───────────┴───────────┴──────────┘"
      ]
     },
     "execution_count": 19,
     "metadata": {},
     "output_type": "execute_result"
    }
   ],
   "source": [
    "movies_2023 = movie_ratings.filter(pl.col('startYear') == 2023)\n",
    "movies_2023.head()"
   ]
  },
  {
   "cell_type": "code",
   "execution_count": 20,
   "metadata": {},
   "outputs": [
    {
     "data": {
      "text/plain": [
       "(10916, 11)"
      ]
     },
     "execution_count": 20,
     "metadata": {},
     "output_type": "execute_result"
    }
   ],
   "source": [
    "movie_ratings = movie_ratings.filter(pl.col(\"numVotes\") > 10000)\n",
    "\n",
    "movie_ratings.shape"
   ]
  },
  {
   "cell_type": "code",
   "execution_count": 21,
   "metadata": {},
   "outputs": [],
   "source": [
    "movie_ratings.sort('averageRating', descending=True)\n",
    "\n",
    "movie_ratings.write_parquet('../dagster/data/raw_data/parquet/imdb.movies.parquet')"
   ]
  }
 ],
 "metadata": {
  "kernelspec": {
   "display_name": "celluloid_env",
   "language": "python",
   "name": "python3"
  },
  "language_info": {
   "codemirror_mode": {
    "name": "ipython",
    "version": 3
   },
   "file_extension": ".py",
   "mimetype": "text/x-python",
   "name": "python",
   "nbconvert_exporter": "python",
   "pygments_lexer": "ipython3",
   "version": "3.11.7"
  }
 },
 "nbformat": 4,
 "nbformat_minor": 2
}
