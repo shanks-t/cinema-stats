{
 "cells": [
  {
   "cell_type": "code",
   "execution_count": 76,
   "metadata": {},
   "outputs": [],
   "source": [
    "import polars as pl\n",
    "import pandas as pd\n",
    "import numpy as np\n",
    "import os\n",
    "import pyarrow.parquet as pq"
   ]
  },
  {
   "cell_type": "code",
   "execution_count": 77,
   "metadata": {},
   "outputs": [],
   "source": [
    "def convert_tsv_to_parquet(tsv_file_path, parquet_dir):\n",
    "    \"\"\"\n",
    "    Converts a TSV file to a Parquet file\n",
    "    \"\"\"\n",
    "\n",
    "    parquet_file_name = os.path.basename(tsv_file_path).replace('.csv', '.parquet')\n",
    "    parquet_file_path = os.path.join(parquet_dir, parquet_file_name)\n",
    "\n",
    "    df = pl.read_csv(tsv_file_path, separator=',', has_header=True, ignore_errors=True)\n",
    "    df.write_parquet(parquet_file_path)\n",
    "\n",
    "    return parquet_file_path"
   ]
  },
  {
   "cell_type": "code",
   "execution_count": 78,
   "metadata": {},
   "outputs": [],
   "source": [
    "path = convert_tsv_to_parquet(\"../pipeline/data/raw_data/tsv/archive/rotten_tomatoes_movies.csv\", \"../pipeline/data/raw_data/parquet/\")"
   ]
  },
  {
   "cell_type": "code",
   "execution_count": 79,
   "metadata": {},
   "outputs": [],
   "source": [
    "df = pl.read_parquet(path).drop_nulls()"
   ]
  },
  {
   "cell_type": "code",
   "execution_count": 80,
   "metadata": {},
   "outputs": [
    {
     "data": {
      "text/plain": [
       "['id',\n",
       " 'title',\n",
       " 'audienceScore',\n",
       " 'tomatoMeter',\n",
       " 'rating',\n",
       " 'ratingContents',\n",
       " 'releaseDateTheaters',\n",
       " 'releaseDateStreaming',\n",
       " 'runtimeMinutes',\n",
       " 'genre',\n",
       " 'originalLanguage',\n",
       " 'director',\n",
       " 'writer',\n",
       " 'boxOffice',\n",
       " 'distributor',\n",
       " 'soundMix']"
      ]
     },
     "execution_count": 80,
     "metadata": {},
     "output_type": "execute_result"
    }
   ],
   "source": [
    "df.columns"
   ]
  },
  {
   "cell_type": "code",
   "execution_count": 81,
   "metadata": {},
   "outputs": [
    {
     "data": {
      "text/html": [
       "<div><style>\n",
       ".dataframe > thead > tr,\n",
       ".dataframe > tbody > tr {\n",
       "  text-align: right;\n",
       "  white-space: pre-wrap;\n",
       "}\n",
       "</style>\n",
       "<small>shape: (5, 16)</small><table border=\"1\" class=\"dataframe\"><thead><tr><th>id</th><th>title</th><th>audienceScore</th><th>tomatoMeter</th><th>rating</th><th>ratingContents</th><th>releaseDateTheaters</th><th>releaseDateStreaming</th><th>runtimeMinutes</th><th>genre</th><th>originalLanguage</th><th>director</th><th>writer</th><th>boxOffice</th><th>distributor</th><th>soundMix</th></tr><tr><td>str</td><td>str</td><td>i64</td><td>i64</td><td>str</td><td>str</td><td>str</td><td>str</td><td>i64</td><td>str</td><td>str</td><td>str</td><td>str</td><td>str</td><td>str</td><td>str</td></tr></thead><tbody><tr><td>&quot;monsoon_weddin…</td><td>&quot;Monsoon Weddin…</td><td>87</td><td>95</td><td>&quot;R&quot;</td><td>&quot;[&#x27;Some Sex Rel…</td><td>&quot;2002-02-22&quot;</td><td>&quot;2002-09-24&quot;</td><td>100</td><td>&quot;Comedy, Drama&quot;</td><td>&quot;English&quot;</td><td>&quot;Mira Nair&quot;</td><td>&quot;Sabrina Dhawan…</td><td>&quot;$13.9M&quot;</td><td>&quot;USA Films&quot;</td><td>&quot;Dolby Stereo, …</td></tr><tr><td>&quot;robin_hood_201…</td><td>&quot;Robin Hood&quot;</td><td>40</td><td>15</td><td>&quot;PG-13&quot;</td><td>&quot;[&#x27;Extended Seq…</td><td>&quot;2018-11-21&quot;</td><td>&quot;2019-02-19&quot;</td><td>118</td><td>&quot;Action, Advent…</td><td>&quot;English&quot;</td><td>&quot;Otto Bathurst&quot;</td><td>&quot;Ben Chandler,D…</td><td>&quot;$30.8M&quot;</td><td>&quot;Lionsgate Film…</td><td>&quot;Dolby Atmos&quot;</td></tr><tr><td>&quot;my_giant&quot;</td><td>&quot;My Giant&quot;</td><td>25</td><td>21</td><td>&quot;PG&quot;</td><td>&quot;[&#x27;Violence&#x27;, &#x27;…</td><td>&quot;1998-04-10&quot;</td><td>&quot;1998-09-29&quot;</td><td>103</td><td>&quot;Comedy, Drama&quot;</td><td>&quot;English&quot;</td><td>&quot;Michael Lehman…</td><td>&quot;Billy Crystal,…</td><td>&quot;$8.0M&quot;</td><td>&quot;Columbia Pictu…</td><td>&quot;SDDS, Dolby SR…</td></tr><tr><td>&quot;west_side_stor…</td><td>&quot;West Side Stor…</td><td>93</td><td>91</td><td>&quot;PG-13&quot;</td><td>&quot;[&#x27;Some Strong …</td><td>&quot;2021-12-10&quot;</td><td>&quot;2022-03-02&quot;</td><td>156</td><td>&quot;Musical, Roman…</td><td>&quot;English&quot;</td><td>&quot;Steven Spielbe…</td><td>&quot;Tony Kushner&quot;</td><td>&quot;$38.5M&quot;</td><td>&quot;20th Century S…</td><td>&quot;Dolby Digital,…</td></tr><tr><td>&quot;youth_2015&quot;</td><td>&quot;Youth&quot;</td><td>69</td><td>71</td><td>&quot;R&quot;</td><td>&quot;[&#x27;Language&#x27;, &#x27;…</td><td>&quot;2015-12-04&quot;</td><td>&quot;2016-03-01&quot;</td><td>118</td><td>&quot;Drama&quot;</td><td>&quot;English&quot;</td><td>&quot;Paolo Sorrenti…</td><td>&quot;Paolo Sorrenti…</td><td>&quot;$2.7M&quot;</td><td>&quot;Fox Searchligh…</td><td>&quot;Dolby Atmos&quot;</td></tr></tbody></table></div>"
      ],
      "text/plain": [
       "shape: (5, 16)\n",
       "┌───────────┬───────────┬───────────┬───────────┬───┬───────────┬───────────┬───────────┬──────────┐\n",
       "│ id        ┆ title     ┆ audienceS ┆ tomatoMet ┆ … ┆ writer    ┆ boxOffice ┆ distribut ┆ soundMix │\n",
       "│ ---       ┆ ---       ┆ core      ┆ er        ┆   ┆ ---       ┆ ---       ┆ or        ┆ ---      │\n",
       "│ str       ┆ str       ┆ ---       ┆ ---       ┆   ┆ str       ┆ str       ┆ ---       ┆ str      │\n",
       "│           ┆           ┆ i64       ┆ i64       ┆   ┆           ┆           ┆ str       ┆          │\n",
       "╞═══════════╪═══════════╪═══════════╪═══════════╪═══╪═══════════╪═══════════╪═══════════╪══════════╡\n",
       "│ monsoon_w ┆ Monsoon   ┆ 87        ┆ 95        ┆ … ┆ Sabrina   ┆ $13.9M    ┆ USA Films ┆ Dolby    │\n",
       "│ edding    ┆ Wedding   ┆           ┆           ┆   ┆ Dhawan    ┆           ┆           ┆ Stereo,  │\n",
       "│           ┆           ┆           ┆           ┆   ┆           ┆           ┆           ┆ Dolby    │\n",
       "│           ┆           ┆           ┆           ┆   ┆           ┆           ┆           ┆ Digital, │\n",
       "│           ┆           ┆           ┆           ┆   ┆           ┆           ┆           ┆ Dol…     │\n",
       "│ robin_hoo ┆ Robin     ┆ 40        ┆ 15        ┆ … ┆ Ben Chand ┆ $30.8M    ┆ Lionsgate ┆ Dolby    │\n",
       "│ d_2018    ┆ Hood      ┆           ┆           ┆   ┆ ler,David ┆           ┆ Films     ┆ Atmos    │\n",
       "│           ┆           ┆           ┆           ┆   ┆ James     ┆           ┆           ┆          │\n",
       "│           ┆           ┆           ┆           ┆   ┆ Kelly     ┆           ┆           ┆          │\n",
       "│ my_giant  ┆ My Giant  ┆ 25        ┆ 21        ┆ … ┆ Billy Cry ┆ $8.0M     ┆ Columbia  ┆ SDDS,    │\n",
       "│           ┆           ┆           ┆           ┆   ┆ stal,Davi ┆           ┆ Pictures  ┆ Dolby    │\n",
       "│           ┆           ┆           ┆           ┆   ┆ d Seltzer ┆           ┆           ┆ SR,      │\n",
       "│           ┆           ┆           ┆           ┆   ┆ ,Davi…    ┆           ┆           ┆ Dolby    │\n",
       "│           ┆           ┆           ┆           ┆   ┆           ┆           ┆           ┆ Digital, │\n",
       "│           ┆           ┆           ┆           ┆   ┆           ┆           ┆           ┆ S…       │\n",
       "│ west_side ┆ West Side ┆ 93        ┆ 91        ┆ … ┆ Tony      ┆ $38.5M    ┆ 20th      ┆ Dolby    │\n",
       "│ _story_20 ┆ Story     ┆           ┆           ┆   ┆ Kushner   ┆           ┆ Century   ┆ Digital, │\n",
       "│ 21        ┆           ┆           ┆           ┆   ┆           ┆           ┆ Studios   ┆ Dolby    │\n",
       "│           ┆           ┆           ┆           ┆   ┆           ┆           ┆           ┆ Atmos    │\n",
       "│ youth_201 ┆ Youth     ┆ 69        ┆ 71        ┆ … ┆ Paolo Sor ┆ $2.7M     ┆ Fox Searc ┆ Dolby    │\n",
       "│ 5         ┆           ┆           ┆           ┆   ┆ rentino   ┆           ┆ hlight    ┆ Atmos    │\n",
       "└───────────┴───────────┴───────────┴───────────┴───┴───────────┴───────────┴───────────┴──────────┘"
      ]
     },
     "execution_count": 81,
     "metadata": {},
     "output_type": "execute_result"
    }
   ],
   "source": [
    "df.head()"
   ]
  },
  {
   "cell_type": "code",
   "execution_count": 82,
   "metadata": {},
   "outputs": [
    {
     "ename": "ComputeError",
     "evalue": "invalid utf-8 sequence",
     "output_type": "error",
     "traceback": [
      "\u001b[0;31m---------------------------------------------------------------------------\u001b[0m",
      "\u001b[0;31mComputeError\u001b[0m                              Traceback (most recent call last)",
      "Cell \u001b[0;32mIn[82], line 1\u001b[0m\n\u001b[0;32m----> 1\u001b[0m imdb \u001b[38;5;241m=\u001b[39m \u001b[43mpl\u001b[49m\u001b[38;5;241;43m.\u001b[39;49m\u001b[43mread_parquet\u001b[49m\u001b[43m(\u001b[49m\u001b[38;5;124;43m\"\u001b[39;49m\u001b[38;5;124;43m../pipeline/data/raw_data/parquet/title.basics.parquet\u001b[39;49m\u001b[38;5;124;43m\"\u001b[39;49m\u001b[43m)\u001b[49m\n",
      "File \u001b[0;32m/opt/homebrew/Caskroom/miniconda/base/envs/dag_nyc/lib/python3.11/site-packages/polars/io/parquet/functions.py:183\u001b[0m, in \u001b[0;36mread_parquet\u001b[0;34m(source, columns, n_rows, row_count_name, row_count_offset, parallel, use_statistics, hive_partitioning, rechunk, low_memory, storage_options, retries, use_pyarrow, pyarrow_options, memory_map)\u001b[0m\n\u001b[1;32m    180\u001b[0m         columns \u001b[38;5;241m=\u001b[39m [lf\u001b[38;5;241m.\u001b[39mcolumns[i] \u001b[38;5;28;01mfor\u001b[39;00m i \u001b[38;5;129;01min\u001b[39;00m columns]\n\u001b[1;32m    181\u001b[0m     lf \u001b[38;5;241m=\u001b[39m lf\u001b[38;5;241m.\u001b[39mselect(columns)\n\u001b[0;32m--> 183\u001b[0m \u001b[38;5;28;01mreturn\u001b[39;00m \u001b[43mlf\u001b[49m\u001b[38;5;241;43m.\u001b[39;49m\u001b[43mcollect\u001b[49m\u001b[43m(\u001b[49m\u001b[43mno_optimization\u001b[49m\u001b[38;5;241;43m=\u001b[39;49m\u001b[38;5;28;43;01mTrue\u001b[39;49;00m\u001b[43m)\u001b[49m\n",
      "File \u001b[0;32m/opt/homebrew/Caskroom/miniconda/base/envs/dag_nyc/lib/python3.11/site-packages/polars/lazyframe/frame.py:1706\u001b[0m, in \u001b[0;36mLazyFrame.collect\u001b[0;34m(self, type_coercion, predicate_pushdown, projection_pushdown, simplify_expression, slice_pushdown, comm_subplan_elim, comm_subexpr_elim, no_optimization, streaming, _eager)\u001b[0m\n\u001b[1;32m   1693\u001b[0m     comm_subplan_elim \u001b[38;5;241m=\u001b[39m \u001b[38;5;28;01mFalse\u001b[39;00m\n\u001b[1;32m   1695\u001b[0m ldf \u001b[38;5;241m=\u001b[39m \u001b[38;5;28mself\u001b[39m\u001b[38;5;241m.\u001b[39m_ldf\u001b[38;5;241m.\u001b[39moptimization_toggle(\n\u001b[1;32m   1696\u001b[0m     type_coercion,\n\u001b[1;32m   1697\u001b[0m     predicate_pushdown,\n\u001b[0;32m   (...)\u001b[0m\n\u001b[1;32m   1704\u001b[0m     _eager,\n\u001b[1;32m   1705\u001b[0m )\n\u001b[0;32m-> 1706\u001b[0m \u001b[38;5;28;01mreturn\u001b[39;00m wrap_df(ldf\u001b[38;5;241m.\u001b[39mcollect())\n",
      "\u001b[0;31mComputeError\u001b[0m: invalid utf-8 sequence"
     ]
    }
   ],
   "source": [
    "imdb = pq.read_table(\"../pipeline/data/raw_data/parquet/title.basics.parquet\")"
   ]
  },
  {
   "cell_type": "code",
   "execution_count": null,
   "metadata": {},
   "outputs": [],
   "source": [
    "imdb.head()"
   ]
  }
 ],
 "metadata": {
  "kernelspec": {
   "display_name": "dag_nyc",
   "language": "python",
   "name": "python3"
  },
  "language_info": {
   "codemirror_mode": {
    "name": "ipython",
    "version": 3
   },
   "file_extension": ".py",
   "mimetype": "text/x-python",
   "name": "python",
   "nbconvert_exporter": "python",
   "pygments_lexer": "ipython3",
   "version": "3.11.7"
  }
 },
 "nbformat": 4,
 "nbformat_minor": 2
}
