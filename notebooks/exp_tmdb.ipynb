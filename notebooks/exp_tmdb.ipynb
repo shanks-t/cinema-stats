{
 "cells": [
  {
   "cell_type": "code",
   "execution_count": 188,
   "metadata": {},
   "outputs": [],
   "source": [
    "import polars as pl\n",
    "import pandas as pd\n",
    "import numpy as np\n",
    "import os\n",
    "import pyarrow.parquet as pq"
   ]
  },
  {
   "cell_type": "code",
   "execution_count": 189,
   "metadata": {},
   "outputs": [],
   "source": [
    "df = pl.read_csv(\"../pipeline/data/raw_data/csv/tmdb/tmdb_movies.csv\")"
   ]
  },
  {
   "cell_type": "code",
   "execution_count": 190,
   "metadata": {},
   "outputs": [
    {
     "name": "stdout",
     "output_type": "stream",
     "text": [
      "(882145, 18)\n"
     ]
    },
    {
     "data": {
      "text/plain": [
       "882145"
      ]
     },
     "execution_count": 190,
     "metadata": {},
     "output_type": "execute_result"
    }
   ],
   "source": [
    "print(df.shape)\n",
    "df.n_unique()"
   ]
  },
  {
   "cell_type": "code",
   "execution_count": 191,
   "metadata": {},
   "outputs": [
    {
     "name": "stdout",
     "output_type": "stream",
     "text": [
      "['ID', 'Title', 'OriginalTitle', 'OriginalLanguage', 'ReleaseDate', 'PosterPath', 'Overview', 'Popularity', 'VoteAverage', 'VoteCount', 'Genres', 'Budget', 'ImdbID', 'Revenue', 'Runtime', 'Status', 'ProductionCompanies', 'ProductionCountries']\n"
     ]
    },
    {
     "data": {
      "text/html": [
       "<div><style>\n",
       ".dataframe > thead > tr,\n",
       ".dataframe > tbody > tr {\n",
       "  text-align: right;\n",
       "  white-space: pre-wrap;\n",
       "}\n",
       "</style>\n",
       "<small>shape: (5, 18)</small><table border=\"1\" class=\"dataframe\"><thead><tr><th>ID</th><th>Title</th><th>OriginalTitle</th><th>OriginalLanguage</th><th>ReleaseDate</th><th>PosterPath</th><th>Overview</th><th>Popularity</th><th>VoteAverage</th><th>VoteCount</th><th>Genres</th><th>Budget</th><th>ImdbID</th><th>Revenue</th><th>Runtime</th><th>Status</th><th>ProductionCompanies</th><th>ProductionCountries</th></tr><tr><td>i64</td><td>str</td><td>str</td><td>str</td><td>str</td><td>str</td><td>str</td><td>f64</td><td>f64</td><td>i64</td><td>str</td><td>i64</td><td>str</td><td>i64</td><td>i64</td><td>str</td><td>str</td><td>str</td></tr></thead><tbody><tr><td>25449</td><td>&quot;New World Diso…</td><td>&quot;New World Diso…</td><td>&quot;en&quot;</td><td>&quot;2008-12-08&quot;</td><td>&quot;/itQjoIO2e3pad…</td><td>&quot;Gee Atherton r…</td><td>1.24</td><td>6.0</td><td>3</td><td>null</td><td>0</td><td>null</td><td>0</td><td>69</td><td>&quot;Released&quot;</td><td>null</td><td>null</td></tr><tr><td>6124</td><td>&quot;Peter Voss, Th…</td><td>&quot;Der Mann ohne …</td><td>&quot;de&quot;</td><td>&quot;1921-01-01&quot;</td><td>&quot;/6xUbUCvndklbG…</td><td>null</td><td>0.961</td><td>0.0</td><td>0</td><td>&quot;Adventure&quot;</td><td>0</td><td>null</td><td>0</td><td>420</td><td>&quot;Released&quot;</td><td>null</td><td>&quot;Germany&quot;</td></tr><tr><td>8773</td><td>&quot;Love at Twenty…</td><td>&quot;L&#x27;Amour à ving…</td><td>&quot;fr&quot;</td><td>&quot;1962-06-22&quot;</td><td>&quot;/aup2QCYCsyEeQ…</td><td>&quot;Love at Twenty…</td><td>5.527</td><td>6.652</td><td>46</td><td>&quot;Drama; Romance…</td><td>0</td><td>&quot;tt0055747&quot;</td><td>0</td><td>120</td><td>&quot;Released&quot;</td><td>&quot;Ulysse Product…</td><td>&quot;Germany; Franc…</td></tr><tr><td>3924</td><td>&quot;Blondie&quot;</td><td>&quot;Blondie&quot;</td><td>&quot;en&quot;</td><td>&quot;1938-11-30&quot;</td><td>&quot;/zBiHKhXklvTFw…</td><td>&quot;Blondie and Da…</td><td>1.864</td><td>7.063</td><td>8</td><td>&quot;Comedy; Family…</td><td>0</td><td>&quot;tt0029927&quot;</td><td>0</td><td>70</td><td>&quot;Released&quot;</td><td>&quot;Columbia Pictu…</td><td>&quot;United States …</td></tr><tr><td>19</td><td>&quot;Metropolis&quot;</td><td>&quot;Metropolis&quot;</td><td>&quot;de&quot;</td><td>&quot;1927-02-06&quot;</td><td>&quot;/pxbGZewX327Ib…</td><td>&quot;In a futuristi…</td><td>20.981</td><td>8.143</td><td>2504</td><td>&quot;Drama; Science…</td><td>1300000</td><td>&quot;tt0017136&quot;</td><td>650422</td><td>149</td><td>&quot;Released&quot;</td><td>&quot;UFA&quot;</td><td>&quot;Germany&quot;</td></tr></tbody></table></div>"
      ],
      "text/plain": [
       "shape: (5, 18)\n",
       "┌───────┬─────────────┬────────────┬────────────┬───┬─────────┬──────────┬────────────┬────────────┐\n",
       "│ ID    ┆ Title       ┆ OriginalTi ┆ OriginalLa ┆ … ┆ Runtime ┆ Status   ┆ Production ┆ Production │\n",
       "│ ---   ┆ ---         ┆ tle        ┆ nguage     ┆   ┆ ---     ┆ ---      ┆ Companies  ┆ Countries  │\n",
       "│ i64   ┆ str         ┆ ---        ┆ ---        ┆   ┆ i64     ┆ str      ┆ ---        ┆ ---        │\n",
       "│       ┆             ┆ str        ┆ str        ┆   ┆         ┆          ┆ str        ┆ str        │\n",
       "╞═══════╪═════════════╪════════════╪════════════╪═══╪═════════╪══════════╪════════════╪════════════╡\n",
       "│ 25449 ┆ New World   ┆ New World  ┆ en         ┆ … ┆ 69      ┆ Released ┆ null       ┆ null       │\n",
       "│       ┆ Disorder 9: ┆ Disorder   ┆            ┆   ┆         ┆          ┆            ┆            │\n",
       "│       ┆ Never Enou… ┆ 9: Never   ┆            ┆   ┆         ┆          ┆            ┆            │\n",
       "│       ┆             ┆ Enou…      ┆            ┆   ┆         ┆          ┆            ┆            │\n",
       "│ 6124  ┆ Peter Voss, ┆ Der Mann   ┆ de         ┆ … ┆ 420     ┆ Released ┆ null       ┆ Germany    │\n",
       "│       ┆ Thief of    ┆ ohne Namen ┆            ┆   ┆         ┆          ┆            ┆            │\n",
       "│       ┆ Millions    ┆            ┆            ┆   ┆         ┆          ┆            ┆            │\n",
       "│ 8773  ┆ Love at     ┆ L'Amour à  ┆ fr         ┆ … ┆ 120     ┆ Released ┆ Ulysse Pro ┆ Germany;   │\n",
       "│       ┆ Twenty      ┆ vingt ans  ┆            ┆   ┆         ┆          ┆ ductions;  ┆ France;    │\n",
       "│       ┆             ┆            ┆            ┆   ┆         ┆          ┆ Unitec     ┆ Italy;     │\n",
       "│       ┆             ┆            ┆            ┆   ┆         ┆          ┆ Films…     ┆ Japan; P…  │\n",
       "│ 3924  ┆ Blondie     ┆ Blondie    ┆ en         ┆ … ┆ 70      ┆ Released ┆ Columbia   ┆ United     │\n",
       "│       ┆             ┆            ┆            ┆   ┆         ┆          ┆ Pictures   ┆ States of  │\n",
       "│       ┆             ┆            ┆            ┆   ┆         ┆          ┆            ┆ America    │\n",
       "│ 19    ┆ Metropolis  ┆ Metropolis ┆ de         ┆ … ┆ 149     ┆ Released ┆ UFA        ┆ Germany    │\n",
       "└───────┴─────────────┴────────────┴────────────┴───┴─────────┴──────────┴────────────┴────────────┘"
      ]
     },
     "execution_count": 191,
     "metadata": {},
     "output_type": "execute_result"
    }
   ],
   "source": [
    "print(df.columns)\n",
    "df.head()"
   ]
  },
  {
   "cell_type": "code",
   "execution_count": 193,
   "metadata": {},
   "outputs": [],
   "source": [
    "genres_df = pl.read_csv(\"../pipeline/data/raw_data/csv/tmdb/tmdb_genres.csv\")"
   ]
  },
  {
   "cell_type": "code",
   "execution_count": 194,
   "metadata": {},
   "outputs": [
    {
     "data": {
      "text/html": [
       "<div><style>\n",
       ".dataframe > thead > tr,\n",
       ".dataframe > tbody > tr {\n",
       "  text-align: right;\n",
       "  white-space: pre-wrap;\n",
       "}\n",
       "</style>\n",
       "<small>shape: (19, 2)</small><table border=\"1\" class=\"dataframe\"><thead><tr><th>ID</th><th>Name</th></tr><tr><td>i64</td><td>str</td></tr></thead><tbody><tr><td>28</td><td>&quot;Action&quot;</td></tr><tr><td>12</td><td>&quot;Adventure&quot;</td></tr><tr><td>16</td><td>&quot;Animation&quot;</td></tr><tr><td>35</td><td>&quot;Comedy&quot;</td></tr><tr><td>80</td><td>&quot;Crime&quot;</td></tr><tr><td>99</td><td>&quot;Documentary&quot;</td></tr><tr><td>18</td><td>&quot;Drama&quot;</td></tr><tr><td>10751</td><td>&quot;Family&quot;</td></tr><tr><td>14</td><td>&quot;Fantasy&quot;</td></tr><tr><td>36</td><td>&quot;History&quot;</td></tr><tr><td>27</td><td>&quot;Horror&quot;</td></tr><tr><td>10402</td><td>&quot;Music&quot;</td></tr><tr><td>9648</td><td>&quot;Mystery&quot;</td></tr><tr><td>10749</td><td>&quot;Romance&quot;</td></tr><tr><td>878</td><td>&quot;Science Fictio…</td></tr><tr><td>10770</td><td>&quot;TV Movie&quot;</td></tr><tr><td>53</td><td>&quot;Thriller&quot;</td></tr><tr><td>10752</td><td>&quot;War&quot;</td></tr><tr><td>37</td><td>&quot;Western&quot;</td></tr></tbody></table></div>"
      ],
      "text/plain": [
       "shape: (19, 2)\n",
       "┌───────┬───────────┐\n",
       "│ ID    ┆ Name      │\n",
       "│ ---   ┆ ---       │\n",
       "│ i64   ┆ str       │\n",
       "╞═══════╪═══════════╡\n",
       "│ 28    ┆ Action    │\n",
       "│ 12    ┆ Adventure │\n",
       "│ 16    ┆ Animation │\n",
       "│ 35    ┆ Comedy    │\n",
       "│ …     ┆ …         │\n",
       "│ 10770 ┆ TV Movie  │\n",
       "│ 53    ┆ Thriller  │\n",
       "│ 10752 ┆ War       │\n",
       "│ 37    ┆ Western   │\n",
       "└───────┴───────────┘"
      ]
     },
     "execution_count": 194,
     "metadata": {},
     "output_type": "execute_result"
    }
   ],
   "source": [
    "genres_df.head(19)"
   ]
  }
 ],
 "metadata": {
  "kernelspec": {
   "display_name": "dag_nyc",
   "language": "python",
   "name": "python3"
  },
  "language_info": {
   "codemirror_mode": {
    "name": "ipython",
    "version": 3
   },
   "file_extension": ".py",
   "mimetype": "text/x-python",
   "name": "python",
   "nbconvert_exporter": "python",
   "pygments_lexer": "ipython3",
   "version": "3.11.7"
  }
 },
 "nbformat": 4,
 "nbformat_minor": 2
}
