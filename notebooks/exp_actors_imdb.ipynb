{
 "cells": [
  {
   "cell_type": "code",
   "execution_count": 1,
   "metadata": {},
   "outputs": [],
   "source": [
    "import polars as pl\n",
    "import pandas as pd\n",
    "import numpy as np\n",
    "from utils.functions import read_tsv_with_polars"
   ]
  },
  {
   "cell_type": "code",
   "execution_count": 2,
   "metadata": {},
   "outputs": [],
   "source": [
    "names = read_tsv_with_polars('../dagster/data/raw_data/csv/imdb/name.basics.tsv', ['nconst', 'primaryName', 'birthYear', 'deathYear', 'primaryProfession', 'knownForTitles'], [pl.Utf8, pl.Utf8, pl.Int32, pl.Int32, pl.Utf8, pl.Utf8])\n"
   ]
  },
  {
   "cell_type": "code",
   "execution_count": 3,
   "metadata": {},
   "outputs": [
    {
     "data": {
      "text/plain": [
       "(13142051, 6)"
      ]
     },
     "execution_count": 3,
     "metadata": {},
     "output_type": "execute_result"
    }
   ],
   "source": [
    "names.shape"
   ]
  },
  {
   "cell_type": "code",
   "execution_count": 4,
   "metadata": {},
   "outputs": [],
   "source": [
    "principals = read_tsv_with_polars('../dagster/data/raw_data/csv/imdb/title.principals.tsv', ['const', 'ordering', 'nconst', 'job', 'characters'], [pl.Utf8, pl.Int32, pl.Utf8, pl.Utf8, pl.Utf8, pl.Utf8])"
   ]
  },
  {
   "cell_type": "code",
   "execution_count": 5,
   "metadata": {},
   "outputs": [
    {
     "data": {
      "text/plain": [
       "(58791290, 6)"
      ]
     },
     "execution_count": 5,
     "metadata": {},
     "output_type": "execute_result"
    }
   ],
   "source": [
    "principals.shape"
   ]
  },
  {
   "cell_type": "code",
   "execution_count": 6,
   "metadata": {},
   "outputs": [],
   "source": [
    "actors_total = principals.join(names, on='nconst', how='inner')"
   ]
  },
  {
   "cell_type": "code",
   "execution_count": 7,
   "metadata": {},
   "outputs": [
    {
     "data": {
      "text/plain": [
       "(58791137, 11)"
      ]
     },
     "execution_count": 7,
     "metadata": {},
     "output_type": "execute_result"
    }
   ],
   "source": [
    "actors_total.shape"
   ]
  },
  {
   "cell_type": "code",
   "execution_count": 8,
   "metadata": {},
   "outputs": [
    {
     "data": {
      "text/html": [
       "<div><style>\n",
       ".dataframe > thead > tr,\n",
       ".dataframe > tbody > tr {\n",
       "  text-align: right;\n",
       "  white-space: pre-wrap;\n",
       "}\n",
       "</style>\n",
       "<small>shape: (5, 11)</small><table border=\"1\" class=\"dataframe\"><thead><tr><th>const</th><th>ordering</th><th>nconst</th><th>job</th><th>characters</th><th>column_6</th><th>primaryName</th><th>birthYear</th><th>deathYear</th><th>primaryProfession</th><th>knownForTitles</th></tr><tr><td>str</td><td>i32</td><td>str</td><td>str</td><td>str</td><td>str</td><td>str</td><td>i32</td><td>i32</td><td>str</td><td>str</td></tr></thead><tbody><tr><td>&quot;tt0000001&quot;</td><td>1</td><td>&quot;nm1588970&quot;</td><td>&quot;self&quot;</td><td>null</td><td>&quot;[&quot;Self&quot;]&quot;</td><td>&quot;Carmencita&quot;</td><td>1868</td><td>1910</td><td>&quot;soundtrack&quot;</td><td>&quot;tt0000001,tt0057728&quot;</td></tr><tr><td>&quot;tt0000001&quot;</td><td>2</td><td>&quot;nm0005690&quot;</td><td>&quot;director&quot;</td><td>null</td><td>null</td><td>&quot;William K.L. Dickson&quot;</td><td>1860</td><td>1935</td><td>&quot;cinematographer,director,producer&quot;</td><td>&quot;tt0219560,tt1428455,tt0308254,tt1496763&quot;</td></tr><tr><td>&quot;tt0000001&quot;</td><td>3</td><td>&quot;nm0374658&quot;</td><td>&quot;cinematographer&quot;</td><td>&quot;director of photography&quot;</td><td>null</td><td>&quot;William Heise&quot;</td><td>1847</td><td>1910</td><td>&quot;cinematographer,director,producer&quot;</td><td>&quot;tt0285863,tt0241393,tt0229665,tt0241715&quot;</td></tr><tr><td>&quot;tt0000002&quot;</td><td>1</td><td>&quot;nm0721526&quot;</td><td>&quot;director&quot;</td><td>null</td><td>null</td><td>&quot;Émile Reynaud&quot;</td><td>1844</td><td>1918</td><td>&quot;director,animation_department,producer&quot;</td><td>&quot;tt16763674,tt16763740,tt0000003,tt13125956&quot;</td></tr><tr><td>&quot;tt0000002&quot;</td><td>2</td><td>&quot;nm1335271&quot;</td><td>&quot;composer&quot;</td><td>null</td><td>null</td><td>&quot;Gaston Paulin&quot;</td><td>null</td><td>1921</td><td>&quot;composer&quot;</td><td>&quot;tt0000004,tt13125956,tt0000003,tt2184231&quot;</td></tr></tbody></table></div>"
      ],
      "text/plain": [
       "shape: (5, 11)\n",
       "┌───────────┬──────────┬───────────┬───────────┬───┬───────────┬───────────┬───────────┬───────────┐\n",
       "│ const     ┆ ordering ┆ nconst    ┆ job       ┆ … ┆ birthYear ┆ deathYear ┆ primaryPr ┆ knownForT │\n",
       "│ ---       ┆ ---      ┆ ---       ┆ ---       ┆   ┆ ---       ┆ ---       ┆ ofession  ┆ itles     │\n",
       "│ str       ┆ i32      ┆ str       ┆ str       ┆   ┆ i32       ┆ i32       ┆ ---       ┆ ---       │\n",
       "│           ┆          ┆           ┆           ┆   ┆           ┆           ┆ str       ┆ str       │\n",
       "╞═══════════╪══════════╪═══════════╪═══════════╪═══╪═══════════╪═══════════╪═══════════╪═══════════╡\n",
       "│ tt0000001 ┆ 1        ┆ nm1588970 ┆ self      ┆ … ┆ 1868      ┆ 1910      ┆ soundtrac ┆ tt0000001 │\n",
       "│           ┆          ┆           ┆           ┆   ┆           ┆           ┆ k         ┆ ,tt005772 │\n",
       "│           ┆          ┆           ┆           ┆   ┆           ┆           ┆           ┆ 8         │\n",
       "│ tt0000001 ┆ 2        ┆ nm0005690 ┆ director  ┆ … ┆ 1860      ┆ 1935      ┆ cinematog ┆ tt0219560 │\n",
       "│           ┆          ┆           ┆           ┆   ┆           ┆           ┆ rapher,di ┆ ,tt142845 │\n",
       "│           ┆          ┆           ┆           ┆   ┆           ┆           ┆ rector,pr ┆ 5,tt03082 │\n",
       "│           ┆          ┆           ┆           ┆   ┆           ┆           ┆ oducer    ┆ 54,tt1496 │\n",
       "│           ┆          ┆           ┆           ┆   ┆           ┆           ┆           ┆ 763       │\n",
       "│ tt0000001 ┆ 3        ┆ nm0374658 ┆ cinematog ┆ … ┆ 1847      ┆ 1910      ┆ cinematog ┆ tt0285863 │\n",
       "│           ┆          ┆           ┆ rapher    ┆   ┆           ┆           ┆ rapher,di ┆ ,tt024139 │\n",
       "│           ┆          ┆           ┆           ┆   ┆           ┆           ┆ rector,pr ┆ 3,tt02296 │\n",
       "│           ┆          ┆           ┆           ┆   ┆           ┆           ┆ oducer    ┆ 65,tt0241 │\n",
       "│           ┆          ┆           ┆           ┆   ┆           ┆           ┆           ┆ 715       │\n",
       "│ tt0000002 ┆ 1        ┆ nm0721526 ┆ director  ┆ … ┆ 1844      ┆ 1918      ┆ director, ┆ tt1676367 │\n",
       "│           ┆          ┆           ┆           ┆   ┆           ┆           ┆ animation ┆ 4,tt16763 │\n",
       "│           ┆          ┆           ┆           ┆   ┆           ┆           ┆ _departme ┆ 740,tt000 │\n",
       "│           ┆          ┆           ┆           ┆   ┆           ┆           ┆ nt,produc ┆ 0003,tt13 │\n",
       "│           ┆          ┆           ┆           ┆   ┆           ┆           ┆ er        ┆ 125956    │\n",
       "│ tt0000002 ┆ 2        ┆ nm1335271 ┆ composer  ┆ … ┆ null      ┆ 1921      ┆ composer  ┆ tt0000004 │\n",
       "│           ┆          ┆           ┆           ┆   ┆           ┆           ┆           ┆ ,tt131259 │\n",
       "│           ┆          ┆           ┆           ┆   ┆           ┆           ┆           ┆ 56,tt0000 │\n",
       "│           ┆          ┆           ┆           ┆   ┆           ┆           ┆           ┆ 003,tt218 │\n",
       "│           ┆          ┆           ┆           ┆   ┆           ┆           ┆           ┆ 4231      │\n",
       "└───────────┴──────────┴───────────┴───────────┴───┴───────────┴───────────┴───────────┴───────────┘"
      ]
     },
     "execution_count": 8,
     "metadata": {},
     "output_type": "execute_result"
    }
   ],
   "source": [
    "actors_total.head()"
   ]
  }
 ],
 "metadata": {
  "kernelspec": {
   "display_name": "celluloid_env",
   "language": "python",
   "name": "python3"
  },
  "language_info": {
   "codemirror_mode": {
    "name": "ipython",
    "version": 3
   },
   "file_extension": ".py",
   "mimetype": "text/x-python",
   "name": "python",
   "nbconvert_exporter": "python",
   "pygments_lexer": "ipython3",
   "version": "3.11.7"
  }
 },
 "nbformat": 4,
 "nbformat_minor": 2
}
