{
 "cells": [
  {
   "cell_type": "code",
   "execution_count": 1,
   "metadata": {},
   "outputs": [],
   "source": [
    "import polars as pl\n",
    "from utils.functions import open_parquet"
   ]
  },
  {
   "cell_type": "code",
   "execution_count": 11,
   "metadata": {},
   "outputs": [
    {
     "ename": "NameError",
     "evalue": "name 'open_parquet' is not defined",
     "output_type": "error",
     "traceback": [
      "\u001b[0;31m---------------------------------------------------------------------------\u001b[0m",
      "\u001b[0;31mNameError\u001b[0m                                 Traceback (most recent call last)",
      "Cell \u001b[0;32mIn[11], line 2\u001b[0m\n\u001b[1;32m      1\u001b[0m name_file \u001b[38;5;241m=\u001b[39m \u001b[38;5;124m\"\u001b[39m\u001b[38;5;124m../dagster/data/raw_data/parquet/name.basics.parquet\u001b[39m\u001b[38;5;124m\"\u001b[39m\n\u001b[0;32m----> 2\u001b[0m df_name \u001b[38;5;241m=\u001b[39m \u001b[43mopen_parquet\u001b[49m(name_file)\n\u001b[1;32m      3\u001b[0m df_name\u001b[38;5;241m.\u001b[39mshape\n",
      "\u001b[0;31mNameError\u001b[0m: name 'open_parquet' is not defined"
     ]
    }
   ],
   "source": [
    "name_file = \"../dagster/data/raw_data/parquet/name.basics.parquet\"\n",
    "df_name = open_parquet(name_file)\n",
    "df_name.shape"
   ]
  },
  {
   "cell_type": "code",
   "execution_count": 3,
   "metadata": {},
   "outputs": [
    {
     "data": {
      "text/plain": [
       "(37869662, 8)"
      ]
     },
     "execution_count": 3,
     "metadata": {},
     "output_type": "execute_result"
    }
   ],
   "source": [
    "title_file = (\"../dagster/data/raw_data/parquet/title.akas.parquet\")\n",
    "df_title = open_parquet(title_file)\n",
    "df_title.shape"
   ]
  },
  {
   "cell_type": "code",
   "execution_count": 4,
   "metadata": {},
   "outputs": [
    {
     "data": {
      "text/plain": [
       "(1385133, 3)"
      ]
     },
     "execution_count": 4,
     "metadata": {},
     "output_type": "execute_result"
    }
   ],
   "source": [
    "title_rate_file = \"../dagster/data/raw_data/parquet/title.ratings.parquet\"\n",
    "df_title_ratings = open_parquet(title_rate_file)\n",
    "df_title_ratings.shape"
   ]
  },
  {
   "cell_type": "code",
   "execution_count": 5,
   "metadata": {},
   "outputs": [
    {
     "data": {
      "text/plain": [
       "(37869662, 8)"
      ]
     },
     "execution_count": 5,
     "metadata": {},
     "output_type": "execute_result"
    }
   ],
   "source": [
    "title_akas_file = (\"../dagster/data/raw_data/parquet/title.akas.parquet\")\n",
    "df_title_akas = open_parquet(title_akas_file)\n",
    "df_title_akas.shape"
   ]
  },
  {
   "cell_type": "code",
   "execution_count": 6,
   "metadata": {},
   "outputs": [
    {
     "data": {
      "text/plain": [
       "(10448119, 3)"
      ]
     },
     "execution_count": 6,
     "metadata": {},
     "output_type": "execute_result"
    }
   ],
   "source": [
    "title_crew_file = \"../dagster/data/raw_data/parquet/title.crew.parquet\"\n",
    "df_title_crew = open_parquet(title_crew_file)\n",
    "df_title_crew.shape"
   ]
  },
  {
   "cell_type": "code",
   "execution_count": 10,
   "metadata": {},
   "outputs": [
    {
     "data": {
      "text/html": [
       "<div><style>\n",
       ".dataframe > thead > tr,\n",
       ".dataframe > tbody > tr {\n",
       "  text-align: right;\n",
       "  white-space: pre-wrap;\n",
       "}\n",
       "</style>\n",
       "<small>shape: (5, 6)</small><table border=\"1\" class=\"dataframe\"><thead><tr><th>tconst</th><th>ordering</th><th>nconst</th><th>category</th><th>job</th><th>characters</th></tr><tr><td>str</td><td>i64</td><td>str</td><td>str</td><td>str</td><td>str</td></tr></thead><tbody><tr><td>&quot;tt0000001&quot;</td><td>1</td><td>&quot;nm1588970&quot;</td><td>&quot;self&quot;</td><td>&quot;\\N&quot;</td><td>&quot;[&quot;Self&quot;]&quot;</td></tr><tr><td>&quot;tt0000001&quot;</td><td>2</td><td>&quot;nm0005690&quot;</td><td>&quot;director&quot;</td><td>&quot;\\N&quot;</td><td>&quot;\\N&quot;</td></tr><tr><td>&quot;tt0000001&quot;</td><td>3</td><td>&quot;nm0374658&quot;</td><td>&quot;cinematographe…</td><td>&quot;director of ph…</td><td>&quot;\\N&quot;</td></tr><tr><td>&quot;tt0000002&quot;</td><td>1</td><td>&quot;nm0721526&quot;</td><td>&quot;director&quot;</td><td>&quot;\\N&quot;</td><td>&quot;\\N&quot;</td></tr><tr><td>&quot;tt0000002&quot;</td><td>2</td><td>&quot;nm1335271&quot;</td><td>&quot;composer&quot;</td><td>&quot;\\N&quot;</td><td>&quot;\\N&quot;</td></tr></tbody></table></div>"
      ],
      "text/plain": [
       "shape: (5, 6)\n",
       "┌───────────┬──────────┬───────────┬─────────────────┬─────────────────────────┬────────────┐\n",
       "│ tconst    ┆ ordering ┆ nconst    ┆ category        ┆ job                     ┆ characters │\n",
       "│ ---       ┆ ---      ┆ ---       ┆ ---             ┆ ---                     ┆ ---        │\n",
       "│ str       ┆ i64      ┆ str       ┆ str             ┆ str                     ┆ str        │\n",
       "╞═══════════╪══════════╪═══════════╪═════════════════╪═════════════════════════╪════════════╡\n",
       "│ tt0000001 ┆ 1        ┆ nm1588970 ┆ self            ┆ \\N                      ┆ [\"Self\"]   │\n",
       "│ tt0000001 ┆ 2        ┆ nm0005690 ┆ director        ┆ \\N                      ┆ \\N         │\n",
       "│ tt0000001 ┆ 3        ┆ nm0374658 ┆ cinematographer ┆ director of photography ┆ \\N         │\n",
       "│ tt0000002 ┆ 1        ┆ nm0721526 ┆ director        ┆ \\N                      ┆ \\N         │\n",
       "│ tt0000002 ┆ 2        ┆ nm1335271 ┆ composer        ┆ \\N                      ┆ \\N         │\n",
       "└───────────┴──────────┴───────────┴─────────────────┴─────────────────────────┴────────────┘"
      ]
     },
     "execution_count": 10,
     "metadata": {},
     "output_type": "execute_result"
    }
   ],
   "source": [
    "title_principals_file = \"../dagster/data/raw_data/parquet/title.principals.parquet\"\n",
    "df = pl.read_parquet(title_principals_file)\n",
    "# df_title_principals = open_parquet(title_principals_file)\n",
    "# df_title_principals.shape\n",
    "df.head()"
   ]
  }
 ],
 "metadata": {
  "kernelspec": {
   "display_name": "celluloid_env",
   "language": "python",
   "name": "python3"
  },
  "language_info": {
   "codemirror_mode": {
    "name": "ipython",
    "version": 3
   },
   "file_extension": ".py",
   "mimetype": "text/x-python",
   "name": "python",
   "nbconvert_exporter": "python",
   "pygments_lexer": "ipython3",
   "version": "3.11.7"
  }
 },
 "nbformat": 4,
 "nbformat_minor": 2
}
