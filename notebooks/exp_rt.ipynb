{
 "cells": [
  {
   "cell_type": "code",
   "execution_count": 10,
   "metadata": {},
   "outputs": [],
   "source": [
    "import polars as pl\n",
    "import pandas as pd\n",
    "import numpy as np\n",
    "import os\n",
    "import pyarrow.parquet as pq"
   ]
  },
  {
   "cell_type": "code",
   "execution_count": 11,
   "metadata": {},
   "outputs": [],
   "source": [
    "def convert_tsv_to_parquet(tsv_file_path, parquet_dir):\n",
    "    \"\"\"\n",
    "    Converts a TSV file to a Parquet file\n",
    "    \"\"\"\n",
    "\n",
    "    parquet_file_name = os.path.basename(tsv_file_path).replace('.csv', '.parquet')\n",
    "    parquet_file_path = os.path.join(parquet_dir, parquet_file_name)\n",
    "\n",
    "    df = pl.read_csv(tsv_file_path, separator=',', has_header=True, ignore_errors=True)\n",
    "    df.write_parquet(parquet_file_path)\n",
    "\n",
    "    return parquet_file_path"
   ]
  },
  {
   "cell_type": "code",
   "execution_count": 12,
   "metadata": {},
   "outputs": [],
   "source": [
    "# path = convert_tsv_to_parquet(\"../pipeline/data/raw_data/csv/rotten_tomatoes_movies.csv\", \"../pipeline/data/raw_data/parquet/\")"
   ]
  },
  {
   "cell_type": "code",
   "execution_count": 13,
   "metadata": {},
   "outputs": [],
   "source": [
    "df = pl.read_parquet(\"../pipeline/data/raw_data/parquet/rotten_tomatoes_movies.parquet\")"
   ]
  },
  {
   "cell_type": "code",
   "execution_count": 14,
   "metadata": {},
   "outputs": [
    {
     "data": {
      "text/plain": [
       "['id',\n",
       " 'title',\n",
       " 'audienceScore',\n",
       " 'tomatoMeter',\n",
       " 'rating',\n",
       " 'ratingContents',\n",
       " 'releaseDateTheaters',\n",
       " 'releaseDateStreaming',\n",
       " 'runtimeMinutes',\n",
       " 'genre',\n",
       " 'originalLanguage',\n",
       " 'director',\n",
       " 'writer',\n",
       " 'boxOffice',\n",
       " 'distributor',\n",
       " 'soundMix']"
      ]
     },
     "execution_count": 14,
     "metadata": {},
     "output_type": "execute_result"
    }
   ],
   "source": [
    "df.columns"
   ]
  },
  {
   "cell_type": "code",
   "execution_count": 28,
   "metadata": {},
   "outputs": [
    {
     "ename": "SchemaError",
     "evalue": "invalid series dtype: expected `Utf8`, got `date`",
     "output_type": "error",
     "traceback": [
      "\u001b[0;31m---------------------------------------------------------------------------\u001b[0m",
      "\u001b[0;31mSchemaError\u001b[0m                               Traceback (most recent call last)",
      "Cell \u001b[0;32mIn[28], line 2\u001b[0m\n\u001b[1;32m      1\u001b[0m \u001b[38;5;66;03m# df = df.with_columns(pl.col('releaseDateTheaters').str.strptime(pl.DataType.Date))\u001b[39;00m\n\u001b[0;32m----> 2\u001b[0m df \u001b[38;5;241m=\u001b[39m \u001b[43mdf\u001b[49m\u001b[38;5;241;43m.\u001b[39;49m\u001b[43mwith_columns\u001b[49m\u001b[43m(\u001b[49m\n\u001b[1;32m      3\u001b[0m \u001b[43m    \u001b[49m\u001b[43mpl\u001b[49m\u001b[38;5;241;43m.\u001b[39;49m\u001b[43mcol\u001b[49m\u001b[43m(\u001b[49m\u001b[38;5;124;43m\"\u001b[39;49m\u001b[38;5;124;43mreleaseDateTheaters\u001b[39;49m\u001b[38;5;124;43m\"\u001b[39;49m\u001b[43m)\u001b[49m\u001b[38;5;241;43m.\u001b[39;49m\u001b[43mstr\u001b[49m\u001b[38;5;241;43m.\u001b[39;49m\u001b[43mstrptime\u001b[49m\u001b[43m(\u001b[49m\u001b[43mpl\u001b[49m\u001b[38;5;241;43m.\u001b[39;49m\u001b[43mDate\u001b[49m\u001b[43m,\u001b[49m\u001b[43m \u001b[49m\u001b[38;5;124;43m\"\u001b[39;49m\u001b[38;5;124;43m%\u001b[39;49m\u001b[38;5;124;43mY-\u001b[39;49m\u001b[38;5;124;43m%\u001b[39;49m\u001b[38;5;124;43mm-\u001b[39;49m\u001b[38;5;132;43;01m%d\u001b[39;49;00m\u001b[38;5;124;43m\"\u001b[39;49m\u001b[43m)\u001b[49m\n\u001b[1;32m      4\u001b[0m \u001b[43m)\u001b[49m\n\u001b[1;32m      5\u001b[0m \u001b[38;5;28msorted\u001b[39m \u001b[38;5;241m=\u001b[39m df\u001b[38;5;241m.\u001b[39msort(\u001b[38;5;124m\"\u001b[39m\u001b[38;5;124mreleaseDateTheaters\u001b[39m\u001b[38;5;124m\"\u001b[39m)\n",
      "File \u001b[0;32m/opt/homebrew/Caskroom/miniconda/base/envs/dag_nyc/lib/python3.11/site-packages/polars/dataframe/frame.py:8184\u001b[0m, in \u001b[0;36mDataFrame.with_columns\u001b[0;34m(self, *exprs, **named_exprs)\u001b[0m\n\u001b[1;32m   8036\u001b[0m \u001b[38;5;28;01mdef\u001b[39;00m \u001b[38;5;21mwith_columns\u001b[39m(\n\u001b[1;32m   8037\u001b[0m     \u001b[38;5;28mself\u001b[39m,\n\u001b[1;32m   8038\u001b[0m     \u001b[38;5;241m*\u001b[39mexprs: IntoExpr \u001b[38;5;241m|\u001b[39m Iterable[IntoExpr],\n\u001b[1;32m   8039\u001b[0m     \u001b[38;5;241m*\u001b[39m\u001b[38;5;241m*\u001b[39mnamed_exprs: IntoExpr,\n\u001b[1;32m   8040\u001b[0m ) \u001b[38;5;241m-\u001b[39m\u001b[38;5;241m>\u001b[39m DataFrame:\n\u001b[1;32m   8041\u001b[0m \u001b[38;5;250m    \u001b[39m\u001b[38;5;124;03m\"\"\"\u001b[39;00m\n\u001b[1;32m   8042\u001b[0m \u001b[38;5;124;03m    Add columns to this DataFrame.\u001b[39;00m\n\u001b[1;32m   8043\u001b[0m \n\u001b[0;32m   (...)\u001b[0m\n\u001b[1;32m   8182\u001b[0m \n\u001b[1;32m   8183\u001b[0m \u001b[38;5;124;03m    \"\"\"\u001b[39;00m\n\u001b[0;32m-> 8184\u001b[0m     \u001b[38;5;28;01mreturn\u001b[39;00m \u001b[38;5;28;43mself\u001b[39;49m\u001b[38;5;241;43m.\u001b[39;49m\u001b[43mlazy\u001b[49m\u001b[43m(\u001b[49m\u001b[43m)\u001b[49m\u001b[38;5;241;43m.\u001b[39;49m\u001b[43mwith_columns\u001b[49m\u001b[43m(\u001b[49m\u001b[38;5;241;43m*\u001b[39;49m\u001b[43mexprs\u001b[49m\u001b[43m,\u001b[49m\u001b[43m \u001b[49m\u001b[38;5;241;43m*\u001b[39;49m\u001b[38;5;241;43m*\u001b[39;49m\u001b[43mnamed_exprs\u001b[49m\u001b[43m)\u001b[49m\u001b[38;5;241;43m.\u001b[39;49m\u001b[43mcollect\u001b[49m\u001b[43m(\u001b[49m\u001b[43m_eager\u001b[49m\u001b[38;5;241;43m=\u001b[39;49m\u001b[38;5;28;43;01mTrue\u001b[39;49;00m\u001b[43m)\u001b[49m\n",
      "File \u001b[0;32m/opt/homebrew/Caskroom/miniconda/base/envs/dag_nyc/lib/python3.11/site-packages/polars/lazyframe/frame.py:1706\u001b[0m, in \u001b[0;36mLazyFrame.collect\u001b[0;34m(self, type_coercion, predicate_pushdown, projection_pushdown, simplify_expression, slice_pushdown, comm_subplan_elim, comm_subexpr_elim, no_optimization, streaming, _eager)\u001b[0m\n\u001b[1;32m   1693\u001b[0m     comm_subplan_elim \u001b[38;5;241m=\u001b[39m \u001b[38;5;28;01mFalse\u001b[39;00m\n\u001b[1;32m   1695\u001b[0m ldf \u001b[38;5;241m=\u001b[39m \u001b[38;5;28mself\u001b[39m\u001b[38;5;241m.\u001b[39m_ldf\u001b[38;5;241m.\u001b[39moptimization_toggle(\n\u001b[1;32m   1696\u001b[0m     type_coercion,\n\u001b[1;32m   1697\u001b[0m     predicate_pushdown,\n\u001b[0;32m   (...)\u001b[0m\n\u001b[1;32m   1704\u001b[0m     _eager,\n\u001b[1;32m   1705\u001b[0m )\n\u001b[0;32m-> 1706\u001b[0m \u001b[38;5;28;01mreturn\u001b[39;00m wrap_df(\u001b[43mldf\u001b[49m\u001b[38;5;241;43m.\u001b[39;49m\u001b[43mcollect\u001b[49m\u001b[43m(\u001b[49m\u001b[43m)\u001b[49m)\n",
      "\u001b[0;31mSchemaError\u001b[0m: invalid series dtype: expected `Utf8`, got `date`"
     ]
    }
   ],
   "source": [
    "# df = df.with_columns(pl.col('releaseDateTheaters').str.strptime(pl.DataType.Date))\n",
    "df = df.with_column(\n",
    "    pl.to_date(pl.col(\"releaseDateTheaters\"), format=\"%Y-%m-%d\")\n",
    ")\n",
    "\n",
    "# Sort the DataFrame by the date column\n",
    "df_sorted = df.sort(\"releaseDateTheaters\")"
   ]
  },
  {
   "cell_type": "code",
   "execution_count": 36,
   "metadata": {},
   "outputs": [],
   "source": [
    "table = pq.read_table(\"../pipeline/data/raw_data/parquet/title.basics.parquet\")\n",
    "imdb = pl.from_arrow(table)"
   ]
  },
  {
   "cell_type": "code",
   "execution_count": 54,
   "metadata": {},
   "outputs": [
    {
     "data": {
      "text/plain": [
       "(667364, 9)"
      ]
     },
     "execution_count": 54,
     "metadata": {},
     "output_type": "execute_result"
    }
   ],
   "source": [
    "imdb = imdb.filter(pl.col(\"titleType\") == 'movie')\n",
    "imdb.shape"
   ]
  },
  {
   "cell_type": "code",
   "execution_count": 51,
   "metadata": {},
   "outputs": [],
   "source": [
    "joined = imdb.join(df, left_on=[\"primaryTitle\", \"\"], right_on=\"title\", how=\"inner\")"
   ]
  },
  {
   "cell_type": "code",
   "execution_count": 52,
   "metadata": {},
   "outputs": [
    {
     "data": {
      "text/html": [
       "<div><style>\n",
       ".dataframe > thead > tr,\n",
       ".dataframe > tbody > tr {\n",
       "  text-align: right;\n",
       "  white-space: pre-wrap;\n",
       "}\n",
       "</style>\n",
       "<small>shape: (87_598, 2)</small><table border=\"1\" class=\"dataframe\"><thead><tr><th>primaryTitle</th><th>count</th></tr><tr><td>str</td><td>u32</td></tr></thead><tbody><tr><td>&quot;Crooks in Cloi…</td><td>1</td></tr><tr><td>&quot;Punish Me&quot;</td><td>1</td></tr><tr><td>&quot;A River Runs, …</td><td>1</td></tr><tr><td>&quot;The Thread of …</td><td>1</td></tr><tr><td>&quot;iGirlfriend&quot;</td><td>1</td></tr><tr><td>&quot;Mister Buddwin…</td><td>1</td></tr><tr><td>&quot;Complex World&quot;</td><td>1</td></tr><tr><td>&quot;Intern&quot;</td><td>1</td></tr><tr><td>&quot;I Love You Bab…</td><td>1</td></tr><tr><td>&quot;The Silent Twi…</td><td>1</td></tr><tr><td>&quot;Seven and a Ma…</td><td>1</td></tr><tr><td>&quot;A California C…</td><td>1</td></tr><tr><td>&hellip;</td><td>&hellip;</td></tr><tr><td>&quot;Love&quot;</td><td>540</td></tr><tr><td>&quot;First Love&quot;</td><td>560</td></tr><tr><td>&quot;Trapped&quot;</td><td>576</td></tr><tr><td>&quot;Broken&quot;</td><td>600</td></tr><tr><td>&quot;Hero&quot;</td><td>640</td></tr><tr><td>&quot;Hamlet&quot;</td><td>672</td></tr><tr><td>&quot;The Stranger&quot;</td><td>680</td></tr><tr><td>&quot;Paradise&quot;</td><td>705</td></tr><tr><td>&quot;Mother&quot;</td><td>750</td></tr><tr><td>&quot;The Return&quot;</td><td>765</td></tr><tr><td>&quot;Alone&quot;</td><td>825</td></tr><tr><td>&quot;Home&quot;</td><td>840</td></tr></tbody></table></div>"
      ],
      "text/plain": [
       "shape: (87_598, 2)\n",
       "┌───────────────────────────────────┬───────┐\n",
       "│ primaryTitle                      ┆ count │\n",
       "│ ---                               ┆ ---   │\n",
       "│ str                               ┆ u32   │\n",
       "╞═══════════════════════════════════╪═══════╡\n",
       "│ Crooks in Cloisters               ┆ 1     │\n",
       "│ Punish Me                         ┆ 1     │\n",
       "│ A River Runs, Turns, Erases, Rep… ┆ 1     │\n",
       "│ The Thread of Water               ┆ 1     │\n",
       "│ …                                 ┆ …     │\n",
       "│ Mother                            ┆ 750   │\n",
       "│ The Return                        ┆ 765   │\n",
       "│ Alone                             ┆ 825   │\n",
       "│ Home                              ┆ 840   │\n",
       "└───────────────────────────────────┴───────┘"
      ]
     },
     "execution_count": 52,
     "metadata": {},
     "output_type": "execute_result"
    }
   ],
   "source": [
    "joined[\"primaryTitle\"].value_counts().sort(by='count')"
   ]
  }
 ],
 "metadata": {
  "kernelspec": {
   "display_name": "dag_nyc",
   "language": "python",
   "name": "python3"
  },
  "language_info": {
   "codemirror_mode": {
    "name": "ipython",
    "version": 3
   },
   "file_extension": ".py",
   "mimetype": "text/x-python",
   "name": "python",
   "nbconvert_exporter": "python",
   "pygments_lexer": "ipython3",
   "version": "3.11.7"
  }
 },
 "nbformat": 4,
 "nbformat_minor": 2
}
