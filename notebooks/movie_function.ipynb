{
 "cells": [
  {
   "cell_type": "code",
   "execution_count": 84,
   "metadata": {},
   "outputs": [],
   "source": [
    "import polars as pl\n",
    "import pyarrow.parquet as pq"
   ]
  },
  {
   "cell_type": "code",
   "execution_count": 93,
   "metadata": {},
   "outputs": [
    {
     "name": "stdout",
     "output_type": "stream",
     "text": [
      "pyarrow.Table\n",
      "nconst: large_string\n",
      "primaryName: large_string\n",
      "birthYear: large_string\n",
      "deathYear: large_string\n",
      "primaryProfession: large_string\n",
      "knownForTitles: large_string\n",
      "----\n",
      "nconst: [[\"nm0000001\",\"nm0000002\",\"nm0000003\",\"nm0000004\",\"nm0000005\",...,\"nm0137777\",\"nm0137778\",\"nm0137779\",\"nm0137780\",\"nm0137781\"],[\"nm0137782\",\"nm0137783\",\"nm0137784\",\"nm0137786\",\"nm0137787\",...,\"nm0276710\",\"nm0276711\",\"nm0276712\",\"nm0276713\",\"nm0276714\"],...,[\"nm9839539\",\"nm9839540\",\"nm9839541\",\"nm9839547\",\"nm9839548\",...,\"nm9992922\",\"nm9992928\",\"nm9992929\",\"nm9992930\",\"nm9992931\"],[\"nm9992932\",\"nm9992934\",\"nm9992935\",\"nm9992936\",\"nm9992937\",...,\"nm9993714\",\"nm9993716\",\"nm9993717\",\"nm9993718\",\"nm9993719\"]]\n",
      "primaryName: [[\"Fred Astaire\",\"Lauren Bacall\",\"Brigitte Bardot\",\"John Belushi\",\"Ingmar Bergman\",...,\"Mayra Carlos\",\"Michael Carlos\",\"Neal Carlos\",\"Neil Carlos\",\"Noel Carlos\"],[\"Pedro Carlos\",\"Roberto Carlos\",\"Roberto Carlos\",\"Rodrigo Carlos\",\"Rodrigues 'Maculata' Carlos\",...,\"José Antonio Figueroa\",\"Joy Figueroa\",\"Juan Ancona Figueroa\",\"Judith Figueroa\",\"Ken Figueroa\"],...,[\"Bill Tsusui\",\"Jacques-Henri Eyraud\",\"Fernand Ochsé\",\"Aranza Vázquez\",\"German Fong\",...,\"Jason Tsui\",\"Ayesha Julka\",\"Krista Riihimaki\",\"Christina Marini\",\"Julia Riihimaki\"],[\"Clovis Scotti\",\"Cian Coey\",\"Robert Alt\",\"Bryan Bishop\",\"Keith Daniel\",...,\"Romeo del Rosario\",\"Essias Loberg\",\"Harikrishnan Rajan\",\"Aayush Nair\",\"Andre Hill\"]]\n",
      "birthYear: [[\"1899\",\"1924\",\"1934\",\"1949\",\"1918\",...,\"\\N\",\"\\N\",\"\\N\",\"\\N\",\"\\N\"],[\"\\N\",\"\\N\",\"1941\",\"\\N\",\"\\N\",...,\"\\N\",\"\\N\",\"\\N\",\"\\N\",\"\\N\"],...,[\"\\N\",\"\\N\",\"\\N\",\"\\N\",\"\\N\",...,\"\\N\",\"\\N\",\"\\N\",\"\\N\",\"\\N\"],[\"\\N\",\"\\N\",\"\\N\",\"\\N\",\"\\N\",...,\"\\N\",\"\\N\",\"\\N\",\"\\N\",\"\\N\"]]\n",
      "deathYear: [[\"1987\",\"2014\",\"\\N\",\"1982\",\"2007\",...,\"\\N\",\"\\N\",\"\\N\",\"\\N\",\"\\N\"],[\"\\N\",\"\\N\",\"\\N\",\"\\N\",\"\\N\",...,\"\\N\",\"\\N\",\"\\N\",\"\\N\",\"\\N\"],...,[\"\\N\",\"\\N\",\"\\N\",\"\\N\",\"\\N\",...,\"\\N\",\"\\N\",\"\\N\",\"\\N\",\"\\N\"],[\"\\N\",\"\\N\",\"\\N\",\"\\N\",\"\\N\",...,\"\\N\",\"\\N\",\"\\N\",\"\\N\",\"\\N\"]]\n",
      "primaryProfession: [[\"soundtrack,actor,miscellaneous\",\"actress,soundtrack\",\"actress,soundtrack,music_department\",\"actor,soundtrack,writer\",\"writer,director,actor\",...,\"actress\",\"composer,music_department,soundtrack\",\"camera_department,assistant_director,miscellaneous\",\"camera_department,assistant_director\",\"actor\"],[\"actor\",\"visual_effects,make_up_department,costume_department\",\"music_artist,music_department,soundtrack\",\"actor\",\"actor\",...,\"actor\",\"actress\",\"actor\",\"actress\",\"miscellaneous,actor\"],...,[null,null,\"soundtrack\",null,\"production_manager,camera_department,producer\",...,\"producer,miscellaneous\",\"director\",\"director,writer,cinematographer\",\"camera_department\",\"producer\"],[\"producer\",\"actor\",\"actor\",\"actor\",\"actor,cinematographer,sound_department\",...,\"animation_department,art_department\",null,\"cinematographer\",\"cinematographer\",null]]\n",
      "knownForTitles: [[\"tt0050419,tt0031983,tt0072308,tt0053137\",\"tt0075213,tt0037382,tt0038355,tt0117057\",\"tt0049189,tt0054452,tt0056404,tt0057345\",\"tt0078723,tt0077975,tt0080455,tt0072562\",\"tt0083922,tt0069467,tt0050986,tt0050976\",...,\"tt0097462\",\"tt0079482,tt0428175,tt0073765,tt0079652\",\"tt0115144,tt0106039,tt1991564,tt1181917\",\"tt0972534,tt0098845,tt0101050,tt1604099\",\"tt0194230,tt0139919,tt0180675,tt0181972\"],[\"tt0209637,tt0205650,tt0206498\",\"tt0090728,tt0116629,tt0091778,tt0133152\",\"tt0069013,tt0349903,tt1556402,tt5221584\",\"tt0102107\",\"tt0157870\",...,\"tt0090263\",\"tt0173796,tt0112649,tt0132938\",\"tt0082146\",\"tt0133904,tt0451502\",\"tt0176357,tt0138989,tt3551840\"],...,[\"\\N\",\"tt6052530\",\"\\N\",\"\\N\",\"tt14037356,tt20196104,tt0499394,tt11742138\",...,\"tt8742596,tt7550862\",\"tt8742602\",\"tt8742604\",\"tt8742604\",\"tt8742604\"],[\"tt8742604\",\"tt8742608\",\"tt8742608\",\"tt14556432,tt8742608\",\"tt8742608,tt9213602\",...,\"tt11657662,tt14069590,tt2455546\",\"\\N\",\"tt8736744\",\"tt8736744\",\"\\N\"]]\n"
     ]
    },
    {
     "data": {
      "text/plain": [
       "(13142051, 6)"
      ]
     },
     "execution_count": 93,
     "metadata": {},
     "output_type": "execute_result"
    }
   ],
   "source": [
    "table = pq.read_table(\"./pipeline/data/raw_data/parquet/name.basics.parquet\")\n",
    "print(table)\n",
    "df = pl.from_arrow(table)\n",
    "df.shape"
   ]
  },
  {
   "cell_type": "code",
   "execution_count": 86,
   "metadata": {},
   "outputs": [
    {
     "data": {
      "text/html": [
       "<div><style>\n",
       ".dataframe > thead > tr,\n",
       ".dataframe > tbody > tr {\n",
       "  text-align: right;\n",
       "  white-space: pre-wrap;\n",
       "}\n",
       "</style>\n",
       "<small>shape: (5, 9)</small><table border=\"1\" class=\"dataframe\"><thead><tr><th>tconst</th><th>titleType</th><th>primaryTitle</th><th>originalTitle</th><th>isAdult</th><th>startYear</th><th>endYear</th><th>runtimeMinutes</th><th>genres</th></tr><tr><td>str</td><td>str</td><td>str</td><td>str</td><td>i64</td><td>i64</td><td>str</td><td>str</td><td>str</td></tr></thead><tbody><tr><td>&quot;tt0000001&quot;</td><td>&quot;short&quot;</td><td>&quot;Carmencita&quot;</td><td>&quot;Carmencita&quot;</td><td>0</td><td>1894</td><td>&quot;\\N&quot;</td><td>&quot;1&quot;</td><td>&quot;Documentary,Sh…</td></tr><tr><td>&quot;tt0000002&quot;</td><td>&quot;short&quot;</td><td>&quot;Le clown et se…</td><td>&quot;Le clown et se…</td><td>0</td><td>1892</td><td>&quot;\\N&quot;</td><td>&quot;5&quot;</td><td>&quot;Animation,Shor…</td></tr><tr><td>&quot;tt0000003&quot;</td><td>&quot;short&quot;</td><td>&quot;Pauvre Pierrot…</td><td>&quot;Pauvre Pierrot…</td><td>0</td><td>1892</td><td>&quot;\\N&quot;</td><td>&quot;4&quot;</td><td>&quot;Animation,Come…</td></tr><tr><td>&quot;tt0000004&quot;</td><td>&quot;short&quot;</td><td>&quot;Un bon bock&quot;</td><td>&quot;Un bon bock&quot;</td><td>0</td><td>1892</td><td>&quot;\\N&quot;</td><td>&quot;12&quot;</td><td>&quot;Animation,Shor…</td></tr><tr><td>&quot;tt0000005&quot;</td><td>&quot;short&quot;</td><td>&quot;Blacksmith Sce…</td><td>&quot;Blacksmith Sce…</td><td>0</td><td>1893</td><td>&quot;\\N&quot;</td><td>&quot;1&quot;</td><td>&quot;Comedy,Short&quot;</td></tr></tbody></table></div>"
      ],
      "text/plain": [
       "shape: (5, 9)\n",
       "┌───────────┬───────────┬────────────┬───────────┬───┬───────────┬─────────┬───────────┬───────────┐\n",
       "│ tconst    ┆ titleType ┆ primaryTit ┆ originalT ┆ … ┆ startYear ┆ endYear ┆ runtimeMi ┆ genres    │\n",
       "│ ---       ┆ ---       ┆ le         ┆ itle      ┆   ┆ ---       ┆ ---     ┆ nutes     ┆ ---       │\n",
       "│ str       ┆ str       ┆ ---        ┆ ---       ┆   ┆ i64       ┆ str     ┆ ---       ┆ str       │\n",
       "│           ┆           ┆ str        ┆ str       ┆   ┆           ┆         ┆ str       ┆           │\n",
       "╞═══════════╪═══════════╪════════════╪═══════════╪═══╪═══════════╪═════════╪═══════════╪═══════════╡\n",
       "│ tt0000001 ┆ short     ┆ Carmencita ┆ Carmencit ┆ … ┆ 1894      ┆ \\N      ┆ 1         ┆ Documenta │\n",
       "│           ┆           ┆            ┆ a         ┆   ┆           ┆         ┆           ┆ ry,Short  │\n",
       "│ tt0000002 ┆ short     ┆ Le clown   ┆ Le clown  ┆ … ┆ 1892      ┆ \\N      ┆ 5         ┆ Animation │\n",
       "│           ┆           ┆ et ses     ┆ et ses    ┆   ┆           ┆         ┆           ┆ ,Short    │\n",
       "│           ┆           ┆ chiens     ┆ chiens    ┆   ┆           ┆         ┆           ┆           │\n",
       "│ tt0000003 ┆ short     ┆ Pauvre     ┆ Pauvre    ┆ … ┆ 1892      ┆ \\N      ┆ 4         ┆ Animation │\n",
       "│           ┆           ┆ Pierrot    ┆ Pierrot   ┆   ┆           ┆         ┆           ┆ ,Comedy,R │\n",
       "│           ┆           ┆            ┆           ┆   ┆           ┆         ┆           ┆ omance    │\n",
       "│ tt0000004 ┆ short     ┆ Un bon     ┆ Un bon    ┆ … ┆ 1892      ┆ \\N      ┆ 12        ┆ Animation │\n",
       "│           ┆           ┆ bock       ┆ bock      ┆   ┆           ┆         ┆           ┆ ,Short    │\n",
       "│ tt0000005 ┆ short     ┆ Blacksmith ┆ Blacksmit ┆ … ┆ 1893      ┆ \\N      ┆ 1         ┆ Comedy,Sh │\n",
       "│           ┆           ┆ Scene      ┆ h Scene   ┆   ┆           ┆         ┆           ┆ ort       │\n",
       "└───────────┴───────────┴────────────┴───────────┴───┴───────────┴─────────┴───────────┴───────────┘"
      ]
     },
     "execution_count": 86,
     "metadata": {},
     "output_type": "execute_result"
    }
   ],
   "source": [
    "table = pq.read_table(\"./pipeline/data/raw_data/parquet/title.basics.parquet\")\n",
    "df = pl.from_arrow(table)\n",
    "df.head()"
   ]
  },
  {
   "cell_type": "code",
   "execution_count": 87,
   "metadata": {},
   "outputs": [
    {
     "data": {
      "text/html": [
       "<div><style>\n",
       ".dataframe > thead > tr,\n",
       ".dataframe > tbody > tr {\n",
       "  text-align: right;\n",
       "  white-space: pre-wrap;\n",
       "}\n",
       "</style>\n",
       "<small>shape: (5, 3)</small><table border=\"1\" class=\"dataframe\"><thead><tr><th>tconst</th><th>averageRating</th><th>numVotes</th></tr><tr><td>str</td><td>f64</td><td>i64</td></tr></thead><tbody><tr><td>&quot;tt0000001&quot;</td><td>5.7</td><td>2014</td></tr><tr><td>&quot;tt0000002&quot;</td><td>5.7</td><td>272</td></tr><tr><td>&quot;tt0000003&quot;</td><td>6.5</td><td>1936</td></tr><tr><td>&quot;tt0000004&quot;</td><td>5.4</td><td>179</td></tr><tr><td>&quot;tt0000005&quot;</td><td>6.2</td><td>2707</td></tr></tbody></table></div>"
      ],
      "text/plain": [
       "shape: (5, 3)\n",
       "┌───────────┬───────────────┬──────────┐\n",
       "│ tconst    ┆ averageRating ┆ numVotes │\n",
       "│ ---       ┆ ---           ┆ ---      │\n",
       "│ str       ┆ f64           ┆ i64      │\n",
       "╞═══════════╪═══════════════╪══════════╡\n",
       "│ tt0000001 ┆ 5.7           ┆ 2014     │\n",
       "│ tt0000002 ┆ 5.7           ┆ 272      │\n",
       "│ tt0000003 ┆ 6.5           ┆ 1936     │\n",
       "│ tt0000004 ┆ 5.4           ┆ 179      │\n",
       "│ tt0000005 ┆ 6.2           ┆ 2707     │\n",
       "└───────────┴───────────────┴──────────┘"
      ]
     },
     "execution_count": 87,
     "metadata": {},
     "output_type": "execute_result"
    }
   ],
   "source": [
    "table = pq.read_table(\"./pipeline/data/raw_data/parquet/title.ratings.parquet\")\n",
    "df = pl.from_arrow(table)\n",
    "df.head()"
   ]
  },
  {
   "cell_type": "code",
   "execution_count": 88,
   "metadata": {},
   "outputs": [
    {
     "data": {
      "text/html": [
       "<div><style>\n",
       ".dataframe > thead > tr,\n",
       ".dataframe > tbody > tr {\n",
       "  text-align: right;\n",
       "  white-space: pre-wrap;\n",
       "}\n",
       "</style>\n",
       "<small>shape: (5, 8)</small><table border=\"1\" class=\"dataframe\"><thead><tr><th>titleId</th><th>ordering</th><th>title</th><th>region</th><th>language</th><th>types</th><th>attributes</th><th>isOriginalTitle</th></tr><tr><td>str</td><td>i64</td><td>str</td><td>str</td><td>str</td><td>str</td><td>str</td><td>i64</td></tr></thead><tbody><tr><td>&quot;tt0000001&quot;</td><td>1</td><td>&quot;Карменсіта&quot;</td><td>&quot;UA&quot;</td><td>&quot;\\N&quot;</td><td>&quot;imdbDisplay&quot;</td><td>&quot;\\N&quot;</td><td>0</td></tr><tr><td>&quot;tt0000001&quot;</td><td>2</td><td>&quot;Carmencita&quot;</td><td>&quot;DE&quot;</td><td>&quot;\\N&quot;</td><td>&quot;\\N&quot;</td><td>&quot;literal title&quot;</td><td>0</td></tr><tr><td>&quot;tt0000001&quot;</td><td>3</td><td>&quot;Carmencita - s…</td><td>&quot;HU&quot;</td><td>&quot;\\N&quot;</td><td>&quot;imdbDisplay&quot;</td><td>&quot;\\N&quot;</td><td>0</td></tr><tr><td>&quot;tt0000001&quot;</td><td>4</td><td>&quot;Καρμενσίτα&quot;</td><td>&quot;GR&quot;</td><td>&quot;\\N&quot;</td><td>&quot;imdbDisplay&quot;</td><td>&quot;\\N&quot;</td><td>0</td></tr><tr><td>&quot;tt0000001&quot;</td><td>5</td><td>&quot;Карменсита&quot;</td><td>&quot;RU&quot;</td><td>&quot;\\N&quot;</td><td>&quot;imdbDisplay&quot;</td><td>&quot;\\N&quot;</td><td>0</td></tr></tbody></table></div>"
      ],
      "text/plain": [
       "shape: (5, 8)\n",
       "┌───────────┬──────────┬─────────────┬────────┬──────────┬─────────────┬─────────────┬─────────────┐\n",
       "│ titleId   ┆ ordering ┆ title       ┆ region ┆ language ┆ types       ┆ attributes  ┆ isOriginalT │\n",
       "│ ---       ┆ ---      ┆ ---         ┆ ---    ┆ ---      ┆ ---         ┆ ---         ┆ itle        │\n",
       "│ str       ┆ i64      ┆ str         ┆ str    ┆ str      ┆ str         ┆ str         ┆ ---         │\n",
       "│           ┆          ┆             ┆        ┆          ┆             ┆             ┆ i64         │\n",
       "╞═══════════╪══════════╪═════════════╪════════╪══════════╪═════════════╪═════════════╪═════════════╡\n",
       "│ tt0000001 ┆ 1        ┆ Карменсіта  ┆ UA     ┆ \\N       ┆ imdbDisplay ┆ \\N          ┆ 0           │\n",
       "│ tt0000001 ┆ 2        ┆ Carmencita  ┆ DE     ┆ \\N       ┆ \\N          ┆ literal     ┆ 0           │\n",
       "│           ┆          ┆             ┆        ┆          ┆             ┆ title       ┆             │\n",
       "│ tt0000001 ┆ 3        ┆ Carmencita  ┆ HU     ┆ \\N       ┆ imdbDisplay ┆ \\N          ┆ 0           │\n",
       "│           ┆          ┆ - spanyol   ┆        ┆          ┆             ┆             ┆             │\n",
       "│           ┆          ┆ tánc        ┆        ┆          ┆             ┆             ┆             │\n",
       "│ tt0000001 ┆ 4        ┆ Καρμενσίτα  ┆ GR     ┆ \\N       ┆ imdbDisplay ┆ \\N          ┆ 0           │\n",
       "│ tt0000001 ┆ 5        ┆ Карменсита  ┆ RU     ┆ \\N       ┆ imdbDisplay ┆ \\N          ┆ 0           │\n",
       "└───────────┴──────────┴─────────────┴────────┴──────────┴─────────────┴─────────────┴─────────────┘"
      ]
     },
     "execution_count": 88,
     "metadata": {},
     "output_type": "execute_result"
    }
   ],
   "source": [
    "table = pq.read_table(\"./pipeline/data/raw_data/parquet/title.akas.parquet\")\n",
    "df = pl.from_arrow(table)\n",
    "df.head()"
   ]
  },
  {
   "cell_type": "code",
   "execution_count": 89,
   "metadata": {},
   "outputs": [
    {
     "data": {
      "text/html": [
       "<div><style>\n",
       ".dataframe > thead > tr,\n",
       ".dataframe > tbody > tr {\n",
       "  text-align: right;\n",
       "  white-space: pre-wrap;\n",
       "}\n",
       "</style>\n",
       "<small>shape: (5, 3)</small><table border=\"1\" class=\"dataframe\"><thead><tr><th>tconst</th><th>directors</th><th>writers</th></tr><tr><td>str</td><td>str</td><td>str</td></tr></thead><tbody><tr><td>&quot;tt0000001&quot;</td><td>&quot;nm0005690&quot;</td><td>&quot;\\N&quot;</td></tr><tr><td>&quot;tt0000002&quot;</td><td>&quot;nm0721526&quot;</td><td>&quot;\\N&quot;</td></tr><tr><td>&quot;tt0000003&quot;</td><td>&quot;nm0721526&quot;</td><td>&quot;\\N&quot;</td></tr><tr><td>&quot;tt0000004&quot;</td><td>&quot;nm0721526&quot;</td><td>&quot;\\N&quot;</td></tr><tr><td>&quot;tt0000005&quot;</td><td>&quot;nm0005690&quot;</td><td>&quot;\\N&quot;</td></tr></tbody></table></div>"
      ],
      "text/plain": [
       "shape: (5, 3)\n",
       "┌───────────┬───────────┬─────────┐\n",
       "│ tconst    ┆ directors ┆ writers │\n",
       "│ ---       ┆ ---       ┆ ---     │\n",
       "│ str       ┆ str       ┆ str     │\n",
       "╞═══════════╪═══════════╪═════════╡\n",
       "│ tt0000001 ┆ nm0005690 ┆ \\N      │\n",
       "│ tt0000002 ┆ nm0721526 ┆ \\N      │\n",
       "│ tt0000003 ┆ nm0721526 ┆ \\N      │\n",
       "│ tt0000004 ┆ nm0721526 ┆ \\N      │\n",
       "│ tt0000005 ┆ nm0005690 ┆ \\N      │\n",
       "└───────────┴───────────┴─────────┘"
      ]
     },
     "execution_count": 89,
     "metadata": {},
     "output_type": "execute_result"
    }
   ],
   "source": [
    "table = pq.read_table(\"./pipeline/data/raw_data/parquet/title.crew.parquet\")\n",
    "df = pl.from_arrow(table)\n",
    "df.head()"
   ]
  },
  {
   "cell_type": "code",
   "execution_count": 91,
   "metadata": {},
   "outputs": [
    {
     "data": {
      "text/html": [
       "<div><style>\n",
       ".dataframe > thead > tr,\n",
       ".dataframe > tbody > tr {\n",
       "  text-align: right;\n",
       "  white-space: pre-wrap;\n",
       "}\n",
       "</style>\n",
       "<small>shape: (5, 6)</small><table border=\"1\" class=\"dataframe\"><thead><tr><th>tconst</th><th>ordering</th><th>nconst</th><th>category</th><th>job</th><th>characters</th></tr><tr><td>str</td><td>i64</td><td>str</td><td>str</td><td>str</td><td>str</td></tr></thead><tbody><tr><td>&quot;tt0000001&quot;</td><td>1</td><td>&quot;nm1588970&quot;</td><td>&quot;self&quot;</td><td>&quot;\\N&quot;</td><td>&quot;[&quot;Self&quot;]&quot;</td></tr><tr><td>&quot;tt0000001&quot;</td><td>2</td><td>&quot;nm0005690&quot;</td><td>&quot;director&quot;</td><td>&quot;\\N&quot;</td><td>&quot;\\N&quot;</td></tr><tr><td>&quot;tt0000001&quot;</td><td>3</td><td>&quot;nm0374658&quot;</td><td>&quot;cinematographe…</td><td>&quot;director of ph…</td><td>&quot;\\N&quot;</td></tr><tr><td>&quot;tt0000002&quot;</td><td>1</td><td>&quot;nm0721526&quot;</td><td>&quot;director&quot;</td><td>&quot;\\N&quot;</td><td>&quot;\\N&quot;</td></tr><tr><td>&quot;tt0000002&quot;</td><td>2</td><td>&quot;nm1335271&quot;</td><td>&quot;composer&quot;</td><td>&quot;\\N&quot;</td><td>&quot;\\N&quot;</td></tr></tbody></table></div>"
      ],
      "text/plain": [
       "shape: (5, 6)\n",
       "┌───────────┬──────────┬───────────┬─────────────────┬─────────────────────────┬────────────┐\n",
       "│ tconst    ┆ ordering ┆ nconst    ┆ category        ┆ job                     ┆ characters │\n",
       "│ ---       ┆ ---      ┆ ---       ┆ ---             ┆ ---                     ┆ ---        │\n",
       "│ str       ┆ i64      ┆ str       ┆ str             ┆ str                     ┆ str        │\n",
       "╞═══════════╪══════════╪═══════════╪═════════════════╪═════════════════════════╪════════════╡\n",
       "│ tt0000001 ┆ 1        ┆ nm1588970 ┆ self            ┆ \\N                      ┆ [\"Self\"]   │\n",
       "│ tt0000001 ┆ 2        ┆ nm0005690 ┆ director        ┆ \\N                      ┆ \\N         │\n",
       "│ tt0000001 ┆ 3        ┆ nm0374658 ┆ cinematographer ┆ director of photography ┆ \\N         │\n",
       "│ tt0000002 ┆ 1        ┆ nm0721526 ┆ director        ┆ \\N                      ┆ \\N         │\n",
       "│ tt0000002 ┆ 2        ┆ nm1335271 ┆ composer        ┆ \\N                      ┆ \\N         │\n",
       "└───────────┴──────────┴───────────┴─────────────────┴─────────────────────────┴────────────┘"
      ]
     },
     "execution_count": 91,
     "metadata": {},
     "output_type": "execute_result"
    }
   ],
   "source": [
    "table = pq.read_table(\"./pipeline/data/raw_data/parquet/title.principals.parquet\")\n",
    "df = pl.from_arrow(table)\n",
    "df.head()"
   ]
  }
 ],
 "metadata": {
  "kernelspec": {
   "display_name": "celluloid_env",
   "language": "python",
   "name": "python3"
  },
  "language_info": {
   "codemirror_mode": {
    "name": "ipython",
    "version": 3
   },
   "file_extension": ".py",
   "mimetype": "text/x-python",
   "name": "python",
   "nbconvert_exporter": "python",
   "pygments_lexer": "ipython3",
   "version": "3.11.7"
  }
 },
 "nbformat": 4,
 "nbformat_minor": 2
}
