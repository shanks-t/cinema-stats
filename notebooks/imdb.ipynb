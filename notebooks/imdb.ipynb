{
 "cells": [
  {
   "cell_type": "code",
   "execution_count": 2,
   "metadata": {},
   "outputs": [],
   "source": [
    "import polars as pl\n",
    "from utils.functions import open_parquet"
   ]
  },
  {
   "cell_type": "code",
   "execution_count": 3,
   "metadata": {},
   "outputs": [
    {
     "name": "stdout",
     "output_type": "stream",
     "text": [
      "(13142051, 6)\n",
      "['nconst', 'primaryName', 'birthYear', 'deathYear', 'primaryProfession', 'knownForTitles']\n"
     ]
    },
    {
     "data": {
      "text/html": [
       "<div><style>\n",
       ".dataframe > thead > tr,\n",
       ".dataframe > tbody > tr {\n",
       "  text-align: right;\n",
       "  white-space: pre-wrap;\n",
       "}\n",
       "</style>\n",
       "<small>shape: (5, 6)</small><table border=\"1\" class=\"dataframe\"><thead><tr><th>nconst</th><th>primaryName</th><th>birthYear</th><th>deathYear</th><th>primaryProfession</th><th>knownForTitles</th></tr><tr><td>str</td><td>str</td><td>str</td><td>str</td><td>str</td><td>str</td></tr></thead><tbody><tr><td>&quot;nm0000001&quot;</td><td>&quot;Fred Astaire&quot;</td><td>&quot;1899&quot;</td><td>&quot;1987&quot;</td><td>&quot;soundtrack,act…</td><td>&quot;tt0050419,tt00…</td></tr><tr><td>&quot;nm0000002&quot;</td><td>&quot;Lauren Bacall&quot;</td><td>&quot;1924&quot;</td><td>&quot;2014&quot;</td><td>&quot;actress,soundt…</td><td>&quot;tt0075213,tt00…</td></tr><tr><td>&quot;nm0000003&quot;</td><td>&quot;Brigitte Bardo…</td><td>&quot;1934&quot;</td><td>&quot;\\N&quot;</td><td>&quot;actress,soundt…</td><td>&quot;tt0049189,tt00…</td></tr><tr><td>&quot;nm0000004&quot;</td><td>&quot;John Belushi&quot;</td><td>&quot;1949&quot;</td><td>&quot;1982&quot;</td><td>&quot;actor,soundtra…</td><td>&quot;tt0078723,tt00…</td></tr><tr><td>&quot;nm0000005&quot;</td><td>&quot;Ingmar Bergman…</td><td>&quot;1918&quot;</td><td>&quot;2007&quot;</td><td>&quot;writer,directo…</td><td>&quot;tt0083922,tt00…</td></tr></tbody></table></div>"
      ],
      "text/plain": [
       "shape: (5, 6)\n",
       "┌───────────┬─────────────────┬───────────┬───────────┬──────────────────────┬─────────────────────┐\n",
       "│ nconst    ┆ primaryName     ┆ birthYear ┆ deathYear ┆ primaryProfession    ┆ knownForTitles      │\n",
       "│ ---       ┆ ---             ┆ ---       ┆ ---       ┆ ---                  ┆ ---                 │\n",
       "│ str       ┆ str             ┆ str       ┆ str       ┆ str                  ┆ str                 │\n",
       "╞═══════════╪═════════════════╪═══════════╪═══════════╪══════════════════════╪═════════════════════╡\n",
       "│ nm0000001 ┆ Fred Astaire    ┆ 1899      ┆ 1987      ┆ soundtrack,actor,mis ┆ tt0050419,tt0031983 │\n",
       "│           ┆                 ┆           ┆           ┆ cellaneous           ┆ ,tt0072308,tt…      │\n",
       "│ nm0000002 ┆ Lauren Bacall   ┆ 1924      ┆ 2014      ┆ actress,soundtrack   ┆ tt0075213,tt0037382 │\n",
       "│           ┆                 ┆           ┆           ┆                      ┆ ,tt0038355,tt…      │\n",
       "│ nm0000003 ┆ Brigitte Bardot ┆ 1934      ┆ \\N        ┆ actress,soundtrack,m ┆ tt0049189,tt0054452 │\n",
       "│           ┆                 ┆           ┆           ┆ usic_departm…        ┆ ,tt0056404,tt…      │\n",
       "│ nm0000004 ┆ John Belushi    ┆ 1949      ┆ 1982      ┆ actor,soundtrack,wri ┆ tt0078723,tt0077975 │\n",
       "│           ┆                 ┆           ┆           ┆ ter                  ┆ ,tt0080455,tt…      │\n",
       "│ nm0000005 ┆ Ingmar Bergman  ┆ 1918      ┆ 2007      ┆ writer,director,acto ┆ tt0083922,tt0069467 │\n",
       "│           ┆                 ┆           ┆           ┆ r                    ┆ ,tt0050986,tt…      │\n",
       "└───────────┴─────────────────┴───────────┴───────────┴──────────────────────┴─────────────────────┘"
      ]
     },
     "execution_count": 3,
     "metadata": {},
     "output_type": "execute_result"
    }
   ],
   "source": [
    "name_file = \"../dagster/data/raw_data/parquet/name.basics.parquet\"\n",
    "# df_name = open_parquet(name_file)\n",
    "df_name = pl.read_parquet(name_file)\n",
    "print(df_name.shape)\n",
    "print(df_name.columns)\n",
    "df_name.head()"
   ]
  },
  {
   "cell_type": "code",
   "execution_count": 4,
   "metadata": {},
   "outputs": [
    {
     "name": "stdout",
     "output_type": "stream",
     "text": [
      "(10448119, 9)\n",
      "(667364, 9)\n",
      "['tconst', 'titleType', 'primaryTitle', 'originalTitle', 'isAdult', 'startYear', 'endYear', 'runtimeMinutes', 'genres']\n"
     ]
    },
    {
     "data": {
      "text/html": [
       "<div><style>\n",
       ".dataframe > thead > tr,\n",
       ".dataframe > tbody > tr {\n",
       "  text-align: right;\n",
       "  white-space: pre-wrap;\n",
       "}\n",
       "</style>\n",
       "<small>shape: (5, 9)</small><table border=\"1\" class=\"dataframe\"><thead><tr><th>tconst</th><th>titleType</th><th>primaryTitle</th><th>originalTitle</th><th>isAdult</th><th>startYear</th><th>endYear</th><th>runtimeMinutes</th><th>genres</th></tr><tr><td>str</td><td>str</td><td>str</td><td>str</td><td>i64</td><td>i64</td><td>str</td><td>str</td><td>str</td></tr></thead><tbody><tr><td>&quot;tt0000009&quot;</td><td>&quot;movie&quot;</td><td>&quot;Miss Jerry&quot;</td><td>&quot;Miss Jerry&quot;</td><td>0</td><td>1894</td><td>&quot;\\N&quot;</td><td>&quot;45&quot;</td><td>&quot;Romance&quot;</td></tr><tr><td>&quot;tt0000147&quot;</td><td>&quot;movie&quot;</td><td>&quot;The Corbett-Fi…</td><td>&quot;The Corbett-Fi…</td><td>0</td><td>1897</td><td>&quot;\\N&quot;</td><td>&quot;100&quot;</td><td>&quot;Documentary,Ne…</td></tr><tr><td>&quot;tt0000502&quot;</td><td>&quot;movie&quot;</td><td>&quot;Bohemios&quot;</td><td>&quot;Bohemios&quot;</td><td>0</td><td>1905</td><td>&quot;\\N&quot;</td><td>&quot;100&quot;</td><td>&quot;\\N&quot;</td></tr><tr><td>&quot;tt0000574&quot;</td><td>&quot;movie&quot;</td><td>&quot;The Story of t…</td><td>&quot;The Story of t…</td><td>0</td><td>1906</td><td>&quot;\\N&quot;</td><td>&quot;70&quot;</td><td>&quot;Action,Adventu…</td></tr><tr><td>&quot;tt0000591&quot;</td><td>&quot;movie&quot;</td><td>&quot;The Prodigal S…</td><td>&quot;L&#x27;enfant prodi…</td><td>0</td><td>1907</td><td>&quot;\\N&quot;</td><td>&quot;90&quot;</td><td>&quot;Drama&quot;</td></tr></tbody></table></div>"
      ],
      "text/plain": [
       "shape: (5, 9)\n",
       "┌───────────┬───────────┬────────────┬───────────┬───┬───────────┬─────────┬───────────┬───────────┐\n",
       "│ tconst    ┆ titleType ┆ primaryTit ┆ originalT ┆ … ┆ startYear ┆ endYear ┆ runtimeMi ┆ genres    │\n",
       "│ ---       ┆ ---       ┆ le         ┆ itle      ┆   ┆ ---       ┆ ---     ┆ nutes     ┆ ---       │\n",
       "│ str       ┆ str       ┆ ---        ┆ ---       ┆   ┆ i64       ┆ str     ┆ ---       ┆ str       │\n",
       "│           ┆           ┆ str        ┆ str       ┆   ┆           ┆         ┆ str       ┆           │\n",
       "╞═══════════╪═══════════╪════════════╪═══════════╪═══╪═══════════╪═════════╪═══════════╪═══════════╡\n",
       "│ tt0000009 ┆ movie     ┆ Miss Jerry ┆ Miss      ┆ … ┆ 1894      ┆ \\N      ┆ 45        ┆ Romance   │\n",
       "│           ┆           ┆            ┆ Jerry     ┆   ┆           ┆         ┆           ┆           │\n",
       "│ tt0000147 ┆ movie     ┆ The Corbet ┆ The Corbe ┆ … ┆ 1897      ┆ \\N      ┆ 100       ┆ Documenta │\n",
       "│           ┆           ┆ t-Fitzsimm ┆ tt-Fitzsi ┆   ┆           ┆         ┆           ┆ ry,News,S │\n",
       "│           ┆           ┆ ons Fight  ┆ mmons     ┆   ┆           ┆         ┆           ┆ port      │\n",
       "│           ┆           ┆            ┆ Fight     ┆   ┆           ┆         ┆           ┆           │\n",
       "│ tt0000502 ┆ movie     ┆ Bohemios   ┆ Bohemios  ┆ … ┆ 1905      ┆ \\N      ┆ 100       ┆ \\N        │\n",
       "│ tt0000574 ┆ movie     ┆ The Story  ┆ The Story ┆ … ┆ 1906      ┆ \\N      ┆ 70        ┆ Action,Ad │\n",
       "│           ┆           ┆ of the     ┆ of the    ┆   ┆           ┆         ┆           ┆ venture,B │\n",
       "│           ┆           ┆ Kelly Gang ┆ Kelly     ┆   ┆           ┆         ┆           ┆ iography  │\n",
       "│           ┆           ┆            ┆ Gang      ┆   ┆           ┆         ┆           ┆           │\n",
       "│ tt0000591 ┆ movie     ┆ The        ┆ L'enfant  ┆ … ┆ 1907      ┆ \\N      ┆ 90        ┆ Drama     │\n",
       "│           ┆           ┆ Prodigal   ┆ prodigue  ┆   ┆           ┆         ┆           ┆           │\n",
       "│           ┆           ┆ Son        ┆           ┆   ┆           ┆         ┆           ┆           │\n",
       "└───────────┴───────────┴────────────┴───────────┴───┴───────────┴─────────┴───────────┴───────────┘"
      ]
     },
     "execution_count": 4,
     "metadata": {},
     "output_type": "execute_result"
    }
   ],
   "source": [
    "title_basics_file = \"../dagster/data/raw_data/parquet/title.basics.parquet\"\n",
    "df_title_basics = open_parquet(title_basics_file)\n",
    "print(df_title_basics.shape)\n",
    "\n",
    "df_title_basics = df_title_basics.filter(pl.col('titleType') == \"movie\")\n",
    "print(df_title_basics.shape)\n",
    "print(df_title_basics.columns)\n",
    "df_title_basics.head()"
   ]
  },
  {
   "cell_type": "code",
   "execution_count": 5,
   "metadata": {},
   "outputs": [
    {
     "name": "stdout",
     "output_type": "stream",
     "text": [
      "(37869662, 8)\n",
      "['titleId', 'ordering', 'title', 'region', 'language', 'types', 'attributes', 'isOriginalTitle']\n"
     ]
    }
   ],
   "source": [
    "title_akas_file = (\"../dagster/data/raw_data/parquet/title.akas.parquet\")\n",
    "df_title_akas = open_parquet(title_akas_file)\n",
    "print(df_title_akas.shape)\n",
    "print(df_title_akas.columns)"
   ]
  },
  {
   "cell_type": "code",
   "execution_count": 6,
   "metadata": {},
   "outputs": [
    {
     "name": "stdout",
     "output_type": "stream",
     "text": [
      "(1385133, 3)\n",
      "['tconst', 'averageRating', 'numVotes']\n"
     ]
    },
    {
     "data": {
      "text/html": [
       "<div><style>\n",
       ".dataframe > thead > tr,\n",
       ".dataframe > tbody > tr {\n",
       "  text-align: right;\n",
       "  white-space: pre-wrap;\n",
       "}\n",
       "</style>\n",
       "<small>shape: (5, 3)</small><table border=\"1\" class=\"dataframe\"><thead><tr><th>tconst</th><th>averageRating</th><th>numVotes</th></tr><tr><td>str</td><td>f64</td><td>i64</td></tr></thead><tbody><tr><td>&quot;tt0000001&quot;</td><td>5.7</td><td>2014</td></tr><tr><td>&quot;tt0000002&quot;</td><td>5.7</td><td>272</td></tr><tr><td>&quot;tt0000003&quot;</td><td>6.5</td><td>1936</td></tr><tr><td>&quot;tt0000004&quot;</td><td>5.4</td><td>179</td></tr><tr><td>&quot;tt0000005&quot;</td><td>6.2</td><td>2707</td></tr></tbody></table></div>"
      ],
      "text/plain": [
       "shape: (5, 3)\n",
       "┌───────────┬───────────────┬──────────┐\n",
       "│ tconst    ┆ averageRating ┆ numVotes │\n",
       "│ ---       ┆ ---           ┆ ---      │\n",
       "│ str       ┆ f64           ┆ i64      │\n",
       "╞═══════════╪═══════════════╪══════════╡\n",
       "│ tt0000001 ┆ 5.7           ┆ 2014     │\n",
       "│ tt0000002 ┆ 5.7           ┆ 272      │\n",
       "│ tt0000003 ┆ 6.5           ┆ 1936     │\n",
       "│ tt0000004 ┆ 5.4           ┆ 179      │\n",
       "│ tt0000005 ┆ 6.2           ┆ 2707     │\n",
       "└───────────┴───────────────┴──────────┘"
      ]
     },
     "execution_count": 6,
     "metadata": {},
     "output_type": "execute_result"
    }
   ],
   "source": [
    "title_rate_file = \"../dagster/data/raw_data/parquet/title.ratings.parquet\"\n",
    "# df_title_ratings = open_parquet(title_rate_file)\n",
    "df_title_ratings = pl.read_parquet(title_rate_file)\n",
    "print(df_title_ratings.shape)\n",
    "print(df_title_ratings.columns)\n",
    "df_title_ratings.head()"
   ]
  },
  {
   "cell_type": "code",
   "execution_count": 7,
   "metadata": {},
   "outputs": [
    {
     "name": "stdout",
     "output_type": "stream",
     "text": [
      "(10448119, 3)\n",
      "['tconst', 'directors', 'writers']\n"
     ]
    },
    {
     "data": {
      "text/html": [
       "<div><style>\n",
       ".dataframe > thead > tr,\n",
       ".dataframe > tbody > tr {\n",
       "  text-align: right;\n",
       "  white-space: pre-wrap;\n",
       "}\n",
       "</style>\n",
       "<small>shape: (5, 3)</small><table border=\"1\" class=\"dataframe\"><thead><tr><th>tconst</th><th>directors</th><th>writers</th></tr><tr><td>str</td><td>str</td><td>str</td></tr></thead><tbody><tr><td>&quot;tt0000001&quot;</td><td>&quot;nm0005690&quot;</td><td>&quot;\\N&quot;</td></tr><tr><td>&quot;tt0000002&quot;</td><td>&quot;nm0721526&quot;</td><td>&quot;\\N&quot;</td></tr><tr><td>&quot;tt0000003&quot;</td><td>&quot;nm0721526&quot;</td><td>&quot;\\N&quot;</td></tr><tr><td>&quot;tt0000004&quot;</td><td>&quot;nm0721526&quot;</td><td>&quot;\\N&quot;</td></tr><tr><td>&quot;tt0000005&quot;</td><td>&quot;nm0005690&quot;</td><td>&quot;\\N&quot;</td></tr></tbody></table></div>"
      ],
      "text/plain": [
       "shape: (5, 3)\n",
       "┌───────────┬───────────┬─────────┐\n",
       "│ tconst    ┆ directors ┆ writers │\n",
       "│ ---       ┆ ---       ┆ ---     │\n",
       "│ str       ┆ str       ┆ str     │\n",
       "╞═══════════╪═══════════╪═════════╡\n",
       "│ tt0000001 ┆ nm0005690 ┆ \\N      │\n",
       "│ tt0000002 ┆ nm0721526 ┆ \\N      │\n",
       "│ tt0000003 ┆ nm0721526 ┆ \\N      │\n",
       "│ tt0000004 ┆ nm0721526 ┆ \\N      │\n",
       "│ tt0000005 ┆ nm0005690 ┆ \\N      │\n",
       "└───────────┴───────────┴─────────┘"
      ]
     },
     "execution_count": 7,
     "metadata": {},
     "output_type": "execute_result"
    }
   ],
   "source": [
    "title_crew_file = \"../dagster/data/raw_data/parquet/title.crew.parquet\"\n",
    "# df_title_crew = open_parquet(title_crew_file)\n",
    "df_title_crew = pl.read_parquet(title_crew_file)\n",
    "print(df_title_crew.shape)\n",
    "print(df_title_crew.columns)\n",
    "df_title_crew.head()"
   ]
  },
  {
   "cell_type": "code",
   "execution_count": 8,
   "metadata": {},
   "outputs": [
    {
     "name": "stdout",
     "output_type": "stream",
     "text": [
      "(58791290, 6)\n",
      "['tconst', 'ordering', 'nconst', 'category', 'job', 'characters']\n"
     ]
    },
    {
     "data": {
      "text/html": [
       "<div><style>\n",
       ".dataframe > thead > tr,\n",
       ".dataframe > tbody > tr {\n",
       "  text-align: right;\n",
       "  white-space: pre-wrap;\n",
       "}\n",
       "</style>\n",
       "<small>shape: (5, 6)</small><table border=\"1\" class=\"dataframe\"><thead><tr><th>tconst</th><th>ordering</th><th>nconst</th><th>category</th><th>job</th><th>characters</th></tr><tr><td>str</td><td>i64</td><td>str</td><td>str</td><td>str</td><td>str</td></tr></thead><tbody><tr><td>&quot;tt0000001&quot;</td><td>1</td><td>&quot;nm1588970&quot;</td><td>&quot;self&quot;</td><td>&quot;\\N&quot;</td><td>&quot;[&quot;Self&quot;]&quot;</td></tr><tr><td>&quot;tt0000001&quot;</td><td>2</td><td>&quot;nm0005690&quot;</td><td>&quot;director&quot;</td><td>&quot;\\N&quot;</td><td>&quot;\\N&quot;</td></tr><tr><td>&quot;tt0000001&quot;</td><td>3</td><td>&quot;nm0374658&quot;</td><td>&quot;cinematographe…</td><td>&quot;director of ph…</td><td>&quot;\\N&quot;</td></tr><tr><td>&quot;tt0000002&quot;</td><td>1</td><td>&quot;nm0721526&quot;</td><td>&quot;director&quot;</td><td>&quot;\\N&quot;</td><td>&quot;\\N&quot;</td></tr><tr><td>&quot;tt0000002&quot;</td><td>2</td><td>&quot;nm1335271&quot;</td><td>&quot;composer&quot;</td><td>&quot;\\N&quot;</td><td>&quot;\\N&quot;</td></tr></tbody></table></div>"
      ],
      "text/plain": [
       "shape: (5, 6)\n",
       "┌───────────┬──────────┬───────────┬─────────────────┬─────────────────────────┬────────────┐\n",
       "│ tconst    ┆ ordering ┆ nconst    ┆ category        ┆ job                     ┆ characters │\n",
       "│ ---       ┆ ---      ┆ ---       ┆ ---             ┆ ---                     ┆ ---        │\n",
       "│ str       ┆ i64      ┆ str       ┆ str             ┆ str                     ┆ str        │\n",
       "╞═══════════╪══════════╪═══════════╪═════════════════╪═════════════════════════╪════════════╡\n",
       "│ tt0000001 ┆ 1        ┆ nm1588970 ┆ self            ┆ \\N                      ┆ [\"Self\"]   │\n",
       "│ tt0000001 ┆ 2        ┆ nm0005690 ┆ director        ┆ \\N                      ┆ \\N         │\n",
       "│ tt0000001 ┆ 3        ┆ nm0374658 ┆ cinematographer ┆ director of photography ┆ \\N         │\n",
       "│ tt0000002 ┆ 1        ┆ nm0721526 ┆ director        ┆ \\N                      ┆ \\N         │\n",
       "│ tt0000002 ┆ 2        ┆ nm1335271 ┆ composer        ┆ \\N                      ┆ \\N         │\n",
       "└───────────┴──────────┴───────────┴─────────────────┴─────────────────────────┴────────────┘"
      ]
     },
     "execution_count": 8,
     "metadata": {},
     "output_type": "execute_result"
    }
   ],
   "source": [
    "title_principals_file = \"../dagster/data/raw_data/parquet/title.principals.parquet\"\n",
    "df_title_principals = pl.read_parquet(title_principals_file)\n",
    "# df_title_principals = open_parquet(title_principals_file)\n",
    "print(df_title_principals.shape)\n",
    "print(df_title_principals.columns)\n",
    "df_title_principals.head()"
   ]
  },
  {
   "cell_type": "code",
   "execution_count": 9,
   "metadata": {},
   "outputs": [
    {
     "name": "stdout",
     "output_type": "stream",
     "text": [
      "(301971, 11)\n",
      "['const', 'titleType', 'primaryTitle', 'originalTitle', 'isAdult', 'releaseDate', 'endYear', 'runtimeMinutes', 'genre', 'averageRating', 'numVotes']\n"
     ]
    },
    {
     "data": {
      "text/html": [
       "<div><style>\n",
       ".dataframe > thead > tr,\n",
       ".dataframe > tbody > tr {\n",
       "  text-align: right;\n",
       "  white-space: pre-wrap;\n",
       "}\n",
       "</style>\n",
       "<small>shape: (5, 11)</small><table border=\"1\" class=\"dataframe\"><thead><tr><th>const</th><th>titleType</th><th>primaryTitle</th><th>originalTitle</th><th>isAdult</th><th>releaseDate</th><th>endYear</th><th>runtimeMinutes</th><th>genre</th><th>averageRating</th><th>numVotes</th></tr><tr><td>str</td><td>str</td><td>str</td><td>str</td><td>i32</td><td>i32</td><td>i32</td><td>i32</td><td>str</td><td>f32</td><td>i32</td></tr></thead><tbody><tr><td>&quot;tt0111161&quot;</td><td>&quot;movie&quot;</td><td>&quot;The Shawshank …</td><td>&quot;The Shawshank …</td><td>0</td><td>1994</td><td>null</td><td>142</td><td>&quot;Drama&quot;</td><td>9.3</td><td>2835969</td></tr><tr><td>&quot;tt0468569&quot;</td><td>&quot;movie&quot;</td><td>&quot;The Dark Knigh…</td><td>&quot;The Dark Knigh…</td><td>0</td><td>2008</td><td>null</td><td>152</td><td>&quot;Action,Crime,D…</td><td>9.0</td><td>2817391</td></tr><tr><td>&quot;tt1375666&quot;</td><td>&quot;movie&quot;</td><td>&quot;Inception&quot;</td><td>&quot;Inception&quot;</td><td>0</td><td>2010</td><td>null</td><td>148</td><td>&quot;Action,Adventu…</td><td>8.8</td><td>2500739</td></tr><tr><td>&quot;tt0137523&quot;</td><td>&quot;movie&quot;</td><td>&quot;Fight Club&quot;</td><td>&quot;Fight Club&quot;</td><td>0</td><td>1999</td><td>null</td><td>139</td><td>&quot;Drama&quot;</td><td>8.8</td><td>2271670</td></tr><tr><td>&quot;tt0109830&quot;</td><td>&quot;movie&quot;</td><td>&quot;Forrest Gump&quot;</td><td>&quot;Forrest Gump&quot;</td><td>0</td><td>1994</td><td>null</td><td>142</td><td>&quot;Drama,Romance&quot;</td><td>8.8</td><td>2210564</td></tr></tbody></table></div>"
      ],
      "text/plain": [
       "shape: (5, 11)\n",
       "┌───────────┬───────────┬───────────┬───────────┬───┬───────────┬───────────┬───────────┬──────────┐\n",
       "│ const     ┆ titleType ┆ primaryTi ┆ originalT ┆ … ┆ runtimeMi ┆ genre     ┆ averageRa ┆ numVotes │\n",
       "│ ---       ┆ ---       ┆ tle       ┆ itle      ┆   ┆ nutes     ┆ ---       ┆ ting      ┆ ---      │\n",
       "│ str       ┆ str       ┆ ---       ┆ ---       ┆   ┆ ---       ┆ str       ┆ ---       ┆ i32      │\n",
       "│           ┆           ┆ str       ┆ str       ┆   ┆ i32       ┆           ┆ f32       ┆          │\n",
       "╞═══════════╪═══════════╪═══════════╪═══════════╪═══╪═══════════╪═══════════╪═══════════╪══════════╡\n",
       "│ tt0111161 ┆ movie     ┆ The       ┆ The       ┆ … ┆ 142       ┆ Drama     ┆ 9.3       ┆ 2835969  │\n",
       "│           ┆           ┆ Shawshank ┆ Shawshank ┆   ┆           ┆           ┆           ┆          │\n",
       "│           ┆           ┆ Redemptio ┆ Redemptio ┆   ┆           ┆           ┆           ┆          │\n",
       "│           ┆           ┆ n         ┆ n         ┆   ┆           ┆           ┆           ┆          │\n",
       "│ tt0468569 ┆ movie     ┆ The Dark  ┆ The Dark  ┆ … ┆ 152       ┆ Action,Cr ┆ 9.0       ┆ 2817391  │\n",
       "│           ┆           ┆ Knight    ┆ Knight    ┆   ┆           ┆ ime,Drama ┆           ┆          │\n",
       "│ tt1375666 ┆ movie     ┆ Inception ┆ Inception ┆ … ┆ 148       ┆ Action,Ad ┆ 8.8       ┆ 2500739  │\n",
       "│           ┆           ┆           ┆           ┆   ┆           ┆ venture,S ┆           ┆          │\n",
       "│           ┆           ┆           ┆           ┆   ┆           ┆ ci-Fi     ┆           ┆          │\n",
       "│ tt0137523 ┆ movie     ┆ Fight     ┆ Fight     ┆ … ┆ 139       ┆ Drama     ┆ 8.8       ┆ 2271670  │\n",
       "│           ┆           ┆ Club      ┆ Club      ┆   ┆           ┆           ┆           ┆          │\n",
       "│ tt0109830 ┆ movie     ┆ Forrest   ┆ Forrest   ┆ … ┆ 142       ┆ Drama,Rom ┆ 8.8       ┆ 2210564  │\n",
       "│           ┆           ┆ Gump      ┆ Gump      ┆   ┆           ┆ ance      ┆           ┆          │\n",
       "└───────────┴───────────┴───────────┴───────────┴───┴───────────┴───────────┴───────────┴──────────┘"
      ]
     },
     "execution_count": 9,
     "metadata": {},
     "output_type": "execute_result"
    }
   ],
   "source": [
    "df_path = \"../dagster/data/raw_data/parquet/imdb.movies.parquet\"\n",
    "df = pl.read_parquet(df_path)\n",
    "print(df.shape)\n",
    "print(df.columns)\n",
    "df.head()"
   ]
  },
  {
   "cell_type": "code",
   "execution_count": 20,
   "metadata": {},
   "outputs": [
    {
     "name": "stdout",
     "output_type": "stream",
     "text": [
      "['const', 'titleType', 'primaryTitle', 'originalTitle', 'isAdult', 'year', 'endYear', 'runtimeMinutes', 'genre', 'averageRating', 'numVotes']\n"
     ]
    },
    {
     "data": {
      "text/html": [
       "<div><style>\n",
       ".dataframe > thead > tr,\n",
       ".dataframe > tbody > tr {\n",
       "  text-align: right;\n",
       "  white-space: pre-wrap;\n",
       "}\n",
       "</style>\n",
       "<small>shape: (0, 11)</small><table border=\"1\" class=\"dataframe\"><thead><tr><th>const</th><th>titleType</th><th>primaryTitle</th><th>originalTitle</th><th>isAdult</th><th>year</th><th>endYear</th><th>runtimeMinutes</th><th>genre</th><th>averageRating</th><th>numVotes</th></tr><tr><td>str</td><td>str</td><td>str</td><td>str</td><td>i32</td><td>i32</td><td>i32</td><td>i32</td><td>str</td><td>f32</td><td>i32</td></tr></thead><tbody></tbody></table></div>"
      ],
      "text/plain": [
       "shape: (0, 11)\n",
       "┌───────┬───────────┬─────────────┬─────────────┬───┬─────────────┬───────┬─────────────┬──────────┐\n",
       "│ const ┆ titleType ┆ primaryTitl ┆ originalTit ┆ … ┆ runtimeMinu ┆ genre ┆ averageRati ┆ numVotes │\n",
       "│ ---   ┆ ---       ┆ e           ┆ le          ┆   ┆ tes         ┆ ---   ┆ ng          ┆ ---      │\n",
       "│ str   ┆ str       ┆ ---         ┆ ---         ┆   ┆ ---         ┆ str   ┆ ---         ┆ i32      │\n",
       "│       ┆           ┆ str         ┆ str         ┆   ┆ i32         ┆       ┆ f32         ┆          │\n",
       "╞═══════╪═══════════╪═════════════╪═════════════╪═══╪═════════════╪═══════╪═════════════╪══════════╡\n",
       "└───────┴───────────┴─────────────┴─────────────┴───┴─────────────┴───────┴─────────────┴──────────┘"
      ]
     },
     "execution_count": 20,
     "metadata": {},
     "output_type": "execute_result"
    }
   ],
   "source": [
    "# df = df.rename({\"releaseDate\": \"year\"})\n",
    "print(df.columns)\n",
    "\n",
    "# df.write_parquet('../dagster/data/raw_data/parquet/imdb.movies.parquet')\n",
    "df = df.filter(pl.col('year') > 2023)\n",
    "df.head(50)"
   ]
  }
 ],
 "metadata": {
  "kernelspec": {
   "display_name": "celluloid_env",
   "language": "python",
   "name": "python3"
  },
  "language_info": {
   "codemirror_mode": {
    "name": "ipython",
    "version": 3
   },
   "file_extension": ".py",
   "mimetype": "text/x-python",
   "name": "python",
   "nbconvert_exporter": "python",
   "pygments_lexer": "ipython3",
   "version": "3.11.7"
  }
 },
 "nbformat": 4,
 "nbformat_minor": 2
}
