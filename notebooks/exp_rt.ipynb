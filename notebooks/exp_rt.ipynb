{
 "cells": [
  {
   "cell_type": "code",
   "execution_count": 9,
   "metadata": {},
   "outputs": [],
   "source": [
    "import polars as pl\n",
    "import pandas as pd\n",
    "import numpy as np\n",
    "import os\n",
    "import pyarrow.parquet as pq"
   ]
  },
  {
   "cell_type": "code",
   "execution_count": 10,
   "metadata": {},
   "outputs": [],
   "source": [
    "def convert_tsv_to_parquet(tsv_file_path, parquet_dir):\n",
    "    \"\"\"\n",
    "    Converts a TSV file to a Parquet file\n",
    "    \"\"\"\n",
    "\n",
    "    parquet_file_name = os.path.basename(tsv_file_path).replace('.csv', '.parquet')\n",
    "    parquet_file_path = os.path.join(parquet_dir, parquet_file_name)\n",
    "\n",
    "    df = pl.read_csv(tsv_file_path, separator=',', has_header=True, ignore_errors=True)\n",
    "    df.write_parquet(parquet_file_path)\n",
    "\n",
    "    return parquet_file_path"
   ]
  },
  {
   "cell_type": "code",
   "execution_count": 11,
   "metadata": {},
   "outputs": [],
   "source": [
    "path = convert_tsv_to_parquet(\"../pipeline/data/raw_data/tsv/archive/rotten_tomatoes_movies.csv\", \"../pipeline/data/raw_data/parquet/\")"
   ]
  },
  {
   "cell_type": "code",
   "execution_count": 33,
   "metadata": {},
   "outputs": [],
   "source": [
    "df = pl.read_parquet(path)"
   ]
  },
  {
   "cell_type": "code",
   "execution_count": 57,
   "metadata": {},
   "outputs": [
    {
     "data": {
      "text/plain": [
       "['id',\n",
       " 'title',\n",
       " 'audienceScore',\n",
       " 'tomatoMeter',\n",
       " 'rating',\n",
       " 'ratingContents',\n",
       " 'releaseDateTheaters',\n",
       " 'releaseDateStreaming',\n",
       " 'runtimeMinutes',\n",
       " 'genre',\n",
       " 'originalLanguage',\n",
       " 'director',\n",
       " 'writer',\n",
       " 'boxOffice',\n",
       " 'distributor',\n",
       " 'soundMix']"
      ]
     },
     "execution_count": 57,
     "metadata": {},
     "output_type": "execute_result"
    }
   ],
   "source": [
    "df.columns"
   ]
  },
  {
   "cell_type": "code",
   "execution_count": 58,
   "metadata": {},
   "outputs": [
    {
     "data": {
      "text/html": [
       "<div><style>\n",
       ".dataframe > thead > tr,\n",
       ".dataframe > tbody > tr {\n",
       "  text-align: right;\n",
       "  white-space: pre-wrap;\n",
       "}\n",
       "</style>\n",
       "<small>shape: (4_864, 2)</small><table border=\"1\" class=\"dataframe\"><thead><tr><th>boxOffice</th><th>count</th></tr><tr><td>str</td><td>u32</td></tr></thead><tbody><tr><td>&quot;$215.0K&quot;</td><td>2</td></tr><tr><td>&quot;$62.1M&quot;</td><td>2</td></tr><tr><td>&quot;$206.9M&quot;</td><td>1</td></tr><tr><td>&quot;$49.3M&quot;</td><td>2</td></tr><tr><td>&quot;$45.7K&quot;</td><td>4</td></tr><tr><td>&quot;$141.2M&quot;</td><td>2</td></tr><tr><td>&quot;$13.1K&quot;</td><td>8</td></tr><tr><td>&quot;$708.6K&quot;</td><td>1</td></tr><tr><td>&quot;$57.5K&quot;</td><td>2</td></tr><tr><td>&quot;$105.6M&quot;</td><td>1</td></tr><tr><td>&quot;$275.2K&quot;</td><td>1</td></tr><tr><td>&quot;$326.4K&quot;</td><td>1</td></tr><tr><td>&hellip;</td><td>&hellip;</td></tr><tr><td>&quot;$267.7M&quot;</td><td>1</td></tr><tr><td>&quot;$24.4M&quot;</td><td>10</td></tr><tr><td>&quot;$30.4M&quot;</td><td>1</td></tr><tr><td>&quot;$828.1K&quot;</td><td>1</td></tr><tr><td>&quot;$61.8M&quot;</td><td>4</td></tr><tr><td>&quot;$21.1K&quot;</td><td>9</td></tr><tr><td>&quot;$29.7K&quot;</td><td>4</td></tr><tr><td>&quot;$138.5M&quot;</td><td>1</td></tr><tr><td>&quot;$785.4K&quot;</td><td>1</td></tr><tr><td>&quot;$187.7M&quot;</td><td>1</td></tr><tr><td>&quot;$159.2K&quot;</td><td>1</td></tr><tr><td>&quot;$30.5K&quot;</td><td>4</td></tr></tbody></table></div>"
      ],
      "text/plain": [
       "shape: (4_864, 2)\n",
       "┌───────────┬───────┐\n",
       "│ boxOffice ┆ count │\n",
       "│ ---       ┆ ---   │\n",
       "│ str       ┆ u32   │\n",
       "╞═══════════╪═══════╡\n",
       "│ $215.0K   ┆ 2     │\n",
       "│ $62.1M    ┆ 2     │\n",
       "│ $206.9M   ┆ 1     │\n",
       "│ $49.3M    ┆ 2     │\n",
       "│ …         ┆ …     │\n",
       "│ $785.4K   ┆ 1     │\n",
       "│ $187.7M   ┆ 1     │\n",
       "│ $159.2K   ┆ 1     │\n",
       "│ $30.5K    ┆ 4     │\n",
       "└───────────┴───────┘"
      ]
     },
     "execution_count": 58,
     "metadata": {},
     "output_type": "execute_result"
    }
   ],
   "source": [
    "df[\"boxOffice\"].value_counts()"
   ]
  },
  {
   "cell_type": "code",
   "execution_count": 36,
   "metadata": {},
   "outputs": [],
   "source": [
    "table = pq.read_table(\"../pipeline/data/raw_data/parquet/title.basics.parquet\")\n",
    "imdb = pl.from_arrow(table)"
   ]
  },
  {
   "cell_type": "code",
   "execution_count": 54,
   "metadata": {},
   "outputs": [
    {
     "data": {
      "text/plain": [
       "(667364, 9)"
      ]
     },
     "execution_count": 54,
     "metadata": {},
     "output_type": "execute_result"
    }
   ],
   "source": [
    "imdb = imdb.filter(pl.col(\"titleType\") == 'movie')\n",
    "imdb.shape"
   ]
  },
  {
   "cell_type": "code",
   "execution_count": 51,
   "metadata": {},
   "outputs": [],
   "source": [
    "joined = imdb.join(df, left_on=[\"primaryTitle\", \"\"], right_on=\"title\", how=\"inner\")"
   ]
  },
  {
   "cell_type": "code",
   "execution_count": 52,
   "metadata": {},
   "outputs": [
    {
     "data": {
      "text/html": [
       "<div><style>\n",
       ".dataframe > thead > tr,\n",
       ".dataframe > tbody > tr {\n",
       "  text-align: right;\n",
       "  white-space: pre-wrap;\n",
       "}\n",
       "</style>\n",
       "<small>shape: (87_598, 2)</small><table border=\"1\" class=\"dataframe\"><thead><tr><th>primaryTitle</th><th>count</th></tr><tr><td>str</td><td>u32</td></tr></thead><tbody><tr><td>&quot;Crooks in Cloi…</td><td>1</td></tr><tr><td>&quot;Punish Me&quot;</td><td>1</td></tr><tr><td>&quot;A River Runs, …</td><td>1</td></tr><tr><td>&quot;The Thread of …</td><td>1</td></tr><tr><td>&quot;iGirlfriend&quot;</td><td>1</td></tr><tr><td>&quot;Mister Buddwin…</td><td>1</td></tr><tr><td>&quot;Complex World&quot;</td><td>1</td></tr><tr><td>&quot;Intern&quot;</td><td>1</td></tr><tr><td>&quot;I Love You Bab…</td><td>1</td></tr><tr><td>&quot;The Silent Twi…</td><td>1</td></tr><tr><td>&quot;Seven and a Ma…</td><td>1</td></tr><tr><td>&quot;A California C…</td><td>1</td></tr><tr><td>&hellip;</td><td>&hellip;</td></tr><tr><td>&quot;Love&quot;</td><td>540</td></tr><tr><td>&quot;First Love&quot;</td><td>560</td></tr><tr><td>&quot;Trapped&quot;</td><td>576</td></tr><tr><td>&quot;Broken&quot;</td><td>600</td></tr><tr><td>&quot;Hero&quot;</td><td>640</td></tr><tr><td>&quot;Hamlet&quot;</td><td>672</td></tr><tr><td>&quot;The Stranger&quot;</td><td>680</td></tr><tr><td>&quot;Paradise&quot;</td><td>705</td></tr><tr><td>&quot;Mother&quot;</td><td>750</td></tr><tr><td>&quot;The Return&quot;</td><td>765</td></tr><tr><td>&quot;Alone&quot;</td><td>825</td></tr><tr><td>&quot;Home&quot;</td><td>840</td></tr></tbody></table></div>"
      ],
      "text/plain": [
       "shape: (87_598, 2)\n",
       "┌───────────────────────────────────┬───────┐\n",
       "│ primaryTitle                      ┆ count │\n",
       "│ ---                               ┆ ---   │\n",
       "│ str                               ┆ u32   │\n",
       "╞═══════════════════════════════════╪═══════╡\n",
       "│ Crooks in Cloisters               ┆ 1     │\n",
       "│ Punish Me                         ┆ 1     │\n",
       "│ A River Runs, Turns, Erases, Rep… ┆ 1     │\n",
       "│ The Thread of Water               ┆ 1     │\n",
       "│ …                                 ┆ …     │\n",
       "│ Mother                            ┆ 750   │\n",
       "│ The Return                        ┆ 765   │\n",
       "│ Alone                             ┆ 825   │\n",
       "│ Home                              ┆ 840   │\n",
       "└───────────────────────────────────┴───────┘"
      ]
     },
     "execution_count": 52,
     "metadata": {},
     "output_type": "execute_result"
    }
   ],
   "source": [
    "joined[\"primaryTitle\"].value_counts().sort(by='count')"
   ]
  }
 ],
 "metadata": {
  "kernelspec": {
   "display_name": "dag_nyc",
   "language": "python",
   "name": "python3"
  },
  "language_info": {
   "codemirror_mode": {
    "name": "ipython",
    "version": 3
   },
   "file_extension": ".py",
   "mimetype": "text/x-python",
   "name": "python",
   "nbconvert_exporter": "python",
   "pygments_lexer": "ipython3",
   "version": "3.11.7"
  }
 },
 "nbformat": 4,
 "nbformat_minor": 2
}
