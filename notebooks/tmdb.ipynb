{
 "cells": [
  {
   "cell_type": "code",
   "execution_count": 13,
   "metadata": {},
   "outputs": [],
   "source": [
    "import polars as pl"
   ]
  },
  {
   "cell_type": "code",
   "execution_count": 14,
   "metadata": {},
   "outputs": [],
   "source": [
    "tmdb_csv = pl.read_csv(\"../dagster/data/raw_data/csv/tmdb/tmdb_movies.csv\")"
   ]
  },
  {
   "cell_type": "code",
   "execution_count": 15,
   "metadata": {},
   "outputs": [
    {
     "name": "stdout",
     "output_type": "stream",
     "text": [
      "(882145, 18)\n"
     ]
    },
    {
     "data": {
      "text/html": [
       "<div><style>\n",
       ".dataframe > thead > tr,\n",
       ".dataframe > tbody > tr {\n",
       "  text-align: right;\n",
       "  white-space: pre-wrap;\n",
       "}\n",
       "</style>\n",
       "<small>shape: (5, 18)</small><table border=\"1\" class=\"dataframe\"><thead><tr><th>ID</th><th>Title</th><th>OriginalTitle</th><th>OriginalLanguage</th><th>ReleaseDate</th><th>PosterPath</th><th>Overview</th><th>Popularity</th><th>VoteAverage</th><th>VoteCount</th><th>Genres</th><th>Budget</th><th>ImdbID</th><th>Revenue</th><th>Runtime</th><th>Status</th><th>ProductionCompanies</th><th>ProductionCountries</th></tr><tr><td>i64</td><td>str</td><td>str</td><td>str</td><td>str</td><td>str</td><td>str</td><td>f64</td><td>f64</td><td>i64</td><td>str</td><td>i64</td><td>str</td><td>i64</td><td>i64</td><td>str</td><td>str</td><td>str</td></tr></thead><tbody><tr><td>25449</td><td>&quot;New World Diso…</td><td>&quot;New World Diso…</td><td>&quot;en&quot;</td><td>&quot;2008-12-08&quot;</td><td>&quot;/itQjoIO2e3pad…</td><td>&quot;Gee Atherton r…</td><td>1.24</td><td>6.0</td><td>3</td><td>null</td><td>0</td><td>null</td><td>0</td><td>69</td><td>&quot;Released&quot;</td><td>null</td><td>null</td></tr><tr><td>6124</td><td>&quot;Peter Voss, Th…</td><td>&quot;Der Mann ohne …</td><td>&quot;de&quot;</td><td>&quot;1921-01-01&quot;</td><td>&quot;/6xUbUCvndklbG…</td><td>null</td><td>0.961</td><td>0.0</td><td>0</td><td>&quot;Adventure&quot;</td><td>0</td><td>null</td><td>0</td><td>420</td><td>&quot;Released&quot;</td><td>null</td><td>&quot;Germany&quot;</td></tr><tr><td>8773</td><td>&quot;Love at Twenty…</td><td>&quot;L&#x27;Amour à ving…</td><td>&quot;fr&quot;</td><td>&quot;1962-06-22&quot;</td><td>&quot;/aup2QCYCsyEeQ…</td><td>&quot;Love at Twenty…</td><td>5.527</td><td>6.652</td><td>46</td><td>&quot;Drama; Romance…</td><td>0</td><td>&quot;tt0055747&quot;</td><td>0</td><td>120</td><td>&quot;Released&quot;</td><td>&quot;Ulysse Product…</td><td>&quot;Germany; Franc…</td></tr><tr><td>3924</td><td>&quot;Blondie&quot;</td><td>&quot;Blondie&quot;</td><td>&quot;en&quot;</td><td>&quot;1938-11-30&quot;</td><td>&quot;/zBiHKhXklvTFw…</td><td>&quot;Blondie and Da…</td><td>1.864</td><td>7.063</td><td>8</td><td>&quot;Comedy; Family…</td><td>0</td><td>&quot;tt0029927&quot;</td><td>0</td><td>70</td><td>&quot;Released&quot;</td><td>&quot;Columbia Pictu…</td><td>&quot;United States …</td></tr><tr><td>19</td><td>&quot;Metropolis&quot;</td><td>&quot;Metropolis&quot;</td><td>&quot;de&quot;</td><td>&quot;1927-02-06&quot;</td><td>&quot;/pxbGZewX327Ib…</td><td>&quot;In a futuristi…</td><td>20.981</td><td>8.143</td><td>2504</td><td>&quot;Drama; Science…</td><td>1300000</td><td>&quot;tt0017136&quot;</td><td>650422</td><td>149</td><td>&quot;Released&quot;</td><td>&quot;UFA&quot;</td><td>&quot;Germany&quot;</td></tr></tbody></table></div>"
      ],
      "text/plain": [
       "shape: (5, 18)\n",
       "┌───────┬─────────────┬────────────┬────────────┬───┬─────────┬──────────┬────────────┬────────────┐\n",
       "│ ID    ┆ Title       ┆ OriginalTi ┆ OriginalLa ┆ … ┆ Runtime ┆ Status   ┆ Production ┆ Production │\n",
       "│ ---   ┆ ---         ┆ tle        ┆ nguage     ┆   ┆ ---     ┆ ---      ┆ Companies  ┆ Countries  │\n",
       "│ i64   ┆ str         ┆ ---        ┆ ---        ┆   ┆ i64     ┆ str      ┆ ---        ┆ ---        │\n",
       "│       ┆             ┆ str        ┆ str        ┆   ┆         ┆          ┆ str        ┆ str        │\n",
       "╞═══════╪═════════════╪════════════╪════════════╪═══╪═════════╪══════════╪════════════╪════════════╡\n",
       "│ 25449 ┆ New World   ┆ New World  ┆ en         ┆ … ┆ 69      ┆ Released ┆ null       ┆ null       │\n",
       "│       ┆ Disorder 9: ┆ Disorder   ┆            ┆   ┆         ┆          ┆            ┆            │\n",
       "│       ┆ Never Enou… ┆ 9: Never   ┆            ┆   ┆         ┆          ┆            ┆            │\n",
       "│       ┆             ┆ Enou…      ┆            ┆   ┆         ┆          ┆            ┆            │\n",
       "│ 6124  ┆ Peter Voss, ┆ Der Mann   ┆ de         ┆ … ┆ 420     ┆ Released ┆ null       ┆ Germany    │\n",
       "│       ┆ Thief of    ┆ ohne Namen ┆            ┆   ┆         ┆          ┆            ┆            │\n",
       "│       ┆ Millions    ┆            ┆            ┆   ┆         ┆          ┆            ┆            │\n",
       "│ 8773  ┆ Love at     ┆ L'Amour à  ┆ fr         ┆ … ┆ 120     ┆ Released ┆ Ulysse Pro ┆ Germany;   │\n",
       "│       ┆ Twenty      ┆ vingt ans  ┆            ┆   ┆         ┆          ┆ ductions;  ┆ France;    │\n",
       "│       ┆             ┆            ┆            ┆   ┆         ┆          ┆ Unitec     ┆ Italy;     │\n",
       "│       ┆             ┆            ┆            ┆   ┆         ┆          ┆ Films…     ┆ Japan; P…  │\n",
       "│ 3924  ┆ Blondie     ┆ Blondie    ┆ en         ┆ … ┆ 70      ┆ Released ┆ Columbia   ┆ United     │\n",
       "│       ┆             ┆            ┆            ┆   ┆         ┆          ┆ Pictures   ┆ States of  │\n",
       "│       ┆             ┆            ┆            ┆   ┆         ┆          ┆            ┆ America    │\n",
       "│ 19    ┆ Metropolis  ┆ Metropolis ┆ de         ┆ … ┆ 149     ┆ Released ┆ UFA        ┆ Germany    │\n",
       "└───────┴─────────────┴────────────┴────────────┴───┴─────────┴──────────┴────────────┴────────────┘"
      ]
     },
     "execution_count": 15,
     "metadata": {},
     "output_type": "execute_result"
    }
   ],
   "source": [
    "print(tmdb_csv.shape)\n",
    "tmdb_csv.head()"
   ]
  },
  {
   "cell_type": "code",
   "execution_count": 26,
   "metadata": {},
   "outputs": [
    {
     "name": "stdout",
     "output_type": "stream",
     "text": [
      "shape: (10,)\n",
      "Series: 'year' [i32]\n",
      "[\n",
      "\t2008\n",
      "\t1921\n",
      "\t1962\n",
      "\t1938\n",
      "\t1927\n",
      "\t2010\n",
      "\t1988\n",
      "\t1986\n",
      "\t1994\n",
      "\t2003\n",
      "]\n",
      "['ID', 'Title', 'OriginalTitle', 'OriginalLanguage', 'year', 'PosterPath', 'Overview', 'Popularity', 'VoteAverage', 'VoteCount', 'genre', 'Budget', 'ImdbID', 'Revenue', 'Runtime', 'Status', 'ProductionCompanies', 'ProductionCountries']\n"
     ]
    }
   ],
   "source": [
    "# tmdb_csv = tmdb_csv.rename({\"Genres\": \"genre\"})\n",
    "# tmdb_csv = tmdb_csv.rename({\"ReleaseDate\": \"year\"})\n",
    "# tmdb_csv = tmdb_csv.with_columns(pl.col('ReleaseDate').str.strptime(pl.Date, '%Y-%m-%d').dt.year())\n",
    "print(tmdb_csv[\"year\"].head(10))\n",
    "print(tmdb_csv.columns)\n",
    "\n",
    "# tmdb_csv.write_parquet(\"../dagster/data/raw_data/parquet/tmdb.parquet\")"
   ]
  },
  {
   "cell_type": "code",
   "execution_count": 27,
   "metadata": {},
   "outputs": [
    {
     "data": {
      "text/html": [
       "<div><style>\n",
       ".dataframe > thead > tr,\n",
       ".dataframe > tbody > tr {\n",
       "  text-align: right;\n",
       "  white-space: pre-wrap;\n",
       "}\n",
       "</style>\n",
       "<small>shape: (50, 18)</small><table border=\"1\" class=\"dataframe\"><thead><tr><th>ID</th><th>Title</th><th>OriginalTitle</th><th>OriginalLanguage</th><th>year</th><th>PosterPath</th><th>Overview</th><th>Popularity</th><th>VoteAverage</th><th>VoteCount</th><th>genre</th><th>Budget</th><th>ImdbID</th><th>Revenue</th><th>Runtime</th><th>Status</th><th>ProductionCompanies</th><th>ProductionCountries</th></tr><tr><td>i64</td><td>str</td><td>str</td><td>str</td><td>i32</td><td>str</td><td>str</td><td>f64</td><td>f64</td><td>i64</td><td>str</td><td>i64</td><td>str</td><td>i64</td><td>i64</td><td>str</td><td>str</td><td>str</td></tr></thead><tbody><tr><td>42050</td><td>&quot;Seduction: The…</td><td>&quot;Verführung: Di…</td><td>&quot;de&quot;</td><td>2024</td><td>&quot;/iNziMzWtRSMop…</td><td>&quot;Wanda is a dom…</td><td>4.267</td><td>0.0</td><td>0</td><td>&quot;Drama&quot;</td><td>0</td><td>&quot;tt0090252&quot;</td><td>0</td><td>84</td><td>&quot;Released&quot;</td><td>&quot;Hyena Films&quot;</td><td>&quot;Germany&quot;</td></tr><tr><td>44726</td><td>&quot;Don 3&quot;</td><td>&quot;डॉन 3&quot;</td><td>&quot;hi&quot;</td><td>2025</td><td>&quot;/9bOikDA268fAT…</td><td>null</td><td>0.83</td><td>0.0</td><td>0</td><td>&quot;Action; Advent…</td><td>0</td><td>null</td><td>0</td><td>0</td><td>&quot;In Production&quot;</td><td>null</td><td>&quot;India&quot;</td></tr><tr><td>65456</td><td>&quot;The Atrocity E…</td><td>&quot;The Atrocity E…</td><td>&quot;en&quot;</td><td>2024</td><td>&quot;/nEpdDjQtxbV0X…</td><td>&quot;A doctor in a …</td><td>2.772</td><td>0.0</td><td>0</td><td>&quot;Drama; Horror&quot;</td><td>0</td><td>&quot;tt0197256&quot;</td><td>0</td><td>105</td><td>&quot;Released&quot;</td><td>&quot;The Business (…</td><td>&quot;United States …</td></tr><tr><td>83533</td><td>&quot;Avatar 3&quot;</td><td>&quot;Avatar 3&quot;</td><td>&quot;en&quot;</td><td>2025</td><td>&quot;/eZXoA5BjUxm1f…</td><td>&quot;The third entr…</td><td>27.542</td><td>0.0</td><td>0</td><td>&quot;Action; Scienc…</td><td>400000000</td><td>&quot;tt1757678&quot;</td><td>0</td><td>0</td><td>&quot;Post Productio…</td><td>&quot;Lightstorm Ent…</td><td>&quot;United States …</td></tr><tr><td>216527</td><td>&quot;Avatar 4&quot;</td><td>&quot;Avatar 4&quot;</td><td>&quot;en&quot;</td><td>2029</td><td>&quot;/xGcd3ob2DWC3T…</td><td>null</td><td>11.449</td><td>0.0</td><td>0</td><td>&quot;Action; Scienc…</td><td>500000000</td><td>&quot;tt3095356&quot;</td><td>0</td><td>0</td><td>&quot;In Production&quot;</td><td>&quot;Lightstorm Ent…</td><td>&quot;United States …</td></tr><tr><td>269579</td><td>&quot;A Circus Story…</td><td>&quot;Un Cuento de C…</td><td>&quot;es&quot;</td><td>2024</td><td>&quot;/1FptiOyfq7Dm3…</td><td>&quot;A boy who grew…</td><td>4.099</td><td>0.0</td><td>0</td><td>&quot;Romance; Drama…</td><td>0</td><td>&quot;tt2818640&quot;</td><td>0</td><td>114</td><td>&quot;Post Productio…</td><td>null</td><td>&quot;Mexico&quot;</td></tr><tr><td>324544</td><td>&quot;In the Lost La…</td><td>&quot;In the Lost La…</td><td>&quot;en&quot;</td><td>2024</td><td>&quot;/tD2xg52dzol9x…</td><td>&quot;A queen, despe…</td><td>4.23</td><td>0.0</td><td>0</td><td>&quot;Fantasy; Adven…</td><td>0</td><td>&quot;tt4419684&quot;</td><td>0</td><td>0</td><td>&quot;In Production&quot;</td><td>&quot;Dream Bros. En…</td><td>&quot;United States …</td></tr><tr><td>359410</td><td>&quot;Road House&quot;</td><td>&quot;Road House&quot;</td><td>&quot;en&quot;</td><td>2024</td><td>&quot;/qvTLpTUDGTJpl…</td><td>&quot;A former UFC f…</td><td>9.821</td><td>0.0</td><td>0</td><td>&quot;Action; Thrill…</td><td>0</td><td>&quot;tt3359350&quot;</td><td>0</td><td>0</td><td>&quot;Post Productio…</td><td>&quot;Metro-Goldwyn-…</td><td>&quot;United States …</td></tr><tr><td>361537</td><td>&quot;Blood Curse: T…</td><td>&quot;Blood Curse: T…</td><td>&quot;en&quot;</td><td>2024</td><td>&quot;/3s4sJajWaiGds…</td><td>&quot;Strange things…</td><td>2.31</td><td>0.0</td><td>0</td><td>&quot;Horror&quot;</td><td>0</td><td>&quot;tt4986280&quot;</td><td>0</td><td>0</td><td>&quot;In Production&quot;</td><td>&quot;KiRO Pictures&quot;</td><td>&quot;United Kingdom…</td></tr><tr><td>361538</td><td>&quot;Blood Curse II…</td><td>&quot;Blood Curse II…</td><td>&quot;en&quot;</td><td>2024</td><td>null</td><td>&quot;Alicia Stone r…</td><td>1.922</td><td>0.0</td><td>0</td><td>&quot;Horror&quot;</td><td>0</td><td>&quot;tt2993466&quot;</td><td>0</td><td>0</td><td>&quot;In Production&quot;</td><td>&quot;KiRO Pictures&quot;</td><td>&quot;United Kingdom…</td></tr><tr><td>365177</td><td>&quot;Borderlands&quot;</td><td>&quot;Borderlands&quot;</td><td>&quot;en&quot;</td><td>2024</td><td>&quot;/qXpQBgsasf60C…</td><td>&quot;After returnin…</td><td>6.261</td><td>0.0</td><td>0</td><td>&quot;Action; Scienc…</td><td>0</td><td>&quot;tt4978420&quot;</td><td>0</td><td>0</td><td>&quot;Post Productio…</td><td>&quot;Picturestart; …</td><td>&quot;United States …</td></tr><tr><td>393209</td><td>&quot;Avatar 5&quot;</td><td>&quot;Avatar 5&quot;</td><td>&quot;en&quot;</td><td>2031</td><td>&quot;/vAvLQOyFoire5…</td><td>null</td><td>19.251</td><td>0.0</td><td>0</td><td>&quot;Action; Advent…</td><td>600000000</td><td>&quot;tt5637536&quot;</td><td>0</td><td>0</td><td>&quot;In Production&quot;</td><td>&quot;Lightstorm Ent…</td><td>&quot;United States …</td></tr><tr><td>&hellip;</td><td>&hellip;</td><td>&hellip;</td><td>&hellip;</td><td>&hellip;</td><td>&hellip;</td><td>&hellip;</td><td>&hellip;</td><td>&hellip;</td><td>&hellip;</td><td>&hellip;</td><td>&hellip;</td><td>&hellip;</td><td>&hellip;</td><td>&hellip;</td><td>&hellip;</td><td>&hellip;</td><td>&hellip;</td></tr><tr><td>543596</td><td>&quot;Elbow&quot;</td><td>&quot;Ellbogen&quot;</td><td>&quot;de&quot;</td><td>2024</td><td>null</td><td>&quot;Hazal is 17 an…</td><td>0.933</td><td>0.0</td><td>0</td><td>&quot;Drama&quot;</td><td>0</td><td>&quot;tt30521172&quot;</td><td>0</td><td>93</td><td>&quot;Post Productio…</td><td>&quot;Achtung Panda!…</td><td>&quot;France; German…</td></tr><tr><td>558449</td><td>&quot;Untitled Gladi…</td><td>&quot;Untitled Gladi…</td><td>&quot;en&quot;</td><td>2024</td><td>&quot;/1HPoY1RyGdBGf…</td><td>&quot;The film will …</td><td>19.4</td><td>0.0</td><td>0</td><td>&quot;Action; Drama;…</td><td>0</td><td>&quot;tt9218128&quot;</td><td>0</td><td>0</td><td>&quot;In Production&quot;</td><td>&quot;Paramount; Uni…</td><td>&quot;United Kingdom…</td></tr><tr><td>560016</td><td>&quot;Monkey Man&quot;</td><td>&quot;Monkey Man&quot;</td><td>&quot;en&quot;</td><td>2024</td><td>null</td><td>&quot;An unlikely he…</td><td>3.842</td><td>0.0</td><td>0</td><td>&quot;Thriller; Dram…</td><td>0</td><td>&quot;tt9214772&quot;</td><td>0</td><td>0</td><td>&quot;Post Productio…</td><td>&quot;Thunder Road; …</td><td>&quot;Canada; United…</td></tr><tr><td>567811</td><td>&quot;10 Lives&quot;</td><td>&quot;10 Lives&quot;</td><td>&quot;en&quot;</td><td>2024</td><td>&quot;/fllUmnbkcj7lq…</td><td>&quot;Beckett is a p…</td><td>7.147</td><td>0.0</td><td>0</td><td>&quot;Animation; Com…</td><td>0</td><td>&quot;tt7959138&quot;</td><td>0</td><td>78</td><td>&quot;In Production&quot;</td><td>&quot;GFM Animation;…</td><td>&quot;Canada; United…</td></tr><tr><td>573435</td><td>&quot;Bad Boys Ride …</td><td>&quot;Bad Boys Ride …</td><td>&quot;en&quot;</td><td>2024</td><td>&quot;/rO5S1iIXDx8B2…</td><td>&quot;A modern, high…</td><td>14.31</td><td>0.0</td><td>0</td><td>&quot;Action; Thrill…</td><td>0</td><td>&quot;tt4919268&quot;</td><td>0</td><td>0</td><td>&quot;In Production&quot;</td><td>&quot;Jerry Bruckhei…</td><td>&quot;United States …</td></tr><tr><td>575265</td><td>&quot;Mission: Impos…</td><td>&quot;Mission: Impos…</td><td>&quot;en&quot;</td><td>2025</td><td>&quot;/l2fgb4JU0uLpW…</td><td>&quot;The eighth ins…</td><td>53.189</td><td>0.0</td><td>0</td><td>&quot;Action; Advent…</td><td>0</td><td>&quot;tt9603208&quot;</td><td>0</td><td>0</td><td>&quot;In Production&quot;</td><td>&quot;Paramount; Sky…</td><td>&quot;United States …</td></tr><tr><td>580988</td><td>&quot;Uma &amp; Haggen&quot;</td><td>&quot;Uma y Haggen: …</td><td>&quot;es&quot;</td><td>2024</td><td>&quot;/5Oeyw0JF1QH1R…</td><td>&quot;In a futuristi…</td><td>9.366</td><td>0.0</td><td>0</td><td>&quot;Animation; Fam…</td><td>0</td><td>null</td><td>0</td><td>85</td><td>&quot;Released&quot;</td><td>&quot;ITHRAX PRODUCC…</td><td>&quot;Mexico&quot;</td></tr><tr><td>586353</td><td>&quot;The Master and…</td><td>&quot;Мастер и Марга…</td><td>&quot;ru&quot;</td><td>2024</td><td>&quot;/wJdzDRy0j4xwH…</td><td>&quot;Moscow, 1930s.…</td><td>6.664</td><td>0.0</td><td>0</td><td>&quot;Drama; Fantasy…</td><td>15000000</td><td>&quot;tt14536120&quot;</td><td>0</td><td>157</td><td>&quot;Post Productio…</td><td>&quot;Mars Media Ent…</td><td>&quot;Russia&quot;</td></tr><tr><td>587563</td><td>&quot;Kensuke&#x27;s King…</td><td>&quot;Kensuke&#x27;s King…</td><td>&quot;en&quot;</td><td>2024</td><td>&quot;/hMIJjyNX0MYRO…</td><td>&quot;A young boy Mi…</td><td>8.068</td><td>0.0</td><td>0</td><td>&quot;Adventure; Ani…</td><td>0</td><td>&quot;tt5674658&quot;</td><td>0</td><td>84</td><td>&quot;Released&quot;</td><td>&quot;Lupus Films; J…</td><td>&quot;France; Luxemb…</td></tr><tr><td>588648</td><td>&quot;Dragonkeeper&quot;</td><td>&quot;Dragonkeeper&quot;</td><td>&quot;es&quot;</td><td>2024</td><td>&quot;/nxETRt3GuFUwI…</td><td>&quot;In ancient Chi…</td><td>4.127</td><td>0.0</td><td>0</td><td>&quot;Action; Advent…</td><td>0</td><td>&quot;tt7093904&quot;</td><td>0</td><td>100</td><td>&quot;Post Productio…</td><td>&quot;Movistar+; Dra…</td><td>&quot;China; Spain&quot;</td></tr><tr><td>589018</td><td>&quot;Sauvages !&quot;</td><td>&quot;Sauvages !&quot;</td><td>&quot;fr&quot;</td><td>2024</td><td>&quot;/i7f7fAF6BU6iV…</td><td>&quot;Kéria (11), a …</td><td>0.934</td><td>0.0</td><td>0</td><td>&quot;Adventure; Ani…</td><td>12300000</td><td>null</td><td>0</td><td>80</td><td>&quot;In Production&quot;</td><td>&quot;Haut et Court;…</td><td>&quot;France; Switze…</td></tr><tr><td>591042</td><td>&quot;He + She&quot;</td><td>&quot;Он + Она&quot;</td><td>&quot;ru&quot;</td><td>2024</td><td>&quot;/qcRbLFQaOtKAy…</td><td>&quot;The basis of t…</td><td>1.72</td><td>0.0</td><td>0</td><td>&quot;Drama; Romance…</td><td>0</td><td>null</td><td>0</td><td>93</td><td>&quot;In Production&quot;</td><td>&quot;Iris Films Pro…</td><td>&quot;Russia&quot;</td></tr></tbody></table></div>"
      ],
      "text/plain": [
       "shape: (50, 18)\n",
       "┌────────┬────────────┬────────────┬────────────┬───┬─────────┬────────────┬───────────┬───────────┐\n",
       "│ ID     ┆ Title      ┆ OriginalTi ┆ OriginalLa ┆ … ┆ Runtime ┆ Status     ┆ Productio ┆ Productio │\n",
       "│ ---    ┆ ---        ┆ tle        ┆ nguage     ┆   ┆ ---     ┆ ---        ┆ nCompanie ┆ nCountrie │\n",
       "│ i64    ┆ str        ┆ ---        ┆ ---        ┆   ┆ i64     ┆ str        ┆ s         ┆ s         │\n",
       "│        ┆            ┆ str        ┆ str        ┆   ┆         ┆            ┆ ---       ┆ ---       │\n",
       "│        ┆            ┆            ┆            ┆   ┆         ┆            ┆ str       ┆ str       │\n",
       "╞════════╪════════════╪════════════╪════════════╪═══╪═════════╪════════════╪═══════════╪═══════════╡\n",
       "│ 42050  ┆ Seduction: ┆ Verführung ┆ de         ┆ … ┆ 84      ┆ Released   ┆ Hyena     ┆ Germany   │\n",
       "│        ┆ The Cruel  ┆ : Die      ┆            ┆   ┆         ┆            ┆ Films     ┆           │\n",
       "│        ┆ Woman      ┆ grausame   ┆            ┆   ┆         ┆            ┆           ┆           │\n",
       "│        ┆            ┆ Frau       ┆            ┆   ┆         ┆            ┆           ┆           │\n",
       "│ 44726  ┆ Don 3      ┆ डॉन 3      ┆ hi         ┆ … ┆ 0       ┆ In         ┆ null      ┆ India     │\n",
       "│        ┆            ┆            ┆            ┆   ┆         ┆ Production ┆           ┆           │\n",
       "│ 65456  ┆ The        ┆ The        ┆ en         ┆ … ┆ 105     ┆ Released   ┆ The       ┆ United    │\n",
       "│        ┆ Atrocity   ┆ Atrocity   ┆            ┆   ┆         ┆            ┆ Business  ┆ States of │\n",
       "│        ┆ Exhibition ┆ Exhibition ┆            ┆   ┆         ┆            ┆ (New      ┆ America   │\n",
       "│        ┆            ┆            ┆            ┆   ┆         ┆            ┆ York)     ┆           │\n",
       "│ 83533  ┆ Avatar 3   ┆ Avatar 3   ┆ en         ┆ … ┆ 0       ┆ Post       ┆ Lightstor ┆ United    │\n",
       "│        ┆            ┆            ┆            ┆   ┆         ┆ Production ┆ m Enterta ┆ States of │\n",
       "│        ┆            ┆            ┆            ┆   ┆         ┆            ┆ inment;   ┆ America   │\n",
       "│        ┆            ┆            ┆            ┆   ┆         ┆            ┆ 20th C…   ┆           │\n",
       "│ …      ┆ …          ┆ …          ┆ …          ┆ … ┆ …       ┆ …          ┆ …         ┆ …         │\n",
       "│ 587563 ┆ Kensuke's  ┆ Kensuke's  ┆ en         ┆ … ┆ 84      ┆ Released   ┆ Lupus     ┆ France;   │\n",
       "│        ┆ Kingdom    ┆ Kingdom    ┆            ┆   ┆         ┆            ┆ Films;    ┆ Luxembour │\n",
       "│        ┆            ┆            ┆            ┆   ┆         ┆            ┆ Jigsaw    ┆ g; United │\n",
       "│        ┆            ┆            ┆            ┆   ┆         ┆            ┆ Films;    ┆ Kingd…    │\n",
       "│        ┆            ┆            ┆            ┆   ┆         ┆            ┆ Spiri…    ┆           │\n",
       "│ 588648 ┆ Dragonkeep ┆ Dragonkeep ┆ es         ┆ … ┆ 100     ┆ Post       ┆ Movistar+ ┆ China;    │\n",
       "│        ┆ er         ┆ er         ┆            ┆   ┆         ┆ Production ┆ ; Dragoia ┆ Spain     │\n",
       "│        ┆            ┆            ┆            ┆   ┆         ┆            ┆ Media;    ┆           │\n",
       "│        ┆            ┆            ┆            ┆   ┆         ┆            ┆ Atresm…   ┆           │\n",
       "│ 589018 ┆ Sauvages ! ┆ Sauvages ! ┆ fr         ┆ … ┆ 80      ┆ In         ┆ Haut et   ┆ France;   │\n",
       "│        ┆            ┆            ┆            ┆   ┆         ┆ Production ┆ Court;    ┆ Switzerla │\n",
       "│        ┆            ┆            ┆            ┆   ┆         ┆            ┆ Nadasdy   ┆ nd        │\n",
       "│        ┆            ┆            ┆            ┆   ┆         ┆            ┆ Film;     ┆           │\n",
       "│        ┆            ┆            ┆            ┆   ┆         ┆            ┆ Pan…      ┆           │\n",
       "│ 591042 ┆ He + She   ┆ Он + Она   ┆ ru         ┆ … ┆ 93      ┆ In         ┆ Iris      ┆ Russia    │\n",
       "│        ┆            ┆            ┆            ┆   ┆         ┆ Production ┆ Films Pro ┆           │\n",
       "│        ┆            ┆            ┆            ┆   ┆         ┆            ┆ duction;  ┆           │\n",
       "│        ┆            ┆            ┆            ┆   ┆         ┆            ┆ Art       ┆           │\n",
       "│        ┆            ┆            ┆            ┆   ┆         ┆            ┆ Pictu…    ┆           │\n",
       "└────────┴────────────┴────────────┴────────────┴───┴─────────┴────────────┴───────────┴───────────┘"
      ]
     },
     "execution_count": 27,
     "metadata": {},
     "output_type": "execute_result"
    }
   ],
   "source": [
    "tmdb_csv = tmdb_csv.filter(pl.col('year') > 2023)\n",
    "tmdb_csv.head(50)"
   ]
  }
 ],
 "metadata": {
  "kernelspec": {
   "display_name": "dag_nyc",
   "language": "python",
   "name": "python3"
  },
  "language_info": {
   "codemirror_mode": {
    "name": "ipython",
    "version": 3
   },
   "file_extension": ".py",
   "mimetype": "text/x-python",
   "name": "python",
   "nbconvert_exporter": "python",
   "pygments_lexer": "ipython3",
   "version": "3.11.7"
  }
 },
 "nbformat": 4,
 "nbformat_minor": 2
}
