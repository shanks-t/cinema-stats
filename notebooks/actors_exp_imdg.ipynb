{
 "cells": [
  {
   "cell_type": "code",
   "execution_count": 1,
   "metadata": {},
   "outputs": [],
   "source": [
    "import polars as pl\n",
    "import pandas as pd\n",
    "import pyarrow\n",
    "import matplotlib.pyplot as plt\n",
    "import numpy as np"
   ]
  },
  {
   "cell_type": "code",
   "execution_count": 2,
   "metadata": {},
   "outputs": [],
   "source": [
    "def read_tsv_with_polars(file_path, column_names, column_types, null_values=['\\\\N']):\n",
    "    \"\"\"\n",
    "    Reads a TSV file into a Polars DataFrame with specified column names and types.\n",
    "\n",
    "    Parameters:\n",
    "    file_path (str): Path to the TSV file.\n",
    "    column_names (list): List of column names.\n",
    "    column_types (list): List of Polars data types for the columns.\n",
    "    null_values (list, optional): List of strings to be treated as null values. Defaults to ['\\\\N'].\n",
    "\n",
    "    Returns:\n",
    "    pl.DataFrame: Polars DataFrame with the TSV data.\n",
    "    \"\"\"\n",
    "    # Set the format string lengths for display\n",
    "    pl.Config.set_fmt_str_lengths(50)\n",
    "\n",
    "    # Read the TSV file\n",
    "    df = pl.read_csv(\n",
    "        file_path,\n",
    "        separator='\\t',\n",
    "        has_header=False,\n",
    "        new_columns=column_names,\n",
    "        dtypes=column_types,\n",
    "        ignore_errors=True,\n",
    "        null_values=null_values,\n",
    "        skip_rows=1\n",
    "    )\n",
    "    return df"
   ]
  },
  {
   "cell_type": "code",
   "execution_count": 10,
   "metadata": {},
   "outputs": [],
   "source": [
    "names = read_tsv_with_polars('./raw_data/name.basics.tsv', ['nconst', 'primaryName', 'birthYear', 'deathYear', 'primaryProfession', 'knownForTitles'], [pl.Utf8, pl.Utf8, pl.Int32, pl.Int32, pl.Utf8, pl.Utf8])\n"
   ]
  },
  {
   "cell_type": "code",
   "execution_count": 9,
   "metadata": {},
   "outputs": [
    {
     "data": {
      "text/plain": [
       "(13123690, 6)"
      ]
     },
     "execution_count": 9,
     "metadata": {},
     "output_type": "execute_result"
    }
   ],
   "source": [
    "names.shape"
   ]
  },
  {
   "cell_type": "code",
   "execution_count": 6,
   "metadata": {},
   "outputs": [],
   "source": [
    "principals = read_tsv_with_polars('./raw_data/title.principals.tsv', ['const', 'ordering', 'nconst', 'job', 'characters'], [pl.Utf8, pl.Int32, pl.Utf8, pl.Utf8, pl.Utf8, pl.Utf8])"
   ]
  },
  {
   "cell_type": "code",
   "execution_count": 11,
   "metadata": {},
   "outputs": [
    {
     "data": {
      "text/plain": [
       "(58658557, 6)"
      ]
     },
     "execution_count": 11,
     "metadata": {},
     "output_type": "execute_result"
    }
   ],
   "source": [
    "principals.shape"
   ]
  },
  {
   "cell_type": "code",
   "execution_count": 12,
   "metadata": {},
   "outputs": [],
   "source": [
    "actors_total = principals.join(names, on='nconst', how='inner')"
   ]
  },
  {
   "cell_type": "code",
   "execution_count": 23,
   "metadata": {},
   "outputs": [
    {
     "data": {
      "text/plain": [
       "(58658404, 11)"
      ]
     },
     "execution_count": 23,
     "metadata": {},
     "output_type": "execute_result"
    }
   ],
   "source": [
    "actors_total.shape"
   ]
  },
  {
   "cell_type": "code",
   "execution_count": 14,
   "metadata": {},
   "outputs": [
    {
     "data": {
      "text/html": [
       "<div><style>\n",
       ".dataframe > thead > tr,\n",
       ".dataframe > tbody > tr {\n",
       "  text-align: right;\n",
       "  white-space: pre-wrap;\n",
       "}\n",
       "</style>\n",
       "<small>shape: (5, 11)</small><table border=\"1\" class=\"dataframe\"><thead><tr><th>const</th><th>ordering</th><th>nconst</th><th>job</th><th>characters</th><th>column_6</th><th>primaryName</th><th>birthYear</th><th>deathYear</th><th>primaryProfession</th><th>knownForTitles</th></tr><tr><td>str</td><td>i32</td><td>str</td><td>str</td><td>str</td><td>str</td><td>str</td><td>i32</td><td>i32</td><td>str</td><td>str</td></tr></thead><tbody><tr><td>&quot;tt0000001&quot;</td><td>1</td><td>&quot;nm1588970&quot;</td><td>&quot;self&quot;</td><td>null</td><td>&quot;[&quot;Self&quot;]&quot;</td><td>&quot;Carmencita&quot;</td><td>1868</td><td>1910</td><td>&quot;soundtrack&quot;</td><td>&quot;tt0057728,tt0000001&quot;</td></tr><tr><td>&quot;tt0000001&quot;</td><td>2</td><td>&quot;nm0005690&quot;</td><td>&quot;director&quot;</td><td>null</td><td>null</td><td>&quot;William K.L. Dickson&quot;</td><td>1860</td><td>1935</td><td>&quot;cinematographer,director,producer&quot;</td><td>&quot;tt1496763,tt1428455,tt0308254,tt0219560&quot;</td></tr><tr><td>&quot;tt0000001&quot;</td><td>3</td><td>&quot;nm0374658&quot;</td><td>&quot;cinematographer&quot;</td><td>&quot;director of photography&quot;</td><td>null</td><td>&quot;William Heise&quot;</td><td>1847</td><td>1910</td><td>&quot;cinematographer,director,producer&quot;</td><td>&quot;tt0285863,tt0229665,tt0241715,tt0241393&quot;</td></tr><tr><td>&quot;tt0000002&quot;</td><td>1</td><td>&quot;nm0721526&quot;</td><td>&quot;director&quot;</td><td>null</td><td>null</td><td>&quot;Émile Reynaud&quot;</td><td>1844</td><td>1918</td><td>&quot;director,animation_department,producer&quot;</td><td>&quot;tt16763674,tt0000003,tt16763740,tt13125956&quot;</td></tr><tr><td>&quot;tt0000002&quot;</td><td>2</td><td>&quot;nm1335271&quot;</td><td>&quot;composer&quot;</td><td>null</td><td>null</td><td>&quot;Gaston Paulin&quot;</td><td>null</td><td>1921</td><td>&quot;composer&quot;</td><td>&quot;tt0000004,tt0000003,tt2184231,tt13125956&quot;</td></tr></tbody></table></div>"
      ],
      "text/plain": [
       "shape: (5, 11)\n",
       "┌───────────┬──────────┬───────────┬───────────┬───┬───────────┬───────────┬───────────┬───────────┐\n",
       "│ const     ┆ ordering ┆ nconst    ┆ job       ┆ … ┆ birthYear ┆ deathYear ┆ primaryPr ┆ knownForT │\n",
       "│ ---       ┆ ---      ┆ ---       ┆ ---       ┆   ┆ ---       ┆ ---       ┆ ofession  ┆ itles     │\n",
       "│ str       ┆ i32      ┆ str       ┆ str       ┆   ┆ i32       ┆ i32       ┆ ---       ┆ ---       │\n",
       "│           ┆          ┆           ┆           ┆   ┆           ┆           ┆ str       ┆ str       │\n",
       "╞═══════════╪══════════╪═══════════╪═══════════╪═══╪═══════════╪═══════════╪═══════════╪═══════════╡\n",
       "│ tt0000001 ┆ 1        ┆ nm1588970 ┆ self      ┆ … ┆ 1868      ┆ 1910      ┆ soundtrac ┆ tt0057728 │\n",
       "│           ┆          ┆           ┆           ┆   ┆           ┆           ┆ k         ┆ ,tt000000 │\n",
       "│           ┆          ┆           ┆           ┆   ┆           ┆           ┆           ┆ 1         │\n",
       "│ tt0000001 ┆ 2        ┆ nm0005690 ┆ director  ┆ … ┆ 1860      ┆ 1935      ┆ cinematog ┆ tt1496763 │\n",
       "│           ┆          ┆           ┆           ┆   ┆           ┆           ┆ rapher,di ┆ ,tt142845 │\n",
       "│           ┆          ┆           ┆           ┆   ┆           ┆           ┆ rector,pr ┆ 5,tt03082 │\n",
       "│           ┆          ┆           ┆           ┆   ┆           ┆           ┆ oducer    ┆ 54,tt0219 │\n",
       "│           ┆          ┆           ┆           ┆   ┆           ┆           ┆           ┆ 560       │\n",
       "│ tt0000001 ┆ 3        ┆ nm0374658 ┆ cinematog ┆ … ┆ 1847      ┆ 1910      ┆ cinematog ┆ tt0285863 │\n",
       "│           ┆          ┆           ┆ rapher    ┆   ┆           ┆           ┆ rapher,di ┆ ,tt022966 │\n",
       "│           ┆          ┆           ┆           ┆   ┆           ┆           ┆ rector,pr ┆ 5,tt02417 │\n",
       "│           ┆          ┆           ┆           ┆   ┆           ┆           ┆ oducer    ┆ 15,tt0241 │\n",
       "│           ┆          ┆           ┆           ┆   ┆           ┆           ┆           ┆ 393       │\n",
       "│ tt0000002 ┆ 1        ┆ nm0721526 ┆ director  ┆ … ┆ 1844      ┆ 1918      ┆ director, ┆ tt1676367 │\n",
       "│           ┆          ┆           ┆           ┆   ┆           ┆           ┆ animation ┆ 4,tt00000 │\n",
       "│           ┆          ┆           ┆           ┆   ┆           ┆           ┆ _departme ┆ 03,tt1676 │\n",
       "│           ┆          ┆           ┆           ┆   ┆           ┆           ┆ nt,produc ┆ 3740,tt13 │\n",
       "│           ┆          ┆           ┆           ┆   ┆           ┆           ┆ er        ┆ 125956    │\n",
       "│ tt0000002 ┆ 2        ┆ nm1335271 ┆ composer  ┆ … ┆ null      ┆ 1921      ┆ composer  ┆ tt0000004 │\n",
       "│           ┆          ┆           ┆           ┆   ┆           ┆           ┆           ┆ ,tt000000 │\n",
       "│           ┆          ┆           ┆           ┆   ┆           ┆           ┆           ┆ 3,tt21842 │\n",
       "│           ┆          ┆           ┆           ┆   ┆           ┆           ┆           ┆ 31,tt1312 │\n",
       "│           ┆          ┆           ┆           ┆   ┆           ┆           ┆           ┆ 5956      │\n",
       "└───────────┴──────────┴───────────┴───────────┴───┴───────────┴───────────┴───────────┴───────────┘"
      ]
     },
     "execution_count": 14,
     "metadata": {},
     "output_type": "execute_result"
    }
   ],
   "source": [
    "actors_total.head()"
   ]
  },
  {
   "cell_type": "code",
   "execution_count": 16,
   "metadata": {},
   "outputs": [],
   "source": [
    "movies_df = pl.read_parquet('./processed_data/movies_with_ratings.parquet')"
   ]
  },
  {
   "cell_type": "code",
   "execution_count": 21,
   "metadata": {},
   "outputs": [
    {
     "data": {
      "text/html": [
       "<div><style>\n",
       ".dataframe > thead > tr,\n",
       ".dataframe > tbody > tr {\n",
       "  text-align: right;\n",
       "  white-space: pre-wrap;\n",
       "}\n",
       "</style>\n",
       "<small>shape: (5, 11)</small><table border=\"1\" class=\"dataframe\"><thead><tr><th>const</th><th>titleType</th><th>primaryTitle</th><th>originalTitle</th><th>isAdult</th><th>startYear</th><th>endYear</th><th>runtimeMinutes</th><th>genres</th><th>averageRating</th><th>numVotes</th></tr><tr><td>str</td><td>str</td><td>str</td><td>str</td><td>i32</td><td>i32</td><td>i32</td><td>i32</td><td>str</td><td>f32</td><td>i32</td></tr></thead><tbody><tr><td>&quot;tt0004972&quot;</td><td>&quot;movie&quot;</td><td>&quot;The Birth of a Nation&quot;</td><td>&quot;The Birth of a Nation&quot;</td><td>0</td><td>1915</td><td>null</td><td>195</td><td>&quot;Drama,History,War&quot;</td><td>6.1</td><td>25999</td></tr><tr><td>&quot;tt0006864&quot;</td><td>&quot;movie&quot;</td><td>&quot;Intolerance&quot;</td><td>&quot;Intolerance: Love&#x27;s Struggle Throughout the Ages&quot;</td><td>0</td><td>1916</td><td>null</td><td>163</td><td>&quot;Drama,History&quot;</td><td>7.7</td><td>16507</td></tr><tr><td>&quot;tt0009968&quot;</td><td>&quot;movie&quot;</td><td>&quot;Broken Blossoms&quot;</td><td>&quot;Broken Blossoms or The Yellow Man and the Girl&quot;</td><td>0</td><td>1919</td><td>null</td><td>90</td><td>&quot;Drama,Romance&quot;</td><td>7.2</td><td>10924</td></tr><tr><td>&quot;tt0010323&quot;</td><td>&quot;movie&quot;</td><td>&quot;The Cabinet of Dr. Caligari&quot;</td><td>&quot;Das Cabinet des Dr. Caligari&quot;</td><td>0</td><td>1920</td><td>null</td><td>76</td><td>&quot;Horror,Mystery,Thriller&quot;</td><td>8.0</td><td>68792</td></tr><tr><td>&quot;tt0012349&quot;</td><td>&quot;movie&quot;</td><td>&quot;The Kid&quot;</td><td>&quot;The Kid&quot;</td><td>0</td><td>1921</td><td>null</td><td>68</td><td>&quot;Comedy,Drama,Family&quot;</td><td>8.2</td><td>132794</td></tr></tbody></table></div>"
      ],
      "text/plain": [
       "shape: (5, 11)\n",
       "┌───────────┬───────────┬───────────┬───────────┬───┬───────────┬───────────┬───────────┬──────────┐\n",
       "│ const     ┆ titleType ┆ primaryTi ┆ originalT ┆ … ┆ runtimeMi ┆ genres    ┆ averageRa ┆ numVotes │\n",
       "│ ---       ┆ ---       ┆ tle       ┆ itle      ┆   ┆ nutes     ┆ ---       ┆ ting      ┆ ---      │\n",
       "│ str       ┆ str       ┆ ---       ┆ ---       ┆   ┆ ---       ┆ str       ┆ ---       ┆ i32      │\n",
       "│           ┆           ┆ str       ┆ str       ┆   ┆ i32       ┆           ┆ f32       ┆          │\n",
       "╞═══════════╪═══════════╪═══════════╪═══════════╪═══╪═══════════╪═══════════╪═══════════╪══════════╡\n",
       "│ tt0004972 ┆ movie     ┆ The Birth ┆ The Birth ┆ … ┆ 195       ┆ Drama,His ┆ 6.1       ┆ 25999    │\n",
       "│           ┆           ┆ of a      ┆ of a      ┆   ┆           ┆ tory,War  ┆           ┆          │\n",
       "│           ┆           ┆ Nation    ┆ Nation    ┆   ┆           ┆           ┆           ┆          │\n",
       "│ tt0006864 ┆ movie     ┆ Intoleran ┆ Intoleran ┆ … ┆ 163       ┆ Drama,His ┆ 7.7       ┆ 16507    │\n",
       "│           ┆           ┆ ce        ┆ ce:       ┆   ┆           ┆ tory      ┆           ┆          │\n",
       "│           ┆           ┆           ┆ Love's    ┆   ┆           ┆           ┆           ┆          │\n",
       "│           ┆           ┆           ┆ Struggle  ┆   ┆           ┆           ┆           ┆          │\n",
       "│           ┆           ┆           ┆ Throughou ┆   ┆           ┆           ┆           ┆          │\n",
       "│           ┆           ┆           ┆ t the     ┆   ┆           ┆           ┆           ┆          │\n",
       "│           ┆           ┆           ┆ Ages      ┆   ┆           ┆           ┆           ┆          │\n",
       "│ tt0009968 ┆ movie     ┆ Broken    ┆ Broken    ┆ … ┆ 90        ┆ Drama,Rom ┆ 7.2       ┆ 10924    │\n",
       "│           ┆           ┆ Blossoms  ┆ Blossoms  ┆   ┆           ┆ ance      ┆           ┆          │\n",
       "│           ┆           ┆           ┆ or The    ┆   ┆           ┆           ┆           ┆          │\n",
       "│           ┆           ┆           ┆ Yellow    ┆   ┆           ┆           ┆           ┆          │\n",
       "│           ┆           ┆           ┆ Man and   ┆   ┆           ┆           ┆           ┆          │\n",
       "│           ┆           ┆           ┆ the Girl  ┆   ┆           ┆           ┆           ┆          │\n",
       "│ tt0010323 ┆ movie     ┆ The       ┆ Das       ┆ … ┆ 76        ┆ Horror,My ┆ 8.0       ┆ 68792    │\n",
       "│           ┆           ┆ Cabinet   ┆ Cabinet   ┆   ┆           ┆ stery,Thr ┆           ┆          │\n",
       "│           ┆           ┆ of Dr.    ┆ des Dr.   ┆   ┆           ┆ iller     ┆           ┆          │\n",
       "│           ┆           ┆ Caligari  ┆ Caligari  ┆   ┆           ┆           ┆           ┆          │\n",
       "│ tt0012349 ┆ movie     ┆ The Kid   ┆ The Kid   ┆ … ┆ 68        ┆ Comedy,Dr ┆ 8.2       ┆ 132794   │\n",
       "│           ┆           ┆           ┆           ┆   ┆           ┆ ama,Famil ┆           ┆          │\n",
       "│           ┆           ┆           ┆           ┆   ┆           ┆ y         ┆           ┆          │\n",
       "└───────────┴───────────┴───────────┴───────────┴───┴───────────┴───────────┴───────────┴──────────┘"
      ]
     },
     "execution_count": 21,
     "metadata": {},
     "output_type": "execute_result"
    }
   ],
   "source": [
    "movies_df.head()"
   ]
  },
  {
   "cell_type": "code",
   "execution_count": 17,
   "metadata": {},
   "outputs": [],
   "source": [
    "moves_with_actors = movies_df.join(actors_total, on='const', how='inner')"
   ]
  },
  {
   "cell_type": "code",
   "execution_count": 18,
   "metadata": {},
   "outputs": [
    {
     "data": {
      "text/plain": [
       "(107416, 21)"
      ]
     },
     "execution_count": 18,
     "metadata": {},
     "output_type": "execute_result"
    }
   ],
   "source": [
    "moves_with_actors.shape"
   ]
  },
  {
   "cell_type": "code",
   "execution_count": 22,
   "metadata": {},
   "outputs": [
    {
     "data": {
      "text/html": [
       "<div><style>\n",
       ".dataframe > thead > tr,\n",
       ".dataframe > tbody > tr {\n",
       "  text-align: right;\n",
       "  white-space: pre-wrap;\n",
       "}\n",
       "</style>\n",
       "<small>shape: (10, 21)</small><table border=\"1\" class=\"dataframe\"><thead><tr><th>const</th><th>titleType</th><th>primaryTitle</th><th>originalTitle</th><th>isAdult</th><th>startYear</th><th>endYear</th><th>runtimeMinutes</th><th>genres</th><th>averageRating</th><th>numVotes</th><th>ordering</th><th>nconst</th><th>job</th><th>characters</th><th>column_6</th><th>primaryName</th><th>birthYear</th><th>deathYear</th><th>primaryProfession</th><th>knownForTitles</th></tr><tr><td>str</td><td>str</td><td>str</td><td>str</td><td>i32</td><td>i32</td><td>i32</td><td>i32</td><td>str</td><td>f32</td><td>i32</td><td>i32</td><td>str</td><td>str</td><td>str</td><td>str</td><td>str</td><td>i32</td><td>i32</td><td>str</td><td>str</td></tr></thead><tbody><tr><td>&quot;tt0004972&quot;</td><td>&quot;movie&quot;</td><td>&quot;The Birth of a Nation&quot;</td><td>&quot;The Birth of a Nation&quot;</td><td>0</td><td>1915</td><td>null</td><td>195</td><td>&quot;Drama,History,War&quot;</td><td>6.1</td><td>25999</td><td>10</td><td>&quot;nm0376221&quot;</td><td>&quot;editor&quot;</td><td>null</td><td>null</td><td>&quot;Joseph Henabery&quot;</td><td>1888</td><td>1976</td><td>&quot;director,actor,assistant_director&quot;</td><td>&quot;tt0004972,tt0006864,tt0007931,tt0021098&quot;</td></tr><tr><td>&quot;tt0004972&quot;</td><td>&quot;movie&quot;</td><td>&quot;The Birth of a Nation&quot;</td><td>&quot;The Birth of a Nation&quot;</td><td>0</td><td>1915</td><td>null</td><td>195</td><td>&quot;Drama,History,War&quot;</td><td>6.1</td><td>25999</td><td>1</td><td>&quot;nm0001273&quot;</td><td>&quot;actress&quot;</td><td>null</td><td>&quot;[&quot;Elsie - Stoneman&#x27;s Daughter&quot;]&quot;</td><td>&quot;Lillian Gish&quot;</td><td>1893</td><td>1993</td><td>&quot;actress,writer,soundtrack&quot;</td><td>&quot;tt0038499,tt0048424,tt0014605,tt0094315&quot;</td></tr><tr><td>&quot;tt0004972&quot;</td><td>&quot;movie&quot;</td><td>&quot;The Birth of a Nation&quot;</td><td>&quot;The Birth of a Nation&quot;</td><td>0</td><td>1915</td><td>null</td><td>195</td><td>&quot;Drama,History,War&quot;</td><td>6.1</td><td>25999</td><td>2</td><td>&quot;nm0550615&quot;</td><td>&quot;actress&quot;</td><td>null</td><td>&quot;[&quot;Flora Cameron - The Pet Sister&quot;]&quot;</td><td>&quot;Mae Marsh&quot;</td><td>1894</td><td>1968</td><td>&quot;actress&quot;</td><td>&quot;tt0004972,tt0006826,tt0006864,tt0014604&quot;</td></tr><tr><td>&quot;tt0004972&quot;</td><td>&quot;movie&quot;</td><td>&quot;The Birth of a Nation&quot;</td><td>&quot;The Birth of a Nation&quot;</td><td>0</td><td>1915</td><td>null</td><td>195</td><td>&quot;Drama,History,War&quot;</td><td>6.1</td><td>25999</td><td>3</td><td>&quot;nm0910400&quot;</td><td>&quot;actor&quot;</td><td>null</td><td>&quot;[&quot;Col. Ben Cameron aka The Little Colonel&quot;]&quot;</td><td>&quot;Henry B. Walthall&quot;</td><td>1878</td><td>1936</td><td>&quot;actor,assistant_director&quot;</td><td>&quot;tt0004972,tt0018097,tt0022753,tt0007478&quot;</td></tr><tr><td>&quot;tt0004972&quot;</td><td>&quot;movie&quot;</td><td>&quot;The Birth of a Nation&quot;</td><td>&quot;The Birth of a Nation&quot;</td><td>0</td><td>1915</td><td>null</td><td>195</td><td>&quot;Drama,History,War&quot;</td><td>6.1</td><td>25999</td><td>4</td><td>&quot;nm0178270&quot;</td><td>&quot;actress&quot;</td><td>null</td><td>&quot;[&quot;Margaret Cameron - The Elder Sister&quot;]&quot;</td><td>&quot;Miriam Cooper&quot;</td><td>1891</td><td>1976</td><td>&quot;actress,casting_director,costume_department&quot;</td><td>&quot;tt0004972,tt0006864,tt0012515,tt0012665&quot;</td></tr><tr><td>&quot;tt0004972&quot;</td><td>&quot;movie&quot;</td><td>&quot;The Birth of a Nation&quot;</td><td>&quot;The Birth of a Nation&quot;</td><td>0</td><td>1915</td><td>null</td><td>195</td><td>&quot;Drama,History,War&quot;</td><td>6.1</td><td>25999</td><td>5</td><td>&quot;nm0000428&quot;</td><td>&quot;director&quot;</td><td>null</td><td>null</td><td>&quot;D.W. Griffith&quot;</td><td>1875</td><td>1948</td><td>&quot;director,writer,producer&quot;</td><td>&quot;tt0010484,tt0004972,tt0009968,tt0006864&quot;</td></tr><tr><td>&quot;tt0004972&quot;</td><td>&quot;movie&quot;</td><td>&quot;The Birth of a Nation&quot;</td><td>&quot;The Birth of a Nation&quot;</td><td>0</td><td>1915</td><td>null</td><td>195</td><td>&quot;Drama,History,War&quot;</td><td>6.1</td><td>25999</td><td>6</td><td>&quot;nm0228746&quot;</td><td>&quot;writer&quot;</td><td>&quot;adapted from his novel: &quot;The Clansman: An Histori…</td><td>null</td><td>&quot;Thomas Dixon Jr.&quot;</td><td>1864</td><td>1946</td><td>&quot;writer,actor,director&quot;</td><td>&quot;tt0014257,tt0004972,tt3869584,tt0006664&quot;</td></tr><tr><td>&quot;tt0004972&quot;</td><td>&quot;movie&quot;</td><td>&quot;The Birth of a Nation&quot;</td><td>&quot;The Birth of a Nation&quot;</td><td>0</td><td>1915</td><td>null</td><td>195</td><td>&quot;Drama,History,War&quot;</td><td>6.1</td><td>25999</td><td>7</td><td>&quot;nm0940488&quot;</td><td>&quot;writer&quot;</td><td>null</td><td>null</td><td>&quot;Frank E. Woods&quot;</td><td>1860</td><td>1939</td><td>&quot;writer,miscellaneous,producer&quot;</td><td>&quot;tt1334605,tt0016016,tt0004972,tt0014766&quot;</td></tr><tr><td>&quot;tt0004972&quot;</td><td>&quot;movie&quot;</td><td>&quot;The Birth of a Nation&quot;</td><td>&quot;The Birth of a Nation&quot;</td><td>0</td><td>1915</td><td>null</td><td>195</td><td>&quot;Drama,History,War&quot;</td><td>6.1</td><td>25999</td><td>8</td><td>&quot;nm0106922&quot;</td><td>&quot;composer&quot;</td><td>null</td><td>null</td><td>&quot;Joseph Carl Breil&quot;</td><td>1870</td><td>1926</td><td>&quot;music_department,composer,soundtrack&quot;</td><td>&quot;tt0005997,tt0004972,tt0020771,tt0016220&quot;</td></tr><tr><td>&quot;tt0004972&quot;</td><td>&quot;movie&quot;</td><td>&quot;The Birth of a Nation&quot;</td><td>&quot;The Birth of a Nation&quot;</td><td>0</td><td>1915</td><td>null</td><td>195</td><td>&quot;Drama,History,War&quot;</td><td>6.1</td><td>25999</td><td>9</td><td>&quot;nm0005658&quot;</td><td>&quot;cinematographer&quot;</td><td>null</td><td>null</td><td>&quot;G.W. Bitzer&quot;</td><td>1872</td><td>1944</td><td>&quot;cinematographer,director,camera_department&quot;</td><td>&quot;tt0431889,tt0009968,tt0006864,tt0004972&quot;</td></tr></tbody></table></div>"
      ],
      "text/plain": [
       "shape: (10, 21)\n",
       "┌───────────┬───────────┬───────────┬───────────┬───┬───────────┬───────────┬───────────┬──────────┐\n",
       "│ const     ┆ titleType ┆ primaryTi ┆ originalT ┆ … ┆ birthYear ┆ deathYear ┆ primaryPr ┆ knownFor │\n",
       "│ ---       ┆ ---       ┆ tle       ┆ itle      ┆   ┆ ---       ┆ ---       ┆ ofession  ┆ Titles   │\n",
       "│ str       ┆ str       ┆ ---       ┆ ---       ┆   ┆ i32       ┆ i32       ┆ ---       ┆ ---      │\n",
       "│           ┆           ┆ str       ┆ str       ┆   ┆           ┆           ┆ str       ┆ str      │\n",
       "╞═══════════╪═══════════╪═══════════╪═══════════╪═══╪═══════════╪═══════════╪═══════════╪══════════╡\n",
       "│ tt0004972 ┆ movie     ┆ The Birth ┆ The Birth ┆ … ┆ 1888      ┆ 1976      ┆ director, ┆ tt000497 │\n",
       "│           ┆           ┆ of a      ┆ of a      ┆   ┆           ┆           ┆ actor,ass ┆ 2,tt0006 │\n",
       "│           ┆           ┆ Nation    ┆ Nation    ┆   ┆           ┆           ┆ istant_di ┆ 864,tt00 │\n",
       "│           ┆           ┆           ┆           ┆   ┆           ┆           ┆ rector    ┆ 07931,tt │\n",
       "│           ┆           ┆           ┆           ┆   ┆           ┆           ┆           ┆ 0021098  │\n",
       "│ tt0004972 ┆ movie     ┆ The Birth ┆ The Birth ┆ … ┆ 1893      ┆ 1993      ┆ actress,w ┆ tt003849 │\n",
       "│           ┆           ┆ of a      ┆ of a      ┆   ┆           ┆           ┆ riter,sou ┆ 9,tt0048 │\n",
       "│           ┆           ┆ Nation    ┆ Nation    ┆   ┆           ┆           ┆ ndtrack   ┆ 424,tt00 │\n",
       "│           ┆           ┆           ┆           ┆   ┆           ┆           ┆           ┆ 14605,tt │\n",
       "│           ┆           ┆           ┆           ┆   ┆           ┆           ┆           ┆ 0094315  │\n",
       "│ tt0004972 ┆ movie     ┆ The Birth ┆ The Birth ┆ … ┆ 1894      ┆ 1968      ┆ actress   ┆ tt000497 │\n",
       "│           ┆           ┆ of a      ┆ of a      ┆   ┆           ┆           ┆           ┆ 2,tt0006 │\n",
       "│           ┆           ┆ Nation    ┆ Nation    ┆   ┆           ┆           ┆           ┆ 826,tt00 │\n",
       "│           ┆           ┆           ┆           ┆   ┆           ┆           ┆           ┆ 06864,tt │\n",
       "│           ┆           ┆           ┆           ┆   ┆           ┆           ┆           ┆ 0014604  │\n",
       "│ tt0004972 ┆ movie     ┆ The Birth ┆ The Birth ┆ … ┆ 1878      ┆ 1936      ┆ actor,ass ┆ tt000497 │\n",
       "│           ┆           ┆ of a      ┆ of a      ┆   ┆           ┆           ┆ istant_di ┆ 2,tt0018 │\n",
       "│           ┆           ┆ Nation    ┆ Nation    ┆   ┆           ┆           ┆ rector    ┆ 097,tt00 │\n",
       "│           ┆           ┆           ┆           ┆   ┆           ┆           ┆           ┆ 22753,tt │\n",
       "│           ┆           ┆           ┆           ┆   ┆           ┆           ┆           ┆ 0007478  │\n",
       "│ …         ┆ …         ┆ …         ┆ …         ┆ … ┆ …         ┆ …         ┆ …         ┆ …        │\n",
       "│ tt0004972 ┆ movie     ┆ The Birth ┆ The Birth ┆ … ┆ 1864      ┆ 1946      ┆ writer,ac ┆ tt001425 │\n",
       "│           ┆           ┆ of a      ┆ of a      ┆   ┆           ┆           ┆ tor,direc ┆ 7,tt0004 │\n",
       "│           ┆           ┆ Nation    ┆ Nation    ┆   ┆           ┆           ┆ tor       ┆ 972,tt38 │\n",
       "│           ┆           ┆           ┆           ┆   ┆           ┆           ┆           ┆ 69584,tt │\n",
       "│           ┆           ┆           ┆           ┆   ┆           ┆           ┆           ┆ 0006664  │\n",
       "│ tt0004972 ┆ movie     ┆ The Birth ┆ The Birth ┆ … ┆ 1860      ┆ 1939      ┆ writer,mi ┆ tt133460 │\n",
       "│           ┆           ┆ of a      ┆ of a      ┆   ┆           ┆           ┆ scellaneo ┆ 5,tt0016 │\n",
       "│           ┆           ┆ Nation    ┆ Nation    ┆   ┆           ┆           ┆ us,produc ┆ 016,tt00 │\n",
       "│           ┆           ┆           ┆           ┆   ┆           ┆           ┆ er        ┆ 04972,tt │\n",
       "│           ┆           ┆           ┆           ┆   ┆           ┆           ┆           ┆ 0014766  │\n",
       "│ tt0004972 ┆ movie     ┆ The Birth ┆ The Birth ┆ … ┆ 1870      ┆ 1926      ┆ music_dep ┆ tt000599 │\n",
       "│           ┆           ┆ of a      ┆ of a      ┆   ┆           ┆           ┆ artment,c ┆ 7,tt0004 │\n",
       "│           ┆           ┆ Nation    ┆ Nation    ┆   ┆           ┆           ┆ omposer,s ┆ 972,tt00 │\n",
       "│           ┆           ┆           ┆           ┆   ┆           ┆           ┆ oundtrack ┆ 20771,tt │\n",
       "│           ┆           ┆           ┆           ┆   ┆           ┆           ┆           ┆ 0016220  │\n",
       "│ tt0004972 ┆ movie     ┆ The Birth ┆ The Birth ┆ … ┆ 1872      ┆ 1944      ┆ cinematog ┆ tt043188 │\n",
       "│           ┆           ┆ of a      ┆ of a      ┆   ┆           ┆           ┆ rapher,di ┆ 9,tt0009 │\n",
       "│           ┆           ┆ Nation    ┆ Nation    ┆   ┆           ┆           ┆ rector,ca ┆ 968,tt00 │\n",
       "│           ┆           ┆           ┆           ┆   ┆           ┆           ┆ mera_depa ┆ 06864,tt │\n",
       "│           ┆           ┆           ┆           ┆   ┆           ┆           ┆ rtment    ┆ 0004972  │\n",
       "└───────────┴───────────┴───────────┴───────────┴───┴───────────┴───────────┴───────────┴──────────┘"
      ]
     },
     "execution_count": 22,
     "metadata": {},
     "output_type": "execute_result"
    }
   ],
   "source": [
    "moves_with_actors.filter(pl.col('const') == 'tt0004972')"
   ]
  }
 ],
 "metadata": {
  "kernelspec": {
   "display_name": "celluloid_env",
   "language": "python",
   "name": "python3"
  },
  "language_info": {
   "codemirror_mode": {
    "name": "ipython",
    "version": 3
   },
   "file_extension": ".py",
   "mimetype": "text/x-python",
   "name": "python",
   "nbconvert_exporter": "python",
   "pygments_lexer": "ipython3",
   "version": "3.1.0"
  }
 },
 "nbformat": 4,
 "nbformat_minor": 2
}
