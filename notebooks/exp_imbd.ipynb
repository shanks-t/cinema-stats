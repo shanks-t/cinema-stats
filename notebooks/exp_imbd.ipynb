{
 "cells": [
  {
   "cell_type": "code",
   "execution_count": 19,
   "metadata": {},
   "outputs": [],
   "source": [
    "import polars as pl\n",
    "import pandas as pd\n",
    "import pyarrow\n",
    "import matplotlib.pyplot as plt\n",
    "import numpy as np"
   ]
  },
  {
   "cell_type": "code",
   "execution_count": 20,
   "metadata": {},
   "outputs": [],
   "source": [
    "def read_tsv_with_polars(file_path, column_names, column_types, null_values=['\\\\N']):\n",
    "    \"\"\"\n",
    "    Reads a TSV file into a Polars DataFrame with specified column names and types.\n",
    "\n",
    "    Parameters:\n",
    "    file_path (str): Path to the TSV file.\n",
    "    column_names (list): List of column names.\n",
    "    column_types (list): List of Polars data types for the columns.\n",
    "    null_values (list, optional): List of strings to be treated as null values. Defaults to ['\\\\N'].\n",
    "\n",
    "    Returns:\n",
    "    pl.DataFrame: Polars DataFrame with the TSV data.\n",
    "    \"\"\"\n",
    "    # Set the format string lengths for display\n",
    "    pl.Config.set_fmt_str_lengths(50)\n",
    "\n",
    "    # Read the TSV file\n",
    "    df = pl.read_csv(\n",
    "        file_path,\n",
    "        separator='\\t',\n",
    "        has_header=False,\n",
    "        new_columns=column_names,\n",
    "        dtypes=column_types,\n",
    "        ignore_errors=True,\n",
    "        null_values=null_values,\n",
    "        skip_rows=1\n",
    "    )\n",
    "    return df"
   ]
  },
  {
   "cell_type": "code",
   "execution_count": 21,
   "metadata": {},
   "outputs": [],
   "source": [
    "ratings_df = read_tsv_with_polars(\"../pipeline/data/raw_data/tsv/title.ratings.tsv\", ['const', 'averageRating', 'numVotes'], [pl.Utf8, pl.Float32, pl.Int32])\n"
   ]
  },
  {
   "cell_type": "code",
   "execution_count": 22,
   "metadata": {},
   "outputs": [],
   "source": [
    "# ratings_df = ratings_df.with_columns(pl.col(\"averageRating\").cast(pl.Float32, strict=False))"
   ]
  },
  {
   "cell_type": "code",
   "execution_count": 23,
   "metadata": {},
   "outputs": [
    {
     "data": {
      "text/html": [
       "<div><style>\n",
       ".dataframe > thead > tr,\n",
       ".dataframe > tbody > tr {\n",
       "  text-align: right;\n",
       "  white-space: pre-wrap;\n",
       "}\n",
       "</style>\n",
       "<small>shape: (10, 3)</small><table border=\"1\" class=\"dataframe\"><thead><tr><th>const</th><th>averageRating</th><th>numVotes</th></tr><tr><td>str</td><td>f32</td><td>i32</td></tr></thead><tbody><tr><td>&quot;tt0000001&quot;</td><td>5.7</td><td>2014</td></tr><tr><td>&quot;tt0000002&quot;</td><td>5.7</td><td>272</td></tr><tr><td>&quot;tt0000003&quot;</td><td>6.5</td><td>1936</td></tr><tr><td>&quot;tt0000004&quot;</td><td>5.4</td><td>179</td></tr><tr><td>&quot;tt0000005&quot;</td><td>6.2</td><td>2707</td></tr><tr><td>&quot;tt0000006&quot;</td><td>5.0</td><td>184</td></tr><tr><td>&quot;tt0000007&quot;</td><td>5.4</td><td>843</td></tr><tr><td>&quot;tt0000008&quot;</td><td>5.4</td><td>2160</td></tr><tr><td>&quot;tt0000009&quot;</td><td>5.3</td><td>207</td></tr><tr><td>&quot;tt0000010&quot;</td><td>6.8</td><td>7382</td></tr></tbody></table></div>"
      ],
      "text/plain": [
       "shape: (10, 3)\n",
       "┌───────────┬───────────────┬──────────┐\n",
       "│ const     ┆ averageRating ┆ numVotes │\n",
       "│ ---       ┆ ---           ┆ ---      │\n",
       "│ str       ┆ f32           ┆ i32      │\n",
       "╞═══════════╪═══════════════╪══════════╡\n",
       "│ tt0000001 ┆ 5.7           ┆ 2014     │\n",
       "│ tt0000002 ┆ 5.7           ┆ 272      │\n",
       "│ tt0000003 ┆ 6.5           ┆ 1936     │\n",
       "│ tt0000004 ┆ 5.4           ┆ 179      │\n",
       "│ …         ┆ …             ┆ …        │\n",
       "│ tt0000007 ┆ 5.4           ┆ 843      │\n",
       "│ tt0000008 ┆ 5.4           ┆ 2160     │\n",
       "│ tt0000009 ┆ 5.3           ┆ 207      │\n",
       "│ tt0000010 ┆ 6.8           ┆ 7382     │\n",
       "└───────────┴───────────────┴──────────┘"
      ]
     },
     "execution_count": 23,
     "metadata": {},
     "output_type": "execute_result"
    }
   ],
   "source": [
    "ratings_df.head(10)"
   ]
  },
  {
   "cell_type": "code",
   "execution_count": 24,
   "metadata": {},
   "outputs": [],
   "source": [
    "column_names = ['const', 'titleType', 'primaryTitle', 'originalTitle', 'isAdult', \n",
    "                'startYear', 'endYear', 'runtimeMinutes', 'genres']\n",
    "\n",
    "# Define column types\n",
    "# Adjust these based on the actual data in each column\n",
    "column_types = [pl.Utf8, pl.Utf8, pl.Utf8, pl.Utf8, pl.Int32, \n",
    "                pl.Int32, pl.Int32, pl.Int32, pl.Utf8]\n",
    "\n",
    "basics_df = read_tsv_with_polars('../pipeline/data/raw_data/tsv/title.basics.tsv', column_names, column_types)"
   ]
  },
  {
   "cell_type": "code",
   "execution_count": 25,
   "metadata": {},
   "outputs": [
    {
     "data": {
      "text/html": [
       "<div><style>\n",
       ".dataframe > thead > tr,\n",
       ".dataframe > tbody > tr {\n",
       "  text-align: right;\n",
       "  white-space: pre-wrap;\n",
       "}\n",
       "</style>\n",
       "<small>shape: (11, 2)</small><table border=\"1\" class=\"dataframe\"><thead><tr><th>titleType</th><th>count</th></tr><tr><td>str</td><td>u32</td></tr></thead><tbody><tr><td>&quot;tvMiniSeries&quot;</td><td>51763</td></tr><tr><td>&quot;tvEpisode&quot;</td><td>7982934</td></tr><tr><td>&quot;tvShort&quot;</td><td>10143</td></tr><tr><td>&quot;tvMovie&quot;</td><td>143915</td></tr><tr><td>&quot;videoGame&quot;</td><td>36964</td></tr><tr><td>&quot;video&quot;</td><td>285553</td></tr><tr><td>&quot;tvSpecial&quot;</td><td>45127</td></tr><tr><td>&quot;movie&quot;</td><td>667364</td></tr><tr><td>&quot;short&quot;</td><td>969727</td></tr><tr><td>&quot;tvSeries&quot;</td><td>254628</td></tr><tr><td>&quot;tvPilot&quot;</td><td>1</td></tr></tbody></table></div>"
      ],
      "text/plain": [
       "shape: (11, 2)\n",
       "┌──────────────┬─────────┐\n",
       "│ titleType    ┆ count   │\n",
       "│ ---          ┆ ---     │\n",
       "│ str          ┆ u32     │\n",
       "╞══════════════╪═════════╡\n",
       "│ tvMiniSeries ┆ 51763   │\n",
       "│ tvEpisode    ┆ 7982934 │\n",
       "│ tvShort      ┆ 10143   │\n",
       "│ tvMovie      ┆ 143915  │\n",
       "│ …            ┆ …       │\n",
       "│ movie        ┆ 667364  │\n",
       "│ short        ┆ 969727  │\n",
       "│ tvSeries     ┆ 254628  │\n",
       "│ tvPilot      ┆ 1       │\n",
       "└──────────────┴─────────┘"
      ]
     },
     "execution_count": 25,
     "metadata": {},
     "output_type": "execute_result"
    }
   ],
   "source": [
    "basics_df[\"titleType\"].value_counts()"
   ]
  },
  {
   "cell_type": "code",
   "execution_count": 26,
   "metadata": {},
   "outputs": [],
   "source": [
    "filter_condition = basics_df['titleType'] == \"movie\"\n",
    "\n",
    "movies = basics_df.filter(filter_condition)"
   ]
  },
  {
   "cell_type": "code",
   "execution_count": 27,
   "metadata": {},
   "outputs": [
    {
     "data": {
      "text/plain": [
       "['const',\n",
       " 'titleType',\n",
       " 'primaryTitle',\n",
       " 'originalTitle',\n",
       " 'isAdult',\n",
       " 'startYear',\n",
       " 'endYear',\n",
       " 'runtimeMinutes',\n",
       " 'genres']"
      ]
     },
     "execution_count": 27,
     "metadata": {},
     "output_type": "execute_result"
    }
   ],
   "source": [
    "movies.columns"
   ]
  },
  {
   "cell_type": "code",
   "execution_count": 35,
   "metadata": {},
   "outputs": [
    {
     "data": {
      "text/html": [
       "<div><style>\n",
       ".dataframe > thead > tr,\n",
       ".dataframe > tbody > tr {\n",
       "  text-align: right;\n",
       "  white-space: pre-wrap;\n",
       "}\n",
       "</style>\n",
       "<small>shape: (5, 11)</small><table border=\"1\" class=\"dataframe\"><thead><tr><th>const</th><th>titleType</th><th>primaryTitle</th><th>originalTitle</th><th>isAdult</th><th>startYear</th><th>endYear</th><th>runtimeMinutes</th><th>genres</th><th>averageRating</th><th>numVotes</th></tr><tr><td>str</td><td>str</td><td>str</td><td>str</td><td>i32</td><td>i32</td><td>i32</td><td>i32</td><td>str</td><td>f32</td><td>i32</td></tr></thead><tbody><tr><td>&quot;tt0111161&quot;</td><td>&quot;movie&quot;</td><td>&quot;The Shawshank Redemption&quot;</td><td>&quot;The Shawshank Redemption&quot;</td><td>0</td><td>1994</td><td>null</td><td>142</td><td>&quot;Drama&quot;</td><td>9.3</td><td>2835969</td></tr><tr><td>&quot;tt0468569&quot;</td><td>&quot;movie&quot;</td><td>&quot;The Dark Knight&quot;</td><td>&quot;The Dark Knight&quot;</td><td>0</td><td>2008</td><td>null</td><td>152</td><td>&quot;Action,Crime,Drama&quot;</td><td>9.0</td><td>2817391</td></tr><tr><td>&quot;tt1375666&quot;</td><td>&quot;movie&quot;</td><td>&quot;Inception&quot;</td><td>&quot;Inception&quot;</td><td>0</td><td>2010</td><td>null</td><td>148</td><td>&quot;Action,Adventure,Sci-Fi&quot;</td><td>8.8</td><td>2500739</td></tr><tr><td>&quot;tt0137523&quot;</td><td>&quot;movie&quot;</td><td>&quot;Fight Club&quot;</td><td>&quot;Fight Club&quot;</td><td>0</td><td>1999</td><td>null</td><td>139</td><td>&quot;Drama&quot;</td><td>8.8</td><td>2271670</td></tr><tr><td>&quot;tt0109830&quot;</td><td>&quot;movie&quot;</td><td>&quot;Forrest Gump&quot;</td><td>&quot;Forrest Gump&quot;</td><td>0</td><td>1994</td><td>null</td><td>142</td><td>&quot;Drama,Romance&quot;</td><td>8.8</td><td>2210564</td></tr></tbody></table></div>"
      ],
      "text/plain": [
       "shape: (5, 11)\n",
       "┌───────────┬───────────┬───────────┬───────────┬───┬───────────┬───────────┬───────────┬──────────┐\n",
       "│ const     ┆ titleType ┆ primaryTi ┆ originalT ┆ … ┆ runtimeMi ┆ genres    ┆ averageRa ┆ numVotes │\n",
       "│ ---       ┆ ---       ┆ tle       ┆ itle      ┆   ┆ nutes     ┆ ---       ┆ ting      ┆ ---      │\n",
       "│ str       ┆ str       ┆ ---       ┆ ---       ┆   ┆ ---       ┆ str       ┆ ---       ┆ i32      │\n",
       "│           ┆           ┆ str       ┆ str       ┆   ┆ i32       ┆           ┆ f32       ┆          │\n",
       "╞═══════════╪═══════════╪═══════════╪═══════════╪═══╪═══════════╪═══════════╪═══════════╪══════════╡\n",
       "│ tt0111161 ┆ movie     ┆ The       ┆ The       ┆ … ┆ 142       ┆ Drama     ┆ 9.3       ┆ 2835969  │\n",
       "│           ┆           ┆ Shawshank ┆ Shawshank ┆   ┆           ┆           ┆           ┆          │\n",
       "│           ┆           ┆ Redemptio ┆ Redemptio ┆   ┆           ┆           ┆           ┆          │\n",
       "│           ┆           ┆ n         ┆ n         ┆   ┆           ┆           ┆           ┆          │\n",
       "│ tt0468569 ┆ movie     ┆ The Dark  ┆ The Dark  ┆ … ┆ 152       ┆ Action,Cr ┆ 9.0       ┆ 2817391  │\n",
       "│           ┆           ┆ Knight    ┆ Knight    ┆   ┆           ┆ ime,Drama ┆           ┆          │\n",
       "│ tt1375666 ┆ movie     ┆ Inception ┆ Inception ┆ … ┆ 148       ┆ Action,Ad ┆ 8.8       ┆ 2500739  │\n",
       "│           ┆           ┆           ┆           ┆   ┆           ┆ venture,S ┆           ┆          │\n",
       "│           ┆           ┆           ┆           ┆   ┆           ┆ ci-Fi     ┆           ┆          │\n",
       "│ tt0137523 ┆ movie     ┆ Fight     ┆ Fight     ┆ … ┆ 139       ┆ Drama     ┆ 8.8       ┆ 2271670  │\n",
       "│           ┆           ┆ Club      ┆ Club      ┆   ┆           ┆           ┆           ┆          │\n",
       "│ tt0109830 ┆ movie     ┆ Forrest   ┆ Forrest   ┆ … ┆ 142       ┆ Drama,Rom ┆ 8.8       ┆ 2210564  │\n",
       "│           ┆           ┆ Gump      ┆ Gump      ┆   ┆           ┆ ance      ┆           ┆          │\n",
       "└───────────┴───────────┴───────────┴───────────┴───┴───────────┴───────────┴───────────┴──────────┘"
      ]
     },
     "execution_count": 35,
     "metadata": {},
     "output_type": "execute_result"
    }
   ],
   "source": [
    "movie_ratings = movies.join(ratings_df, on=\"const\", how=\"inner\")\n",
    "\n",
    "movie_ratings = movie_ratings.sort(by=\"numVotes\", descending=True)\n",
    "movie_ratings.head()\n"
   ]
  },
  {
   "cell_type": "code",
   "execution_count": 29,
   "metadata": {},
   "outputs": [
    {
     "data": {
      "text/html": [
       "<div><style>\n",
       ".dataframe > thead > tr,\n",
       ".dataframe > tbody > tr {\n",
       "  text-align: right;\n",
       "  white-space: pre-wrap;\n",
       "}\n",
       "</style>\n",
       "<small>shape: (127, 2)</small><table border=\"1\" class=\"dataframe\"><thead><tr><th>startYear</th><th>count</th></tr><tr><td>i32</td><td>u32</td></tr></thead><tbody><tr><td>2019</td><td>10485</td></tr><tr><td>2018</td><td>10368</td></tr><tr><td>2017</td><td>10293</td></tr><tr><td>2022</td><td>10081</td></tr><tr><td>2016</td><td>9811</td></tr><tr><td>2015</td><td>9423</td></tr><tr><td>2014</td><td>9201</td></tr><tr><td>2021</td><td>8904</td></tr><tr><td>2013</td><td>8573</td></tr><tr><td>2020</td><td>8436</td></tr><tr><td>2023</td><td>8211</td></tr><tr><td>2012</td><td>8203</td></tr><tr><td>&hellip;</td><td>&hellip;</td></tr><tr><td>1907</td><td>13</td></tr><tr><td>1908</td><td>13</td></tr><tr><td>1905</td><td>10</td></tr><tr><td>1906</td><td>8</td></tr><tr><td>1897</td><td>2</td></tr><tr><td>1903</td><td>2</td></tr><tr><td>1899</td><td>2</td></tr><tr><td>1901</td><td>2</td></tr><tr><td>1900</td><td>2</td></tr><tr><td>1894</td><td>1</td></tr><tr><td>1904</td><td>1</td></tr><tr><td>1902</td><td>1</td></tr></tbody></table></div>"
      ],
      "text/plain": [
       "shape: (127, 2)\n",
       "┌───────────┬───────┐\n",
       "│ startYear ┆ count │\n",
       "│ ---       ┆ ---   │\n",
       "│ i32       ┆ u32   │\n",
       "╞═══════════╪═══════╡\n",
       "│ 2019      ┆ 10485 │\n",
       "│ 2018      ┆ 10368 │\n",
       "│ 2017      ┆ 10293 │\n",
       "│ 2022      ┆ 10081 │\n",
       "│ …         ┆ …     │\n",
       "│ 1900      ┆ 2     │\n",
       "│ 1894      ┆ 1     │\n",
       "│ 1904      ┆ 1     │\n",
       "│ 1902      ┆ 1     │\n",
       "└───────────┴───────┘"
      ]
     },
     "execution_count": 29,
     "metadata": {},
     "output_type": "execute_result"
    }
   ],
   "source": [
    "movie_ratings = movie_ratings.filter(movie_ratings['startYear'].is_not_null())\n",
    "movie_ratings['startYear'].value_counts(sort=True)"
   ]
  },
  {
   "cell_type": "code",
   "execution_count": 30,
   "metadata": {},
   "outputs": [
    {
     "data": {
      "text/html": [
       "<div><style>\n",
       ".dataframe > thead > tr,\n",
       ".dataframe > tbody > tr {\n",
       "  text-align: right;\n",
       "  white-space: pre-wrap;\n",
       "}\n",
       "</style>\n",
       "<small>shape: (5, 11)</small><table border=\"1\" class=\"dataframe\"><thead><tr><th>const</th><th>titleType</th><th>primaryTitle</th><th>originalTitle</th><th>isAdult</th><th>startYear</th><th>endYear</th><th>runtimeMinutes</th><th>genres</th><th>averageRating</th><th>numVotes</th></tr><tr><td>str</td><td>str</td><td>str</td><td>str</td><td>i32</td><td>i32</td><td>i32</td><td>i32</td><td>str</td><td>f32</td><td>i32</td></tr></thead><tbody><tr><td>&quot;tt0070596&quot;</td><td>&quot;movie&quot;</td><td>&quot;Socialist Realism&quot;</td><td>&quot;El realismo socialista&quot;</td><td>0</td><td>2023</td><td>null</td><td>78</td><td>&quot;Drama&quot;</td><td>7.5</td><td>52</td></tr><tr><td>&quot;tt0122511&quot;</td><td>&quot;movie&quot;</td><td>&quot;The Gnomes Great Adventure&quot;</td><td>&quot;The Gnomes Great Adventure&quot;</td><td>0</td><td>2023</td><td>null</td><td>74</td><td>&quot;Adventure,Animation,Comedy&quot;</td><td>6.1</td><td>62</td></tr><tr><td>&quot;tt0164115&quot;</td><td>&quot;movie&quot;</td><td>&quot;Nine Ball&quot;</td><td>&quot;Nine Ball&quot;</td><td>0</td><td>2023</td><td>null</td><td>null</td><td>null</td><td>6.0</td><td>35</td></tr><tr><td>&quot;tt0221503&quot;</td><td>&quot;movie&quot;</td><td>&quot;A Question of Suspense&quot;</td><td>&quot;A Question of Suspense&quot;</td><td>0</td><td>2023</td><td>null</td><td>62</td><td>&quot;Crime,Drama&quot;</td><td>5.7</td><td>112</td></tr><tr><td>&quot;tt0347992&quot;</td><td>&quot;movie&quot;</td><td>&quot;Death Ray on Coral Island&quot;</td><td>&quot;Shanhu dao shang de shi guang&quot;</td><td>0</td><td>2023</td><td>null</td><td>null</td><td>&quot;Sci-Fi,Thriller&quot;</td><td>4.8</td><td>26</td></tr></tbody></table></div>"
      ],
      "text/plain": [
       "shape: (5, 11)\n",
       "┌───────────┬───────────┬───────────┬───────────┬───┬───────────┬───────────┬───────────┬──────────┐\n",
       "│ const     ┆ titleType ┆ primaryTi ┆ originalT ┆ … ┆ runtimeMi ┆ genres    ┆ averageRa ┆ numVotes │\n",
       "│ ---       ┆ ---       ┆ tle       ┆ itle      ┆   ┆ nutes     ┆ ---       ┆ ting      ┆ ---      │\n",
       "│ str       ┆ str       ┆ ---       ┆ ---       ┆   ┆ ---       ┆ str       ┆ ---       ┆ i32      │\n",
       "│           ┆           ┆ str       ┆ str       ┆   ┆ i32       ┆           ┆ f32       ┆          │\n",
       "╞═══════════╪═══════════╪═══════════╪═══════════╪═══╪═══════════╪═══════════╪═══════════╪══════════╡\n",
       "│ tt0070596 ┆ movie     ┆ Socialist ┆ El        ┆ … ┆ 78        ┆ Drama     ┆ 7.5       ┆ 52       │\n",
       "│           ┆           ┆ Realism   ┆ realismo  ┆   ┆           ┆           ┆           ┆          │\n",
       "│           ┆           ┆           ┆ socialist ┆   ┆           ┆           ┆           ┆          │\n",
       "│           ┆           ┆           ┆ a         ┆   ┆           ┆           ┆           ┆          │\n",
       "│ tt0122511 ┆ movie     ┆ The       ┆ The       ┆ … ┆ 74        ┆ Adventure ┆ 6.1       ┆ 62       │\n",
       "│           ┆           ┆ Gnomes    ┆ Gnomes    ┆   ┆           ┆ ,Animatio ┆           ┆          │\n",
       "│           ┆           ┆ Great     ┆ Great     ┆   ┆           ┆ n,Comedy  ┆           ┆          │\n",
       "│           ┆           ┆ Adventure ┆ Adventure ┆   ┆           ┆           ┆           ┆          │\n",
       "│ tt0164115 ┆ movie     ┆ Nine Ball ┆ Nine Ball ┆ … ┆ null      ┆ null      ┆ 6.0       ┆ 35       │\n",
       "│ tt0221503 ┆ movie     ┆ A         ┆ A         ┆ … ┆ 62        ┆ Crime,Dra ┆ 5.7       ┆ 112      │\n",
       "│           ┆           ┆ Question  ┆ Question  ┆   ┆           ┆ ma        ┆           ┆          │\n",
       "│           ┆           ┆ of        ┆ of        ┆   ┆           ┆           ┆           ┆          │\n",
       "│           ┆           ┆ Suspense  ┆ Suspense  ┆   ┆           ┆           ┆           ┆          │\n",
       "│ tt0347992 ┆ movie     ┆ Death Ray ┆ Shanhu    ┆ … ┆ null      ┆ Sci-Fi,Th ┆ 4.8       ┆ 26       │\n",
       "│           ┆           ┆ on Coral  ┆ dao shang ┆   ┆           ┆ riller    ┆           ┆          │\n",
       "│           ┆           ┆ Island    ┆ de shi    ┆   ┆           ┆           ┆           ┆          │\n",
       "│           ┆           ┆           ┆ guang     ┆   ┆           ┆           ┆           ┆          │\n",
       "└───────────┴───────────┴───────────┴───────────┴───┴───────────┴───────────┴───────────┴──────────┘"
      ]
     },
     "execution_count": 30,
     "metadata": {},
     "output_type": "execute_result"
    }
   ],
   "source": [
    "movies_2023 = movie_ratings.filter(pl.col('startYear') == 2023)\n",
    "movies_2023.head()"
   ]
  },
  {
   "cell_type": "code",
   "execution_count": 31,
   "metadata": {},
   "outputs": [
    {
     "data": {
      "text/plain": [
       "(10916, 11)"
      ]
     },
     "execution_count": 31,
     "metadata": {},
     "output_type": "execute_result"
    }
   ],
   "source": [
    "movie_ratings = movie_ratings.filter(pl.col(\"numVotes\") > 10000)\n",
    "\n",
    "movie_ratings.shape"
   ]
  },
  {
   "cell_type": "code",
   "execution_count": 32,
   "metadata": {},
   "outputs": [
    {
     "ename": "NameError",
     "evalue": "name 'plt' is not defined",
     "output_type": "error",
     "traceback": [
      "\u001b[0;31m---------------------------------------------------------------------------\u001b[0m",
      "\u001b[0;31mNameError\u001b[0m                                 Traceback (most recent call last)",
      "Cell \u001b[0;32mIn[32], line 15\u001b[0m\n\u001b[1;32m      4\u001b[0m \u001b[38;5;66;03m# movies_pd.hist(column='numVotes', bins=100)\u001b[39;00m\n\u001b[1;32m      5\u001b[0m \n\u001b[1;32m      6\u001b[0m \u001b[38;5;66;03m# plt.figure(figsize=(12, 6))\u001b[39;00m\n\u001b[0;32m   (...)\u001b[0m\n\u001b[1;32m     12\u001b[0m \n\u001b[1;32m     13\u001b[0m \u001b[38;5;66;03m# Histogram of log-transformed data\u001b[39;00m\n\u001b[1;32m     14\u001b[0m movies_pd[\u001b[38;5;124m'\u001b[39m\u001b[38;5;124mlog_transformed\u001b[39m\u001b[38;5;124m'\u001b[39m] \u001b[38;5;241m=\u001b[39m np\u001b[38;5;241m.\u001b[39mlog(movies_pd[\u001b[38;5;124m'\u001b[39m\u001b[38;5;124mnumVotes\u001b[39m\u001b[38;5;124m'\u001b[39m])\n\u001b[0;32m---> 15\u001b[0m \u001b[43mplt\u001b[49m\u001b[38;5;241m.\u001b[39mfigure(figsize\u001b[38;5;241m=\u001b[39m(\u001b[38;5;241m12\u001b[39m, \u001b[38;5;241m6\u001b[39m))\n\u001b[1;32m     16\u001b[0m plt\u001b[38;5;241m.\u001b[39msubplot(\u001b[38;5;241m1\u001b[39m, \u001b[38;5;241m2\u001b[39m, \u001b[38;5;241m2\u001b[39m)\n\u001b[1;32m     17\u001b[0m plt\u001b[38;5;241m.\u001b[39mhist(movies_pd[\u001b[38;5;124m'\u001b[39m\u001b[38;5;124mlog_transformed\u001b[39m\u001b[38;5;124m'\u001b[39m], bins\u001b[38;5;241m=\u001b[39m\u001b[38;5;241m50\u001b[39m)\n",
      "\u001b[0;31mNameError\u001b[0m: name 'plt' is not defined"
     ]
    }
   ],
   "source": [
    "movies_pd = movie_ratings.to_pandas()\n",
    "\n",
    "\n",
    "# movies_pd.hist(column='numVotes', bins=100)\n",
    "\n",
    "# plt.figure(figsize=(12, 6))\n",
    "# plt.subplot(1, 2, 1)\n",
    "# plt.hist(movies_pd['numVotes'], bins=100)\n",
    "# plt.yscale('log')\n",
    "# plt.title('Histogram with Logarithmic Scale')\n",
    "# plt.show()\n",
    "\n",
    "# Histogram of log-transformed data\n",
    "movies_pd['log_transformed'] = np.log(movies_pd['numVotes'])\n",
    "plt.figure(figsize=(12, 6))\n",
    "plt.subplot(1, 2, 2)\n",
    "plt.hist(movies_pd['log_transformed'], bins=50)\n",
    "plt.title('Histogram of Log-Transformed Data')\n",
    "plt.show()"
   ]
  },
  {
   "cell_type": "code",
   "execution_count": null,
   "metadata": {},
   "outputs": [],
   "source": [
    "movie_ratings.sort('averageRating', descending=True)\n",
    "\n",
    "movie_ratings.write_parquet('./data/movies_with_ratings.parquet')"
   ]
  }
 ],
 "metadata": {
  "kernelspec": {
   "display_name": "celluloid_env",
   "language": "python",
   "name": "python3"
  },
  "language_info": {
   "codemirror_mode": {
    "name": "ipython",
    "version": 3
   },
   "file_extension": ".py",
   "mimetype": "text/x-python",
   "name": "python",
   "nbconvert_exporter": "python",
   "pygments_lexer": "ipython3",
   "version": "3.11.7"
  }
 },
 "nbformat": 4,
 "nbformat_minor": 2
}
