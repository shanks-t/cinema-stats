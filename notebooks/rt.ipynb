{
 "cells": [
  {
   "cell_type": "code",
   "execution_count": 17,
   "metadata": {},
   "outputs": [],
   "source": [
    "import polars as pl\n",
    "import pandas as pd\n",
    "import numpy as np\n",
    "import os\n",
    "import pyarrow.parquet as pq"
   ]
  },
  {
   "cell_type": "code",
   "execution_count": 18,
   "metadata": {},
   "outputs": [],
   "source": [
    "def convert_tsv_to_parquet(tsv_file_path, parquet_dir):\n",
    "    \"\"\"\n",
    "    Converts a TSV file to a Parquet file\n",
    "    \"\"\"\n",
    "\n",
    "    parquet_file_name = os.path.basename(tsv_file_path).replace('.csv', '.parquet')\n",
    "    parquet_file_path = os.path.join(parquet_dir, parquet_file_name)\n",
    "\n",
    "    df = pl.read_csv(tsv_file_path, separator=',', has_header=True, ignore_errors=True)\n",
    "    df.write_parquet(parquet_file_path)\n",
    "\n",
    "    return parquet_file_path"
   ]
  },
  {
   "cell_type": "code",
   "execution_count": 35,
   "metadata": {},
   "outputs": [
    {
     "data": {
      "text/plain": [
       "polars.config.Config"
      ]
     },
     "execution_count": 35,
     "metadata": {},
     "output_type": "execute_result"
    }
   ],
   "source": [
    "# path = convert_tsv_to_parquet(\"../pipeline/data/raw_data/csv/rotten_tomatoes_movies.csv\", \"../pipeline/data/raw_data/parquet/\")\n",
    "pl.Config.set_fmt_str_lengths(100)"
   ]
  },
  {
   "cell_type": "code",
   "execution_count": 20,
   "metadata": {},
   "outputs": [],
   "source": [
    "df = pl.read_parquet(\"../dagster/data/raw_data/parquet/rotten_tomatoes_movies.parquet\")"
   ]
  },
  {
   "cell_type": "code",
   "execution_count": 21,
   "metadata": {},
   "outputs": [
    {
     "data": {
      "text/plain": [
       "['id',\n",
       " 'title',\n",
       " 'audienceScore',\n",
       " 'tomatoMeter',\n",
       " 'rating',\n",
       " 'ratingContents',\n",
       " 'releaseDateTheaters',\n",
       " 'releaseDateStreaming',\n",
       " 'runtimeMinutes',\n",
       " 'genre',\n",
       " 'originalLanguage',\n",
       " 'director',\n",
       " 'writer',\n",
       " 'boxOffice',\n",
       " 'distributor',\n",
       " 'soundMix']"
      ]
     },
     "execution_count": 21,
     "metadata": {},
     "output_type": "execute_result"
    }
   ],
   "source": [
    "df.columns"
   ]
  },
  {
   "cell_type": "code",
   "execution_count": 41,
   "metadata": {},
   "outputs": [
    {
     "name": "stdout",
     "output_type": "stream",
     "text": [
      "(84282, 17)\n"
     ]
    },
    {
     "data": {
      "text/html": [
       "<div><style>\n",
       ".dataframe > thead > tr,\n",
       ".dataframe > tbody > tr {\n",
       "  text-align: right;\n",
       "  white-space: pre-wrap;\n",
       "}\n",
       "</style>\n",
       "<small>shape: (5, 17)</small><table border=\"1\" class=\"dataframe\"><thead><tr><th>id</th><th>title</th><th>audienceScore</th><th>tomatoMeter</th><th>rating</th><th>ratingContents</th><th>releaseDateTheaters</th><th>releaseDateStreaming</th><th>runtimeMinutes</th><th>genre</th><th>originalLanguage</th><th>director</th><th>writer</th><th>boxOffice</th><th>distributor</th><th>soundMix</th><th>year</th></tr><tr><td>str</td><td>str</td><td>i64</td><td>i64</td><td>str</td><td>str</td><td>str</td><td>str</td><td>i64</td><td>str</td><td>str</td><td>str</td><td>str</td><td>str</td><td>str</td><td>str</td><td>i32</td></tr></thead><tbody><tr><td>&quot;space-zombie-bingo&quot;</td><td>&quot;Space Zombie Bingo!&quot;</td><td>50</td><td>null</td><td>null</td><td>null</td><td>null</td><td>&quot;2018-08-25&quot;</td><td>75</td><td>&quot;Comedy, Horror, Sci-fi&quot;</td><td>&quot;English&quot;</td><td>&quot;George Ormrod&quot;</td><td>&quot;George Ormrod,John Sabotta&quot;</td><td>null</td><td>null</td><td>null</td><td>2018</td></tr><tr><td>&quot;the_green_grass&quot;</td><td>&quot;The Green Grass&quot;</td><td>null</td><td>null</td><td>null</td><td>null</td><td>null</td><td>&quot;2020-02-11&quot;</td><td>114</td><td>&quot;Drama&quot;</td><td>&quot;English&quot;</td><td>&quot;Tiffany Edwards&quot;</td><td>&quot;Tiffany Edwards&quot;</td><td>null</td><td>null</td><td>null</td><td>2020</td></tr><tr><td>&quot;the_sore_losers_1997&quot;</td><td>&quot;Sore Losers&quot;</td><td>60</td><td>null</td><td>null</td><td>null</td><td>null</td><td>&quot;2020-10-23&quot;</td><td>90</td><td>&quot;Action, Mystery &amp; thriller&quot;</td><td>&quot;English&quot;</td><td>&quot;John Michael McCarthy&quot;</td><td>&quot;John Michael McCarthy&quot;</td><td>null</td><td>null</td><td>null</td><td>2020</td></tr><tr><td>&quot;dinosaur_island_2002&quot;</td><td>&quot;Dinosaur Island&quot;</td><td>70</td><td>null</td><td>null</td><td>null</td><td>null</td><td>&quot;2017-03-27&quot;</td><td>80</td><td>&quot;Fantasy, Adventure, Animation&quot;</td><td>&quot;English&quot;</td><td>&quot;Will Meugniot&quot;</td><td>&quot;John Loy&quot;</td><td>null</td><td>null</td><td>null</td><td>2017</td></tr><tr><td>&quot;adrift_2018&quot;</td><td>&quot;Adrift&quot;</td><td>65</td><td>69</td><td>&quot;PG-13&quot;</td><td>&quot;[&#x27;Injury Images&#x27;, &#x27;Brief Drug Use&#x27;, &#x27;Thematic Elements&#x27;, &#x27;Language&#x27;, &#x27;Partial Nudity&#x27;, &#x27;Peril&#x27;]&quot;</td><td>&quot;2018-06-01&quot;</td><td>&quot;2018-08-21&quot;</td><td>120</td><td>&quot;Adventure, Drama, Romance&quot;</td><td>&quot;English&quot;</td><td>&quot;Baltasar Kormákur&quot;</td><td>&quot;Aaron Kandell,Jordan Kandell,David Branson Smith&quot;</td><td>&quot;$31.4M&quot;</td><td>&quot;STX Films&quot;</td><td>null</td><td>2018</td></tr></tbody></table></div>"
      ],
      "text/plain": [
       "shape: (5, 17)\n",
       "┌────────────┬────────────┬────────────┬────────────┬───┬───────────┬────────────┬──────────┬──────┐\n",
       "│ id         ┆ title      ┆ audienceSc ┆ tomatoMete ┆ … ┆ boxOffice ┆ distributo ┆ soundMix ┆ year │\n",
       "│ ---        ┆ ---        ┆ ore        ┆ r          ┆   ┆ ---       ┆ r          ┆ ---      ┆ ---  │\n",
       "│ str        ┆ str        ┆ ---        ┆ ---        ┆   ┆ str       ┆ ---        ┆ str      ┆ i32  │\n",
       "│            ┆            ┆ i64        ┆ i64        ┆   ┆           ┆ str        ┆          ┆      │\n",
       "╞════════════╪════════════╪════════════╪════════════╪═══╪═══════════╪════════════╪══════════╪══════╡\n",
       "│ space-zomb ┆ Space      ┆ 50         ┆ null       ┆ … ┆ null      ┆ null       ┆ null     ┆ 2018 │\n",
       "│ ie-bingo   ┆ Zombie     ┆            ┆            ┆   ┆           ┆            ┆          ┆      │\n",
       "│            ┆ Bingo!     ┆            ┆            ┆   ┆           ┆            ┆          ┆      │\n",
       "│ the_green_ ┆ The Green  ┆ null       ┆ null       ┆ … ┆ null      ┆ null       ┆ null     ┆ 2020 │\n",
       "│ grass      ┆ Grass      ┆            ┆            ┆   ┆           ┆            ┆          ┆      │\n",
       "│ the_sore_l ┆ Sore       ┆ 60         ┆ null       ┆ … ┆ null      ┆ null       ┆ null     ┆ 2020 │\n",
       "│ osers_1997 ┆ Losers     ┆            ┆            ┆   ┆           ┆            ┆          ┆      │\n",
       "│ dinosaur_i ┆ Dinosaur   ┆ 70         ┆ null       ┆ … ┆ null      ┆ null       ┆ null     ┆ 2017 │\n",
       "│ sland_2002 ┆ Island     ┆            ┆            ┆   ┆           ┆            ┆          ┆      │\n",
       "│ adrift_201 ┆ Adrift     ┆ 65         ┆ 69         ┆ … ┆ $31.4M    ┆ STX Films  ┆ null     ┆ 2018 │\n",
       "│ 8          ┆            ┆            ┆            ┆   ┆           ┆            ┆          ┆      │\n",
       "└────────────┴────────────┴────────────┴────────────┴───┴───────────┴────────────┴──────────┴──────┘"
      ]
     },
     "execution_count": 41,
     "metadata": {},
     "output_type": "execute_result"
    }
   ],
   "source": [
    "# rt = df.with_columns(pl.col('releaseDateStreaming').str.strptime(pl.Date, '%Y-%m-%d').dt.year())\n",
    "# rt = rt.with_columns(\n",
    "#     pl.col('releaseDateTheaters').str.strptime(pl.Date, '%Y-%m-%d').dt.year()\n",
    "# )\n",
    "\n",
    "rt = df.with_columns(\n",
    "    pl.when(pl.col('releaseDateTheaters').is_not_null())\n",
    "    .then(pl.col('releaseDateTheaters').str.strptime(pl.Date, '%Y-%m-%d').dt.year())\n",
    "    .otherwise(pl.col('releaseDateStreaming').str.strptime(pl.Date, '%Y-%m-%d').dt.year())\n",
    "    .alias('year')\n",
    ")\n",
    "rt = rt.filter(pl.col(\"year\") > 1)\n",
    "\n",
    "print(rt.shape)\n",
    "rt.write_parquet(\"../dagster/data/raw_data/parquet/rt.parquet\", compression=\"snappy\")\n",
    "rt.head()"
   ]
  },
  {
   "cell_type": "code",
   "execution_count": 40,
   "metadata": {},
   "outputs": [
    {
     "name": "stdout",
     "output_type": "stream",
     "text": [
      "shape: (0,)\n",
      "Series: 'id' [str]\n",
      "[\n",
      "]\n"
     ]
    }
   ],
   "source": [
    "one = rt.filter(pl.col(\"year\") == 1)\n",
    "print(one[\"id\"])"
   ]
  }
 ],
 "metadata": {
  "kernelspec": {
   "display_name": "dag_nyc",
   "language": "python",
   "name": "python3"
  },
  "language_info": {
   "codemirror_mode": {
    "name": "ipython",
    "version": 3
   },
   "file_extension": ".py",
   "mimetype": "text/x-python",
   "name": "python",
   "nbconvert_exporter": "python",
   "pygments_lexer": "ipython3",
   "version": "3.11.7"
  }
 },
 "nbformat": 4,
 "nbformat_minor": 2
}
