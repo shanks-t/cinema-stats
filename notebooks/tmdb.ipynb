{
 "cells": [
  {
   "cell_type": "code",
   "execution_count": 2,
   "metadata": {},
   "outputs": [],
   "source": [
    "import polars as pl"
   ]
  },
  {
   "cell_type": "code",
   "execution_count": 3,
   "metadata": {},
   "outputs": [],
   "source": [
    "tmdb_csv = pl.read_csv(\"../dagster/data/raw_data/csv/tmdb/tmdb_movies.csv\")"
   ]
  },
  {
   "cell_type": "code",
   "execution_count": 4,
   "metadata": {},
   "outputs": [
    {
     "name": "stdout",
     "output_type": "stream",
     "text": [
      "(882145, 18)\n"
     ]
    },
    {
     "data": {
      "text/html": [
       "<div><style>\n",
       ".dataframe > thead > tr,\n",
       ".dataframe > tbody > tr {\n",
       "  text-align: right;\n",
       "  white-space: pre-wrap;\n",
       "}\n",
       "</style>\n",
       "<small>shape: (5, 18)</small><table border=\"1\" class=\"dataframe\"><thead><tr><th>ID</th><th>Title</th><th>OriginalTitle</th><th>OriginalLanguage</th><th>ReleaseDate</th><th>PosterPath</th><th>Overview</th><th>Popularity</th><th>VoteAverage</th><th>VoteCount</th><th>Genres</th><th>Budget</th><th>ImdbID</th><th>Revenue</th><th>Runtime</th><th>Status</th><th>ProductionCompanies</th><th>ProductionCountries</th></tr><tr><td>i64</td><td>str</td><td>str</td><td>str</td><td>str</td><td>str</td><td>str</td><td>f64</td><td>f64</td><td>i64</td><td>str</td><td>i64</td><td>str</td><td>i64</td><td>i64</td><td>str</td><td>str</td><td>str</td></tr></thead><tbody><tr><td>25449</td><td>&quot;New World Diso…</td><td>&quot;New World Diso…</td><td>&quot;en&quot;</td><td>&quot;2008-12-08&quot;</td><td>&quot;/itQjoIO2e3pad…</td><td>&quot;Gee Atherton r…</td><td>1.24</td><td>6.0</td><td>3</td><td>null</td><td>0</td><td>null</td><td>0</td><td>69</td><td>&quot;Released&quot;</td><td>null</td><td>null</td></tr><tr><td>6124</td><td>&quot;Peter Voss, Th…</td><td>&quot;Der Mann ohne …</td><td>&quot;de&quot;</td><td>&quot;1921-01-01&quot;</td><td>&quot;/6xUbUCvndklbG…</td><td>null</td><td>0.961</td><td>0.0</td><td>0</td><td>&quot;Adventure&quot;</td><td>0</td><td>null</td><td>0</td><td>420</td><td>&quot;Released&quot;</td><td>null</td><td>&quot;Germany&quot;</td></tr><tr><td>8773</td><td>&quot;Love at Twenty…</td><td>&quot;L&#x27;Amour à ving…</td><td>&quot;fr&quot;</td><td>&quot;1962-06-22&quot;</td><td>&quot;/aup2QCYCsyEeQ…</td><td>&quot;Love at Twenty…</td><td>5.527</td><td>6.652</td><td>46</td><td>&quot;Drama; Romance…</td><td>0</td><td>&quot;tt0055747&quot;</td><td>0</td><td>120</td><td>&quot;Released&quot;</td><td>&quot;Ulysse Product…</td><td>&quot;Germany; Franc…</td></tr><tr><td>3924</td><td>&quot;Blondie&quot;</td><td>&quot;Blondie&quot;</td><td>&quot;en&quot;</td><td>&quot;1938-11-30&quot;</td><td>&quot;/zBiHKhXklvTFw…</td><td>&quot;Blondie and Da…</td><td>1.864</td><td>7.063</td><td>8</td><td>&quot;Comedy; Family…</td><td>0</td><td>&quot;tt0029927&quot;</td><td>0</td><td>70</td><td>&quot;Released&quot;</td><td>&quot;Columbia Pictu…</td><td>&quot;United States …</td></tr><tr><td>19</td><td>&quot;Metropolis&quot;</td><td>&quot;Metropolis&quot;</td><td>&quot;de&quot;</td><td>&quot;1927-02-06&quot;</td><td>&quot;/pxbGZewX327Ib…</td><td>&quot;In a futuristi…</td><td>20.981</td><td>8.143</td><td>2504</td><td>&quot;Drama; Science…</td><td>1300000</td><td>&quot;tt0017136&quot;</td><td>650422</td><td>149</td><td>&quot;Released&quot;</td><td>&quot;UFA&quot;</td><td>&quot;Germany&quot;</td></tr></tbody></table></div>"
      ],
      "text/plain": [
       "shape: (5, 18)\n",
       "┌───────┬─────────────┬────────────┬────────────┬───┬─────────┬──────────┬────────────┬────────────┐\n",
       "│ ID    ┆ Title       ┆ OriginalTi ┆ OriginalLa ┆ … ┆ Runtime ┆ Status   ┆ Production ┆ Production │\n",
       "│ ---   ┆ ---         ┆ tle        ┆ nguage     ┆   ┆ ---     ┆ ---      ┆ Companies  ┆ Countries  │\n",
       "│ i64   ┆ str         ┆ ---        ┆ ---        ┆   ┆ i64     ┆ str      ┆ ---        ┆ ---        │\n",
       "│       ┆             ┆ str        ┆ str        ┆   ┆         ┆          ┆ str        ┆ str        │\n",
       "╞═══════╪═════════════╪════════════╪════════════╪═══╪═════════╪══════════╪════════════╪════════════╡\n",
       "│ 25449 ┆ New World   ┆ New World  ┆ en         ┆ … ┆ 69      ┆ Released ┆ null       ┆ null       │\n",
       "│       ┆ Disorder 9: ┆ Disorder   ┆            ┆   ┆         ┆          ┆            ┆            │\n",
       "│       ┆ Never Enou… ┆ 9: Never   ┆            ┆   ┆         ┆          ┆            ┆            │\n",
       "│       ┆             ┆ Enou…      ┆            ┆   ┆         ┆          ┆            ┆            │\n",
       "│ 6124  ┆ Peter Voss, ┆ Der Mann   ┆ de         ┆ … ┆ 420     ┆ Released ┆ null       ┆ Germany    │\n",
       "│       ┆ Thief of    ┆ ohne Namen ┆            ┆   ┆         ┆          ┆            ┆            │\n",
       "│       ┆ Millions    ┆            ┆            ┆   ┆         ┆          ┆            ┆            │\n",
       "│ 8773  ┆ Love at     ┆ L'Amour à  ┆ fr         ┆ … ┆ 120     ┆ Released ┆ Ulysse Pro ┆ Germany;   │\n",
       "│       ┆ Twenty      ┆ vingt ans  ┆            ┆   ┆         ┆          ┆ ductions;  ┆ France;    │\n",
       "│       ┆             ┆            ┆            ┆   ┆         ┆          ┆ Unitec     ┆ Italy;     │\n",
       "│       ┆             ┆            ┆            ┆   ┆         ┆          ┆ Films…     ┆ Japan; P…  │\n",
       "│ 3924  ┆ Blondie     ┆ Blondie    ┆ en         ┆ … ┆ 70      ┆ Released ┆ Columbia   ┆ United     │\n",
       "│       ┆             ┆            ┆            ┆   ┆         ┆          ┆ Pictures   ┆ States of  │\n",
       "│       ┆             ┆            ┆            ┆   ┆         ┆          ┆            ┆ America    │\n",
       "│ 19    ┆ Metropolis  ┆ Metropolis ┆ de         ┆ … ┆ 149     ┆ Released ┆ UFA        ┆ Germany    │\n",
       "└───────┴─────────────┴────────────┴────────────┴───┴─────────┴──────────┴────────────┴────────────┘"
      ]
     },
     "execution_count": 4,
     "metadata": {},
     "output_type": "execute_result"
    }
   ],
   "source": [
    "print(tmdb_csv.shape)\n",
    "tmdb_csv.head()"
   ]
  },
  {
   "cell_type": "code",
   "execution_count": 7,
   "metadata": {},
   "outputs": [
    {
     "ename": "SchemaFieldNotFoundError",
     "evalue": "Genres",
     "output_type": "error",
     "traceback": [
      "\u001b[0;31m---------------------------------------------------------------------------\u001b[0m",
      "\u001b[0;31mSchemaFieldNotFoundError\u001b[0m                  Traceback (most recent call last)",
      "Cell \u001b[0;32mIn[7], line 1\u001b[0m\n\u001b[0;32m----> 1\u001b[0m tmdb_csv \u001b[38;5;241m=\u001b[39m \u001b[43mtmdb_csv\u001b[49m\u001b[38;5;241;43m.\u001b[39;49m\u001b[43mrename\u001b[49m\u001b[43m(\u001b[49m\u001b[43m{\u001b[49m\u001b[38;5;124;43m\"\u001b[39;49m\u001b[38;5;124;43mGenres\u001b[39;49m\u001b[38;5;124;43m\"\u001b[39;49m\u001b[43m:\u001b[49m\u001b[43m \u001b[49m\u001b[38;5;124;43m\"\u001b[39;49m\u001b[38;5;124;43mgenre\u001b[39;49m\u001b[38;5;124;43m\"\u001b[39;49m\u001b[43m}\u001b[49m\u001b[43m)\u001b[49m\n\u001b[1;32m      2\u001b[0m \u001b[38;5;28mprint\u001b[39m(tmdb_csv\u001b[38;5;241m.\u001b[39mhead())\n\u001b[1;32m      3\u001b[0m tmdb_csv\u001b[38;5;241m.\u001b[39mwrite_parquet(\u001b[38;5;124m\"\u001b[39m\u001b[38;5;124m../dagster/data/raw_data/parquet/tmdb.parquet\u001b[39m\u001b[38;5;124m\"\u001b[39m)\n",
      "File \u001b[0;32m/opt/homebrew/Caskroom/miniconda/base/envs/dag_nyc/lib/python3.11/site-packages/polars/dataframe/frame.py:4037\u001b[0m, in \u001b[0;36mDataFrame.rename\u001b[0;34m(self, mapping)\u001b[0m\n\u001b[1;32m   4010\u001b[0m \u001b[38;5;28;01mdef\u001b[39;00m \u001b[38;5;21mrename\u001b[39m(\u001b[38;5;28mself\u001b[39m, mapping: \u001b[38;5;28mdict\u001b[39m[\u001b[38;5;28mstr\u001b[39m, \u001b[38;5;28mstr\u001b[39m]) \u001b[38;5;241m-\u001b[39m\u001b[38;5;241m>\u001b[39m DataFrame:\n\u001b[1;32m   4011\u001b[0m \u001b[38;5;250m    \u001b[39m\u001b[38;5;124;03m\"\"\"\u001b[39;00m\n\u001b[1;32m   4012\u001b[0m \u001b[38;5;124;03m    Rename column names.\u001b[39;00m\n\u001b[1;32m   4013\u001b[0m \n\u001b[0;32m   (...)\u001b[0m\n\u001b[1;32m   4035\u001b[0m \n\u001b[1;32m   4036\u001b[0m \u001b[38;5;124;03m    \"\"\"\u001b[39;00m\n\u001b[0;32m-> 4037\u001b[0m     \u001b[38;5;28;01mreturn\u001b[39;00m \u001b[38;5;28;43mself\u001b[39;49m\u001b[38;5;241;43m.\u001b[39;49m\u001b[43mlazy\u001b[49m\u001b[43m(\u001b[49m\u001b[43m)\u001b[49m\u001b[38;5;241;43m.\u001b[39;49m\u001b[43mrename\u001b[49m\u001b[43m(\u001b[49m\u001b[43mmapping\u001b[49m\u001b[43m)\u001b[49m\u001b[38;5;241;43m.\u001b[39;49m\u001b[43mcollect\u001b[49m\u001b[43m(\u001b[49m\u001b[43m_eager\u001b[49m\u001b[38;5;241;43m=\u001b[39;49m\u001b[38;5;28;43;01mTrue\u001b[39;49;00m\u001b[43m)\u001b[49m\n",
      "File \u001b[0;32m/opt/homebrew/Caskroom/miniconda/base/envs/dag_nyc/lib/python3.11/site-packages/polars/lazyframe/frame.py:1706\u001b[0m, in \u001b[0;36mLazyFrame.collect\u001b[0;34m(self, type_coercion, predicate_pushdown, projection_pushdown, simplify_expression, slice_pushdown, comm_subplan_elim, comm_subexpr_elim, no_optimization, streaming, _eager)\u001b[0m\n\u001b[1;32m   1693\u001b[0m     comm_subplan_elim \u001b[38;5;241m=\u001b[39m \u001b[38;5;28;01mFalse\u001b[39;00m\n\u001b[1;32m   1695\u001b[0m ldf \u001b[38;5;241m=\u001b[39m \u001b[38;5;28mself\u001b[39m\u001b[38;5;241m.\u001b[39m_ldf\u001b[38;5;241m.\u001b[39moptimization_toggle(\n\u001b[1;32m   1696\u001b[0m     type_coercion,\n\u001b[1;32m   1697\u001b[0m     predicate_pushdown,\n\u001b[0;32m   (...)\u001b[0m\n\u001b[1;32m   1704\u001b[0m     _eager,\n\u001b[1;32m   1705\u001b[0m )\n\u001b[0;32m-> 1706\u001b[0m \u001b[38;5;28;01mreturn\u001b[39;00m wrap_df(\u001b[43mldf\u001b[49m\u001b[38;5;241;43m.\u001b[39;49m\u001b[43mcollect\u001b[49m\u001b[43m(\u001b[49m\u001b[43m)\u001b[49m)\n",
      "\u001b[0;31mSchemaFieldNotFoundError\u001b[0m: Genres"
     ]
    }
   ],
   "source": [
    "tmdb_csv = tmdb_csv.rename({\"Genres\": \"genre\"})\n",
    "print(tmdb_csv.head())\n",
    "\n",
    "tmdb_csv.write_parquet(\"../dagster/data/raw_data/parquet/tmdb.parquet\")"
   ]
  }
 ],
 "metadata": {
  "kernelspec": {
   "display_name": "dag_nyc",
   "language": "python",
   "name": "python3"
  },
  "language_info": {
   "codemirror_mode": {
    "name": "ipython",
    "version": 3
   },
   "file_extension": ".py",
   "mimetype": "text/x-python",
   "name": "python",
   "nbconvert_exporter": "python",
   "pygments_lexer": "ipython3",
   "version": "3.11.7"
  }
 },
 "nbformat": 4,
 "nbformat_minor": 2
}
