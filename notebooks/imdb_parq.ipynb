{
 "cells": [
  {
   "cell_type": "code",
   "execution_count": 9,
   "metadata": {},
   "outputs": [],
   "source": [
    "import polars as pl\n",
    "import pyarrow.parquet as pq\n",
    "from utils.functions import convert_to_parquet"
   ]
  },
  {
   "cell_type": "code",
   "execution_count": 10,
   "metadata": {},
   "outputs": [
    {
     "data": {
      "text/plain": [
       "(13142051, 6)"
      ]
     },
     "execution_count": 10,
     "metadata": {},
     "output_type": "execute_result"
    }
   ],
   "source": [
    "name_file = \"../dagster/data/raw_data/parquet/name.basics.parquet\"\n",
    "df_name = convert_to_parquet(name_file)\n",
    "df_name.shape"
   ]
  },
  {
   "cell_type": "code",
   "execution_count": 11,
   "metadata": {},
   "outputs": [],
   "source": [
    "title_file = (\"../dagster/data/raw_data/parquet/title.akas.parquet\")\n",
    "df_title = convert_to_parquet(title_file)\n",
    "df_title.shape"
   ]
  },
  {
   "cell_type": "code",
   "execution_count": 12,
   "metadata": {},
   "outputs": [
    {
     "ename": "FileNotFoundError",
     "evalue": "./dagster/data/raw_data/parquet/title.ratings.parquet",
     "output_type": "error",
     "traceback": [
      "\u001b[0;31m---------------------------------------------------------------------------\u001b[0m",
      "\u001b[0;31mFileNotFoundError\u001b[0m                         Traceback (most recent call last)",
      "Cell \u001b[0;32mIn[12], line 2\u001b[0m\n\u001b[1;32m      1\u001b[0m title_rate_file \u001b[38;5;241m=\u001b[39m \u001b[38;5;124m\"\u001b[39m\u001b[38;5;124m./dagster/data/raw_data/parquet/title.ratings.parquet\u001b[39m\u001b[38;5;124m\"\u001b[39m\n\u001b[0;32m----> 2\u001b[0m df_title_ratings \u001b[38;5;241m=\u001b[39m \u001b[43mconvert_to_parquet\u001b[49m\u001b[43m(\u001b[49m\u001b[43mtitle_rate_file\u001b[49m\u001b[43m)\u001b[49m\n",
      "File \u001b[0;32m~/data_engineering/cinema-stats/notebooks/utils/functions.py:88\u001b[0m, in \u001b[0;36mconvert_to_parquet\u001b[0;34m(file_path)\u001b[0m\n\u001b[1;32m     87\u001b[0m \u001b[38;5;28;01mdef\u001b[39;00m \u001b[38;5;21mconvert_to_parquet\u001b[39m(file_path: \u001b[38;5;28mstr\u001b[39m) \u001b[38;5;241m-\u001b[39m\u001b[38;5;241m>\u001b[39m pl\u001b[38;5;241m.\u001b[39mDataFrame:\n\u001b[0;32m---> 88\u001b[0m     \u001b[38;5;28;01mreturn\u001b[39;00m pl\u001b[38;5;241m.\u001b[39mfrom_arrow(\u001b[43mpq\u001b[49m\u001b[38;5;241;43m.\u001b[39;49m\u001b[43mread_table\u001b[49m\u001b[43m(\u001b[49m\u001b[43mfile_path\u001b[49m\u001b[43m)\u001b[49m)\n",
      "File \u001b[0;32m/opt/homebrew/Caskroom/miniconda/base/envs/dag_nyc/lib/python3.11/site-packages/pyarrow/parquet/core.py:2956\u001b[0m, in \u001b[0;36mread_table\u001b[0;34m(source, columns, use_threads, metadata, schema, use_pandas_metadata, read_dictionary, memory_map, buffer_size, partitioning, filesystem, filters, use_legacy_dataset, ignore_prefixes, pre_buffer, coerce_int96_timestamp_unit, decryption_properties, thrift_string_size_limit, thrift_container_size_limit)\u001b[0m\n\u001b[1;32m   2949\u001b[0m     \u001b[38;5;28;01mraise\u001b[39;00m \u001b[38;5;167;01mValueError\u001b[39;00m(\n\u001b[1;32m   2950\u001b[0m         \u001b[38;5;124m\"\u001b[39m\u001b[38;5;124mThe \u001b[39m\u001b[38;5;124m'\u001b[39m\u001b[38;5;124mmetadata\u001b[39m\u001b[38;5;124m'\u001b[39m\u001b[38;5;124m keyword is no longer supported with the new \u001b[39m\u001b[38;5;124m\"\u001b[39m\n\u001b[1;32m   2951\u001b[0m         \u001b[38;5;124m\"\u001b[39m\u001b[38;5;124mdatasets-based implementation. Specify \u001b[39m\u001b[38;5;124m\"\u001b[39m\n\u001b[1;32m   2952\u001b[0m         \u001b[38;5;124m\"\u001b[39m\u001b[38;5;124m'\u001b[39m\u001b[38;5;124muse_legacy_dataset=True\u001b[39m\u001b[38;5;124m'\u001b[39m\u001b[38;5;124m to temporarily recover the old \u001b[39m\u001b[38;5;124m\"\u001b[39m\n\u001b[1;32m   2953\u001b[0m         \u001b[38;5;124m\"\u001b[39m\u001b[38;5;124mbehaviour.\u001b[39m\u001b[38;5;124m\"\u001b[39m\n\u001b[1;32m   2954\u001b[0m     )\n\u001b[1;32m   2955\u001b[0m \u001b[38;5;28;01mtry\u001b[39;00m:\n\u001b[0;32m-> 2956\u001b[0m     dataset \u001b[38;5;241m=\u001b[39m \u001b[43m_ParquetDatasetV2\u001b[49m\u001b[43m(\u001b[49m\n\u001b[1;32m   2957\u001b[0m \u001b[43m        \u001b[49m\u001b[43msource\u001b[49m\u001b[43m,\u001b[49m\n\u001b[1;32m   2958\u001b[0m \u001b[43m        \u001b[49m\u001b[43mschema\u001b[49m\u001b[38;5;241;43m=\u001b[39;49m\u001b[43mschema\u001b[49m\u001b[43m,\u001b[49m\n\u001b[1;32m   2959\u001b[0m \u001b[43m        \u001b[49m\u001b[43mfilesystem\u001b[49m\u001b[38;5;241;43m=\u001b[39;49m\u001b[43mfilesystem\u001b[49m\u001b[43m,\u001b[49m\n\u001b[1;32m   2960\u001b[0m \u001b[43m        \u001b[49m\u001b[43mpartitioning\u001b[49m\u001b[38;5;241;43m=\u001b[39;49m\u001b[43mpartitioning\u001b[49m\u001b[43m,\u001b[49m\n\u001b[1;32m   2961\u001b[0m \u001b[43m        \u001b[49m\u001b[43mmemory_map\u001b[49m\u001b[38;5;241;43m=\u001b[39;49m\u001b[43mmemory_map\u001b[49m\u001b[43m,\u001b[49m\n\u001b[1;32m   2962\u001b[0m \u001b[43m        \u001b[49m\u001b[43mread_dictionary\u001b[49m\u001b[38;5;241;43m=\u001b[39;49m\u001b[43mread_dictionary\u001b[49m\u001b[43m,\u001b[49m\n\u001b[1;32m   2963\u001b[0m \u001b[43m        \u001b[49m\u001b[43mbuffer_size\u001b[49m\u001b[38;5;241;43m=\u001b[39;49m\u001b[43mbuffer_size\u001b[49m\u001b[43m,\u001b[49m\n\u001b[1;32m   2964\u001b[0m \u001b[43m        \u001b[49m\u001b[43mfilters\u001b[49m\u001b[38;5;241;43m=\u001b[39;49m\u001b[43mfilters\u001b[49m\u001b[43m,\u001b[49m\n\u001b[1;32m   2965\u001b[0m \u001b[43m        \u001b[49m\u001b[43mignore_prefixes\u001b[49m\u001b[38;5;241;43m=\u001b[39;49m\u001b[43mignore_prefixes\u001b[49m\u001b[43m,\u001b[49m\n\u001b[1;32m   2966\u001b[0m \u001b[43m        \u001b[49m\u001b[43mpre_buffer\u001b[49m\u001b[38;5;241;43m=\u001b[39;49m\u001b[43mpre_buffer\u001b[49m\u001b[43m,\u001b[49m\n\u001b[1;32m   2967\u001b[0m \u001b[43m        \u001b[49m\u001b[43mcoerce_int96_timestamp_unit\u001b[49m\u001b[38;5;241;43m=\u001b[39;49m\u001b[43mcoerce_int96_timestamp_unit\u001b[49m\u001b[43m,\u001b[49m\n\u001b[1;32m   2968\u001b[0m \u001b[43m        \u001b[49m\u001b[43mthrift_string_size_limit\u001b[49m\u001b[38;5;241;43m=\u001b[39;49m\u001b[43mthrift_string_size_limit\u001b[49m\u001b[43m,\u001b[49m\n\u001b[1;32m   2969\u001b[0m \u001b[43m        \u001b[49m\u001b[43mthrift_container_size_limit\u001b[49m\u001b[38;5;241;43m=\u001b[39;49m\u001b[43mthrift_container_size_limit\u001b[49m\u001b[43m,\u001b[49m\n\u001b[1;32m   2970\u001b[0m \u001b[43m    \u001b[49m\u001b[43m)\u001b[49m\n\u001b[1;32m   2971\u001b[0m \u001b[38;5;28;01mexcept\u001b[39;00m \u001b[38;5;167;01mImportError\u001b[39;00m:\n\u001b[1;32m   2972\u001b[0m     \u001b[38;5;66;03m# fall back on ParquetFile for simple cases when pyarrow.dataset\u001b[39;00m\n\u001b[1;32m   2973\u001b[0m     \u001b[38;5;66;03m# module is not available\u001b[39;00m\n\u001b[1;32m   2974\u001b[0m     \u001b[38;5;28;01mif\u001b[39;00m filters \u001b[38;5;129;01mis\u001b[39;00m \u001b[38;5;129;01mnot\u001b[39;00m \u001b[38;5;28;01mNone\u001b[39;00m:\n",
      "File \u001b[0;32m/opt/homebrew/Caskroom/miniconda/base/envs/dag_nyc/lib/python3.11/site-packages/pyarrow/parquet/core.py:2507\u001b[0m, in \u001b[0;36m_ParquetDatasetV2.__init__\u001b[0;34m(self, path_or_paths, filesystem, filters, partitioning, read_dictionary, buffer_size, memory_map, ignore_prefixes, pre_buffer, coerce_int96_timestamp_unit, schema, decryption_properties, thrift_string_size_limit, thrift_container_size_limit, **kwargs)\u001b[0m\n\u001b[1;32m   2503\u001b[0m \u001b[38;5;28;01mif\u001b[39;00m partitioning \u001b[38;5;241m==\u001b[39m \u001b[38;5;124m\"\u001b[39m\u001b[38;5;124mhive\u001b[39m\u001b[38;5;124m\"\u001b[39m:\n\u001b[1;32m   2504\u001b[0m     partitioning \u001b[38;5;241m=\u001b[39m ds\u001b[38;5;241m.\u001b[39mHivePartitioning\u001b[38;5;241m.\u001b[39mdiscover(\n\u001b[1;32m   2505\u001b[0m         infer_dictionary\u001b[38;5;241m=\u001b[39m\u001b[38;5;28;01mTrue\u001b[39;00m)\n\u001b[0;32m-> 2507\u001b[0m \u001b[38;5;28mself\u001b[39m\u001b[38;5;241m.\u001b[39m_dataset \u001b[38;5;241m=\u001b[39m \u001b[43mds\u001b[49m\u001b[38;5;241;43m.\u001b[39;49m\u001b[43mdataset\u001b[49m\u001b[43m(\u001b[49m\u001b[43mpath_or_paths\u001b[49m\u001b[43m,\u001b[49m\u001b[43m \u001b[49m\u001b[43mfilesystem\u001b[49m\u001b[38;5;241;43m=\u001b[39;49m\u001b[43mfilesystem\u001b[49m\u001b[43m,\u001b[49m\n\u001b[1;32m   2508\u001b[0m \u001b[43m                           \u001b[49m\u001b[43mschema\u001b[49m\u001b[38;5;241;43m=\u001b[39;49m\u001b[43mschema\u001b[49m\u001b[43m,\u001b[49m\u001b[43m \u001b[49m\u001b[38;5;28;43mformat\u001b[39;49m\u001b[38;5;241;43m=\u001b[39;49m\u001b[43mparquet_format\u001b[49m\u001b[43m,\u001b[49m\n\u001b[1;32m   2509\u001b[0m \u001b[43m                           \u001b[49m\u001b[43mpartitioning\u001b[49m\u001b[38;5;241;43m=\u001b[39;49m\u001b[43mpartitioning\u001b[49m\u001b[43m,\u001b[49m\n\u001b[1;32m   2510\u001b[0m \u001b[43m                           \u001b[49m\u001b[43mignore_prefixes\u001b[49m\u001b[38;5;241;43m=\u001b[39;49m\u001b[43mignore_prefixes\u001b[49m\u001b[43m)\u001b[49m\n",
      "File \u001b[0;32m/opt/homebrew/Caskroom/miniconda/base/envs/dag_nyc/lib/python3.11/site-packages/pyarrow/dataset.py:782\u001b[0m, in \u001b[0;36mdataset\u001b[0;34m(source, schema, format, filesystem, partitioning, partition_base_dir, exclude_invalid_files, ignore_prefixes)\u001b[0m\n\u001b[1;32m    771\u001b[0m kwargs \u001b[38;5;241m=\u001b[39m \u001b[38;5;28mdict\u001b[39m(\n\u001b[1;32m    772\u001b[0m     schema\u001b[38;5;241m=\u001b[39mschema,\n\u001b[1;32m    773\u001b[0m     filesystem\u001b[38;5;241m=\u001b[39mfilesystem,\n\u001b[0;32m   (...)\u001b[0m\n\u001b[1;32m    778\u001b[0m     selector_ignore_prefixes\u001b[38;5;241m=\u001b[39mignore_prefixes\n\u001b[1;32m    779\u001b[0m )\n\u001b[1;32m    781\u001b[0m \u001b[38;5;28;01mif\u001b[39;00m _is_path_like(source):\n\u001b[0;32m--> 782\u001b[0m     \u001b[38;5;28;01mreturn\u001b[39;00m \u001b[43m_filesystem_dataset\u001b[49m\u001b[43m(\u001b[49m\u001b[43msource\u001b[49m\u001b[43m,\u001b[49m\u001b[43m \u001b[49m\u001b[38;5;241;43m*\u001b[39;49m\u001b[38;5;241;43m*\u001b[39;49m\u001b[43mkwargs\u001b[49m\u001b[43m)\u001b[49m\n\u001b[1;32m    783\u001b[0m \u001b[38;5;28;01melif\u001b[39;00m \u001b[38;5;28misinstance\u001b[39m(source, (\u001b[38;5;28mtuple\u001b[39m, \u001b[38;5;28mlist\u001b[39m)):\n\u001b[1;32m    784\u001b[0m     \u001b[38;5;28;01mif\u001b[39;00m \u001b[38;5;28mall\u001b[39m(_is_path_like(elem) \u001b[38;5;28;01mfor\u001b[39;00m elem \u001b[38;5;129;01min\u001b[39;00m source):\n",
      "File \u001b[0;32m/opt/homebrew/Caskroom/miniconda/base/envs/dag_nyc/lib/python3.11/site-packages/pyarrow/dataset.py:465\u001b[0m, in \u001b[0;36m_filesystem_dataset\u001b[0;34m(source, schema, filesystem, partitioning, format, partition_base_dir, exclude_invalid_files, selector_ignore_prefixes)\u001b[0m\n\u001b[1;32m    463\u001b[0m     fs, paths_or_selector \u001b[38;5;241m=\u001b[39m _ensure_multiple_sources(source, filesystem)\n\u001b[1;32m    464\u001b[0m \u001b[38;5;28;01melse\u001b[39;00m:\n\u001b[0;32m--> 465\u001b[0m     fs, paths_or_selector \u001b[38;5;241m=\u001b[39m \u001b[43m_ensure_single_source\u001b[49m\u001b[43m(\u001b[49m\u001b[43msource\u001b[49m\u001b[43m,\u001b[49m\u001b[43m \u001b[49m\u001b[43mfilesystem\u001b[49m\u001b[43m)\u001b[49m\n\u001b[1;32m    467\u001b[0m options \u001b[38;5;241m=\u001b[39m FileSystemFactoryOptions(\n\u001b[1;32m    468\u001b[0m     partitioning\u001b[38;5;241m=\u001b[39mpartitioning,\n\u001b[1;32m    469\u001b[0m     partition_base_dir\u001b[38;5;241m=\u001b[39mpartition_base_dir,\n\u001b[1;32m    470\u001b[0m     exclude_invalid_files\u001b[38;5;241m=\u001b[39mexclude_invalid_files,\n\u001b[1;32m    471\u001b[0m     selector_ignore_prefixes\u001b[38;5;241m=\u001b[39mselector_ignore_prefixes\n\u001b[1;32m    472\u001b[0m )\n\u001b[1;32m    473\u001b[0m factory \u001b[38;5;241m=\u001b[39m FileSystemDatasetFactory(fs, paths_or_selector, \u001b[38;5;28mformat\u001b[39m, options)\n",
      "File \u001b[0;32m/opt/homebrew/Caskroom/miniconda/base/envs/dag_nyc/lib/python3.11/site-packages/pyarrow/dataset.py:441\u001b[0m, in \u001b[0;36m_ensure_single_source\u001b[0;34m(path, filesystem)\u001b[0m\n\u001b[1;32m    439\u001b[0m     paths_or_selector \u001b[38;5;241m=\u001b[39m [path]\n\u001b[1;32m    440\u001b[0m \u001b[38;5;28;01melse\u001b[39;00m:\n\u001b[0;32m--> 441\u001b[0m     \u001b[38;5;28;01mraise\u001b[39;00m \u001b[38;5;167;01mFileNotFoundError\u001b[39;00m(path)\n\u001b[1;32m    443\u001b[0m \u001b[38;5;28;01mreturn\u001b[39;00m filesystem, paths_or_selector\n",
      "\u001b[0;31mFileNotFoundError\u001b[0m: ./dagster/data/raw_data/parquet/title.ratings.parquet"
     ]
    }
   ],
   "source": [
    "title_rate_file = \"../dagster/data/raw_data/parquet/title.ratings.parquet\"\n",
    "df_title_ratings = convert_to_parquet(title_rate_file)\n",
    "df_title_ratings.shape"
   ]
  },
  {
   "cell_type": "code",
   "execution_count": null,
   "metadata": {},
   "outputs": [
    {
     "data": {
      "text/html": [
       "<div><style>\n",
       ".dataframe > thead > tr,\n",
       ".dataframe > tbody > tr {\n",
       "  text-align: right;\n",
       "  white-space: pre-wrap;\n",
       "}\n",
       "</style>\n",
       "<small>shape: (5, 8)</small><table border=\"1\" class=\"dataframe\"><thead><tr><th>titleId</th><th>ordering</th><th>title</th><th>region</th><th>language</th><th>types</th><th>attributes</th><th>isOriginalTitle</th></tr><tr><td>str</td><td>i64</td><td>str</td><td>str</td><td>str</td><td>str</td><td>str</td><td>i64</td></tr></thead><tbody><tr><td>&quot;tt0000001&quot;</td><td>1</td><td>&quot;Карменсіта&quot;</td><td>&quot;UA&quot;</td><td>&quot;\\N&quot;</td><td>&quot;imdbDisplay&quot;</td><td>&quot;\\N&quot;</td><td>0</td></tr><tr><td>&quot;tt0000001&quot;</td><td>2</td><td>&quot;Carmencita&quot;</td><td>&quot;DE&quot;</td><td>&quot;\\N&quot;</td><td>&quot;\\N&quot;</td><td>&quot;literal title&quot;</td><td>0</td></tr><tr><td>&quot;tt0000001&quot;</td><td>3</td><td>&quot;Carmencita - s…</td><td>&quot;HU&quot;</td><td>&quot;\\N&quot;</td><td>&quot;imdbDisplay&quot;</td><td>&quot;\\N&quot;</td><td>0</td></tr><tr><td>&quot;tt0000001&quot;</td><td>4</td><td>&quot;Καρμενσίτα&quot;</td><td>&quot;GR&quot;</td><td>&quot;\\N&quot;</td><td>&quot;imdbDisplay&quot;</td><td>&quot;\\N&quot;</td><td>0</td></tr><tr><td>&quot;tt0000001&quot;</td><td>5</td><td>&quot;Карменсита&quot;</td><td>&quot;RU&quot;</td><td>&quot;\\N&quot;</td><td>&quot;imdbDisplay&quot;</td><td>&quot;\\N&quot;</td><td>0</td></tr></tbody></table></div>"
      ],
      "text/plain": [
       "shape: (5, 8)\n",
       "┌───────────┬──────────┬─────────────┬────────┬──────────┬─────────────┬─────────────┬─────────────┐\n",
       "│ titleId   ┆ ordering ┆ title       ┆ region ┆ language ┆ types       ┆ attributes  ┆ isOriginalT │\n",
       "│ ---       ┆ ---      ┆ ---         ┆ ---    ┆ ---      ┆ ---         ┆ ---         ┆ itle        │\n",
       "│ str       ┆ i64      ┆ str         ┆ str    ┆ str      ┆ str         ┆ str         ┆ ---         │\n",
       "│           ┆          ┆             ┆        ┆          ┆             ┆             ┆ i64         │\n",
       "╞═══════════╪══════════╪═════════════╪════════╪══════════╪═════════════╪═════════════╪═════════════╡\n",
       "│ tt0000001 ┆ 1        ┆ Карменсіта  ┆ UA     ┆ \\N       ┆ imdbDisplay ┆ \\N          ┆ 0           │\n",
       "│ tt0000001 ┆ 2        ┆ Carmencita  ┆ DE     ┆ \\N       ┆ \\N          ┆ literal     ┆ 0           │\n",
       "│           ┆          ┆             ┆        ┆          ┆             ┆ title       ┆             │\n",
       "│ tt0000001 ┆ 3        ┆ Carmencita  ┆ HU     ┆ \\N       ┆ imdbDisplay ┆ \\N          ┆ 0           │\n",
       "│           ┆          ┆ - spanyol   ┆        ┆          ┆             ┆             ┆             │\n",
       "│           ┆          ┆ tánc        ┆        ┆          ┆             ┆             ┆             │\n",
       "│ tt0000001 ┆ 4        ┆ Καρμενσίτα  ┆ GR     ┆ \\N       ┆ imdbDisplay ┆ \\N          ┆ 0           │\n",
       "│ tt0000001 ┆ 5        ┆ Карменсита  ┆ RU     ┆ \\N       ┆ imdbDisplay ┆ \\N          ┆ 0           │\n",
       "└───────────┴──────────┴─────────────┴────────┴──────────┴─────────────┴─────────────┴─────────────┘"
      ]
     },
     "execution_count": 88,
     "metadata": {},
     "output_type": "execute_result"
    }
   ],
   "source": [
    "title_akas_file = (\"../dagster/data/raw_data/parquet/title.akas.parquet\")\n",
    "df_title_akas = convert_to_parquet(title_akas_file)\n",
    "df_title_akas.shape"
   ]
  },
  {
   "cell_type": "code",
   "execution_count": null,
   "metadata": {},
   "outputs": [
    {
     "data": {
      "text/html": [
       "<div><style>\n",
       ".dataframe > thead > tr,\n",
       ".dataframe > tbody > tr {\n",
       "  text-align: right;\n",
       "  white-space: pre-wrap;\n",
       "}\n",
       "</style>\n",
       "<small>shape: (5, 3)</small><table border=\"1\" class=\"dataframe\"><thead><tr><th>tconst</th><th>directors</th><th>writers</th></tr><tr><td>str</td><td>str</td><td>str</td></tr></thead><tbody><tr><td>&quot;tt0000001&quot;</td><td>&quot;nm0005690&quot;</td><td>&quot;\\N&quot;</td></tr><tr><td>&quot;tt0000002&quot;</td><td>&quot;nm0721526&quot;</td><td>&quot;\\N&quot;</td></tr><tr><td>&quot;tt0000003&quot;</td><td>&quot;nm0721526&quot;</td><td>&quot;\\N&quot;</td></tr><tr><td>&quot;tt0000004&quot;</td><td>&quot;nm0721526&quot;</td><td>&quot;\\N&quot;</td></tr><tr><td>&quot;tt0000005&quot;</td><td>&quot;nm0005690&quot;</td><td>&quot;\\N&quot;</td></tr></tbody></table></div>"
      ],
      "text/plain": [
       "shape: (5, 3)\n",
       "┌───────────┬───────────┬─────────┐\n",
       "│ tconst    ┆ directors ┆ writers │\n",
       "│ ---       ┆ ---       ┆ ---     │\n",
       "│ str       ┆ str       ┆ str     │\n",
       "╞═══════════╪═══════════╪═════════╡\n",
       "│ tt0000001 ┆ nm0005690 ┆ \\N      │\n",
       "│ tt0000002 ┆ nm0721526 ┆ \\N      │\n",
       "│ tt0000003 ┆ nm0721526 ┆ \\N      │\n",
       "│ tt0000004 ┆ nm0721526 ┆ \\N      │\n",
       "│ tt0000005 ┆ nm0005690 ┆ \\N      │\n",
       "└───────────┴───────────┴─────────┘"
      ]
     },
     "execution_count": 89,
     "metadata": {},
     "output_type": "execute_result"
    }
   ],
   "source": [
    "title_crew_file = \"../dagster/data/raw_data/parquet/title.crew.parquet\"\n",
    "df_title_crew = convert_to_parquet(title_crew_file)\n",
    "df_title_crew.shape"
   ]
  },
  {
   "cell_type": "code",
   "execution_count": null,
   "metadata": {},
   "outputs": [
    {
     "data": {
      "text/html": [
       "<div><style>\n",
       ".dataframe > thead > tr,\n",
       ".dataframe > tbody > tr {\n",
       "  text-align: right;\n",
       "  white-space: pre-wrap;\n",
       "}\n",
       "</style>\n",
       "<small>shape: (5, 6)</small><table border=\"1\" class=\"dataframe\"><thead><tr><th>tconst</th><th>ordering</th><th>nconst</th><th>category</th><th>job</th><th>characters</th></tr><tr><td>str</td><td>i64</td><td>str</td><td>str</td><td>str</td><td>str</td></tr></thead><tbody><tr><td>&quot;tt0000001&quot;</td><td>1</td><td>&quot;nm1588970&quot;</td><td>&quot;self&quot;</td><td>&quot;\\N&quot;</td><td>&quot;[&quot;Self&quot;]&quot;</td></tr><tr><td>&quot;tt0000001&quot;</td><td>2</td><td>&quot;nm0005690&quot;</td><td>&quot;director&quot;</td><td>&quot;\\N&quot;</td><td>&quot;\\N&quot;</td></tr><tr><td>&quot;tt0000001&quot;</td><td>3</td><td>&quot;nm0374658&quot;</td><td>&quot;cinematographe…</td><td>&quot;director of ph…</td><td>&quot;\\N&quot;</td></tr><tr><td>&quot;tt0000002&quot;</td><td>1</td><td>&quot;nm0721526&quot;</td><td>&quot;director&quot;</td><td>&quot;\\N&quot;</td><td>&quot;\\N&quot;</td></tr><tr><td>&quot;tt0000002&quot;</td><td>2</td><td>&quot;nm1335271&quot;</td><td>&quot;composer&quot;</td><td>&quot;\\N&quot;</td><td>&quot;\\N&quot;</td></tr></tbody></table></div>"
      ],
      "text/plain": [
       "shape: (5, 6)\n",
       "┌───────────┬──────────┬───────────┬─────────────────┬─────────────────────────┬────────────┐\n",
       "│ tconst    ┆ ordering ┆ nconst    ┆ category        ┆ job                     ┆ characters │\n",
       "│ ---       ┆ ---      ┆ ---       ┆ ---             ┆ ---                     ┆ ---        │\n",
       "│ str       ┆ i64      ┆ str       ┆ str             ┆ str                     ┆ str        │\n",
       "╞═══════════╪══════════╪═══════════╪═════════════════╪═════════════════════════╪════════════╡\n",
       "│ tt0000001 ┆ 1        ┆ nm1588970 ┆ self            ┆ \\N                      ┆ [\"Self\"]   │\n",
       "│ tt0000001 ┆ 2        ┆ nm0005690 ┆ director        ┆ \\N                      ┆ \\N         │\n",
       "│ tt0000001 ┆ 3        ┆ nm0374658 ┆ cinematographer ┆ director of photography ┆ \\N         │\n",
       "│ tt0000002 ┆ 1        ┆ nm0721526 ┆ director        ┆ \\N                      ┆ \\N         │\n",
       "│ tt0000002 ┆ 2        ┆ nm1335271 ┆ composer        ┆ \\N                      ┆ \\N         │\n",
       "└───────────┴──────────┴───────────┴─────────────────┴─────────────────────────┴────────────┘"
      ]
     },
     "execution_count": 91,
     "metadata": {},
     "output_type": "execute_result"
    }
   ],
   "source": [
    "title_principals_file = \"./dagster/data/raw_data/parquet/title.principals.parquet\"\n",
    "df_title_principals = convert_to_parquet(title_principals_file)\n",
    "df_title_principals.shape"
   ]
  }
 ],
 "metadata": {
  "kernelspec": {
   "display_name": "celluloid_env",
   "language": "python",
   "name": "python3"
  },
  "language_info": {
   "codemirror_mode": {
    "name": "ipython",
    "version": 3
   },
   "file_extension": ".py",
   "mimetype": "text/x-python",
   "name": "python",
   "nbconvert_exporter": "python",
   "pygments_lexer": "ipython3",
   "version": "3.11.7"
  }
 },
 "nbformat": 4,
 "nbformat_minor": 2
}
