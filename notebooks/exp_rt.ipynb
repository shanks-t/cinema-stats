{
 "cells": [
  {
   "cell_type": "code",
   "execution_count": 2,
   "metadata": {},
   "outputs": [],
   "source": [
    "import polars as pl\n",
    "import pandas as pd\n",
    "import numpy as np\n",
    "import os\n",
    "import pyarrow.parquet as pq"
   ]
  },
  {
   "cell_type": "code",
   "execution_count": 3,
   "metadata": {},
   "outputs": [],
   "source": [
    "def convert_tsv_to_parquet(tsv_file_path, parquet_dir):\n",
    "    \"\"\"\n",
    "    Converts a TSV file to a Parquet file\n",
    "    \"\"\"\n",
    "\n",
    "    parquet_file_name = os.path.basename(tsv_file_path).replace('.csv', '.parquet')\n",
    "    parquet_file_path = os.path.join(parquet_dir, parquet_file_name)\n",
    "\n",
    "    df = pl.read_csv(tsv_file_path, separator=',', has_header=True, ignore_errors=True)\n",
    "    df.write_parquet(parquet_file_path)\n",
    "\n",
    "    return parquet_file_path"
   ]
  },
  {
   "cell_type": "code",
   "execution_count": 4,
   "metadata": {},
   "outputs": [],
   "source": [
    "# path = convert_tsv_to_parquet(\"../pipeline/data/raw_data/csv/rotten_tomatoes_movies.csv\", \"../pipeline/data/raw_data/parquet/\")"
   ]
  },
  {
   "cell_type": "code",
   "execution_count": 7,
   "metadata": {},
   "outputs": [],
   "source": [
    "df = pl.read_parquet(\"../dagster/data/raw_data/parquet/rotten_tomatoes_movies.parquet\")"
   ]
  },
  {
   "cell_type": "code",
   "execution_count": 8,
   "metadata": {},
   "outputs": [
    {
     "data": {
      "text/plain": [
       "['id',\n",
       " 'title',\n",
       " 'audienceScore',\n",
       " 'tomatoMeter',\n",
       " 'rating',\n",
       " 'ratingContents',\n",
       " 'releaseDateTheaters',\n",
       " 'releaseDateStreaming',\n",
       " 'runtimeMinutes',\n",
       " 'genre',\n",
       " 'originalLanguage',\n",
       " 'director',\n",
       " 'writer',\n",
       " 'boxOffice',\n",
       " 'distributor',\n",
       " 'soundMix']"
      ]
     },
     "execution_count": 8,
     "metadata": {},
     "output_type": "execute_result"
    }
   ],
   "source": [
    "df.columns"
   ]
  },
  {
   "cell_type": "code",
   "execution_count": 22,
   "metadata": {},
   "outputs": [
    {
     "name": "stdout",
     "output_type": "stream",
     "text": [
      "(143258, 18)\n"
     ]
    },
    {
     "data": {
      "text/html": [
       "<div><style>\n",
       ".dataframe > thead > tr,\n",
       ".dataframe > tbody > tr {\n",
       "  text-align: right;\n",
       "  white-space: pre-wrap;\n",
       "}\n",
       "</style>\n",
       "<small>shape: (5, 18)</small><table border=\"1\" class=\"dataframe\"><thead><tr><th>id</th><th>title</th><th>audienceScore</th><th>tomatoMeter</th><th>rating</th><th>ratingContents</th><th>releaseDateTheaters</th><th>releaseDateStreaming</th><th>runtimeMinutes</th><th>genre</th><th>originalLanguage</th><th>director</th><th>writer</th><th>boxOffice</th><th>distributor</th><th>soundMix</th><th>stream_year</th><th>theater_year</th></tr><tr><td>str</td><td>str</td><td>i64</td><td>i64</td><td>str</td><td>str</td><td>date</td><td>str</td><td>i64</td><td>str</td><td>str</td><td>str</td><td>str</td><td>str</td><td>str</td><td>str</td><td>i32</td><td>i32</td></tr></thead><tbody><tr><td>&quot;space-zombie-b…</td><td>&quot;Space Zombie B…</td><td>50</td><td>null</td><td>null</td><td>null</td><td>null</td><td>&quot;2018-08-25&quot;</td><td>75</td><td>&quot;Comedy, Horror…</td><td>&quot;English&quot;</td><td>&quot;George Ormrod&quot;</td><td>&quot;George Ormrod,…</td><td>null</td><td>null</td><td>null</td><td>2018</td><td>null</td></tr><tr><td>&quot;the_green_gras…</td><td>&quot;The Green Gras…</td><td>null</td><td>null</td><td>null</td><td>null</td><td>null</td><td>&quot;2020-02-11&quot;</td><td>114</td><td>&quot;Drama&quot;</td><td>&quot;English&quot;</td><td>&quot;Tiffany Edward…</td><td>&quot;Tiffany Edward…</td><td>null</td><td>null</td><td>null</td><td>2020</td><td>null</td></tr><tr><td>&quot;love_lies&quot;</td><td>&quot;Love, Lies&quot;</td><td>43</td><td>null</td><td>null</td><td>null</td><td>null</td><td>null</td><td>120</td><td>&quot;Drama&quot;</td><td>&quot;Korean&quot;</td><td>&quot;Park Heung-Sik…</td><td>&quot;Ha Young-Joon,…</td><td>null</td><td>null</td><td>null</td><td>null</td><td>null</td></tr><tr><td>&quot;the_sore_loser…</td><td>&quot;Sore Losers&quot;</td><td>60</td><td>null</td><td>null</td><td>null</td><td>null</td><td>&quot;2020-10-23&quot;</td><td>90</td><td>&quot;Action, Myster…</td><td>&quot;English&quot;</td><td>&quot;John Michael M…</td><td>&quot;John Michael M…</td><td>null</td><td>null</td><td>null</td><td>2020</td><td>null</td></tr><tr><td>&quot;dinosaur_islan…</td><td>&quot;Dinosaur Islan…</td><td>70</td><td>null</td><td>null</td><td>null</td><td>null</td><td>&quot;2017-03-27&quot;</td><td>80</td><td>&quot;Fantasy, Adven…</td><td>&quot;English&quot;</td><td>&quot;Will Meugniot&quot;</td><td>&quot;John Loy&quot;</td><td>null</td><td>null</td><td>null</td><td>2017</td><td>null</td></tr></tbody></table></div>"
      ],
      "text/plain": [
       "shape: (5, 18)\n",
       "┌───────────┬───────────┬───────────┬───────────┬───┬───────────┬──────────┬───────────┬───────────┐\n",
       "│ id        ┆ title     ┆ audienceS ┆ tomatoMet ┆ … ┆ distribut ┆ soundMix ┆ stream_ye ┆ theater_y │\n",
       "│ ---       ┆ ---       ┆ core      ┆ er        ┆   ┆ or        ┆ ---      ┆ ar        ┆ ear       │\n",
       "│ str       ┆ str       ┆ ---       ┆ ---       ┆   ┆ ---       ┆ str      ┆ ---       ┆ ---       │\n",
       "│           ┆           ┆ i64       ┆ i64       ┆   ┆ str       ┆          ┆ i32       ┆ i32       │\n",
       "╞═══════════╪═══════════╪═══════════╪═══════════╪═══╪═══════════╪══════════╪═══════════╪═══════════╡\n",
       "│ space-zom ┆ Space     ┆ 50        ┆ null      ┆ … ┆ null      ┆ null     ┆ 2018      ┆ null      │\n",
       "│ bie-bingo ┆ Zombie    ┆           ┆           ┆   ┆           ┆          ┆           ┆           │\n",
       "│           ┆ Bingo!    ┆           ┆           ┆   ┆           ┆          ┆           ┆           │\n",
       "│ the_green ┆ The Green ┆ null      ┆ null      ┆ … ┆ null      ┆ null     ┆ 2020      ┆ null      │\n",
       "│ _grass    ┆ Grass     ┆           ┆           ┆   ┆           ┆          ┆           ┆           │\n",
       "│ love_lies ┆ Love,     ┆ 43        ┆ null      ┆ … ┆ null      ┆ null     ┆ null      ┆ null      │\n",
       "│           ┆ Lies      ┆           ┆           ┆   ┆           ┆          ┆           ┆           │\n",
       "│ the_sore_ ┆ Sore      ┆ 60        ┆ null      ┆ … ┆ null      ┆ null     ┆ 2020      ┆ null      │\n",
       "│ losers_19 ┆ Losers    ┆           ┆           ┆   ┆           ┆          ┆           ┆           │\n",
       "│ 97        ┆           ┆           ┆           ┆   ┆           ┆          ┆           ┆           │\n",
       "│ dinosaur_ ┆ Dinosaur  ┆ 70        ┆ null      ┆ … ┆ null      ┆ null     ┆ 2017      ┆ null      │\n",
       "│ island_20 ┆ Island    ┆           ┆           ┆   ┆           ┆          ┆           ┆           │\n",
       "│ 02        ┆           ┆           ┆           ┆   ┆           ┆          ┆           ┆           │\n",
       "└───────────┴───────────┴───────────┴───────────┴───┴───────────┴──────────┴───────────┴───────────┘"
      ]
     },
     "execution_count": 22,
     "metadata": {},
     "output_type": "execute_result"
    }
   ],
   "source": [
    "rt = df.with_columns(pl.col('releaseDateStreaming').str.strptime(pl.Date, '%Y-%m-%d').dt.year().alias('stream_year'))\n",
    "rt = rt.with_columns(\n",
    "    pl.col('releaseDateTheaters').dt.year().alias('theater_year'),\n",
    ")\n",
    "\n",
    "print(rt.shape)\n",
    "rt.write_parquet(\"../dagster/data/raw_data/parquet/rt.parquet\", compression=\"snappy\")\n",
    "rt.head()"
   ]
  },
  {
   "cell_type": "code",
   "execution_count": 10,
   "metadata": {},
   "outputs": [
    {
     "name": "stdout",
     "output_type": "stream",
     "text": [
      "shape: (143_258, 16)\n",
      "┌───────────┬───────────┬───────────┬───────────┬───┬───────────┬───────────┬───────────┬──────────┐\n",
      "│ id        ┆ title     ┆ audienceS ┆ tomatoMet ┆ … ┆ writer    ┆ boxOffice ┆ distribut ┆ soundMix │\n",
      "│ ---       ┆ ---       ┆ core      ┆ er        ┆   ┆ ---       ┆ ---       ┆ or        ┆ ---      │\n",
      "│ str       ┆ str       ┆ ---       ┆ ---       ┆   ┆ str       ┆ str       ┆ ---       ┆ str      │\n",
      "│           ┆           ┆ i64       ┆ i64       ┆   ┆           ┆           ┆ str       ┆          │\n",
      "╞═══════════╪═══════════╪═══════════╪═══════════╪═══╪═══════════╪═══════════╪═══════════╪══════════╡\n",
      "│ space-zom ┆ Space     ┆ 50        ┆ null      ┆ … ┆ George    ┆ null      ┆ null      ┆ null     │\n",
      "│ bie-bingo ┆ Zombie    ┆           ┆           ┆   ┆ Ormrod,Jo ┆           ┆           ┆          │\n",
      "│           ┆ Bingo!    ┆           ┆           ┆   ┆ hn        ┆           ┆           ┆          │\n",
      "│           ┆           ┆           ┆           ┆   ┆ Sabotta   ┆           ┆           ┆          │\n",
      "│ the_green ┆ The Green ┆ null      ┆ null      ┆ … ┆ Tiffany   ┆ null      ┆ null      ┆ null     │\n",
      "│ _grass    ┆ Grass     ┆           ┆           ┆   ┆ Edwards   ┆           ┆           ┆          │\n",
      "│ love_lies ┆ Love,     ┆ 43        ┆ null      ┆ … ┆ Ha Young- ┆ null      ┆ null      ┆ null     │\n",
      "│           ┆ Lies      ┆           ┆           ┆   ┆ Joon,Jeon ┆           ┆           ┆          │\n",
      "│           ┆           ┆           ┆           ┆   ┆ Yun-su,So ┆           ┆           ┆          │\n",
      "│           ┆           ┆           ┆           ┆   ┆ ng H…     ┆           ┆           ┆          │\n",
      "│ the_sore_ ┆ Sore      ┆ 60        ┆ null      ┆ … ┆ John      ┆ null      ┆ null      ┆ null     │\n",
      "│ losers_19 ┆ Losers    ┆           ┆           ┆   ┆ Michael   ┆           ┆           ┆          │\n",
      "│ 97        ┆           ┆           ┆           ┆   ┆ McCarthy  ┆           ┆           ┆          │\n",
      "│ …         ┆ …         ┆ …         ┆ …         ┆ … ┆ …         ┆ …         ┆ …         ┆ …        │\n",
      "│ fantastic ┆ Fantastic ┆ null      ┆ null      ┆ … ┆ null      ┆ null      ┆ Walt      ┆ null     │\n",
      "│ _four_202 ┆ Four      ┆           ┆           ┆   ┆           ┆           ┆ Disney    ┆          │\n",
      "│ 5         ┆           ┆           ┆           ┆   ┆           ┆           ┆ Pictures  ┆          │\n",
      "│ avatar_4  ┆ Avatar 4  ┆ null      ┆ null      ┆ … ┆ James     ┆ null      ┆ 20th      ┆ null     │\n",
      "│           ┆           ┆           ┆           ┆   ┆ Cameron   ┆           ┆ Century   ┆          │\n",
      "│           ┆           ┆           ┆           ┆   ┆           ┆           ┆ Studios   ┆          │\n",
      "│ avatar_5  ┆ Avatar 5  ┆ null      ┆ null      ┆ … ┆ James     ┆ null      ┆ 20th      ┆ null     │\n",
      "│           ┆           ┆           ┆           ┆   ┆ Cameron   ┆           ┆ Century   ┆          │\n",
      "│           ┆           ┆           ┆           ┆   ┆           ┆           ┆ Studios   ┆          │\n",
      "│ other_peo ┆ Other     ┆ null      ┆ 92        ┆ … ┆ Rebecca   ┆ null      ┆ Music Box ┆ null     │\n",
      "│ ples_chil ┆ People's  ┆           ┆           ┆   ┆ Zlotowski ┆           ┆ Films     ┆          │\n",
      "│ dren_2022 ┆ Children  ┆           ┆           ┆   ┆           ┆           ┆           ┆          │\n",
      "└───────────┴───────────┴───────────┴───────────┴───┴───────────┴───────────┴───────────┴──────────┘\n"
     ]
    }
   ],
   "source": [
    "# Convert the date string column to a date object\n",
    "df = df.with_columns(\n",
    "    pl.col(\"releaseDateTheaters\").cast(pl.Date)\n",
    ")\n",
    "\n",
    "# Sort the DataFrame by the date column\n",
    "df_sorted = df.sort(\"releaseDateTheaters\")\n",
    "print(df_sorted)"
   ]
  }
 ],
 "metadata": {
  "kernelspec": {
   "display_name": "dag_nyc",
   "language": "python",
   "name": "python3"
  },
  "language_info": {
   "codemirror_mode": {
    "name": "ipython",
    "version": 3
   },
   "file_extension": ".py",
   "mimetype": "text/x-python",
   "name": "python",
   "nbconvert_exporter": "python",
   "pygments_lexer": "ipython3",
   "version": "3.11.7"
  }
 },
 "nbformat": 4,
 "nbformat_minor": 2
}
