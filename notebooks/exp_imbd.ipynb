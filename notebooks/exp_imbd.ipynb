{
 "cells": [
  {
   "cell_type": "code",
   "execution_count": 3,
   "metadata": {},
   "outputs": [],
   "source": [
    "import polars as pl\n",
    "import pandas as pd\n",
    "import pyarrow\n",
    "import matplotlib.pyplot as plt\n",
    "import numpy as np"
   ]
  },
  {
   "cell_type": "code",
   "execution_count": 4,
   "metadata": {},
   "outputs": [],
   "source": [
    "def read_tsv_with_polars(file_path, column_names, column_types, null_values=['\\\\N']):\n",
    "    \"\"\"\n",
    "    Reads a TSV file into a Polars DataFrame with specified column names and types.\n",
    "\n",
    "    Parameters:\n",
    "    file_path (str): Path to the TSV file.\n",
    "    column_names (list): List of column names.\n",
    "    column_types (list): List of Polars data types for the columns.\n",
    "    null_values (list, optional): List of strings to be treated as null values. Defaults to ['\\\\N'].\n",
    "\n",
    "    Returns:\n",
    "    pl.DataFrame: Polars DataFrame with the TSV data.\n",
    "    \"\"\"\n",
    "    # Set the format string lengths for display\n",
    "    pl.Config.set_fmt_str_lengths(50)\n",
    "\n",
    "    # Read the TSV file\n",
    "    df = pl.read_csv(\n",
    "        file_path,\n",
    "        separator='\\t',\n",
    "        has_header=False,\n",
    "        new_columns=column_names,\n",
    "        dtypes=column_types,\n",
    "        ignore_errors=True,\n",
    "        null_values=null_values,\n",
    "        skip_rows=1\n",
    "    )\n",
    "    return df"
   ]
  },
  {
   "cell_type": "code",
   "execution_count": 7,
   "metadata": {},
   "outputs": [],
   "source": [
    "ratings_df = read_tsv_with_polars(\"./raw_data/title.ratings.tsv\", ['const', 'averageRating', 'numVotes'], [pl.Utf8, pl.Float32, pl.Int32])\n"
   ]
  },
  {
   "cell_type": "code",
   "execution_count": null,
   "metadata": {},
   "outputs": [],
   "source": [
    "# ratings_df = ratings_df.with_columns(pl.col(\"averageRating\").cast(pl.Float32, strict=False))"
   ]
  },
  {
   "cell_type": "code",
   "execution_count": 8,
   "metadata": {},
   "outputs": [
    {
     "data": {
      "text/html": [
       "<div><style>\n",
       ".dataframe > thead > tr,\n",
       ".dataframe > tbody > tr {\n",
       "  text-align: right;\n",
       "  white-space: pre-wrap;\n",
       "}\n",
       "</style>\n",
       "<small>shape: (10, 3)</small><table border=\"1\" class=\"dataframe\"><thead><tr><th>const</th><th>averageRating</th><th>numVotes</th></tr><tr><td>str</td><td>f32</td><td>i32</td></tr></thead><tbody><tr><td>&quot;tt0000001&quot;</td><td>5.7</td><td>2012</td></tr><tr><td>&quot;tt0000002&quot;</td><td>5.7</td><td>271</td></tr><tr><td>&quot;tt0000003&quot;</td><td>6.5</td><td>1931</td></tr><tr><td>&quot;tt0000004&quot;</td><td>5.4</td><td>179</td></tr><tr><td>&quot;tt0000005&quot;</td><td>6.2</td><td>2703</td></tr><tr><td>&quot;tt0000006&quot;</td><td>5.0</td><td>183</td></tr><tr><td>&quot;tt0000007&quot;</td><td>5.4</td><td>842</td></tr><tr><td>&quot;tt0000008&quot;</td><td>5.4</td><td>2157</td></tr><tr><td>&quot;tt0000009&quot;</td><td>5.3</td><td>207</td></tr><tr><td>&quot;tt0000010&quot;</td><td>6.9</td><td>7376</td></tr></tbody></table></div>"
      ],
      "text/plain": [
       "shape: (10, 3)\n",
       "┌───────────┬───────────────┬──────────┐\n",
       "│ const     ┆ averageRating ┆ numVotes │\n",
       "│ ---       ┆ ---           ┆ ---      │\n",
       "│ str       ┆ f32           ┆ i32      │\n",
       "╞═══════════╪═══════════════╪══════════╡\n",
       "│ tt0000001 ┆ 5.7           ┆ 2012     │\n",
       "│ tt0000002 ┆ 5.7           ┆ 271      │\n",
       "│ tt0000003 ┆ 6.5           ┆ 1931     │\n",
       "│ tt0000004 ┆ 5.4           ┆ 179      │\n",
       "│ …         ┆ …             ┆ …        │\n",
       "│ tt0000007 ┆ 5.4           ┆ 842      │\n",
       "│ tt0000008 ┆ 5.4           ┆ 2157     │\n",
       "│ tt0000009 ┆ 5.3           ┆ 207      │\n",
       "│ tt0000010 ┆ 6.9           ┆ 7376     │\n",
       "└───────────┴───────────────┴──────────┘"
      ]
     },
     "execution_count": 8,
     "metadata": {},
     "output_type": "execute_result"
    }
   ],
   "source": [
    "ratings_df.head(10)"
   ]
  },
  {
   "cell_type": "code",
   "execution_count": null,
   "metadata": {},
   "outputs": [],
   "source": [
    "column_names = ['const', 'titleType', 'primaryTitle', 'originalTitle', 'isAdult', \n",
    "                'startYear', 'endYear', 'runtimeMinutes', 'genres']\n",
    "\n",
    "# Define column types\n",
    "# Adjust these based on the actual data in each column\n",
    "column_types = [pl.Utf8, pl.Utf8, pl.Utf8, pl.Utf8, pl.Int32, \n",
    "                pl.Int32, pl.Int32, pl.Int32, pl.Utf8]\n",
    "\n",
    "basics_df = read_tsv_with_polars('./title.basics.tsv', column_names, column_types)"
   ]
  },
  {
   "cell_type": "code",
   "execution_count": null,
   "metadata": {},
   "outputs": [
    {
     "data": {
      "text/html": [
       "<div><style>\n",
       ".dataframe > thead > tr,\n",
       ".dataframe > tbody > tr {\n",
       "  text-align: right;\n",
       "  white-space: pre-wrap;\n",
       "}\n",
       "</style>\n",
       "<small>shape: (11, 2)</small><table border=\"1\" class=\"dataframe\"><thead><tr><th>titleType</th><th>count</th></tr><tr><td>str</td><td>u32</td></tr></thead><tbody><tr><td>&quot;tvEpisode&quot;</td><td>7959971</td></tr><tr><td>&quot;videoGame&quot;</td><td>36867</td></tr><tr><td>&quot;tvSeries&quot;</td><td>254231</td></tr><tr><td>&quot;tvMovie&quot;</td><td>143791</td></tr><tr><td>&quot;tvMiniSeries&quot;</td><td>51628</td></tr><tr><td>&quot;video&quot;</td><td>284855</td></tr><tr><td>&quot;movie&quot;</td><td>666663</td></tr><tr><td>&quot;tvShort&quot;</td><td>10132</td></tr><tr><td>&quot;short&quot;</td><td>968320</td></tr><tr><td>&quot;tvPilot&quot;</td><td>1</td></tr><tr><td>&quot;tvSpecial&quot;</td><td>44959</td></tr></tbody></table></div>"
      ],
      "text/plain": [
       "shape: (11, 2)\n",
       "┌───────────┬─────────┐\n",
       "│ titleType ┆ count   │\n",
       "│ ---       ┆ ---     │\n",
       "│ str       ┆ u32     │\n",
       "╞═══════════╪═════════╡\n",
       "│ tvEpisode ┆ 7959971 │\n",
       "│ videoGame ┆ 36867   │\n",
       "│ tvSeries  ┆ 254231  │\n",
       "│ tvMovie   ┆ 143791  │\n",
       "│ …         ┆ …       │\n",
       "│ tvShort   ┆ 10132   │\n",
       "│ short     ┆ 968320  │\n",
       "│ tvPilot   ┆ 1       │\n",
       "│ tvSpecial ┆ 44959   │\n",
       "└───────────┴─────────┘"
      ]
     },
     "execution_count": 51,
     "metadata": {},
     "output_type": "execute_result"
    }
   ],
   "source": [
    "basics_df[\"titleType\"].value_counts()"
   ]
  },
  {
   "cell_type": "code",
   "execution_count": null,
   "metadata": {},
   "outputs": [],
   "source": [
    "filter_condition = basics_df['titleType'] == \"movie\"\n",
    "\n",
    "movies = basics_df.filter(filter_condition)"
   ]
  },
  {
   "cell_type": "code",
   "execution_count": null,
   "metadata": {},
   "outputs": [
    {
     "data": {
      "text/plain": [
       "['const',\n",
       " 'titleType',\n",
       " 'primaryTitle',\n",
       " 'originalTitle',\n",
       " 'isAdult',\n",
       " 'startYear',\n",
       " 'endYear',\n",
       " 'runtimeMinutes',\n",
       " 'genres']"
      ]
     },
     "execution_count": 53,
     "metadata": {},
     "output_type": "execute_result"
    }
   ],
   "source": [
    "movies.columns"
   ]
  },
  {
   "cell_type": "code",
   "execution_count": null,
   "metadata": {},
   "outputs": [
    {
     "data": {
      "text/html": [
       "<div><style>\n",
       ".dataframe > thead > tr,\n",
       ".dataframe > tbody > tr {\n",
       "  text-align: right;\n",
       "  white-space: pre-wrap;\n",
       "}\n",
       "</style>\n",
       "<small>shape: (5, 11)</small><table border=\"1\" class=\"dataframe\"><thead><tr><th>const</th><th>titleType</th><th>primaryTitle</th><th>originalTitle</th><th>isAdult</th><th>startYear</th><th>endYear</th><th>runtimeMinutes</th><th>genres</th><th>averageRating</th><th>numVotes</th></tr><tr><td>str</td><td>str</td><td>str</td><td>str</td><td>i32</td><td>i32</td><td>i32</td><td>i32</td><td>str</td><td>f32</td><td>i32</td></tr></thead><tbody><tr><td>&quot;tt0000009&quot;</td><td>&quot;movie&quot;</td><td>&quot;Miss Jerry&quot;</td><td>&quot;Miss Jerry&quot;</td><td>0</td><td>1894</td><td>null</td><td>45</td><td>&quot;Romance&quot;</td><td>5.3</td><td>207</td></tr><tr><td>&quot;tt0000147&quot;</td><td>&quot;movie&quot;</td><td>&quot;The Corbett-Fitzsimmons Fight&quot;</td><td>&quot;The Corbett-Fitzsimmons Fight&quot;</td><td>0</td><td>1897</td><td>null</td><td>100</td><td>&quot;Documentary,News,Sport&quot;</td><td>5.3</td><td>489</td></tr><tr><td>&quot;tt0000502&quot;</td><td>&quot;movie&quot;</td><td>&quot;Bohemios&quot;</td><td>&quot;Bohemios&quot;</td><td>0</td><td>1905</td><td>null</td><td>100</td><td>null</td><td>4.1</td><td>15</td></tr><tr><td>&quot;tt0000574&quot;</td><td>&quot;movie&quot;</td><td>&quot;The Story of the Kelly Gang&quot;</td><td>&quot;The Story of the Kelly Gang&quot;</td><td>0</td><td>1906</td><td>null</td><td>70</td><td>&quot;Action,Adventure,Biography&quot;</td><td>6.0</td><td>861</td></tr><tr><td>&quot;tt0000591&quot;</td><td>&quot;movie&quot;</td><td>&quot;The Prodigal Son&quot;</td><td>&quot;L&#x27;enfant prodigue&quot;</td><td>0</td><td>1907</td><td>null</td><td>90</td><td>&quot;Drama&quot;</td><td>5.0</td><td>21</td></tr></tbody></table></div>"
      ],
      "text/plain": [
       "shape: (5, 11)\n",
       "┌───────────┬───────────┬───────────┬───────────┬───┬───────────┬───────────┬───────────┬──────────┐\n",
       "│ const     ┆ titleType ┆ primaryTi ┆ originalT ┆ … ┆ runtimeMi ┆ genres    ┆ averageRa ┆ numVotes │\n",
       "│ ---       ┆ ---       ┆ tle       ┆ itle      ┆   ┆ nutes     ┆ ---       ┆ ting      ┆ ---      │\n",
       "│ str       ┆ str       ┆ ---       ┆ ---       ┆   ┆ ---       ┆ str       ┆ ---       ┆ i32      │\n",
       "│           ┆           ┆ str       ┆ str       ┆   ┆ i32       ┆           ┆ f32       ┆          │\n",
       "╞═══════════╪═══════════╪═══════════╪═══════════╪═══╪═══════════╪═══════════╪═══════════╪══════════╡\n",
       "│ tt0000009 ┆ movie     ┆ Miss      ┆ Miss      ┆ … ┆ 45        ┆ Romance   ┆ 5.3       ┆ 207      │\n",
       "│           ┆           ┆ Jerry     ┆ Jerry     ┆   ┆           ┆           ┆           ┆          │\n",
       "│ tt0000147 ┆ movie     ┆ The Corbe ┆ The Corbe ┆ … ┆ 100       ┆ Documenta ┆ 5.3       ┆ 489      │\n",
       "│           ┆           ┆ tt-Fitzsi ┆ tt-Fitzsi ┆   ┆           ┆ ry,News,S ┆           ┆          │\n",
       "│           ┆           ┆ mmons     ┆ mmons     ┆   ┆           ┆ port      ┆           ┆          │\n",
       "│           ┆           ┆ Fight     ┆ Fight     ┆   ┆           ┆           ┆           ┆          │\n",
       "│ tt0000502 ┆ movie     ┆ Bohemios  ┆ Bohemios  ┆ … ┆ 100       ┆ null      ┆ 4.1       ┆ 15       │\n",
       "│ tt0000574 ┆ movie     ┆ The Story ┆ The Story ┆ … ┆ 70        ┆ Action,Ad ┆ 6.0       ┆ 861      │\n",
       "│           ┆           ┆ of the    ┆ of the    ┆   ┆           ┆ venture,B ┆           ┆          │\n",
       "│           ┆           ┆ Kelly     ┆ Kelly     ┆   ┆           ┆ iography  ┆           ┆          │\n",
       "│           ┆           ┆ Gang      ┆ Gang      ┆   ┆           ┆           ┆           ┆          │\n",
       "│ tt0000591 ┆ movie     ┆ The       ┆ L'enfant  ┆ … ┆ 90        ┆ Drama     ┆ 5.0       ┆ 21       │\n",
       "│           ┆           ┆ Prodigal  ┆ prodigue  ┆   ┆           ┆           ┆           ┆          │\n",
       "│           ┆           ┆ Son       ┆           ┆   ┆           ┆           ┆           ┆          │\n",
       "└───────────┴───────────┴───────────┴───────────┴───┴───────────┴───────────┴───────────┴──────────┘"
      ]
     },
     "execution_count": 54,
     "metadata": {},
     "output_type": "execute_result"
    }
   ],
   "source": [
    "movie_ratings = movies.join(ratings_df, on=\"const\", how=\"inner\")\n",
    "\n",
    "movie_ratings.head()"
   ]
  },
  {
   "cell_type": "code",
   "execution_count": null,
   "metadata": {},
   "outputs": [
    {
     "data": {
      "text/html": [
       "<div><style>\n",
       ".dataframe > thead > tr,\n",
       ".dataframe > tbody > tr {\n",
       "  text-align: right;\n",
       "  white-space: pre-wrap;\n",
       "}\n",
       "</style>\n",
       "<small>shape: (127, 2)</small><table border=\"1\" class=\"dataframe\"><thead><tr><th>startYear</th><th>count</th></tr><tr><td>i32</td><td>u32</td></tr></thead><tbody><tr><td>2019</td><td>10478</td></tr><tr><td>2018</td><td>10358</td></tr><tr><td>2017</td><td>10288</td></tr><tr><td>2022</td><td>10035</td></tr><tr><td>2016</td><td>9807</td></tr><tr><td>2015</td><td>9421</td></tr><tr><td>2014</td><td>9193</td></tr><tr><td>2021</td><td>8886</td></tr><tr><td>2013</td><td>8567</td></tr><tr><td>2020</td><td>8415</td></tr><tr><td>2012</td><td>8201</td></tr><tr><td>2023</td><td>8045</td></tr><tr><td>&hellip;</td><td>&hellip;</td></tr><tr><td>1907</td><td>13</td></tr><tr><td>1908</td><td>13</td></tr><tr><td>1905</td><td>10</td></tr><tr><td>1906</td><td>8</td></tr><tr><td>1897</td><td>2</td></tr><tr><td>1903</td><td>2</td></tr><tr><td>1899</td><td>2</td></tr><tr><td>1901</td><td>2</td></tr><tr><td>1900</td><td>2</td></tr><tr><td>1894</td><td>1</td></tr><tr><td>1904</td><td>1</td></tr><tr><td>1902</td><td>1</td></tr></tbody></table></div>"
      ],
      "text/plain": [
       "shape: (127, 2)\n",
       "┌───────────┬───────┐\n",
       "│ startYear ┆ count │\n",
       "│ ---       ┆ ---   │\n",
       "│ i32       ┆ u32   │\n",
       "╞═══════════╪═══════╡\n",
       "│ 2019      ┆ 10478 │\n",
       "│ 2018      ┆ 10358 │\n",
       "│ 2017      ┆ 10288 │\n",
       "│ 2022      ┆ 10035 │\n",
       "│ …         ┆ …     │\n",
       "│ 1900      ┆ 2     │\n",
       "│ 1894      ┆ 1     │\n",
       "│ 1904      ┆ 1     │\n",
       "│ 1902      ┆ 1     │\n",
       "└───────────┴───────┘"
      ]
     },
     "execution_count": 55,
     "metadata": {},
     "output_type": "execute_result"
    }
   ],
   "source": [
    "movie_ratings = movie_ratings.filter(movie_ratings['startYear'].is_not_null())\n",
    "movie_ratings['startYear'].value_counts(sort=True)"
   ]
  },
  {
   "cell_type": "code",
   "execution_count": null,
   "metadata": {},
   "outputs": [],
   "source": [
    "movies_2023 = movie_ratings.filter(pl.col('startYear') == 2023)"
   ]
  },
  {
   "cell_type": "code",
   "execution_count": null,
   "metadata": {},
   "outputs": [
    {
     "data": {
      "text/plain": [
       "(10893, 11)"
      ]
     },
     "execution_count": 64,
     "metadata": {},
     "output_type": "execute_result"
    }
   ],
   "source": [
    "movie_ratings = movie_ratings.filter(pl.col(\"numVotes\") > 10000)\n",
    "\n",
    "movie_ratings.shape"
   ]
  },
  {
   "cell_type": "code",
   "execution_count": null,
   "metadata": {},
   "outputs": [
    {
     "data": {
      "image/png": "[encoded data removed]",
      "text/plain": [
       "<Figure size 1200x600 with 1 Axes>"
      ]
     },
     "metadata": {},
     "output_type": "display_data"
    }
   ],
   "source": [
    "movies_pd = movie_ratings.to_pandas()\n",
    "\n",
    "\n",
    "# movies_pd.hist(column='numVotes', bins=100)\n",
    "\n",
    "# plt.figure(figsize=(12, 6))\n",
    "# plt.subplot(1, 2, 1)\n",
    "# plt.hist(movies_pd['numVotes'], bins=100)\n",
    "# plt.yscale('log')\n",
    "# plt.title('Histogram with Logarithmic Scale')\n",
    "# plt.show()\n",
    "\n",
    "# Histogram of log-transformed data\n",
    "movies_pd['log_transformed'] = np.log(movies_pd['numVotes'])\n",
    "plt.figure(figsize=(12, 6))\n",
    "plt.subplot(1, 2, 2)\n",
    "plt.hist(movies_pd['log_transformed'], bins=50)\n",
    "plt.title('Histogram of Log-Transformed Data')\n",
    "plt.show()"
   ]
  },
  {
   "cell_type": "code",
   "execution_count": null,
   "metadata": {},
   "outputs": [],
   "source": [
    "movie_ratings.sort('averageRating', descending=True)\n",
    "\n",
    "movie_ratings.write_parquet('./data/movies_with_ratings.parquet')"
   ]
  }
 ],
 "metadata": {
  "kernelspec": {
   "display_name": "celluloid_env",
   "language": "python",
   "name": "python3"
  },
  "language_info": {
   "codemirror_mode": {
    "name": "ipython",
    "version": 3
   },
   "file_extension": ".py",
   "mimetype": "text/x-python",
   "name": "python",
   "nbconvert_exporter": "python",
   "pygments_lexer": "ipython3",
   "version": "3.12.0"
  }
 },
 "nbformat": 4,
 "nbformat_minor": 2
}
