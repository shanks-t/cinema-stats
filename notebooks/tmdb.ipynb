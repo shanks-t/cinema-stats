{
 "cells": [
  {
   "cell_type": "code",
   "execution_count": 16,
   "metadata": {},
   "outputs": [],
   "source": [
    "import polars as pl\n",
    "import pandas as pd\n",
    "import numpy as np\n",
    "import os\n",
    "import pyarrow.parquet as pq"
   ]
  },
  {
   "cell_type": "code",
   "execution_count": 17,
   "metadata": {},
   "outputs": [],
   "source": [
    "df = pl.read_csv(\"../go/movies.csv\")"
   ]
  },
  {
   "cell_type": "code",
   "execution_count": 18,
   "metadata": {},
   "outputs": [
    {
     "data": {
      "text/html": [
       "<div><style>\n",
       ".dataframe > thead > tr,\n",
       ".dataframe > tbody > tr {\n",
       "  text-align: right;\n",
       "  white-space: pre-wrap;\n",
       "}\n",
       "</style>\n",
       "<small>shape: (5, 14)</small><table border=\"1\" class=\"dataframe\"><thead><tr><th>ID</th><th>Title</th><th>OriginalTitle</th><th>OriginalLanguage</th><th>ReleaseDate</th><th>BackdropPath</th><th>PosterPath</th><th>Overview</th><th>Popularity</th><th>VoteAverage</th><th>VoteCount</th><th>Adult</th><th>Video</th><th>GenreIDs</th></tr><tr><td>i64</td><td>str</td><td>str</td><td>str</td><td>str</td><td>str</td><td>str</td><td>str</td><td>f64</td><td>f64</td><td>i64</td><td>bool</td><td>bool</td><td>str</td></tr></thead><tbody><tr><td>556901</td><td>&quot;Teen Titans Go…</td><td>&quot;Teen Titans Go…</td><td>&quot;en&quot;</td><td>&quot;2019-07-21&quot;</td><td>&quot;/a0x89EyyjaUWn…</td><td>&quot;/GWJEdzVC9aOBS…</td><td>&quot;The comedic mo…</td><td>25.554</td><td>7.8</td><td>442</td><td>false</td><td>false</td><td>&quot;28,16&quot;</td></tr><tr><td>262543</td><td>&quot;Automata&quot;</td><td>&quot;Autómata&quot;</td><td>&quot;en&quot;</td><td>&quot;2014-10-09&quot;</td><td>&quot;/kVChi7qHX9UMc…</td><td>&quot;/nUEIwqzTWYvEJ…</td><td>&quot;Jacq Vaucan, a…</td><td>25.962</td><td>5.8</td><td>1544</td><td>false</td><td>false</td><td>&quot;53,878&quot;</td></tr><tr><td>44683</td><td>&quot;Tinker Bell an…</td><td>&quot;Tinker Bell an…</td><td>&quot;en&quot;</td><td>&quot;2010-07-29&quot;</td><td>&quot;/gKfhkw4zZPJJk…</td><td>&quot;/fFZGJQU2LcViB…</td><td>&quot;During a summe…</td><td>33.541</td><td>6.7</td><td>866</td><td>false</td><td>false</td><td>&quot;16,12,10751,14…</td></tr><tr><td>667739</td><td>&quot;The Man from T…</td><td>&quot;The Man from T…</td><td>&quot;en&quot;</td><td>&quot;2022-12-23&quot;</td><td>&quot;/iOFBH9KtjKMnt…</td><td>&quot;/uTCfTibqtk4f9…</td><td>&quot;In a case of m…</td><td>30.987</td><td>6.5</td><td>259</td><td>false</td><td>false</td><td>&quot;28,12,35&quot;</td></tr><tr><td>955</td><td>&quot;Mission: Impos…</td><td>&quot;Mission: Impos…</td><td>&quot;en&quot;</td><td>&quot;2000-05-24&quot;</td><td>&quot;/24DZfupDlhXeT…</td><td>&quot;/1VMWLpk9VXyYc…</td><td>&quot;With computer …</td><td>26.686</td><td>6.1</td><td>6288</td><td>false</td><td>false</td><td>&quot;12,28,53&quot;</td></tr></tbody></table></div>"
      ],
      "text/plain": [
       "shape: (5, 14)\n",
       "┌────────┬──────────────┬──────────────┬─────────────┬───┬───────────┬───────┬───────┬─────────────┐\n",
       "│ ID     ┆ Title        ┆ OriginalTitl ┆ OriginalLan ┆ … ┆ VoteCount ┆ Adult ┆ Video ┆ GenreIDs    │\n",
       "│ ---    ┆ ---          ┆ e            ┆ guage       ┆   ┆ ---       ┆ ---   ┆ ---   ┆ ---         │\n",
       "│ i64    ┆ str          ┆ ---          ┆ ---         ┆   ┆ i64       ┆ bool  ┆ bool  ┆ str         │\n",
       "│        ┆              ┆ str          ┆ str         ┆   ┆           ┆       ┆       ┆             │\n",
       "╞════════╪══════════════╪══════════════╪═════════════╪═══╪═══════════╪═══════╪═══════╪═════════════╡\n",
       "│ 556901 ┆ Teen Titans  ┆ Teen Titans  ┆ en          ┆ … ┆ 442       ┆ false ┆ false ┆ 28,16       │\n",
       "│        ┆ Go! vs. Teen ┆ Go! vs. Teen ┆             ┆   ┆           ┆       ┆       ┆             │\n",
       "│        ┆ Titans       ┆ Titans       ┆             ┆   ┆           ┆       ┆       ┆             │\n",
       "│ 262543 ┆ Automata     ┆ Autómata     ┆ en          ┆ … ┆ 1544      ┆ false ┆ false ┆ 53,878      │\n",
       "│ 44683  ┆ Tinker Bell  ┆ Tinker Bell  ┆ en          ┆ … ┆ 866       ┆ false ┆ false ┆ 16,12,10751 │\n",
       "│        ┆ and the      ┆ and the      ┆             ┆   ┆           ┆       ┆       ┆ ,14         │\n",
       "│        ┆ Great Fairy  ┆ Great Fairy  ┆             ┆   ┆           ┆       ┆       ┆             │\n",
       "│        ┆ …            ┆ …            ┆             ┆   ┆           ┆       ┆       ┆             │\n",
       "│ 667739 ┆ The Man from ┆ The Man from ┆ en          ┆ … ┆ 259       ┆ false ┆ false ┆ 28,12,35    │\n",
       "│        ┆ Toronto      ┆ Toronto      ┆             ┆   ┆           ┆       ┆       ┆             │\n",
       "│ 955    ┆ Mission:     ┆ Mission:     ┆ en          ┆ … ┆ 6288      ┆ false ┆ false ┆ 12,28,53    │\n",
       "│        ┆ Impossible   ┆ Impossible   ┆             ┆   ┆           ┆       ┆       ┆             │\n",
       "│        ┆ II           ┆ II           ┆             ┆   ┆           ┆       ┆       ┆             │\n",
       "└────────┴──────────────┴──────────────┴─────────────┴───┴───────────┴───────┴───────┴─────────────┘"
      ]
     },
     "execution_count": 18,
     "metadata": {},
     "output_type": "execute_result"
    }
   ],
   "source": [
    "df.head(100)"
   ]
  }
 ],
 "metadata": {
  "kernelspec": {
   "display_name": "dag_nyc",
   "language": "python",
   "name": "python3"
  },
  "language_info": {
   "codemirror_mode": {
    "name": "ipython",
    "version": 3
   },
   "file_extension": ".py",
   "mimetype": "text/x-python",
   "name": "python",
   "nbconvert_exporter": "python",
   "pygments_lexer": "ipython3",
   "version": "3.11.7"
  }
 },
 "nbformat": 4,
 "nbformat_minor": 2
}
