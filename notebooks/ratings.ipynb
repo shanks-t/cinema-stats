{
 "cells": [
  {
   "cell_type": "code",
   "execution_count": 124,
   "metadata": {},
   "outputs": [],
   "source": [
    "import polars as pl\n",
    "import pandas as pd\n",
    "from utils.functions import read_parquet_and_display_things #for whatever reason kernel restart is necesary to pick up changes to functions from module"
   ]
  },
  {
   "cell_type": "code",
   "execution_count": 125,
   "metadata": {},
   "outputs": [
    {
     "name": "stdout",
     "output_type": "stream",
     "text": [
      "Rows: 301971\n",
      "Columns: 11\n",
      "$ const          <str> 'tt0111161', 'tt0468569', 'tt1375666', 'tt0137523', 'tt0109830', 'tt0110912', 'tt0816692', 'tt0133093', 'tt0068646', 'tt0120737'\n",
      "$ titleType      <str> 'movie', 'movie', 'movie', 'movie', 'movie', 'movie', 'movie', 'movie', 'movie', 'movie'\n",
      "$ primaryTitle   <str> 'The Shawshank Redemption', 'The Dark Knight', 'Inception', 'Fight Club', 'Forrest Gump', 'Pulp Fiction', 'Interstellar', 'The Matrix', 'The Godfather', 'The Lord of the Rings: The Fellowship of the Ring'\n",
      "$ originalTitle  <str> 'The Shawshank Redemption', 'The Dark Knight', 'Inception', 'Fight Club', 'Forrest Gump', 'Pulp Fiction', 'Interstellar', 'The Matrix', 'The Godfather', 'The Lord of the Rings: The Fellowship of the Ring'\n",
      "$ isAdult        <i32> 0, 0, 0, 0, 0, 0, 0, 0, 0, 0\n",
      "$ year           <i32> 1994, 2008, 2010, 1999, 1994, 1994, 2014, 1999, 1972, 2001\n",
      "$ endYear        <i32> None, None, None, None, None, None, None, None, None, None\n",
      "$ runtimeMinutes <i32> 142, 152, 148, 139, 142, 154, 169, 136, 175, 178\n",
      "$ genre          <str> 'Drama', 'Action,Crime,Drama', 'Action,Adventure,Sci-Fi', 'Drama', 'Drama,Romance', 'Crime,Drama', 'Adventure,Drama,Sci-Fi', 'Action,Sci-Fi', 'Crime,Drama', 'Action,Adventure,Drama'\n",
      "$ averageRating  <f32> 9.300000190734863, 9.0, 8.800000190734863, 8.800000190734863, 8.800000190734863, 8.899999618530273, 8.699999809265137, 8.699999809265137, 9.199999809265137, 8.899999618530273\n",
      "$ numVotes       <i32> 2835969, 2817391, 2500739, 2271670, 2210564, 2175532, 2032071, 2015529, 1976516, 1969188\n",
      "\n",
      "None\n"
     ]
    }
   ],
   "source": [
    "imdb_path = \"../dagster/data/raw_data/parquet/imdb.movies.parquet\"\n",
    "imdb = read_parquet_and_display_things(imdb_path)"
   ]
  },
  {
   "cell_type": "code",
   "execution_count": 126,
   "metadata": {},
   "outputs": [
    {
     "name": "stdout",
     "output_type": "stream",
     "text": [
      "Rows: 882145\n",
      "Columns: 18\n",
      "$ ID                  <i64> 25449, 6124, 8773, 3924, 19, 31975, 2, 3, 13, 12\n",
      "$ Title               <str> 'New World Disorder 9: Never Enough', 'Peter Voss, Thief of Millions', 'Love at Twenty', 'Blondie', 'Metropolis', 'Sesame Street: Elmo Loves You!', 'Ariel', 'Shadows in Paradise', 'Forrest Gump', 'Finding Nemo'\n",
      "$ OriginalTitle       <str> 'New World Disorder 9: Never Enough', 'Der Mann ohne Namen', \"L'Amour à vingt ans\", 'Blondie', 'Metropolis', 'Sesame Street: Elmo Loves You!', 'Ariel', 'Varjoja paratiisissa', 'Forrest Gump', 'Finding Nemo'\n",
      "$ OriginalLanguage    <str> 'en', 'de', 'fr', 'en', 'de', 'en', 'fi', 'fi', 'en', 'en'\n",
      "$ year                <i32> 2008, 1921, 1962, 1938, 1927, 2010, 1988, 1986, 1994, 2003\n",
      "$ PosterPath          <str> '/itQjoIO2e3padeLliHROJVAb7Av.jpg', '/6xUbUCvndklbGVYiljHr34NTxSl.jpg', '/aup2QCYCsyEeQfpboXy0f4uj8aE.jpg', '/zBiHKhXklvTFwj4M1uEUcQGAVJ.jpg', '/pxbGZewX327IbTvrCVRJgcLJTSQ.jpg', '/qKWcCmvGr4g0dgXvhqAc4BAMCtk.jpg', '/ojDg0PGvs6R9xYFodRct2kdI6wC.jpg', '/nj01hspawPof0mJmlgfjuLyJuRN.jpg', '/arw2vcBveWOVZr6pxd9XTd1TdQa.jpg', '/eHuGQ10FUzK1mdOY69wF5pGgEf5.jpg'\n",
      "$ Overview            <str> 'Gee Atherton ripping the Worlds course the day after winning the race, Robbie Bourdon stomping a 70 ft. flat spin and Fabien Barel dropping an insane, near vertical line in Morocco, that\\'s right New World Disorder is back with it\\'s 9th installment, \"Never Enough.\" Filmed exclusively in Super 16mm and High Definition, the world premiere will screen September 24th, during the annual Interbike trade show in Las Vegas.', None, 'Love at Twenty unites five directors from five different countries to present their different perspectives on what love really is at the age of 20. The episodes are united with the score of Georges Delerue and still photos of Henri Cartier-Bresson.', 'Blondie and Dagwood are about to celebrate their fifth wedding anniversary but this happy occasion is marred when the bumbling Dagwood gets himself involved in a scheme that is promising financial ruin for the Bumstead family.', \"In a futuristic city sharply divided between the rich and the poor, the son of the city's mastermind meets a prophet who predicts the coming of a savior to mediate their differences.\", 'Elmo is making a very, very super special surprise card for someone Elmo really loves but a gust of wind blows it away! Rosita joins Elmo to chase after the card but they can\\'t reach it. Can Super Grover use his heroic skills to save the day? Will Elmo be able to give his surprise card to someone very special? Join Elmo, Rosita and Grover as they learn about love, emotions and friendship in this love-ly tale featuring the new song \"Elmo Loves You\" and a special music video about signing \"I Love You\".', 'After the coal mine he works at closes and his father commits suicide, a Finnish man leaves for the city to make a living but there, he is framed and imprisoned for various crimes.', 'Nikander, a rubbish collector and would-be entrepreneur finds his plans for success dashed when his business associate dies. One evening, he meets Ilona, a down-on-her luck cashier in a local supermarket—and, falteringly, a bond begins to develop between them.', 'A man with a low IQ has accomplished great things in his life and been present during significant historic events—in each case, far exceeding what anyone imagined he could do. But despite all he has achieved, his one true love eludes him.', \"Nemo, an adventurous young clownfish, is unexpectedly taken from his Great Barrier Reef home to a dentist's office aquarium. It's up to his worrisome father Marlin and a friendly but forgetful fish Dory to bring Nemo home -- meeting vegetarian sharks, surfer dude turtles, hypnotic jellyfish, hungry seagulls, and more along the way.\"\n",
      "$ Popularity          <f64> 1.24, 0.961, 5.527, 1.864, 20.981, 0.6, 9.314, 7.52, 71.852, 78.347\n",
      "$ VoteAverage         <f64> 6.0, 0.0, 6.652, 7.063, 8.143, 0.0, 7.081, 7.257, 8.478, 7.823\n",
      "$ VoteCount           <i64> 3, 0, 46, 8, 2504, 0, 290, 318, 25977, 18352\n",
      "$ genre               <str> None, 'Adventure', 'Drama; Romance', 'Comedy; Family', 'Drama; Science Fiction', 'Family', 'Drama; Comedy; Romance; Crime', 'Drama; Comedy; Romance', 'Comedy; Drama; Romance', 'Animation; Family'\n",
      "$ Budget              <i64> 0, 0, 0, 0, 1300000, 0, 0, 0, 55000000, 94000000\n",
      "$ ImdbID              <str> None, None, 'tt0055747', 'tt0029927', 'tt0017136', 'tt1656746', 'tt0094675', 'tt0092149', 'tt0109830', 'tt0266543'\n",
      "$ Revenue             <i64> 0, 0, 0, 0, 650422, 0, 0, 0, 677387716, 940335536\n",
      "$ Runtime             <i64> 69, 420, 120, 70, 149, 46, 73, 74, 142, 100\n",
      "$ Status              <str> 'Released', 'Released', 'Released', 'Released', 'Released', 'Released', 'Released', 'Released', 'Released', 'Released'\n",
      "$ ProductionCompanies <str> None, None, 'Ulysse Productions; Unitec Films; Cinesecolo; TOHO; Beta Film; Zespół Filmowy Kamera', 'Columbia Pictures', 'UFA', None, 'Villealfa Filmproductions', 'Villealfa Filmproductions', 'Paramount; The Steve Tisch Company; Wendy Finerman Productions', 'Pixar'\n",
      "$ ProductionCountries <str> None, 'Germany', 'Germany; France; Italy; Japan; Poland', 'United States of America', 'Germany', None, 'Finland', 'Finland', 'United States of America', 'United States of America'\n",
      "\n",
      "None\n"
     ]
    }
   ],
   "source": [
    "tmdb_path = \"../dagster/data/raw_data/parquet/tmdb.parquet\"\n",
    "tmdb = read_parquet_and_display_things(tmdb_path)"
   ]
  },
  {
   "cell_type": "code",
   "execution_count": 127,
   "metadata": {},
   "outputs": [
    {
     "name": "stdout",
     "output_type": "stream",
     "text": [
      "Rows: 84282\n",
      "Columns: 17\n",
      "$ id                   <str> 'space-zombie-bingo', 'the_green_grass', 'the_sore_losers_1997', 'dinosaur_island_2002', 'adrift_2018', 'malta-con-huevo-scrambled-beer', '1035316-born_to_kill', '1015331-number_one_with_a_bullet', 'garden_murder_case', 'margarita_happy_hour'\n",
      "$ title                <str> 'Space Zombie Bingo!', 'The Green Grass', 'Sore Losers', 'Dinosaur Island', 'Adrift', 'Scrambled Beer', 'Born to Kill', 'Number One With a Bullet', 'The Garden Murder Case', 'Margarita Happy Hour'\n",
      "$ audienceScore        <i64> 50, None, 60, 70, 65, 55, 74, 19, None, None\n",
      "$ tomatoMeter          <i64> None, None, None, None, 69, None, 83, None, None, 76\n",
      "$ rating               <str> None, None, None, None, 'PG-13', None, None, None, None, None\n",
      "$ ratingContents       <str> None, None, None, None, \"['Injury Images', 'Brief Drug Use', 'Thematic Elements', 'Language', 'Partial Nudity', 'Peril']\", None, None, None, None, None\n",
      "$ releaseDateTheaters  <str> None, None, None, None, '2018-06-01', None, '1947-04-30', None, None, '2002-03-22'\n",
      "$ releaseDateStreaming <str> '2018-08-25', '2020-02-11', '2020-10-23', '2017-03-27', '2018-08-21', '2015-10-05', '2016-05-23', '2012-03-13', '2016-10-20', None\n",
      "$ runtimeMinutes       <i64> 75, 114, 90, 80, 120, 88, 92, 103, 61, 98\n",
      "$ genre                <str> 'Comedy, Horror, Sci-fi', 'Drama', 'Action, Mystery & thriller', 'Fantasy, Adventure, Animation', 'Adventure, Drama, Romance', 'Comedy', 'Crime, Drama', 'Crime, Drama', 'Mystery & thriller', 'Drama'\n",
      "$ originalLanguage     <str> 'English', 'English', 'English', 'English', 'English', 'Spanish', 'English', 'English', 'English', 'English'\n",
      "$ director             <str> 'George Ormrod', 'Tiffany Edwards', 'John Michael McCarthy', 'Will Meugniot', 'Baltasar Kormákur', 'Cristobal Valderrama', 'Robert Wise', 'Jack Smight', 'Edwin L. Marin', 'Ilya Chaiken'\n",
      "$ writer               <str> 'George Ormrod,John Sabotta', 'Tiffany Edwards', 'John Michael McCarthy', 'John Loy', 'Aaron Kandell,Jordan Kandell,David Branson Smith', 'Cristobal Valderrama', 'Eve Greene,Richard Macaulay', None, None, 'Ilya Chaiken'\n",
      "$ boxOffice            <str> None, None, None, None, '$31.4M', None, None, None, None, '$11.5K'\n",
      "$ distributor          <str> None, None, None, None, 'STX Films', None, None, None, None, 'Passport Pictures'\n",
      "$ soundMix             <str> None, None, None, None, None, None, None, None, None, 'Surround'\n",
      "$ year                 <i32> 2018, 2020, 2020, 2017, 2018, 2015, 1947, 2012, 2016, 2002\n",
      "\n",
      "None\n"
     ]
    }
   ],
   "source": [
    "rt_path = \"../dagster/data/raw_data/parquet/rt.parquet\"\n",
    "rt = read_parquet_and_display_things(rt_path)"
   ]
  },
  {
   "cell_type": "code",
   "execution_count": 128,
   "metadata": {},
   "outputs": [
    {
     "name": "stdout",
     "output_type": "stream",
     "text": [
      "Rows: 14213\n",
      "Columns: 13\n",
      "$ title       <str> 'Citizen Kane', 'The Godfather', 'Rear Window', 'Casablanca', 'Boyhood', 'Three Colors: Red', 'Vertigo', 'Notorious', \"Singin' in the Rain\", 'City Lights'\n",
      "$ age_rating  <i64> 15, 18, 0, 15, 18, 18, 15, 15, 0, 0\n",
      "$ rating      <str> '8.4', '9.2', '8.8', '8.9', '7.5', '8.6', '8.7', '8.0', '8.7', '8.9'\n",
      "$ rank        <i64> 1, 2, 3, 4, 5, 6, 7, 8, 9, 10\n",
      "$ genre       <str> 'Drama', 'Drama', 'Mystery', 'Drama', 'Drama', 'Drama', 'Mystery', 'Drama', 'Comedy', 'Drama'\n",
      "$ director    <str> 'Orson Welles', 'Francis Ford Coppola', 'Alfred Hitchcock', 'Michael Curtiz', 'Richard Linklater', 'Krzysztof Kieslowski', 'Alfred Hitchcock', 'Alfred Hitchcock', 'Gene Kelly', 'Charles Chaplin'\n",
      "$ year        <i64> 1941, 1972, 1954, 1943, 2014, 1994, 1958, 1946, 1952, 1931\n",
      "$ producer    <str> 'RKO Radio Pictures', 'Paramount Pictures', 'Paramount Pictures', 'Warner Bros.', 'IFC Films', 'Miramax', 'Paramount Pictures', 'RKO Radio Pictures', 'Metro-Goldwyn-Mayer (MGM)', 'United Artists'\n",
      "$ actor       <str> 'Joseph Cotten', 'Al Pacino', 'Frank Cady', 'Humphrey Bogart', 'Bonnie Cross', 'Irène Jacob', 'Barbara Bel Geddes', 'Alexis Minotis', 'Cyd Charisse', 'Charles Chaplin'\n",
      "$ runtime     <i64> 119, 175, 112, 102, 165, 99, 128, 101, 103, 87\n",
      "$ description <str> 'Following the death of a publishing tycoon, news reporters scramble to discover the meaning of his final utterance.', \"Francis Ford Coppola's epic features Marlon Brando in his Oscar-winning role as the patriarch of the Corleone family. Director Coppola paints a chilling portrait of the Sicilian clan's rise and near fall from power in America, masterfully balancing the story between the Corleone's family life and the ugly crime business in which they are engaged. Based on Mario Puzo's best-selling novel and featuring career-making performances by Al Pacino, James Caan and Robert Duvall, this searing and...\", 'A wheelchair-bound photographer spies on his neighbours from his apartment window and becomes convinced one of them has committed murder.', 'A Casablanca, Morocco casino owner in 1941 shelters his former lover and her husband, a Czechoslovakian freedom fighter, from the Nazis.', \"Filmed over 12 years with the same cast, Richard Linklater's Boyhood is a groundbreaking story of growing up as seen through the eyes of a child named Mason (Ellar Coltrane), who literally grows up on screen before our eyes. Starring Ethan Hawke and Patricia Arquette as Mason's parents and newcomer Lorelei Linklater as his sister Samantha, Boyhood charts the rocky terrain of childhood like no other film has before and is both a nostalgic time capsule of the recent past and an ode to growing...\", 'Krzysztof Kieslowski closes his Three Colors trilogy in grand fashion, with an incandescent meditation on fate and chance, starring Irène Jacob as a sweet-souled yet somber runway model in Geneva whose life dramatically intersects with that of a bitter retired judge, played by Jean-Louis Trintignant. Meanwhile, just down the street, a seemingly unrelated story of jealousy and betrayal unfolds. Red is an intimate look at forged connections and a splendid final statement from a remarkable...', 'Vertigo creates a dizzying web of mistaken identity, passion and murder after an acrophobic detective rescues a mysterious blonde from the bay. [Universal Pictures]', 'A woman is asked to spy on a group of Nazi friends in South America. How far will she have to go to ingratiate herself with them?', 'A silent film production company and cast make a difficult transition to sound.', 'The Tramp (Charlie Chaplin) struggles to help a blind flower girl he has fallen in love with.'\n",
      "$ img         <str> 'https://static.metacritic.com/images/products/movies/5/2254d4637c12bedec8b0fc0d3e043054.jpg', 'https://static.metacritic.com/images/products/movies/3/47c2b1f35087fc23c5ce261bbc3ad9e0.jpg', 'https://static.metacritic.com/images/products/movies/9/802815ae41f410d49567fbe639ca2bb8.jpg', 'https://static.metacritic.com/images/products/movies/3/fd5de756378ce4e30563e6a3b0d989ec.jpg', 'https://static.metacritic.com/images/products/movies/6/a3fabd44e29313824adc247a1286571d.jpg', 'https://static.metacritic.com/images/products/movies/7/cb3524a14b6375d42934270defe3aaca.jpg', 'https://static.metacritic.com/images/products/movies/5/c6848f47fbf9db70bfbcba21d48c969f-2400.jpg', 'https://static.metacritic.com/images/products/movies/6/8cadf0ae5f802a9dd798367af49e1637.jpg', 'https://static.metacritic.com/images/products/movies/9/a82c621c24693dd1a9787b508cdf311d.jpg', 'https://static.metacritic.com/images/products/movies/5/c715885f7f4cce709d2d5136a3801beb-98.jpg'\n",
      "$ url         <str> 'https://www.metacritic.com/movie/citizen-kane', 'https://www.metacritic.com/movie/the-godfather', 'https://www.metacritic.com/movie/rear-window', 'https://www.metacritic.com/movie/casablanca', 'https://www.metacritic.com/movie/boyhood', 'https://www.metacritic.com/movie/three-colors-red', 'https://www.metacritic.com/movie/vertigo', 'https://www.metacritic.com/movie/notorious-1946', 'https://www.metacritic.com/movie/singin-in-the-rain', 'https://www.metacritic.com/movie/city-lights'\n",
      "\n",
      "None\n"
     ]
    }
   ],
   "source": [
    "meta_path = \"../dagster/data/raw_data/parquet/meta.parquet\"\n",
    "meta = read_parquet_and_display_things(meta_path)\n",
    "# Example: Filtering out rows where 'rating' is \"tbd\"\n",
    "meta = meta.filter(pl.col(\"rating\") != \"tbd\")\n",
    "meta = meta.cast({\"year\": pl.Int32, \"rating\": pl.Float32})"
   ]
  },
  {
   "cell_type": "code",
   "execution_count": 129,
   "metadata": {},
   "outputs": [
    {
     "name": "stdout",
     "output_type": "stream",
     "text": [
      "Rows: 882145\n",
      "Columns: 18\n",
      "$ ID                  <i64> 25449, 6124, 8773, 3924, 19, 31975, 2, 3, 13, 12\n",
      "$ Title               <str> 'New World Disorder 9: Never Enough', 'Peter Voss, Thief of Millions', 'Love at Twenty', 'Blondie', 'Metropolis', 'Sesame Street: Elmo Loves You!', 'Ariel', 'Shadows in Paradise', 'Forrest Gump', 'Finding Nemo'\n",
      "$ OriginalTitle       <str> 'New World Disorder 9: Never Enough', 'Der Mann ohne Namen', \"L'Amour à vingt ans\", 'Blondie', 'Metropolis', 'Sesame Street: Elmo Loves You!', 'Ariel', 'Varjoja paratiisissa', 'Forrest Gump', 'Finding Nemo'\n",
      "$ OriginalLanguage    <str> 'en', 'de', 'fr', 'en', 'de', 'en', 'fi', 'fi', 'en', 'en'\n",
      "$ year                <i32> 2008, 1921, 1962, 1938, 1927, 2010, 1988, 1986, 1994, 2003\n",
      "$ PosterPath          <str> '/itQjoIO2e3padeLliHROJVAb7Av.jpg', '/6xUbUCvndklbGVYiljHr34NTxSl.jpg', '/aup2QCYCsyEeQfpboXy0f4uj8aE.jpg', '/zBiHKhXklvTFwj4M1uEUcQGAVJ.jpg', '/pxbGZewX327IbTvrCVRJgcLJTSQ.jpg', '/qKWcCmvGr4g0dgXvhqAc4BAMCtk.jpg', '/ojDg0PGvs6R9xYFodRct2kdI6wC.jpg', '/nj01hspawPof0mJmlgfjuLyJuRN.jpg', '/arw2vcBveWOVZr6pxd9XTd1TdQa.jpg', '/eHuGQ10FUzK1mdOY69wF5pGgEf5.jpg'\n",
      "$ Overview            <str> 'Gee Atherton ripping the Worlds course the day after winning the race, Robbie Bourdon stomping a 70 ft. flat spin and Fabien Barel dropping an insane, near vertical line in Morocco, that\\'s right New World Disorder is back with it\\'s 9th installment, \"Never Enough.\" Filmed exclusively in Super 16mm and High Definition, the world premiere will screen September 24th, during the annual Interbike trade show in Las Vegas.', None, 'Love at Twenty unites five directors from five different countries to present their different perspectives on what love really is at the age of 20. The episodes are united with the score of Georges Delerue and still photos of Henri Cartier-Bresson.', 'Blondie and Dagwood are about to celebrate their fifth wedding anniversary but this happy occasion is marred when the bumbling Dagwood gets himself involved in a scheme that is promising financial ruin for the Bumstead family.', \"In a futuristic city sharply divided between the rich and the poor, the son of the city's mastermind meets a prophet who predicts the coming of a savior to mediate their differences.\", 'Elmo is making a very, very super special surprise card for someone Elmo really loves but a gust of wind blows it away! Rosita joins Elmo to chase after the card but they can\\'t reach it. Can Super Grover use his heroic skills to save the day? Will Elmo be able to give his surprise card to someone very special? Join Elmo, Rosita and Grover as they learn about love, emotions and friendship in this love-ly tale featuring the new song \"Elmo Loves You\" and a special music video about signing \"I Love You\".', 'After the coal mine he works at closes and his father commits suicide, a Finnish man leaves for the city to make a living but there, he is framed and imprisoned for various crimes.', 'Nikander, a rubbish collector and would-be entrepreneur finds his plans for success dashed when his business associate dies. One evening, he meets Ilona, a down-on-her luck cashier in a local supermarket—and, falteringly, a bond begins to develop between them.', 'A man with a low IQ has accomplished great things in his life and been present during significant historic events—in each case, far exceeding what anyone imagined he could do. But despite all he has achieved, his one true love eludes him.', \"Nemo, an adventurous young clownfish, is unexpectedly taken from his Great Barrier Reef home to a dentist's office aquarium. It's up to his worrisome father Marlin and a friendly but forgetful fish Dory to bring Nemo home -- meeting vegetarian sharks, surfer dude turtles, hypnotic jellyfish, hungry seagulls, and more along the way.\"\n",
      "$ Popularity          <f64> 1.24, 0.961, 5.527, 1.864, 20.981, 0.6, 9.314, 7.52, 71.852, 78.347\n",
      "$ VoteAverage         <f64> 6.0, 0.0, 6.652, 7.063, 8.143, 0.0, 7.081, 7.257, 8.478, 7.823\n",
      "$ VoteCount           <i64> 3, 0, 46, 8, 2504, 0, 290, 318, 25977, 18352\n",
      "$ genre               <str> None, 'Adventure', 'Drama; Romance', 'Comedy; Family', 'Drama; Science Fiction', 'Family', 'Drama; Comedy; Romance; Crime', 'Drama; Comedy; Romance', 'Comedy; Drama; Romance', 'Animation; Family'\n",
      "$ Budget              <i64> 0, 0, 0, 0, 1300000, 0, 0, 0, 55000000, 94000000\n",
      "$ Revenue             <i64> 0, 0, 0, 0, 650422, 0, 0, 0, 677387716, 940335536\n",
      "$ Runtime             <i64> 69, 420, 120, 70, 149, 46, 73, 74, 142, 100\n",
      "$ Status              <str> 'Released', 'Released', 'Released', 'Released', 'Released', 'Released', 'Released', 'Released', 'Released', 'Released'\n",
      "$ ProductionCompanies <str> None, None, 'Ulysse Productions; Unitec Films; Cinesecolo; TOHO; Beta Film; Zespół Filmowy Kamera', 'Columbia Pictures', 'UFA', None, 'Villealfa Filmproductions', 'Villealfa Filmproductions', 'Paramount; The Steve Tisch Company; Wendy Finerman Productions', 'Pixar'\n",
      "$ ProductionCountries <str> None, 'Germany', 'Germany; France; Italy; Japan; Poland', 'United States of America', 'Germany', None, 'Finland', 'Finland', 'United States of America', 'United States of America'\n",
      "$ imdb_rating         <f32> None, None, 7.199999809265137, 6.900000095367432, 8.300000190734863, None, 7.5, 7.5, 8.800000190734863, 8.199999809265137\n",
      "\n"
     ]
    }
   ],
   "source": [
    "# ratings = tmdb.join(imdb.rename({\"averageRating\": \"tmdb-rating\"}), left_on=\"ImdbID\", right_on=\"const\", how=\"left\")\n",
    "# Selecting only necessary columns from the right DataFrame before joining\n",
    "# tmdb_selected = tmdb.select(['ImdbID', 'VoteAverage'])  # Assuming 'rating_tmdb' is the column you need\n",
    "imdb_selected = imdb.rename({'averageRating': 'imdb_rating'}).select(['const', 'imdb_rating'])\n",
    "\n",
    "# Performing the left join\n",
    "ratings = tmdb.join(imdb_selected, left_on=\"ImdbID\", right_on=\"const\", how=\"left\")\n",
    "\n",
    "# Optionally, drop the joining key from the right DataFrame if it's no longer needed\n",
    "ratings = ratings.drop('ImdbID')\n",
    "\n",
    "ratings.glimpse()"
   ]
  },
  {
   "cell_type": "code",
   "execution_count": 130,
   "metadata": {},
   "outputs": [
    {
     "name": "stdout",
     "output_type": "stream",
     "text": [
      "Rows: 883043\n",
      "Columns: 19\n",
      "$ ID                  <i64> 25449, 6124, 8773, 3924, 19, 31975, 2, 3, 13, 12\n",
      "$ Title               <str> 'New World Disorder 9: Never Enough', 'Peter Voss, Thief of Millions', 'Love at Twenty', 'Blondie', 'Metropolis', 'Sesame Street: Elmo Loves You!', 'Ariel', 'Shadows in Paradise', 'Forrest Gump', 'Finding Nemo'\n",
      "$ OriginalTitle       <str> 'New World Disorder 9: Never Enough', 'Der Mann ohne Namen', \"L'Amour à vingt ans\", 'Blondie', 'Metropolis', 'Sesame Street: Elmo Loves You!', 'Ariel', 'Varjoja paratiisissa', 'Forrest Gump', 'Finding Nemo'\n",
      "$ OriginalLanguage    <str> 'en', 'de', 'fr', 'en', 'de', 'en', 'fi', 'fi', 'en', 'en'\n",
      "$ year                <i32> 2008, 1921, 1962, 1938, 1927, 2010, 1988, 1986, 1994, 2003\n",
      "$ PosterPath          <str> '/itQjoIO2e3padeLliHROJVAb7Av.jpg', '/6xUbUCvndklbGVYiljHr34NTxSl.jpg', '/aup2QCYCsyEeQfpboXy0f4uj8aE.jpg', '/zBiHKhXklvTFwj4M1uEUcQGAVJ.jpg', '/pxbGZewX327IbTvrCVRJgcLJTSQ.jpg', '/qKWcCmvGr4g0dgXvhqAc4BAMCtk.jpg', '/ojDg0PGvs6R9xYFodRct2kdI6wC.jpg', '/nj01hspawPof0mJmlgfjuLyJuRN.jpg', '/arw2vcBveWOVZr6pxd9XTd1TdQa.jpg', '/eHuGQ10FUzK1mdOY69wF5pGgEf5.jpg'\n",
      "$ Overview            <str> 'Gee Atherton ripping the Worlds course the day after winning the race, Robbie Bourdon stomping a 70 ft. flat spin and Fabien Barel dropping an insane, near vertical line in Morocco, that\\'s right New World Disorder is back with it\\'s 9th installment, \"Never Enough.\" Filmed exclusively in Super 16mm and High Definition, the world premiere will screen September 24th, during the annual Interbike trade show in Las Vegas.', None, 'Love at Twenty unites five directors from five different countries to present their different perspectives on what love really is at the age of 20. The episodes are united with the score of Georges Delerue and still photos of Henri Cartier-Bresson.', 'Blondie and Dagwood are about to celebrate their fifth wedding anniversary but this happy occasion is marred when the bumbling Dagwood gets himself involved in a scheme that is promising financial ruin for the Bumstead family.', \"In a futuristic city sharply divided between the rich and the poor, the son of the city's mastermind meets a prophet who predicts the coming of a savior to mediate their differences.\", 'Elmo is making a very, very super special surprise card for someone Elmo really loves but a gust of wind blows it away! Rosita joins Elmo to chase after the card but they can\\'t reach it. Can Super Grover use his heroic skills to save the day? Will Elmo be able to give his surprise card to someone very special? Join Elmo, Rosita and Grover as they learn about love, emotions and friendship in this love-ly tale featuring the new song \"Elmo Loves You\" and a special music video about signing \"I Love You\".', 'After the coal mine he works at closes and his father commits suicide, a Finnish man leaves for the city to make a living but there, he is framed and imprisoned for various crimes.', 'Nikander, a rubbish collector and would-be entrepreneur finds his plans for success dashed when his business associate dies. One evening, he meets Ilona, a down-on-her luck cashier in a local supermarket—and, falteringly, a bond begins to develop between them.', 'A man with a low IQ has accomplished great things in his life and been present during significant historic events—in each case, far exceeding what anyone imagined he could do. But despite all he has achieved, his one true love eludes him.', \"Nemo, an adventurous young clownfish, is unexpectedly taken from his Great Barrier Reef home to a dentist's office aquarium. It's up to his worrisome father Marlin and a friendly but forgetful fish Dory to bring Nemo home -- meeting vegetarian sharks, surfer dude turtles, hypnotic jellyfish, hungry seagulls, and more along the way.\"\n",
      "$ Popularity          <f64> 1.24, 0.961, 5.527, 1.864, 20.981, 0.6, 9.314, 7.52, 71.852, 78.347\n",
      "$ VoteAverage         <f64> 6.0, 0.0, 6.652, 7.063, 8.143, 0.0, 7.081, 7.257, 8.478, 7.823\n",
      "$ VoteCount           <i64> 3, 0, 46, 8, 2504, 0, 290, 318, 25977, 18352\n",
      "$ genre               <str> None, 'Adventure', 'Drama; Romance', 'Comedy; Family', 'Drama; Science Fiction', 'Family', 'Drama; Comedy; Romance; Crime', 'Drama; Comedy; Romance', 'Comedy; Drama; Romance', 'Animation; Family'\n",
      "$ Budget              <i64> 0, 0, 0, 0, 1300000, 0, 0, 0, 55000000, 94000000\n",
      "$ Revenue             <i64> 0, 0, 0, 0, 650422, 0, 0, 0, 677387716, 940335536\n",
      "$ Runtime             <i64> 69, 420, 120, 70, 149, 46, 73, 74, 142, 100\n",
      "$ Status              <str> 'Released', 'Released', 'Released', 'Released', 'Released', 'Released', 'Released', 'Released', 'Released', 'Released'\n",
      "$ ProductionCompanies <str> None, None, 'Ulysse Productions; Unitec Films; Cinesecolo; TOHO; Beta Film; Zespół Filmowy Kamera', 'Columbia Pictures', 'UFA', None, 'Villealfa Filmproductions', 'Villealfa Filmproductions', 'Paramount; The Steve Tisch Company; Wendy Finerman Productions', 'Pixar'\n",
      "$ ProductionCountries <str> None, 'Germany', 'Germany; France; Italy; Japan; Poland', 'United States of America', 'Germany', None, 'Finland', 'Finland', 'United States of America', 'United States of America'\n",
      "$ imdb_rating         <f32> None, None, 7.199999809265137, 6.900000095367432, 8.300000190734863, None, 7.5, 7.5, 8.800000190734863, 8.199999809265137\n",
      "$ rt_rating           <i64> None, None, None, None, 92, None, None, 87, 95, None\n",
      "\n"
     ]
    }
   ],
   "source": [
    "rt_selected = rt.rename({\"audienceScore\": \"rt_rating\"}).select([\"rt_rating\", \"title\", \"year\"])\n",
    "ratings = ratings.join(rt_selected, left_on=[\"Title\", \"year\"], right_on=[\"title\", \"year\"], how=\"left\")\n",
    "ratings.glimpse()"
   ]
  },
  {
   "cell_type": "code",
   "execution_count": 131,
   "metadata": {},
   "outputs": [
    {
     "name": "stdout",
     "output_type": "stream",
     "text": [
      "Rows: 883045\n",
      "Columns: 20\n",
      "$ ID                  <i64> 25449, 6124, 8773, 3924, 19, 31975, 2, 3, 13, 12\n",
      "$ Title               <str> 'New World Disorder 9: Never Enough', 'Peter Voss, Thief of Millions', 'Love at Twenty', 'Blondie', 'Metropolis', 'Sesame Street: Elmo Loves You!', 'Ariel', 'Shadows in Paradise', 'Forrest Gump', 'Finding Nemo'\n",
      "$ OriginalTitle       <str> 'New World Disorder 9: Never Enough', 'Der Mann ohne Namen', \"L'Amour à vingt ans\", 'Blondie', 'Metropolis', 'Sesame Street: Elmo Loves You!', 'Ariel', 'Varjoja paratiisissa', 'Forrest Gump', 'Finding Nemo'\n",
      "$ OriginalLanguage    <str> 'en', 'de', 'fr', 'en', 'de', 'en', 'fi', 'fi', 'en', 'en'\n",
      "$ year                <i32> 2008, 1921, 1962, 1938, 1927, 2010, 1988, 1986, 1994, 2003\n",
      "$ PosterPath          <str> '/itQjoIO2e3padeLliHROJVAb7Av.jpg', '/6xUbUCvndklbGVYiljHr34NTxSl.jpg', '/aup2QCYCsyEeQfpboXy0f4uj8aE.jpg', '/zBiHKhXklvTFwj4M1uEUcQGAVJ.jpg', '/pxbGZewX327IbTvrCVRJgcLJTSQ.jpg', '/qKWcCmvGr4g0dgXvhqAc4BAMCtk.jpg', '/ojDg0PGvs6R9xYFodRct2kdI6wC.jpg', '/nj01hspawPof0mJmlgfjuLyJuRN.jpg', '/arw2vcBveWOVZr6pxd9XTd1TdQa.jpg', '/eHuGQ10FUzK1mdOY69wF5pGgEf5.jpg'\n",
      "$ Overview            <str> 'Gee Atherton ripping the Worlds course the day after winning the race, Robbie Bourdon stomping a 70 ft. flat spin and Fabien Barel dropping an insane, near vertical line in Morocco, that\\'s right New World Disorder is back with it\\'s 9th installment, \"Never Enough.\" Filmed exclusively in Super 16mm and High Definition, the world premiere will screen September 24th, during the annual Interbike trade show in Las Vegas.', None, 'Love at Twenty unites five directors from five different countries to present their different perspectives on what love really is at the age of 20. The episodes are united with the score of Georges Delerue and still photos of Henri Cartier-Bresson.', 'Blondie and Dagwood are about to celebrate their fifth wedding anniversary but this happy occasion is marred when the bumbling Dagwood gets himself involved in a scheme that is promising financial ruin for the Bumstead family.', \"In a futuristic city sharply divided between the rich and the poor, the son of the city's mastermind meets a prophet who predicts the coming of a savior to mediate their differences.\", 'Elmo is making a very, very super special surprise card for someone Elmo really loves but a gust of wind blows it away! Rosita joins Elmo to chase after the card but they can\\'t reach it. Can Super Grover use his heroic skills to save the day? Will Elmo be able to give his surprise card to someone very special? Join Elmo, Rosita and Grover as they learn about love, emotions and friendship in this love-ly tale featuring the new song \"Elmo Loves You\" and a special music video about signing \"I Love You\".', 'After the coal mine he works at closes and his father commits suicide, a Finnish man leaves for the city to make a living but there, he is framed and imprisoned for various crimes.', 'Nikander, a rubbish collector and would-be entrepreneur finds his plans for success dashed when his business associate dies. One evening, he meets Ilona, a down-on-her luck cashier in a local supermarket—and, falteringly, a bond begins to develop between them.', 'A man with a low IQ has accomplished great things in his life and been present during significant historic events—in each case, far exceeding what anyone imagined he could do. But despite all he has achieved, his one true love eludes him.', \"Nemo, an adventurous young clownfish, is unexpectedly taken from his Great Barrier Reef home to a dentist's office aquarium. It's up to his worrisome father Marlin and a friendly but forgetful fish Dory to bring Nemo home -- meeting vegetarian sharks, surfer dude turtles, hypnotic jellyfish, hungry seagulls, and more along the way.\"\n",
      "$ Popularity          <f64> 1.24, 0.961, 5.527, 1.864, 20.981, 0.6, 9.314, 7.52, 71.852, 78.347\n",
      "$ tmdb_rating         <f64> 6.0, 0.0, 6.652, 7.063, 8.143, 0.0, 7.081, 7.257, 8.478, 7.823\n",
      "$ VoteCount           <i64> 3, 0, 46, 8, 2504, 0, 290, 318, 25977, 18352\n",
      "$ genre               <str> None, 'Adventure', 'Drama; Romance', 'Comedy; Family', 'Drama; Science Fiction', 'Family', 'Drama; Comedy; Romance; Crime', 'Drama; Comedy; Romance', 'Comedy; Drama; Romance', 'Animation; Family'\n",
      "$ Budget              <i64> 0, 0, 0, 0, 1300000, 0, 0, 0, 55000000, 94000000\n",
      "$ Revenue             <i64> 0, 0, 0, 0, 650422, 0, 0, 0, 677387716, 940335536\n",
      "$ Runtime             <i64> 69, 420, 120, 70, 149, 46, 73, 74, 142, 100\n",
      "$ Status              <str> 'Released', 'Released', 'Released', 'Released', 'Released', 'Released', 'Released', 'Released', 'Released', 'Released'\n",
      "$ ProductionCompanies <str> None, None, 'Ulysse Productions; Unitec Films; Cinesecolo; TOHO; Beta Film; Zespół Filmowy Kamera', 'Columbia Pictures', 'UFA', None, 'Villealfa Filmproductions', 'Villealfa Filmproductions', 'Paramount; The Steve Tisch Company; Wendy Finerman Productions', 'Pixar'\n",
      "$ ProductionCountries <str> None, 'Germany', 'Germany; France; Italy; Japan; Poland', 'United States of America', 'Germany', None, 'Finland', 'Finland', 'United States of America', 'United States of America'\n",
      "$ imdb_rating         <f32> None, None, 7.199999809265137, 6.900000095367432, 8.300000190734863, None, 7.5, 7.5, 8.800000190734863, 8.199999809265137\n",
      "$ rt_rating           <i64> None, None, None, None, 92, None, None, 87, 95, None\n",
      "$ meta_rating         <f32> None, None, None, None, None, None, None, None, 7.800000190734863, 8.699999809265137\n",
      "\n"
     ]
    }
   ],
   "source": [
    "meta_selected = meta.rename({\"rating\": \"meta_rating\"}).select([\"meta_rating\", \"title\", \"year\"])\n",
    "ratings = ratings.join(meta_selected, left_on=[\"Title\", \"year\"], right_on=[\"title\", \"year\"], how=\"left\")\n",
    "ratings = ratings.rename({\"VoteAverage\": \"tmdb_rating\"})\n",
    "\n",
    "\n",
    "ratings.glimpse()"
   ]
  },
  {
   "cell_type": "code",
   "execution_count": 132,
   "metadata": {},
   "outputs": [
    {
     "name": "stdout",
     "output_type": "stream",
     "text": [
      "Rows: 883045\n",
      "Columns: 20\n",
      "$ ID                  <i64> 25449, 6124, 8773, 3924, 19, 31975, 2, 3, 13, 12\n",
      "$ Title               <str> 'New World Disorder 9: Never Enough', 'Peter Voss, Thief of Millions', 'Love at Twenty', 'Blondie', 'Metropolis', 'Sesame Street: Elmo Loves You!', 'Ariel', 'Shadows in Paradise', 'Forrest Gump', 'Finding Nemo'\n",
      "$ OriginalTitle       <str> 'New World Disorder 9: Never Enough', 'Der Mann ohne Namen', \"L'Amour à vingt ans\", 'Blondie', 'Metropolis', 'Sesame Street: Elmo Loves You!', 'Ariel', 'Varjoja paratiisissa', 'Forrest Gump', 'Finding Nemo'\n",
      "$ OriginalLanguage    <str> 'en', 'de', 'fr', 'en', 'de', 'en', 'fi', 'fi', 'en', 'en'\n",
      "$ year                <i32> 2008, 1921, 1962, 1938, 1927, 2010, 1988, 1986, 1994, 2003\n",
      "$ PosterPath          <str> '/itQjoIO2e3padeLliHROJVAb7Av.jpg', '/6xUbUCvndklbGVYiljHr34NTxSl.jpg', '/aup2QCYCsyEeQfpboXy0f4uj8aE.jpg', '/zBiHKhXklvTFwj4M1uEUcQGAVJ.jpg', '/pxbGZewX327IbTvrCVRJgcLJTSQ.jpg', '/qKWcCmvGr4g0dgXvhqAc4BAMCtk.jpg', '/ojDg0PGvs6R9xYFodRct2kdI6wC.jpg', '/nj01hspawPof0mJmlgfjuLyJuRN.jpg', '/arw2vcBveWOVZr6pxd9XTd1TdQa.jpg', '/eHuGQ10FUzK1mdOY69wF5pGgEf5.jpg'\n",
      "$ Overview            <str> 'Gee Atherton ripping the Worlds course the day after winning the race, Robbie Bourdon stomping a 70 ft. flat spin and Fabien Barel dropping an insane, near vertical line in Morocco, that\\'s right New World Disorder is back with it\\'s 9th installment, \"Never Enough.\" Filmed exclusively in Super 16mm and High Definition, the world premiere will screen September 24th, during the annual Interbike trade show in Las Vegas.', None, 'Love at Twenty unites five directors from five different countries to present their different perspectives on what love really is at the age of 20. The episodes are united with the score of Georges Delerue and still photos of Henri Cartier-Bresson.', 'Blondie and Dagwood are about to celebrate their fifth wedding anniversary but this happy occasion is marred when the bumbling Dagwood gets himself involved in a scheme that is promising financial ruin for the Bumstead family.', \"In a futuristic city sharply divided between the rich and the poor, the son of the city's mastermind meets a prophet who predicts the coming of a savior to mediate their differences.\", 'Elmo is making a very, very super special surprise card for someone Elmo really loves but a gust of wind blows it away! Rosita joins Elmo to chase after the card but they can\\'t reach it. Can Super Grover use his heroic skills to save the day? Will Elmo be able to give his surprise card to someone very special? Join Elmo, Rosita and Grover as they learn about love, emotions and friendship in this love-ly tale featuring the new song \"Elmo Loves You\" and a special music video about signing \"I Love You\".', 'After the coal mine he works at closes and his father commits suicide, a Finnish man leaves for the city to make a living but there, he is framed and imprisoned for various crimes.', 'Nikander, a rubbish collector and would-be entrepreneur finds his plans for success dashed when his business associate dies. One evening, he meets Ilona, a down-on-her luck cashier in a local supermarket—and, falteringly, a bond begins to develop between them.', 'A man with a low IQ has accomplished great things in his life and been present during significant historic events—in each case, far exceeding what anyone imagined he could do. But despite all he has achieved, his one true love eludes him.', \"Nemo, an adventurous young clownfish, is unexpectedly taken from his Great Barrier Reef home to a dentist's office aquarium. It's up to his worrisome father Marlin and a friendly but forgetful fish Dory to bring Nemo home -- meeting vegetarian sharks, surfer dude turtles, hypnotic jellyfish, hungry seagulls, and more along the way.\"\n",
      "$ Popularity          <f64> 1.24, 0.961, 5.527, 1.864, 20.981, 0.6, 9.314, 7.52, 71.852, 78.347\n",
      "$ tmdb_rating         <f64> 60.0, 0.0, 66.52, 70.63, 81.43, 0.0, 70.81, 72.57, 84.78, 78.23\n",
      "$ VoteCount           <i64> 3, 0, 46, 8, 2504, 0, 290, 318, 25977, 18352\n",
      "$ genre               <str> None, 'Adventure', 'Drama; Romance', 'Comedy; Family', 'Drama; Science Fiction', 'Family', 'Drama; Comedy; Romance; Crime', 'Drama; Comedy; Romance', 'Comedy; Drama; Romance', 'Animation; Family'\n",
      "$ Budget              <i64> 0, 0, 0, 0, 1300000, 0, 0, 0, 55000000, 94000000\n",
      "$ Revenue             <i64> 0, 0, 0, 0, 650422, 0, 0, 0, 677387716, 940335536\n",
      "$ Runtime             <i64> 69, 420, 120, 70, 149, 46, 73, 74, 142, 100\n",
      "$ Status              <str> 'Released', 'Released', 'Released', 'Released', 'Released', 'Released', 'Released', 'Released', 'Released', 'Released'\n",
      "$ ProductionCompanies <str> None, None, 'Ulysse Productions; Unitec Films; Cinesecolo; TOHO; Beta Film; Zespół Filmowy Kamera', 'Columbia Pictures', 'UFA', None, 'Villealfa Filmproductions', 'Villealfa Filmproductions', 'Paramount; The Steve Tisch Company; Wendy Finerman Productions', 'Pixar'\n",
      "$ ProductionCountries <str> None, 'Germany', 'Germany; France; Italy; Japan; Poland', 'United States of America', 'Germany', None, 'Finland', 'Finland', 'United States of America', 'United States of America'\n",
      "$ imdb_rating         <f32> None, None, 72.0, 69.0, 83.0, None, 75.0, 75.0, 88.0, 82.0\n",
      "$ rt_rating           <i64> None, None, None, None, 92, None, None, 87, 95, None\n",
      "$ meta_rating         <f32> None, None, None, None, None, None, None, None, 78.0, 87.0\n",
      "\n"
     ]
    }
   ],
   "source": [
    "ratings = ratings.with_columns([\n",
    "    (pl.col(\"tmdb_rating\") * 10),\n",
    "    (pl.col(\"imdb_rating\") * 10),\n",
    "    (pl.col(\"meta_rating\") * 10)\n",
    "])\n",
    "ratings.glimpse()"
   ]
  },
  {
   "cell_type": "code",
   "execution_count": 134,
   "metadata": {},
   "outputs": [],
   "source": [
    "# ratings.write_parquet(\"../dagster/data/raw_data/parquet/ratings_all.parquet\", compression=\"snappy\")"
   ]
  },
  {
   "cell_type": "code",
   "execution_count": null,
   "metadata": {},
   "outputs": [],
   "source": []
  }
 ],
 "metadata": {
  "kernelspec": {
   "display_name": "dag_nyc",
   "language": "python",
   "name": "python3"
  },
  "language_info": {
   "codemirror_mode": {
    "name": "ipython",
    "version": 3
   },
   "file_extension": ".py",
   "mimetype": "text/x-python",
   "name": "python",
   "nbconvert_exporter": "python",
   "pygments_lexer": "ipython3",
   "version": "3.11.7"
  }
 },
 "nbformat": 4,
 "nbformat_minor": 2
}
